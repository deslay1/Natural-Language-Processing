{
 "cells": [
  {
   "cell_type": "markdown",
   "metadata": {
    "papermill": {
     "duration": 0.074111,
     "end_time": "2020-12-11T20:30:49.746363",
     "exception": false,
     "start_time": "2020-12-11T20:30:49.672252",
     "status": "completed"
    },
    "tags": []
   },
   "source": [
    "# Assignment #6: Dependency parsing\n",
    "Author: Pierre Nugues"
   ]
  },
  {
   "cell_type": "markdown",
   "metadata": {
    "papermill": {
     "duration": 0.067863,
     "end_time": "2020-12-11T20:30:49.884440",
     "exception": false,
     "start_time": "2020-12-11T20:30:49.816577",
     "status": "completed"
    },
    "tags": []
   },
   "source": [
    "## Objectives"
   ]
  },
  {
   "cell_type": "markdown",
   "metadata": {
    "papermill": {
     "duration": 0.062204,
     "end_time": "2020-12-11T20:30:50.009825",
     "exception": false,
     "start_time": "2020-12-11T20:30:49.947621",
     "status": "completed"
    },
    "tags": []
   },
   "source": [
    "This assignment is inspired by the CoNLL 2018 shared task of the conference on computational natural language learning on dependency parsing, http://universaldependencies.org/conll18/. It is a follower of <a href=\"http://ilk.uvt.nl/conll/\">CONLL-X</a>, which was the first large-scale evaluation of dependency parsers.\n",
    "            \n",
    "In this session, you will implement a dependency parser for Swedish and, optionally, another language that you will choose.\n",
    "\n",
    "The objectives of this assignment are to:\n",
    "* Know what a dependency graph is\n",
    "* Understand the principles of a transition-based parser\n",
    "* Extend the parser with a guiding predicate that parses an annotated dependency graph\n",
    "* Extract features to learn parsing actions from an annotated corpus\n",
    "* Write a short report on your results"
   ]
  },
  {
   "cell_type": "markdown",
   "metadata": {
    "papermill": {
     "duration": 0.062389,
     "end_time": "2020-12-11T20:30:50.135741",
     "exception": false,
     "start_time": "2020-12-11T20:30:50.073352",
     "status": "completed"
    },
    "tags": []
   },
   "source": [
    "## Organization and location"
   ]
  },
  {
   "cell_type": "markdown",
   "metadata": {
    "papermill": {
     "duration": 0.063601,
     "end_time": "2020-12-11T20:30:50.262786",
     "exception": false,
     "start_time": "2020-12-11T20:30:50.199185",
     "status": "completed"
    },
    "tags": []
   },
   "source": [
    "You can work alone or collaborate with another student.\n",
    "Each group will have to:\n",
    "* Write a program that parses a sentence when the dependency graph is known\n",
    "* Extract features from the parsing actions.\n",
    "* Train a classifier\n",
    "* Apply it on a test corpus\n",
    "* Evaluate the results"
   ]
  },
  {
   "cell_type": "markdown",
   "metadata": {
    "papermill": {
     "duration": 0.063881,
     "end_time": "2020-12-11T20:30:50.391412",
     "exception": false,
     "start_time": "2020-12-11T20:30:50.327531",
     "status": "completed"
    },
    "tags": []
   },
   "source": [
    "## Corpora"
   ]
  },
  {
   "cell_type": "markdown",
   "metadata": {
    "papermill": {
     "duration": 0.060966,
     "end_time": "2020-12-11T20:30:50.512686",
     "exception": false,
     "start_time": "2020-12-11T20:30:50.451720",
     "status": "completed"
    },
    "tags": []
   },
   "source": [
    "As corpora, you will use the Universal Dependencies: https://universaldependencies.org/. The corpora are the same that you used in the 5th assignment, but you will use the test set in addition to the training set. \n",
    "1. You will train your parser on training part of the Swedish _Talbanken_ corpus and you will evaluate it on the test set. \n",
    "2. Optionally, you will repeat the experiment with another language. \n",
    "3. You will comment your results in the report. "
   ]
  },
  {
   "cell_type": "markdown",
   "metadata": {
    "papermill": {
     "duration": 0.060522,
     "end_time": "2020-12-11T20:30:50.633713",
     "exception": false,
     "start_time": "2020-12-11T20:30:50.573191",
     "status": "completed"
    },
    "tags": []
   },
   "source": [
    "### Corpus location"
   ]
  },
  {
   "cell_type": "markdown",
   "metadata": {
    "papermill": {
     "duration": 0.060879,
     "end_time": "2020-12-11T20:30:50.756450",
     "exception": false,
     "start_time": "2020-12-11T20:30:50.695571",
     "status": "completed"
    },
    "tags": []
   },
   "source": [
    "Here are the corpus locations you will use. You may have to adjust `ud_path`."
   ]
  },
  {
   "cell_type": "code",
   "execution_count": 1,
   "metadata": {
    "execution": {
     "iopub.execute_input": "2020-12-11T20:30:50.883666Z",
     "iopub.status.busy": "2020-12-11T20:30:50.882836Z",
     "iopub.status.idle": "2020-12-11T20:30:50.886679Z",
     "shell.execute_reply": "2020-12-11T20:30:50.885878Z"
    },
    "papermill": {
     "duration": 0.070337,
     "end_time": "2020-12-11T20:30:50.886817",
     "exception": false,
     "start_time": "2020-12-11T20:30:50.816480",
     "status": "completed"
    },
    "tags": []
   },
   "outputs": [],
   "source": [
    "import os\n",
    "ud_path = '../input/udtreebanksv26/ud-treebanks-v2.6/'"
   ]
  },
  {
   "cell_type": "code",
   "execution_count": 2,
   "metadata": {
    "execution": {
     "iopub.execute_input": "2020-12-11T20:30:51.022400Z",
     "iopub.status.busy": "2020-12-11T20:30:51.021498Z",
     "iopub.status.idle": "2020-12-11T20:30:51.028780Z",
     "shell.execute_reply": "2020-12-11T20:30:51.027639Z"
    },
    "papermill": {
     "duration": 0.081339,
     "end_time": "2020-12-11T20:30:51.029015",
     "exception": false,
     "start_time": "2020-12-11T20:30:50.947676",
     "status": "completed"
    },
    "tags": []
   },
   "outputs": [],
   "source": [
    "path_sv_train = ud_path + 'UD_Swedish-Talbanken/sv_talbanken-ud-train.conllu'\n",
    "path_sv_test = ud_path + 'UD_Swedish-Talbanken/sv_talbanken-ud-test.conllu'"
   ]
  },
  {
   "cell_type": "markdown",
   "metadata": {
    "papermill": {
     "duration": 0.071924,
     "end_time": "2020-12-11T20:30:51.187716",
     "exception": false,
     "start_time": "2020-12-11T20:30:51.115792",
     "status": "completed"
    },
    "tags": []
   },
   "source": [
    "The column names of the CoNLL-U corpora"
   ]
  },
  {
   "cell_type": "code",
   "execution_count": 3,
   "metadata": {
    "execution": {
     "iopub.execute_input": "2020-12-11T20:30:51.319231Z",
     "iopub.status.busy": "2020-12-11T20:30:51.318171Z",
     "iopub.status.idle": "2020-12-11T20:30:51.321253Z",
     "shell.execute_reply": "2020-12-11T20:30:51.320472Z"
    },
    "papermill": {
     "duration": 0.071178,
     "end_time": "2020-12-11T20:30:51.321426",
     "exception": false,
     "start_time": "2020-12-11T20:30:51.250248",
     "status": "completed"
    },
    "tags": []
   },
   "outputs": [],
   "source": [
    "column_names_u = ['ID', 'FORM', 'LEMMA', 'UPOS', 'XPOS', 'FEATS', 'HEAD', 'DEPREL', 'DEPS', 'MISC']"
   ]
  },
  {
   "cell_type": "markdown",
   "metadata": {
    "papermill": {
     "duration": 0.060674,
     "end_time": "2020-12-11T20:30:51.445550",
     "exception": false,
     "start_time": "2020-12-11T20:30:51.384876",
     "status": "completed"
    },
    "tags": []
   },
   "source": [
    "#### Functions to read the CoNLL-U files"
   ]
  },
  {
   "cell_type": "code",
   "execution_count": 4,
   "metadata": {
    "execution": {
     "iopub.execute_input": "2020-12-11T20:30:51.575929Z",
     "iopub.status.busy": "2020-12-11T20:30:51.574766Z",
     "iopub.status.idle": "2020-12-11T20:30:51.578663Z",
     "shell.execute_reply": "2020-12-11T20:30:51.577937Z"
    },
    "papermill": {
     "duration": 0.071786,
     "end_time": "2020-12-11T20:30:51.578799",
     "exception": false,
     "start_time": "2020-12-11T20:30:51.507013",
     "status": "completed"
    },
    "tags": []
   },
   "outputs": [],
   "source": [
    "def read_sentences(file):\n",
    "    \"\"\"\n",
    "    Creates a list of sentences from the corpus\n",
    "    Each sentence is a string\n",
    "    :param file:\n",
    "    :return:\n",
    "    \"\"\"\n",
    "    f = open(file, encoding='utf-8').read().strip()\n",
    "    sentences = f.split('\\n\\n')\n",
    "    return sentences"
   ]
  },
  {
   "cell_type": "code",
   "execution_count": 5,
   "metadata": {
    "execution": {
     "iopub.execute_input": "2020-12-11T20:30:51.716820Z",
     "iopub.status.busy": "2020-12-11T20:30:51.715621Z",
     "iopub.status.idle": "2020-12-11T20:30:51.719745Z",
     "shell.execute_reply": "2020-12-11T20:30:51.718920Z"
    },
    "papermill": {
     "duration": 0.077472,
     "end_time": "2020-12-11T20:30:51.719884",
     "exception": false,
     "start_time": "2020-12-11T20:30:51.642412",
     "status": "completed"
    },
    "tags": []
   },
   "outputs": [],
   "source": [
    "def split_rows(sentences, column_names):\n",
    "    \"\"\"\n",
    "    Creates a list of sentence where each sentence is a list of lines\n",
    "    Each line is a dictionary of columns\n",
    "    :param sentences:\n",
    "    :param column_names:\n",
    "    :return:\n",
    "    \"\"\"\n",
    "    new_sentences = []\n",
    "    root_values = ['0', 'root', 'root', 'root', 'root', 'root', '0', 'root', 'root', 'root']\n",
    "    start = [dict(zip(column_names, root_values))]\n",
    "    for sentence in sentences:\n",
    "        rows = sentence.split('\\n')\n",
    "        sentence = [dict(zip(column_names, row.split('\\t'))) for row in rows if row[0] != '#']\n",
    "        sentence = start + sentence\n",
    "        new_sentences.append(sentence)\n",
    "    return new_sentences"
   ]
  },
  {
   "cell_type": "markdown",
   "metadata": {
    "papermill": {
     "duration": 0.060656,
     "end_time": "2020-12-11T20:30:51.841732",
     "exception": false,
     "start_time": "2020-12-11T20:30:51.781076",
     "status": "completed"
    },
    "tags": []
   },
   "source": [
    "#### Reading the corpus"
   ]
  },
  {
   "cell_type": "markdown",
   "metadata": {
    "papermill": {
     "duration": 0.060642,
     "end_time": "2020-12-11T20:30:51.964310",
     "exception": false,
     "start_time": "2020-12-11T20:30:51.903668",
     "status": "completed"
    },
    "tags": []
   },
   "source": [
    "We load the Swedish _Talbanken_ corpus."
   ]
  },
  {
   "cell_type": "code",
   "execution_count": 6,
   "metadata": {
    "execution": {
     "iopub.execute_input": "2020-12-11T20:30:52.092298Z",
     "iopub.status.busy": "2020-12-11T20:30:52.091477Z",
     "iopub.status.idle": "2020-12-11T20:30:52.618594Z",
     "shell.execute_reply": "2020-12-11T20:30:52.617825Z"
    },
    "papermill": {
     "duration": 0.593027,
     "end_time": "2020-12-11T20:30:52.618742",
     "exception": false,
     "start_time": "2020-12-11T20:30:52.025715",
     "status": "completed"
    },
    "tags": []
   },
   "outputs": [],
   "source": [
    "sentences = read_sentences(path_sv_train)\n",
    "formatted_corpus_train = split_rows(sentences, column_names_u)"
   ]
  },
  {
   "cell_type": "code",
   "execution_count": 7,
   "metadata": {
    "execution": {
     "iopub.execute_input": "2020-12-11T20:30:52.751770Z",
     "iopub.status.busy": "2020-12-11T20:30:52.750892Z",
     "iopub.status.idle": "2020-12-11T20:30:52.755473Z",
     "shell.execute_reply": "2020-12-11T20:30:52.756073Z"
    },
    "papermill": {
     "duration": 0.073543,
     "end_time": "2020-12-11T20:30:52.756233",
     "exception": false,
     "start_time": "2020-12-11T20:30:52.682690",
     "status": "completed"
    },
    "tags": []
   },
   "outputs": [
    {
     "data": {
      "text/plain": [
       "4303"
      ]
     },
     "execution_count": 7,
     "metadata": {},
     "output_type": "execute_result"
    }
   ],
   "source": [
    "len(formatted_corpus_train)"
   ]
  },
  {
   "cell_type": "markdown",
   "metadata": {
    "papermill": {
     "duration": 0.062269,
     "end_time": "2020-12-11T20:30:52.882139",
     "exception": false,
     "start_time": "2020-12-11T20:30:52.819870",
     "status": "completed"
    },
    "tags": []
   },
   "source": [
    "The parsed sentence: _Individuell beskattning av arbetsinkomster_"
   ]
  },
  {
   "cell_type": "code",
   "execution_count": 8,
   "metadata": {
    "execution": {
     "iopub.execute_input": "2020-12-11T20:30:53.018204Z",
     "iopub.status.busy": "2020-12-11T20:30:53.017159Z",
     "iopub.status.idle": "2020-12-11T20:30:53.021469Z",
     "shell.execute_reply": "2020-12-11T20:30:53.022038Z"
    },
    "papermill": {
     "duration": 0.076528,
     "end_time": "2020-12-11T20:30:53.022230",
     "exception": false,
     "start_time": "2020-12-11T20:30:52.945702",
     "status": "completed"
    },
    "tags": []
   },
   "outputs": [
    {
     "data": {
      "text/plain": [
       "[{'ID': '0',\n",
       "  'FORM': 'root',\n",
       "  'LEMMA': 'root',\n",
       "  'UPOS': 'root',\n",
       "  'XPOS': 'root',\n",
       "  'FEATS': 'root',\n",
       "  'HEAD': '0',\n",
       "  'DEPREL': 'root',\n",
       "  'DEPS': 'root',\n",
       "  'MISC': 'root'},\n",
       " {'ID': '1',\n",
       "  'FORM': 'Individuell',\n",
       "  'LEMMA': 'individuell',\n",
       "  'UPOS': 'ADJ',\n",
       "  'XPOS': 'JJ|POS|UTR|SIN|IND|NOM',\n",
       "  'FEATS': 'Case=Nom|Definite=Ind|Degree=Pos|Gender=Com|Number=Sing',\n",
       "  'HEAD': '2',\n",
       "  'DEPREL': 'amod',\n",
       "  'DEPS': '2:amod',\n",
       "  'MISC': '_'},\n",
       " {'ID': '2',\n",
       "  'FORM': 'beskattning',\n",
       "  'LEMMA': 'beskattning',\n",
       "  'UPOS': 'NOUN',\n",
       "  'XPOS': 'NN|UTR|SIN|IND|NOM',\n",
       "  'FEATS': 'Case=Nom|Definite=Ind|Gender=Com|Number=Sing',\n",
       "  'HEAD': '0',\n",
       "  'DEPREL': 'root',\n",
       "  'DEPS': '0:root',\n",
       "  'MISC': '_'},\n",
       " {'ID': '3',\n",
       "  'FORM': 'av',\n",
       "  'LEMMA': 'av',\n",
       "  'UPOS': 'ADP',\n",
       "  'XPOS': 'PP',\n",
       "  'FEATS': '_',\n",
       "  'HEAD': '4',\n",
       "  'DEPREL': 'case',\n",
       "  'DEPS': '4:case',\n",
       "  'MISC': '_'},\n",
       " {'ID': '4',\n",
       "  'FORM': 'arbetsinkomster',\n",
       "  'LEMMA': 'arbetsinkomst',\n",
       "  'UPOS': 'NOUN',\n",
       "  'XPOS': 'NN|UTR|PLU|IND|NOM',\n",
       "  'FEATS': 'Case=Nom|Definite=Ind|Gender=Com|Number=Plur',\n",
       "  'HEAD': '2',\n",
       "  'DEPREL': 'nmod',\n",
       "  'DEPS': '2:nmod:av',\n",
       "  'MISC': '_'}]"
      ]
     },
     "execution_count": 8,
     "metadata": {},
     "output_type": "execute_result"
    }
   ],
   "source": [
    "formatted_corpus_train[0]"
   ]
  },
  {
   "cell_type": "markdown",
   "metadata": {
    "papermill": {
     "duration": 0.063415,
     "end_time": "2020-12-11T20:30:53.149412",
     "exception": false,
     "start_time": "2020-12-11T20:30:53.085997",
     "status": "completed"
    },
    "tags": []
   },
   "source": [
    "#### Removing indices that are not integers"
   ]
  },
  {
   "cell_type": "markdown",
   "metadata": {
    "papermill": {
     "duration": 0.06743,
     "end_time": "2020-12-11T20:30:53.281260",
     "exception": false,
     "start_time": "2020-12-11T20:30:53.213830",
     "status": "completed"
    },
    "tags": []
   },
   "source": [
    "To ease the processing of some corpora, we remove the indices which are not integers. We do this because `ID` is not necessarily a number."
   ]
  },
  {
   "cell_type": "code",
   "execution_count": 9,
   "metadata": {
    "execution": {
     "iopub.execute_input": "2020-12-11T20:30:53.419152Z",
     "iopub.status.busy": "2020-12-11T20:30:53.418054Z",
     "iopub.status.idle": "2020-12-11T20:30:53.421411Z",
     "shell.execute_reply": "2020-12-11T20:30:53.420630Z"
    },
    "papermill": {
     "duration": 0.075578,
     "end_time": "2020-12-11T20:30:53.421572",
     "exception": false,
     "start_time": "2020-12-11T20:30:53.345994",
     "status": "completed"
    },
    "tags": []
   },
   "outputs": [],
   "source": [
    "def clean_indicies(formatted_corpus):\n",
    "    formatted_corpus_clean = []\n",
    "    for sentence in formatted_corpus:\n",
    "        formatted_corpus_clean.append([word for word in sentence if word['ID'].isdigit()])\n",
    "    return formatted_corpus_clean          "
   ]
  },
  {
   "cell_type": "code",
   "execution_count": 10,
   "metadata": {
    "execution": {
     "iopub.execute_input": "2020-12-11T20:30:53.578106Z",
     "iopub.status.busy": "2020-12-11T20:30:53.562387Z",
     "iopub.status.idle": "2020-12-11T20:30:53.588563Z",
     "shell.execute_reply": "2020-12-11T20:30:53.589467Z"
    },
    "papermill": {
     "duration": 0.104435,
     "end_time": "2020-12-11T20:30:53.589684",
     "exception": false,
     "start_time": "2020-12-11T20:30:53.485249",
     "status": "completed"
    },
    "tags": []
   },
   "outputs": [
    {
     "data": {
      "text/plain": [
       "[{'ID': '0',\n",
       "  'FORM': 'root',\n",
       "  'LEMMA': 'root',\n",
       "  'UPOS': 'root',\n",
       "  'XPOS': 'root',\n",
       "  'FEATS': 'root',\n",
       "  'HEAD': '0',\n",
       "  'DEPREL': 'root',\n",
       "  'DEPS': 'root',\n",
       "  'MISC': 'root'},\n",
       " {'ID': '1',\n",
       "  'FORM': 'Individuell',\n",
       "  'LEMMA': 'individuell',\n",
       "  'UPOS': 'ADJ',\n",
       "  'XPOS': 'JJ|POS|UTR|SIN|IND|NOM',\n",
       "  'FEATS': 'Case=Nom|Definite=Ind|Degree=Pos|Gender=Com|Number=Sing',\n",
       "  'HEAD': '2',\n",
       "  'DEPREL': 'amod',\n",
       "  'DEPS': '2:amod',\n",
       "  'MISC': '_'},\n",
       " {'ID': '2',\n",
       "  'FORM': 'beskattning',\n",
       "  'LEMMA': 'beskattning',\n",
       "  'UPOS': 'NOUN',\n",
       "  'XPOS': 'NN|UTR|SIN|IND|NOM',\n",
       "  'FEATS': 'Case=Nom|Definite=Ind|Gender=Com|Number=Sing',\n",
       "  'HEAD': '0',\n",
       "  'DEPREL': 'root',\n",
       "  'DEPS': '0:root',\n",
       "  'MISC': '_'},\n",
       " {'ID': '3',\n",
       "  'FORM': 'av',\n",
       "  'LEMMA': 'av',\n",
       "  'UPOS': 'ADP',\n",
       "  'XPOS': 'PP',\n",
       "  'FEATS': '_',\n",
       "  'HEAD': '4',\n",
       "  'DEPREL': 'case',\n",
       "  'DEPS': '4:case',\n",
       "  'MISC': '_'},\n",
       " {'ID': '4',\n",
       "  'FORM': 'arbetsinkomster',\n",
       "  'LEMMA': 'arbetsinkomst',\n",
       "  'UPOS': 'NOUN',\n",
       "  'XPOS': 'NN|UTR|PLU|IND|NOM',\n",
       "  'FEATS': 'Case=Nom|Definite=Ind|Gender=Com|Number=Plur',\n",
       "  'HEAD': '2',\n",
       "  'DEPREL': 'nmod',\n",
       "  'DEPS': '2:nmod:av',\n",
       "  'MISC': '_'}]"
      ]
     },
     "execution_count": 10,
     "metadata": {},
     "output_type": "execute_result"
    }
   ],
   "source": [
    "formatted_corpus_train_clean = clean_indicies(formatted_corpus_train)\n",
    "formatted_corpus_train_clean[0]"
   ]
  },
  {
   "cell_type": "markdown",
   "metadata": {
    "papermill": {
     "duration": 0.080392,
     "end_time": "2020-12-11T20:30:53.753439",
     "exception": false,
     "start_time": "2020-12-11T20:30:53.673047",
     "status": "completed"
    },
    "tags": []
   },
   "source": [
    "## Transition parser"
   ]
  },
  {
   "cell_type": "markdown",
   "metadata": {
    "papermill": {
     "duration": 0.071781,
     "end_time": "2020-12-11T20:30:53.907399",
     "exception": false,
     "start_time": "2020-12-11T20:30:53.835618",
     "status": "completed"
    },
    "tags": []
   },
   "source": [
    "For each sentence with a projective dependency graph, there is an action sequence that enables the transition parser\n",
    "to generate this graph. Gold standard parsing corresponds to the sequence of parsing actions, left-arc (<tt>la</tt>), right-arc (<tt>ra</tt>), shift (<tt>sh</tt>), and reduce (<tt>re</tt>) that produces the manually-obtained, gold standard, graph."
   ]
  },
  {
   "cell_type": "markdown",
   "metadata": {
    "papermill": {
     "duration": 0.063993,
     "end_time": "2020-12-11T20:30:54.035195",
     "exception": false,
     "start_time": "2020-12-11T20:30:53.971202",
     "status": "completed"
    },
    "tags": []
   },
   "source": [
    "### The transitions"
   ]
  },
  {
   "cell_type": "markdown",
   "metadata": {
    "papermill": {
     "duration": 0.067377,
     "end_time": "2020-12-11T20:30:54.166234",
     "exception": false,
     "start_time": "2020-12-11T20:30:54.098857",
     "status": "completed"
    },
    "tags": []
   },
   "source": [
    "Here are implementations of the parsing transitions. Read them and be sure you understand them."
   ]
  },
  {
   "cell_type": "code",
   "execution_count": 11,
   "metadata": {
    "execution": {
     "iopub.execute_input": "2020-12-11T20:30:54.313598Z",
     "iopub.status.busy": "2020-12-11T20:30:54.312764Z",
     "iopub.status.idle": "2020-12-11T20:30:54.316587Z",
     "shell.execute_reply": "2020-12-11T20:30:54.315949Z"
    },
    "papermill": {
     "duration": 0.086664,
     "end_time": "2020-12-11T20:30:54.316727",
     "exception": false,
     "start_time": "2020-12-11T20:30:54.230063",
     "status": "completed"
    },
    "tags": []
   },
   "outputs": [],
   "source": [
    "def shift(stack, queue, graph):\n",
    "    \"\"\"\n",
    "    Shift the first word in the queue onto the stack\n",
    "    :param stack:\n",
    "    :param queue:\n",
    "    :param graph:\n",
    "    :return:\n",
    "    \"\"\"\n",
    "    stack = [queue[0]] + stack\n",
    "    queue = queue[1:]\n",
    "    return stack, queue, graph\n",
    "\n",
    "\n",
    "def reduce(stack, queue, graph):\n",
    "    \"\"\"\n",
    "    Remove the first item from the stack\n",
    "    :param stack:\n",
    "    :param queue:\n",
    "    :param graph:\n",
    "    :return:\n",
    "    \"\"\"\n",
    "    return stack[1:], queue, graph\n",
    "\n",
    "\n",
    "def right_arc(stack, queue, graph, deprel=False):\n",
    "    \"\"\"\n",
    "    Creates an arc from the top of the stack to the first in the queue\n",
    "    and shifts\n",
    "    The deprel argument is either read from the manually-annotated corpus\n",
    "    (deprel=False) or assigned by the parser. In this case, the deprel\n",
    "    argument has a value\n",
    "    :param stack:\n",
    "    :param queue:\n",
    "    :param graph:\n",
    "    :param deprel: either read from the manually-annotated corpus (value false)\n",
    "    or assigned by the parser\n",
    "    :return:\n",
    "    \"\"\"\n",
    "    graph['heads'][queue[0]['ID']] = stack[0]['ID']\n",
    "    if deprel:\n",
    "        graph['deprels'][queue[0]['ID']] = deprel\n",
    "    else:\n",
    "        graph['deprels'][queue[0]['ID']] = queue[0]['DEPREL']\n",
    "    # If we create an arc from the 'root', we introduce a statement to pop it to avoid multiple roots\n",
    "    if stack[0]['ID'] == '0':\n",
    "        stack = stack[1:]\n",
    "    return shift(stack, queue, graph)\n",
    "\n",
    "\n",
    "def left_arc(stack, queue, graph, deprel=False):\n",
    "    \"\"\"\n",
    "    Creates an arc from the first in the queue to the top of the stack\n",
    "    and reduces it.\n",
    "    The deprel argument is either read from the manually-annotated corpus\n",
    "    (deprel=False) or assigned by the parser. In this case, the deprel\n",
    "    argument has a value\n",
    "    :param stack:\n",
    "    :param queue:\n",
    "    :param graph:\n",
    "    :param deprel: either read from the manually-annotated corpus (value false)\n",
    "    or assigned by the parser\n",
    "    :return:\n",
    "    \"\"\"\n",
    "    graph['heads'][stack[0]['ID']] = queue[0]['ID']\n",
    "    if deprel:\n",
    "        graph['deprels'][stack[0]['ID']] = deprel\n",
    "    else:\n",
    "        graph['deprels'][stack[0]['ID']] = stack[0]['DEPREL']        \n",
    "    return reduce(stack, queue, graph)"
   ]
  },
  {
   "cell_type": "markdown",
   "metadata": {
    "papermill": {
     "duration": 0.063557,
     "end_time": "2020-12-11T20:30:54.444174",
     "exception": false,
     "start_time": "2020-12-11T20:30:54.380617",
     "status": "completed"
    },
    "tags": []
   },
   "source": [
    "### Constrains on the transitions"
   ]
  },
  {
   "cell_type": "markdown",
   "metadata": {
    "papermill": {
     "duration": 0.063408,
     "end_time": "2020-12-11T20:30:54.572016",
     "exception": false,
     "start_time": "2020-12-11T20:30:54.508608",
     "status": "completed"
    },
    "tags": []
   },
   "source": [
    "We add a few constraints before we carry out the transitions. Given a manually-annotated dependency graph, look at the conditions (`can_...()` functions) on the stack and the current input list -- the queue -- to execute left-arc, right-arc, shift, or reduce."
   ]
  },
  {
   "cell_type": "code",
   "execution_count": 12,
   "metadata": {
    "execution": {
     "iopub.execute_input": "2020-12-11T20:30:54.712027Z",
     "iopub.status.busy": "2020-12-11T20:30:54.710849Z",
     "iopub.status.idle": "2020-12-11T20:30:54.714631Z",
     "shell.execute_reply": "2020-12-11T20:30:54.713849Z"
    },
    "papermill": {
     "duration": 0.078939,
     "end_time": "2020-12-11T20:30:54.714763",
     "exception": false,
     "start_time": "2020-12-11T20:30:54.635824",
     "status": "completed"
    },
    "tags": []
   },
   "outputs": [],
   "source": [
    "def can_reduce(stack, graph):\n",
    "    \"\"\"\n",
    "    Checks that the top of the stack has a head\n",
    "    :param stack:\n",
    "    :param graph:\n",
    "    :return:\n",
    "    \"\"\"\n",
    "    if not stack:\n",
    "        return False\n",
    "    if stack[0]['ID'] in graph['heads']:\n",
    "        return True\n",
    "    else:\n",
    "        return False\n",
    "\n",
    "    \n",
    "def can_leftarc(stack, graph):\n",
    "    \"\"\"\n",
    "    Checks that the top of the has no head\n",
    "    :param stack:\n",
    "    :param graph:\n",
    "    :return:\n",
    "    \"\"\"\n",
    "    if not stack:\n",
    "        return False\n",
    "    if stack[0]['ID'] in graph['heads']:\n",
    "        return False\n",
    "    else:\n",
    "        return True\n",
    "\n",
    "\n",
    "def can_rightarc(stack):\n",
    "    \"\"\"\n",
    "    Simply checks there is a stack\n",
    "    :param stack:\n",
    "    :return:\n",
    "    \"\"\"\n",
    "    if not stack:\n",
    "        return False\n",
    "    else:\n",
    "        return True"
   ]
  },
  {
   "cell_type": "markdown",
   "metadata": {
    "papermill": {
     "duration": 0.064813,
     "end_time": "2020-12-11T20:30:54.844072",
     "exception": false,
     "start_time": "2020-12-11T20:30:54.779259",
     "status": "completed"
    },
    "tags": []
   },
   "source": [
    "### Finding the transitions from a manually-parsed sentence"
   ]
  },
  {
   "cell_type": "markdown",
   "metadata": {
    "papermill": {
     "duration": 0.064465,
     "end_time": "2020-12-11T20:30:54.973463",
     "exception": false,
     "start_time": "2020-12-11T20:30:54.908998",
     "status": "completed"
    },
    "tags": []
   },
   "source": [
    "Using an annotated corpus, we can derive the action sequences producing the manually-parsed sentences (provided that they are projective). We use an oracle for this as explained during the lectures."
   ]
  },
  {
   "cell_type": "code",
   "execution_count": 13,
   "metadata": {
    "execution": {
     "iopub.execute_input": "2020-12-11T20:30:55.120732Z",
     "iopub.status.busy": "2020-12-11T20:30:55.119572Z",
     "iopub.status.idle": "2020-12-11T20:30:55.122550Z",
     "shell.execute_reply": "2020-12-11T20:30:55.123171Z"
    },
    "papermill": {
     "duration": 0.085194,
     "end_time": "2020-12-11T20:30:55.123354",
     "exception": false,
     "start_time": "2020-12-11T20:30:55.038160",
     "status": "completed"
    },
    "tags": []
   },
   "outputs": [],
   "source": [
    "def oracle(stack, queue, graph):\n",
    "    \"\"\"\n",
    "    Gold standard parsing\n",
    "    Produces a sequence of transitions from a manually-annotated corpus:\n",
    "    sh, re, ra.deprel, la.deprel\n",
    "    :param stack: The stack\n",
    "    :param queue: The input list\n",
    "    :param graph: The set of relations already parsed\n",
    "    :return: the transition and the grammatical function (deprel) in the\n",
    "    form of transition.deprel\n",
    "    \"\"\"\n",
    "    # Right arc\n",
    "    if stack and stack[0]['ID'] == queue[0]['HEAD']:\n",
    "        # print('ra', queue[0]['DEPREL'], stack[0]['UPOS'], queue[0]['UPOS'])\n",
    "        deprel = '.' + queue[0]['DEPREL']\n",
    "        stack, queue, graph = right_arc(stack, queue, graph)\n",
    "        return stack, queue, graph, 'ra' + deprel\n",
    "    # Left arc\n",
    "    if stack and queue[0]['ID'] == stack[0]['HEAD']:\n",
    "        # print('la', stack[0]['DEPREL'], stack[0]['UPOS'], queue[0]['UPOS'])\n",
    "        deprel = '.' + stack[0]['DEPREL']\n",
    "        stack, queue, graph = left_arc(stack, queue, graph)\n",
    "        return stack, queue, graph, 'la' + deprel\n",
    "    # Reduce\n",
    "    if stack and can_reduce(stack, graph):\n",
    "        for word in stack:\n",
    "            if (word['ID'] == queue[0]['HEAD'] or\n",
    "                    word['HEAD'] == queue[0]['ID']):\n",
    "                # print('re', stack[0]['UPOS'], queue[0]['UPOS'])\n",
    "                stack, queue, graph = reduce(stack, queue, graph)\n",
    "                return stack, queue, graph, 're'\n",
    "    # Shift\n",
    "    # print('sh', [], queue[0]['UPOS'])\n",
    "    stack, queue, graph = shift(stack, queue, graph)\n",
    "    return stack, queue, graph, 'sh'"
   ]
  },
  {
   "cell_type": "markdown",
   "metadata": {
    "papermill": {
     "duration": 0.066265,
     "end_time": "2020-12-11T20:30:55.254749",
     "exception": false,
     "start_time": "2020-12-11T20:30:55.188484",
     "status": "completed"
    },
    "tags": []
   },
   "source": [
    "### Dealing with nonprojective graphs"
   ]
  },
  {
   "cell_type": "markdown",
   "metadata": {
    "papermill": {
     "duration": 0.066936,
     "end_time": "2020-12-11T20:30:55.387009",
     "exception": false,
     "start_time": "2020-12-11T20:30:55.320073",
     "status": "completed"
    },
    "tags": []
   },
   "source": [
    "Oracle parsing produces a sequence of transitions if the graph is projective and well-formed. If not, we will have headless words in the stack. Parsing normally terminates when the queue is empty. We also empty the stack to be sure that all the words have a head. We attach headless words to the root word of the sentence."
   ]
  },
  {
   "cell_type": "code",
   "execution_count": 14,
   "metadata": {
    "execution": {
     "iopub.execute_input": "2020-12-11T20:30:55.526579Z",
     "iopub.status.busy": "2020-12-11T20:30:55.525792Z",
     "iopub.status.idle": "2020-12-11T20:30:55.529297Z",
     "shell.execute_reply": "2020-12-11T20:30:55.528516Z"
    },
    "papermill": {
     "duration": 0.076597,
     "end_time": "2020-12-11T20:30:55.529463",
     "exception": false,
     "start_time": "2020-12-11T20:30:55.452866",
     "status": "completed"
    },
    "tags": []
   },
   "outputs": [],
   "source": [
    "def exists_root(graph):\n",
    "    for (x, y)  in graph['heads'].items():\n",
    "        if y == '0' and x != '0':\n",
    "            return x\n",
    "    return False"
   ]
  },
  {
   "cell_type": "code",
   "execution_count": 15,
   "metadata": {
    "execution": {
     "iopub.execute_input": "2020-12-11T20:30:55.675164Z",
     "iopub.status.busy": "2020-12-11T20:30:55.671785Z",
     "iopub.status.idle": "2020-12-11T20:30:55.679115Z",
     "shell.execute_reply": "2020-12-11T20:30:55.678398Z"
    },
    "papermill": {
     "duration": 0.084664,
     "end_time": "2020-12-11T20:30:55.679248",
     "exception": false,
     "start_time": "2020-12-11T20:30:55.594584",
     "status": "completed"
    },
    "tags": []
   },
   "outputs": [],
   "source": [
    "def empty_stack(stack, graph):\n",
    "    \"\"\"\n",
    "    Pops the items in the stack. If they have no head, they are assigned\n",
    "    a ROOT head\n",
    "    :param stack:\n",
    "    :param graph:\n",
    "    :return:\n",
    "    \"\"\"\n",
    "    idx_root = exists_root(graph)\n",
    "    # There is already a root\n",
    "    if idx_root:\n",
    "        for word in stack:\n",
    "            if word['ID'] not in graph['heads']:\n",
    "                graph['heads'][word['ID']] = idx_root\n",
    "                graph['deprels'][word['ID']] = 'dep'\n",
    "    else:\n",
    "        # There is no root. We assign the root to the first headless word.\n",
    "        for word in stack:\n",
    "            if word['ID'] not in graph['heads']:\n",
    "                if idx_root:\n",
    "                    graph['heads'][word['ID']] = idx_root\n",
    "                    graph['deprels'][word['ID']] = 'dep'\n",
    "                else:\n",
    "                    graph['heads'][word['ID']] = '0'\n",
    "                    graph['deprels'][word['ID']] = 'root'\n",
    "                    idx_root = word['ID']\n",
    "    stack = []\n",
    "    return stack, graph"
   ]
  },
  {
   "cell_type": "markdown",
   "metadata": {
    "papermill": {
     "duration": 0.064514,
     "end_time": "2020-12-11T20:30:55.810085",
     "exception": false,
     "start_time": "2020-12-11T20:30:55.745571",
     "status": "completed"
    },
    "tags": []
   },
   "source": [
    "### Checking if two graphs are equal"
   ]
  },
  {
   "cell_type": "markdown",
   "metadata": {
    "papermill": {
     "duration": 0.066149,
     "end_time": "2020-12-11T20:30:55.941667",
     "exception": false,
     "start_time": "2020-12-11T20:30:55.875518",
     "status": "completed"
    },
    "tags": []
   },
   "source": [
    "The `equal_graphs()` utility checks if the graph obtained from a sequence of transitions is equal to the annotated graph. It is normally the case, except with nonprojective graphs."
   ]
  },
  {
   "cell_type": "code",
   "execution_count": 16,
   "metadata": {
    "execution": {
     "iopub.execute_input": "2020-12-11T20:30:56.081750Z",
     "iopub.status.busy": "2020-12-11T20:30:56.080607Z",
     "iopub.status.idle": "2020-12-11T20:30:56.084215Z",
     "shell.execute_reply": "2020-12-11T20:30:56.083459Z"
    },
    "papermill": {
     "duration": 0.077605,
     "end_time": "2020-12-11T20:30:56.084364",
     "exception": false,
     "start_time": "2020-12-11T20:30:56.006759",
     "status": "completed"
    },
    "tags": []
   },
   "outputs": [],
   "source": [
    "def equal_graphs(sentence, graph, verbose=False):\n",
    "    \"\"\"\n",
    "    Checks that the graph corresponds to the gold standard annotation of a sentence\n",
    "    :param sentence:\n",
    "    :param graph:\n",
    "    :return:\n",
    "    \"\"\"\n",
    "    equal = True\n",
    "    for word in sentence:\n",
    "        if word['ID'] in graph['heads'] and word['HEAD'] == graph['heads'][word['ID']]:\n",
    "            pass\n",
    "        else:\n",
    "            equal = False\n",
    "            if verbose:\n",
    "                print(word, flush=True)\n",
    "    return equal"
   ]
  },
  {
   "cell_type": "markdown",
   "metadata": {
    "papermill": {
     "duration": 0.06483,
     "end_time": "2020-12-11T20:30:56.217455",
     "exception": false,
     "start_time": "2020-12-11T20:30:56.152625",
     "status": "completed"
    },
    "tags": []
   },
   "source": [
    "### Parsing an annotated corpus with an oracle"
   ]
  },
  {
   "cell_type": "markdown",
   "metadata": {
    "papermill": {
     "duration": 0.066775,
     "end_time": "2020-12-11T20:30:56.351816",
     "exception": false,
     "start_time": "2020-12-11T20:30:56.285041",
     "status": "completed"
    },
    "tags": []
   },
   "source": [
    "You will now run the code below. With it, you will produce a sequence of transitions for each sentence. If the graph is projective, applying the sequence to the sentence will recreate the gold-standard annotation."
   ]
  },
  {
   "cell_type": "markdown",
   "metadata": {
    "papermill": {
     "duration": 0.06676,
     "end_time": "2020-12-11T20:30:56.484950",
     "exception": false,
     "start_time": "2020-12-11T20:30:56.418190",
     "status": "completed"
    },
    "tags": []
   },
   "source": [
    "For this experiment:\n",
    "1. Understand from the slides used during the lecture how the oracle carries out a gold standard parsing. \n",
    "2. The parser can only deal with projective sentences. In the case of a nonprojective one, the parsed graph and the manually-annotated sentence are not equal. Examine one nonprojective sentence (just set `verbose`to `True` in the code below) and explain why it is not projective. Take a short one (the shortest). You will **describe** this in the report."
   ]
  },
  {
   "cell_type": "code",
   "execution_count": 17,
   "metadata": {
    "execution": {
     "iopub.execute_input": "2020-12-11T20:30:56.624666Z",
     "iopub.status.busy": "2020-12-11T20:30:56.623578Z",
     "iopub.status.idle": "2020-12-11T20:30:56.626812Z",
     "shell.execute_reply": "2020-12-11T20:30:56.626098Z"
    },
    "papermill": {
     "duration": 0.076928,
     "end_time": "2020-12-11T20:30:56.626942",
     "exception": false,
     "start_time": "2020-12-11T20:30:56.550014",
     "status": "completed"
    },
    "tags": []
   },
   "outputs": [],
   "source": [
    "def init_config(sentence):\n",
    "    stack = []\n",
    "    queue = list(sentence)\n",
    "    graph = {}\n",
    "    graph['heads'] = {}\n",
    "    graph['heads']['0'] = '0'\n",
    "    graph['deprels'] = {}\n",
    "    graph['deprels']['0'] = 'ROOT'\n",
    "    return stack, queue, graph"
   ]
  },
  {
   "cell_type": "code",
   "execution_count": 18,
   "metadata": {
    "execution": {
     "iopub.execute_input": "2020-12-11T20:30:56.773755Z",
     "iopub.status.busy": "2020-12-11T20:30:56.768449Z",
     "iopub.status.idle": "2020-12-11T20:30:57.295571Z",
     "shell.execute_reply": "2020-12-11T20:30:57.294663Z"
    },
    "papermill": {
     "duration": 0.60271,
     "end_time": "2020-12-11T20:30:57.295763",
     "exception": false,
     "start_time": "2020-12-11T20:30:56.693053",
     "status": "completed"
    },
    "tags": []
   },
   "outputs": [
    {
     "name": "stdout",
     "output_type": "stream",
     "text": [
      "\n",
      "Processed 4302 sentences\n"
     ]
    }
   ],
   "source": [
    "verbose = False\n",
    "projectivization = True\n",
    "\n",
    "transition_corpus = []\n",
    "graph_corpus = []\n",
    "shortest = formatted_corpus_train_clean[1]\n",
    "\n",
    "for sent_cnt, sentence in enumerate(formatted_corpus_train_clean):\n",
    "    #print(sentence)\n",
    "    stack, queue, graph = init_config(sentence)\n",
    "    transition_sent = []\n",
    "    while queue:\n",
    "        stack, queue, graph, trans = oracle(stack, queue, graph)\n",
    "        transition_sent.append(trans)\n",
    "    stack, graph = empty_stack(stack, graph)\n",
    "    transition_corpus.append(transition_sent)\n",
    "    graph_corpus.append(graph)\n",
    "\n",
    "    if verbose:\n",
    "        if not equal_graphs(sentence, graph):\n",
    "            print('Annotation and gold-standard parsing not equal')\n",
    "            print('Sentence:', sentence)\n",
    "            print('Gold-standard graph', graph)\n",
    "            if len(sentence) < len(shortest):\n",
    "                shortest = sentence\n",
    "            \n",
    "    # Poorman's projectivization to have well-formed graphs.\n",
    "    # We just just assign the same heads as what gold standard parsing did\n",
    "    # This guarantee a projective sentence\n",
    "    if projectivization:\n",
    "        for word in sentence:\n",
    "            word['HEAD'] = graph['heads'][word['ID']]\n",
    "print('\\nProcessed ' + str(sent_cnt) + ' sentences')\n",
    "#print(shortest)\n",
    "#for word in shortest:\n",
    "#    print(word['HEAD'])"
   ]
  },
  {
   "cell_type": "markdown",
   "metadata": {
    "papermill": {
     "duration": 0.068897,
     "end_time": "2020-12-11T20:30:57.432967",
     "exception": false,
     "start_time": "2020-12-11T20:30:57.364070",
     "status": "completed"
    },
    "tags": []
   },
   "source": [
    "### Checking gold-standard parsing"
   ]
  },
  {
   "cell_type": "markdown",
   "metadata": {
    "papermill": {
     "duration": 0.065619,
     "end_time": "2020-12-11T20:30:57.565012",
     "exception": false,
     "start_time": "2020-12-11T20:30:57.499393",
     "status": "completed"
    },
    "tags": []
   },
   "source": [
    "Apply manually the transition sequence you obtained to the first sentence and check that it parses it correctly. You will draw a stack and a queue with **seven steps** and you will describe this in your report"
   ]
  },
  {
   "cell_type": "code",
   "execution_count": 19,
   "metadata": {
    "execution": {
     "iopub.execute_input": "2020-12-11T20:30:57.712698Z",
     "iopub.status.busy": "2020-12-11T20:30:57.711615Z",
     "iopub.status.idle": "2020-12-11T20:30:57.717275Z",
     "shell.execute_reply": "2020-12-11T20:30:57.716548Z"
    },
    "papermill": {
     "duration": 0.084863,
     "end_time": "2020-12-11T20:30:57.717435",
     "exception": false,
     "start_time": "2020-12-11T20:30:57.632572",
     "status": "completed"
    },
    "tags": []
   },
   "outputs": [
    {
     "data": {
      "text/plain": [
       "[[{'ID': '0',\n",
       "   'FORM': 'root',\n",
       "   'LEMMA': 'root',\n",
       "   'UPOS': 'root',\n",
       "   'XPOS': 'root',\n",
       "   'FEATS': 'root',\n",
       "   'HEAD': '0',\n",
       "   'DEPREL': 'root',\n",
       "   'DEPS': 'root',\n",
       "   'MISC': 'root'},\n",
       "  {'ID': '1',\n",
       "   'FORM': 'Individuell',\n",
       "   'LEMMA': 'individuell',\n",
       "   'UPOS': 'ADJ',\n",
       "   'XPOS': 'JJ|POS|UTR|SIN|IND|NOM',\n",
       "   'FEATS': 'Case=Nom|Definite=Ind|Degree=Pos|Gender=Com|Number=Sing',\n",
       "   'HEAD': '2',\n",
       "   'DEPREL': 'amod',\n",
       "   'DEPS': '2:amod',\n",
       "   'MISC': '_'},\n",
       "  {'ID': '2',\n",
       "   'FORM': 'beskattning',\n",
       "   'LEMMA': 'beskattning',\n",
       "   'UPOS': 'NOUN',\n",
       "   'XPOS': 'NN|UTR|SIN|IND|NOM',\n",
       "   'FEATS': 'Case=Nom|Definite=Ind|Gender=Com|Number=Sing',\n",
       "   'HEAD': '0',\n",
       "   'DEPREL': 'root',\n",
       "   'DEPS': '0:root',\n",
       "   'MISC': '_'},\n",
       "  {'ID': '3',\n",
       "   'FORM': 'av',\n",
       "   'LEMMA': 'av',\n",
       "   'UPOS': 'ADP',\n",
       "   'XPOS': 'PP',\n",
       "   'FEATS': '_',\n",
       "   'HEAD': '4',\n",
       "   'DEPREL': 'case',\n",
       "   'DEPS': '4:case',\n",
       "   'MISC': '_'},\n",
       "  {'ID': '4',\n",
       "   'FORM': 'arbetsinkomster',\n",
       "   'LEMMA': 'arbetsinkomst',\n",
       "   'UPOS': 'NOUN',\n",
       "   'XPOS': 'NN|UTR|PLU|IND|NOM',\n",
       "   'FEATS': 'Case=Nom|Definite=Ind|Gender=Com|Number=Plur',\n",
       "   'HEAD': '2',\n",
       "   'DEPREL': 'nmod',\n",
       "   'DEPS': '2:nmod:av',\n",
       "   'MISC': '_'}]]"
      ]
     },
     "execution_count": 19,
     "metadata": {},
     "output_type": "execute_result"
    }
   ],
   "source": [
    "formatted_corpus_train_clean[:1]"
   ]
  },
  {
   "cell_type": "code",
   "execution_count": 20,
   "metadata": {
    "execution": {
     "iopub.execute_input": "2020-12-11T20:30:57.860736Z",
     "iopub.status.busy": "2020-12-11T20:30:57.859868Z",
     "iopub.status.idle": "2020-12-11T20:30:57.865160Z",
     "shell.execute_reply": "2020-12-11T20:30:57.864409Z"
    },
    "papermill": {
     "duration": 0.078995,
     "end_time": "2020-12-11T20:30:57.865292",
     "exception": false,
     "start_time": "2020-12-11T20:30:57.786297",
     "status": "completed"
    },
    "tags": []
   },
   "outputs": [
    {
     "data": {
      "text/plain": [
       "[['sh', 'sh', 'la.amod', 'ra.root', 'sh', 'la.case', 'ra.nmod']]"
      ]
     },
     "execution_count": 20,
     "metadata": {},
     "output_type": "execute_result"
    }
   ],
   "source": [
    "transition_corpus[:1]"
   ]
  },
  {
   "cell_type": "code",
   "execution_count": 21,
   "metadata": {
    "execution": {
     "iopub.execute_input": "2020-12-11T20:30:58.011977Z",
     "iopub.status.busy": "2020-12-11T20:30:58.010728Z",
     "iopub.status.idle": "2020-12-11T20:30:58.015076Z",
     "shell.execute_reply": "2020-12-11T20:30:58.015680Z"
    },
    "papermill": {
     "duration": 0.08222,
     "end_time": "2020-12-11T20:30:58.015858",
     "exception": false,
     "start_time": "2020-12-11T20:30:57.933638",
     "status": "completed"
    },
    "tags": []
   },
   "outputs": [
    {
     "data": {
      "text/plain": [
       "[{'heads': {'0': '0', '1': '2', '2': '0', '3': '4', '4': '2'},\n",
       "  'deprels': {'0': 'ROOT',\n",
       "   '1': 'amod',\n",
       "   '2': 'root',\n",
       "   '3': 'case',\n",
       "   '4': 'nmod'}}]"
      ]
     },
     "execution_count": 21,
     "metadata": {},
     "output_type": "execute_result"
    }
   ],
   "source": [
    "graph_corpus[:1]"
   ]
  },
  {
   "cell_type": "markdown",
   "metadata": {
    "papermill": {
     "duration": 0.069783,
     "end_time": "2020-12-11T20:30:58.155236",
     "exception": false,
     "start_time": "2020-12-11T20:30:58.085453",
     "status": "completed"
    },
    "tags": []
   },
   "source": [
    "## Training a classifier"
   ]
  },
  {
   "cell_type": "markdown",
   "metadata": {
    "papermill": {
     "duration": 0.07202,
     "end_time": "2020-12-11T20:30:58.299212",
     "exception": false,
     "start_time": "2020-12-11T20:30:58.227192",
     "status": "completed"
    },
    "tags": []
   },
   "source": [
    "We can now train a classifier to predict an action from a current parsing context. To be able to predict the next action from a given parsing state, gold standard parsing must also extract feature vectors at each step of the parsing procedure. The simplest parsing context corresponds to words' part of speech on the top of the stack and head of the input list (the queue).\n",
    "    \n",
    "Once the data collected, the training procedure will produce a 4-class classifier that you will embed in\n",
    "Nivre's parser to choose the next action. During parsing, Nivre's parser will call the classifier to choose\n",
    "the next action in the set {<tt>la</tt>, <tt>ra</tt>, <tt>sh</tt>, <tt>re</tt>} using the current context."
   ]
  },
  {
   "cell_type": "markdown",
   "metadata": {
    "papermill": {
     "duration": 0.07115,
     "end_time": "2020-12-11T20:30:58.441347",
     "exception": false,
     "start_time": "2020-12-11T20:30:58.370197",
     "status": "completed"
    },
    "tags": []
   },
   "source": [
    "You will use two feature sets to build your models:\n",
    "* The top of the stack and the first word of the input list (word forms and parts of speech);\n",
    "* The two first words and POS on the top of the stack and the two first words and POS of the input list;\n",
    "* You will also add constraints to actions. You will encode these constraints as Boolean features."
   ]
  },
  {
   "cell_type": "markdown",
   "metadata": {
    "papermill": {
     "duration": 0.068451,
     "end_time": "2020-12-11T20:30:58.578252",
     "exception": false,
     "start_time": "2020-12-11T20:30:58.509801",
     "status": "completed"
    },
    "tags": []
   },
   "source": [
    "### Parsing the grammatical functions"
   ]
  },
  {
   "cell_type": "markdown",
   "metadata": {
    "papermill": {
     "duration": 0.069516,
     "end_time": "2020-12-11T20:30:58.715093",
     "exception": false,
     "start_time": "2020-12-11T20:30:58.645577",
     "status": "completed"
    },
    "tags": []
   },
   "source": [
    "Using the actions in the set {<tt>la</tt>, <tt>ra</tt>, <tt>sh</tt>, <tt>re</tt>} produces an unlabelled\n",
    "graph. It is easy to extend the parser so that it can label the graph with grammatical functions. In this\n",
    "case, we must complement the actions <tt>la</tt>\n",
    "and <tt>ra</tt> with their function using this notation for example:<tt>la.mod</tt>, <tt>la.case</tt>, <tt>ra.nmod</tt>, etc. where the prefix is the action and the suffix is the function."
   ]
  },
  {
   "cell_type": "markdown",
   "metadata": {
    "papermill": {
     "duration": 0.067775,
     "end_time": "2020-12-11T20:30:58.852221",
     "exception": false,
     "start_time": "2020-12-11T20:30:58.784446",
     "status": "completed"
    },
    "tags": []
   },
   "source": [
    "### Extracting features "
   ]
  },
  {
   "cell_type": "markdown",
   "metadata": {
    "papermill": {
     "duration": 0.07007,
     "end_time": "2020-12-11T20:30:58.989983",
     "exception": false,
     "start_time": "2020-12-11T20:30:58.919913",
     "status": "completed"
    },
    "tags": []
   },
   "source": [
    "The final goal is to parse the Swedish corpus and produce a labelled dependency graph. \n",
    "\n",
    "You will consider two feature sets and you will train the corresponding logistic regression models using scikit-learn:\n",
    "1. The first set will use the word and the part of speech extracted from the first element in the stack and the first in the queue,\n",
    "2. the second one will use two elements from the stack and two from the input list.\n",
    "\n",
    "These sets will include two additional Boolean parameters, \"can do left arc\" and \"can do reduce\", which will model constraints on the parser's actions. In total, the feature sets will then have six, respectively ten parameters.\n",
    "\n",
    "This means that the purpose of this assignment is to generate two scikit-learn models for the labelled graphs. We use the depth parameter for this: The depth of the stack and the queue, either 1 or 2. Start with 1."
   ]
  },
  {
   "cell_type": "code",
   "execution_count": 22,
   "metadata": {
    "execution": {
     "iopub.execute_input": "2020-12-11T20:30:59.143274Z",
     "iopub.status.busy": "2020-12-11T20:30:59.142240Z",
     "iopub.status.idle": "2020-12-11T20:30:59.145482Z",
     "shell.execute_reply": "2020-12-11T20:30:59.144682Z"
    },
    "papermill": {
     "duration": 0.078372,
     "end_time": "2020-12-11T20:30:59.145624",
     "exception": false,
     "start_time": "2020-12-11T20:30:59.067252",
     "status": "completed"
    },
    "tags": []
   },
   "outputs": [],
   "source": [
    "depth = 2"
   ]
  },
  {
   "cell_type": "markdown",
   "metadata": {
    "papermill": {
     "duration": 0.071469,
     "end_time": "2020-12-11T20:30:59.285916",
     "exception": false,
     "start_time": "2020-12-11T20:30:59.214447",
     "status": "completed"
    },
    "tags": []
   },
   "source": [
    "You will need the `queue_stack()` function."
   ]
  },
  {
   "cell_type": "code",
   "execution_count": 23,
   "metadata": {
    "execution": {
     "iopub.execute_input": "2020-12-11T20:30:59.438944Z",
     "iopub.status.busy": "2020-12-11T20:30:59.436879Z",
     "iopub.status.idle": "2020-12-11T20:30:59.442820Z",
     "shell.execute_reply": "2020-12-11T20:30:59.442162Z"
    },
    "papermill": {
     "duration": 0.084481,
     "end_time": "2020-12-11T20:30:59.442976",
     "exception": false,
     "start_time": "2020-12-11T20:30:59.358495",
     "status": "completed"
    },
    "tags": []
   },
   "outputs": [],
   "source": [
    "def queue_stack(queue_or_stack, graph, depth, pos=True, lex=True):\n",
    "    features = []\n",
    "    features_pos = ['nil'] * depth\n",
    "    features_lex = ['nil'] * depth\n",
    "    features_deprel = ['nil'] * depth\n",
    "    if queue_or_stack:\n",
    "        for i, word in list(enumerate(queue_or_stack))[:depth]:\n",
    "            features_pos[i] = queue_or_stack[i]['UPOS']\n",
    "            features_lex[i] = queue_or_stack[i]['FORM']\n",
    "    if pos:\n",
    "        features += features_pos\n",
    "    if lex:\n",
    "        features += features_lex\n",
    "    return features"
   ]
  },
  {
   "cell_type": "markdown",
   "metadata": {
    "papermill": {
     "duration": 0.068504,
     "end_time": "2020-12-11T20:30:59.583357",
     "exception": false,
     "start_time": "2020-12-11T20:30:59.514853",
     "status": "completed"
    },
    "tags": []
   },
   "source": [
    "Optionally, you may want to extend the feature vector with words to the left of the top of the stack with the `right_context()` function. If the top of the stack has index $i$, you will extract the words and their parts of speech at index $i + 1$, $i+2$. This will noticeably improve the performance."
   ]
  },
  {
   "cell_type": "code",
   "execution_count": 24,
   "metadata": {
    "execution": {
     "iopub.execute_input": "2020-12-11T20:30:59.731171Z",
     "iopub.status.busy": "2020-12-11T20:30:59.730020Z",
     "iopub.status.idle": "2020-12-11T20:30:59.733123Z",
     "shell.execute_reply": "2020-12-11T20:30:59.733692Z"
    },
    "papermill": {
     "duration": 0.082905,
     "end_time": "2020-12-11T20:30:59.733863",
     "exception": false,
     "start_time": "2020-12-11T20:30:59.650958",
     "status": "completed"
    },
    "tags": []
   },
   "outputs": [],
   "source": [
    "def right_context(stack, sentence, depth, pos=True, lex=True):\n",
    "    features = []\n",
    "    features_pos = ['nil'] * depth\n",
    "    features_lex = ['nil'] * depth\n",
    "    if stack:\n",
    "        fw_id = int(stack[0]['ID']) + 1\n",
    "        for i, word in list(enumerate(sentence))[fw_id: fw_id + depth]:\n",
    "            features_pos[i - fw_id] = sentence[i]['UPOS']\n",
    "            features_lex[i - fw_id] = sentence[i]['FORM']\n",
    "    if pos:\n",
    "        features += features_pos\n",
    "    if lex:\n",
    "        features += features_lex\n",
    "    return features"
   ]
  },
  {
   "cell_type": "markdown",
   "metadata": {
    "papermill": {
     "duration": 0.068648,
     "end_time": "2020-12-11T20:30:59.871789",
     "exception": false,
     "start_time": "2020-12-11T20:30:59.803141",
     "status": "completed"
    },
    "tags": []
   },
   "source": [
    "The next function returns the features in a dictionary format compatible with scikit-learn. You have a code example of feature encoding in this format in the chunking program."
   ]
  },
  {
   "cell_type": "code",
   "execution_count": 25,
   "metadata": {
    "execution": {
     "iopub.execute_input": "2020-12-11T20:31:00.018770Z",
     "iopub.status.busy": "2020-12-11T20:31:00.016646Z",
     "iopub.status.idle": "2020-12-11T20:31:00.023032Z",
     "shell.execute_reply": "2020-12-11T20:31:00.022317Z"
    },
    "papermill": {
     "duration": 0.083374,
     "end_time": "2020-12-11T20:31:00.023161",
     "exception": false,
     "start_time": "2020-12-11T20:30:59.939787",
     "status": "completed"
    },
    "tags": []
   },
   "outputs": [],
   "source": [
    "def extract(depth, stack, queue, graph, sentence):\n",
    "    \"\"\"\n",
    "    :param stack:\n",
    "    :param queue:\n",
    "    :param graph:\n",
    "    :param feature_names:\n",
    "    :param sentence:\n",
    "    :return:\n",
    "    \"\"\"\n",
    "    improved = True\n",
    "    if improved:\n",
    "        x = (queue_stack(stack, graph, depth) +\n",
    "             queue_stack(queue, graph, depth) +\n",
    "             right_context(stack, sentence, depth) +\n",
    "             [can_reduce(stack, graph), can_leftarc(stack, graph)])\n",
    "    else:\n",
    "        x = (queue_stack(stack, graph, depth) +\n",
    "             queue_stack(queue, graph, depth) +\n",
    "             [can_reduce(stack, graph), can_leftarc(stack, graph)])     \n",
    "    feature_names = ['feat' + str(i) for i in range(len(x))]\n",
    "    features = dict(zip(feature_names, x))\n",
    "    return features"
   ]
  },
  {
   "cell_type": "markdown",
   "metadata": {
    "papermill": {
     "duration": 0.068085,
     "end_time": "2020-12-11T20:31:00.159523",
     "exception": false,
     "start_time": "2020-12-11T20:31:00.091438",
     "status": "completed"
    },
    "tags": []
   },
   "source": [
    "Now write a loop to parse the annotated corpus using the oracle and collect the features in a matrix ($\\mathbf{X}$) and the transitions in a vector ($\\mathbf{y}$). "
   ]
  },
  {
   "cell_type": "markdown",
   "metadata": {
    "papermill": {
     "duration": 0.070894,
     "end_time": "2020-12-11T20:31:00.299480",
     "exception": false,
     "start_time": "2020-12-11T20:31:00.228586",
     "status": "completed"
    },
    "tags": []
   },
   "source": [
    "The first lines of your features for the 4 parameters ($\\mathbf{x}$) and labelled actions ($y$) should look like the excerpt below, where the columns correspond to stack0_POS, stack1_POS, stack0_word, stack1_word, queue0_POS, queue1_POS, queue0_word, queue1_word, can-re, can-la, and the transition value (`depth = 2`):\n",
    "$\\mathbf{X} =\n",
    "\\begin{bmatrix}\n",
    "\\text{nil}& \\text{nil} &\\text{nil} & \\text{nil} & \\text{ROOT} & \\text{ADJ} & \\text{ROOT} & \\text{Individuell} & \\text{False} & \\text{False}\\\\\n",
    "\\text{ROOT} &     \\text{nil} &     \\text{ROOT} &     \\text{nil} &     \\text{ADJ} &     \\text{NOUN} &     \\text{Individuell} &     \\text{beskattning} &     \\text{True} &     \\text{False}\\\\ \n",
    "\\text{ADJ} &     \\text{ROOT} &     \\text{Individuell} &     \\text{ROOT} &     \\text{NOUN} &     \\text{ADP} &     \\text{beskattning} &     \\text{av} &     \\text{False} &     \\text{True}\\\\ \n",
    "\\text{ROOT} &     \\text{nil} &     \\text{ROOT} &     \\text{nil} &     \\text{NOUN} &     \\text{ADP} &     \\text{beskattning} &     \\text{av} &     \\text{True} &     \\text{False}\\\\\n",
    "\\text{NOUN} &     \\text{ROOT} &     \\text{beskattning} &     \\text{ROOT} &     \\text{ADP} &     \\text{NOUN} &     \\text{av} &     \\text{arbetsinkomster} &     \\text{True} &     \\text{False}\\\\\n",
    "\\text{ADP} &     \\text{NOUN} &     \\text{av} &     \\text{beskattning} &     \\text{NOUN} &     \\text{nil} &     \\text{arbetsinkomster} &     \\text{nil} &     \\text{False} &     \\text{True}\\\\  \\text{NOUN} &     \\text{ROOT} &     \\text{beskattning} &     \\text{ROOT} &     \\text{NOUN} &     \\text{nil} &     \\text{arbetsinkomster} &     \\text{nil} &     \\text{True} &  \\text{False}\n",
    "\\end{bmatrix}$\n",
    "; $\\mathbf{y} =\n",
    "\\begin{bmatrix}\n",
    "\\text{sh}\\\\\n",
    "\\text{sh}\\\\\n",
    "\\text{la.amod}\\\\\n",
    "\\text{ra.root}\\\\\n",
    "\\text{sh}\\\\\n",
    "\\text{la.case}\\\\\n",
    "\\text{ra.nmod}\n",
    "\\end{bmatrix}$"
   ]
  },
  {
   "cell_type": "markdown",
   "metadata": {
    "papermill": {
     "duration": 0.069719,
     "end_time": "2020-12-11T20:31:00.440642",
     "exception": false,
     "start_time": "2020-12-11T20:31:00.370923",
     "status": "completed"
    },
    "tags": []
   },
   "source": [
    "You will store your matrix in a Python dictionary and the classes in a list"
   ]
  },
  {
   "cell_type": "code",
   "execution_count": 26,
   "metadata": {
    "execution": {
     "iopub.execute_input": "2020-12-11T20:31:00.583297Z",
     "iopub.status.busy": "2020-12-11T20:31:00.582535Z",
     "iopub.status.idle": "2020-12-11T20:31:00.585962Z",
     "shell.execute_reply": "2020-12-11T20:31:00.585255Z"
    },
    "papermill": {
     "duration": 0.076441,
     "end_time": "2020-12-11T20:31:00.586087",
     "exception": false,
     "start_time": "2020-12-11T20:31:00.509646",
     "status": "completed"
    },
    "tags": []
   },
   "outputs": [],
   "source": [
    "X_dict = []\n",
    "y_symbols = []"
   ]
  },
  {
   "cell_type": "code",
   "execution_count": 27,
   "metadata": {
    "execution": {
     "iopub.execute_input": "2020-12-11T20:31:00.753370Z",
     "iopub.status.busy": "2020-12-11T20:31:00.732604Z",
     "iopub.status.idle": "2020-12-11T20:31:04.466455Z",
     "shell.execute_reply": "2020-12-11T20:31:04.465729Z"
    },
    "papermill": {
     "duration": 3.811742,
     "end_time": "2020-12-11T20:31:04.466609",
     "exception": false,
     "start_time": "2020-12-11T20:31:00.654867",
     "status": "completed"
    },
    "tags": []
   },
   "outputs": [],
   "source": [
    "from tqdm import tqdm\n",
    "\n",
    "def extract_features(corpus):\n",
    "    feats = []\n",
    "    classes = []\n",
    "    for ind, sentence in enumerate(corpus):\n",
    "        \n",
    "        stack, queue, graph = init_config(sentence)\n",
    "        transition_sent = []\n",
    "        while queue:\n",
    "            feats.append(extract(depth, stack, queue, graph, sentence))\n",
    "            stack, queue, graph, trans = oracle(stack, queue, graph)\n",
    "            transition_sent.append(trans)\n",
    "        \n",
    "        classes += transition_sent\n",
    "        stack, graph = empty_stack(stack, graph)\n",
    "\n",
    "        if projectivization:\n",
    "            for word in sentence:\n",
    "                word['HEAD'] = graph['heads'][word['ID']]\n",
    "    return feats, classes\n",
    "\n",
    "X_dict, y_symbols = extract_features(formatted_corpus_train_clean)"
   ]
  },
  {
   "cell_type": "code",
   "execution_count": 28,
   "metadata": {
    "execution": {
     "iopub.execute_input": "2020-12-11T20:31:04.615913Z",
     "iopub.status.busy": "2020-12-11T20:31:04.614952Z",
     "iopub.status.idle": "2020-12-11T20:31:04.620078Z",
     "shell.execute_reply": "2020-12-11T20:31:04.619472Z"
    },
    "papermill": {
     "duration": 0.084305,
     "end_time": "2020-12-11T20:31:04.620208",
     "exception": false,
     "start_time": "2020-12-11T20:31:04.535903",
     "status": "completed"
    },
    "tags": []
   },
   "outputs": [
    {
     "data": {
      "text/plain": [
       "[{'feat0': 'nil',\n",
       "  'feat1': 'nil',\n",
       "  'feat2': 'nil',\n",
       "  'feat3': 'nil',\n",
       "  'feat4': 'root',\n",
       "  'feat5': 'ADJ',\n",
       "  'feat6': 'root',\n",
       "  'feat7': 'Individuell',\n",
       "  'feat8': 'nil',\n",
       "  'feat9': 'nil',\n",
       "  'feat10': 'nil',\n",
       "  'feat11': 'nil',\n",
       "  'feat12': False,\n",
       "  'feat13': False},\n",
       " {'feat0': 'root',\n",
       "  'feat1': 'nil',\n",
       "  'feat2': 'root',\n",
       "  'feat3': 'nil',\n",
       "  'feat4': 'ADJ',\n",
       "  'feat5': 'NOUN',\n",
       "  'feat6': 'Individuell',\n",
       "  'feat7': 'beskattning',\n",
       "  'feat8': 'ADJ',\n",
       "  'feat9': 'NOUN',\n",
       "  'feat10': 'Individuell',\n",
       "  'feat11': 'beskattning',\n",
       "  'feat12': True,\n",
       "  'feat13': False},\n",
       " {'feat0': 'ADJ',\n",
       "  'feat1': 'root',\n",
       "  'feat2': 'Individuell',\n",
       "  'feat3': 'root',\n",
       "  'feat4': 'NOUN',\n",
       "  'feat5': 'ADP',\n",
       "  'feat6': 'beskattning',\n",
       "  'feat7': 'av',\n",
       "  'feat8': 'NOUN',\n",
       "  'feat9': 'ADP',\n",
       "  'feat10': 'beskattning',\n",
       "  'feat11': 'av',\n",
       "  'feat12': False,\n",
       "  'feat13': True},\n",
       " {'feat0': 'root',\n",
       "  'feat1': 'nil',\n",
       "  'feat2': 'root',\n",
       "  'feat3': 'nil',\n",
       "  'feat4': 'NOUN',\n",
       "  'feat5': 'ADP',\n",
       "  'feat6': 'beskattning',\n",
       "  'feat7': 'av',\n",
       "  'feat8': 'ADJ',\n",
       "  'feat9': 'NOUN',\n",
       "  'feat10': 'Individuell',\n",
       "  'feat11': 'beskattning',\n",
       "  'feat12': True,\n",
       "  'feat13': False},\n",
       " {'feat0': 'NOUN',\n",
       "  'feat1': 'nil',\n",
       "  'feat2': 'beskattning',\n",
       "  'feat3': 'nil',\n",
       "  'feat4': 'ADP',\n",
       "  'feat5': 'NOUN',\n",
       "  'feat6': 'av',\n",
       "  'feat7': 'arbetsinkomster',\n",
       "  'feat8': 'ADP',\n",
       "  'feat9': 'NOUN',\n",
       "  'feat10': 'av',\n",
       "  'feat11': 'arbetsinkomster',\n",
       "  'feat12': True,\n",
       "  'feat13': False},\n",
       " {'feat0': 'ADP',\n",
       "  'feat1': 'NOUN',\n",
       "  'feat2': 'av',\n",
       "  'feat3': 'beskattning',\n",
       "  'feat4': 'NOUN',\n",
       "  'feat5': 'nil',\n",
       "  'feat6': 'arbetsinkomster',\n",
       "  'feat7': 'nil',\n",
       "  'feat8': 'NOUN',\n",
       "  'feat9': 'nil',\n",
       "  'feat10': 'arbetsinkomster',\n",
       "  'feat11': 'nil',\n",
       "  'feat12': False,\n",
       "  'feat13': True},\n",
       " {'feat0': 'NOUN',\n",
       "  'feat1': 'nil',\n",
       "  'feat2': 'beskattning',\n",
       "  'feat3': 'nil',\n",
       "  'feat4': 'NOUN',\n",
       "  'feat5': 'nil',\n",
       "  'feat6': 'arbetsinkomster',\n",
       "  'feat7': 'nil',\n",
       "  'feat8': 'ADP',\n",
       "  'feat9': 'NOUN',\n",
       "  'feat10': 'av',\n",
       "  'feat11': 'arbetsinkomster',\n",
       "  'feat12': True,\n",
       "  'feat13': False}]"
      ]
     },
     "execution_count": 28,
     "metadata": {},
     "output_type": "execute_result"
    }
   ],
   "source": [
    "X_dict[:7]"
   ]
  },
  {
   "cell_type": "code",
   "execution_count": 29,
   "metadata": {
    "execution": {
     "iopub.execute_input": "2020-12-11T20:31:04.764879Z",
     "iopub.status.busy": "2020-12-11T20:31:04.763755Z",
     "iopub.status.idle": "2020-12-11T20:31:04.768269Z",
     "shell.execute_reply": "2020-12-11T20:31:04.767662Z"
    },
    "papermill": {
     "duration": 0.079015,
     "end_time": "2020-12-11T20:31:04.768430",
     "exception": false,
     "start_time": "2020-12-11T20:31:04.689415",
     "status": "completed"
    },
    "tags": []
   },
   "outputs": [
    {
     "data": {
      "text/plain": [
       "['sh', 'sh', 'la.amod', 'ra.root', 'sh', 'la.case', 'ra.nmod']"
      ]
     },
     "execution_count": 29,
     "metadata": {},
     "output_type": "execute_result"
    }
   ],
   "source": [
    "y_symbols[:7]"
   ]
  },
  {
   "cell_type": "markdown",
   "metadata": {
    "papermill": {
     "duration": 0.069775,
     "end_time": "2020-12-11T20:31:04.909073",
     "exception": false,
     "start_time": "2020-12-11T20:31:04.839298",
     "status": "completed"
    },
    "tags": []
   },
   "source": [
    "### Fitting the models"
   ]
  },
  {
   "cell_type": "markdown",
   "metadata": {
    "papermill": {
     "duration": 0.071773,
     "end_time": "2020-12-11T20:31:05.051762",
     "exception": false,
     "start_time": "2020-12-11T20:31:04.979989",
     "status": "completed"
    },
    "tags": []
   },
   "source": [
    "Generate the two scikit-learn models using the code models from the chunking labs."
   ]
  },
  {
   "cell_type": "markdown",
   "metadata": {
    "papermill": {
     "duration": 0.069289,
     "end_time": "2020-12-11T20:31:05.192890",
     "exception": false,
     "start_time": "2020-12-11T20:31:05.123601",
     "status": "completed"
    },
    "tags": []
   },
   "source": [
    "Vectorize your `X_dict` into an `X` matrix using `DictVectorizer()`"
   ]
  },
  {
   "cell_type": "code",
   "execution_count": 30,
   "metadata": {
    "execution": {
     "iopub.execute_input": "2020-12-11T20:31:05.345008Z",
     "iopub.status.busy": "2020-12-11T20:31:05.343834Z",
     "iopub.status.idle": "2020-12-11T20:31:06.865763Z",
     "shell.execute_reply": "2020-12-11T20:31:06.864904Z"
    },
    "papermill": {
     "duration": 1.600099,
     "end_time": "2020-12-11T20:31:06.865900",
     "exception": false,
     "start_time": "2020-12-11T20:31:05.265801",
     "status": "completed"
    },
    "tags": []
   },
   "outputs": [],
   "source": [
    "from sklearn.feature_extraction import DictVectorizer\n",
    "from sklearn import svm\n",
    "from sklearn import linear_model\n",
    "from sklearn import metrics\n",
    "from sklearn import tree\n",
    "from sklearn.preprocessing import MultiLabelBinarizer"
   ]
  },
  {
   "cell_type": "code",
   "execution_count": 31,
   "metadata": {
    "execution": {
     "iopub.execute_input": "2020-12-11T20:31:07.062159Z",
     "iopub.status.busy": "2020-12-11T20:31:07.035791Z",
     "iopub.status.idle": "2020-12-11T20:31:10.779231Z",
     "shell.execute_reply": "2020-12-11T20:31:10.778534Z"
    },
    "papermill": {
     "duration": 3.842622,
     "end_time": "2020-12-11T20:31:10.779406",
     "exception": false,
     "start_time": "2020-12-11T20:31:06.936784",
     "status": "completed"
    },
    "tags": []
   },
   "outputs": [],
   "source": [
    "vec = DictVectorizer()\n",
    "X = vec.fit_transform(X_dict)"
   ]
  },
  {
   "cell_type": "markdown",
   "metadata": {
    "papermill": {
     "duration": 0.072466,
     "end_time": "2020-12-11T20:31:10.929388",
     "exception": false,
     "start_time": "2020-12-11T20:31:10.856922",
     "status": "completed"
    },
    "tags": []
   },
   "source": [
    "Fit the model. With sklearn, you can use `y_symbols` directly. Use `verbose=True` and `n_jobs=8` or more."
   ]
  },
  {
   "cell_type": "code",
   "execution_count": 32,
   "metadata": {
    "execution": {
     "iopub.execute_input": "2020-12-11T20:31:11.083978Z",
     "iopub.status.busy": "2020-12-11T20:31:11.083163Z",
     "iopub.status.idle": "2020-12-11T20:34:35.464546Z",
     "shell.execute_reply": "2020-12-11T20:34:35.465198Z"
    },
    "papermill": {
     "duration": 204.460737,
     "end_time": "2020-12-11T20:34:35.465396",
     "exception": false,
     "start_time": "2020-12-11T20:31:11.004659",
     "status": "completed"
    },
    "tags": []
   },
   "outputs": [
    {
     "name": "stderr",
     "output_type": "stream",
     "text": [
      "[Parallel(n_jobs=16)]: Using backend LokyBackend with 16 concurrent workers.\n",
      "[Parallel(n_jobs=16)]: Done   1 out of   1 | elapsed:  3.4min finished\n"
     ]
    }
   ],
   "source": [
    "classifier = linear_model.LogisticRegression(verbose=True, n_jobs=16)\n",
    "model = classifier.fit(X, y_symbols)"
   ]
  },
  {
   "cell_type": "markdown",
   "metadata": {
    "papermill": {
     "duration": 0.071958,
     "end_time": "2020-12-11T20:34:35.609794",
     "exception": false,
     "start_time": "2020-12-11T20:34:35.537836",
     "status": "completed"
    },
    "tags": []
   },
   "source": [
    "## Prediction"
   ]
  },
  {
   "cell_type": "markdown",
   "metadata": {
    "papermill": {
     "duration": 0.070893,
     "end_time": "2020-12-11T20:34:35.752510",
     "exception": false,
     "start_time": "2020-12-11T20:34:35.681617",
     "status": "completed"
    },
    "tags": []
   },
   "source": [
    "Now use this model to predict the sentences in the test corpus"
   ]
  },
  {
   "cell_type": "code",
   "execution_count": 33,
   "metadata": {
    "execution": {
     "iopub.execute_input": "2020-12-11T20:34:35.902365Z",
     "iopub.status.busy": "2020-12-11T20:34:35.901598Z",
     "iopub.status.idle": "2020-12-11T20:34:36.036526Z",
     "shell.execute_reply": "2020-12-11T20:34:36.035741Z"
    },
    "papermill": {
     "duration": 0.21274,
     "end_time": "2020-12-11T20:34:36.036668",
     "exception": false,
     "start_time": "2020-12-11T20:34:35.823928",
     "status": "completed"
    },
    "tags": []
   },
   "outputs": [
    {
     "data": {
      "text/plain": [
       "[{'ID': '0',\n",
       "  'FORM': 'root',\n",
       "  'LEMMA': 'root',\n",
       "  'UPOS': 'root',\n",
       "  'XPOS': 'root',\n",
       "  'FEATS': 'root',\n",
       "  'HEAD': '0',\n",
       "  'DEPREL': 'root',\n",
       "  'DEPS': 'root',\n",
       "  'MISC': 'root'},\n",
       " {'ID': '1',\n",
       "  'FORM': 'Den',\n",
       "  'LEMMA': 'en',\n",
       "  'UPOS': 'DET',\n",
       "  'XPOS': 'DT|UTR|SIN|DEF',\n",
       "  'FEATS': 'Definite=Def|Gender=Com|Number=Sing|PronType=Art',\n",
       "  'HEAD': '3',\n",
       "  'DEPREL': 'det',\n",
       "  'DEPS': '3:det',\n",
       "  'MISC': '_'},\n",
       " {'ID': '2',\n",
       "  'FORM': 'allmänna',\n",
       "  'LEMMA': 'allmän',\n",
       "  'UPOS': 'ADJ',\n",
       "  'XPOS': 'JJ|POS|UTR/NEU|SIN|DEF|NOM',\n",
       "  'FEATS': 'Case=Nom|Definite=Def|Degree=Pos|Number=Sing',\n",
       "  'HEAD': '3',\n",
       "  'DEPREL': 'amod',\n",
       "  'DEPS': '3:amod',\n",
       "  'MISC': '_'},\n",
       " {'ID': '3',\n",
       "  'FORM': 'pensionen',\n",
       "  'LEMMA': 'pension',\n",
       "  'UPOS': 'NOUN',\n",
       "  'XPOS': 'NN|UTR|SIN|DEF|NOM',\n",
       "  'FEATS': 'Case=Nom|Definite=Def|Gender=Com|Number=Sing',\n",
       "  'HEAD': '7',\n",
       "  'DEPREL': 'nsubj',\n",
       "  'DEPS': '7:nsubj',\n",
       "  'MISC': '_'},\n",
       " {'ID': '4',\n",
       "  'FORM': 'är',\n",
       "  'LEMMA': 'vara',\n",
       "  'UPOS': 'AUX',\n",
       "  'XPOS': 'VB|PRS|AKT',\n",
       "  'FEATS': 'Mood=Ind|Tense=Pres|VerbForm=Fin|Voice=Act',\n",
       "  'HEAD': '7',\n",
       "  'DEPREL': 'cop',\n",
       "  'DEPS': '7:cop',\n",
       "  'MISC': '_'},\n",
       " {'ID': '5',\n",
       "  'FORM': 'av',\n",
       "  'LEMMA': 'av',\n",
       "  'UPOS': 'ADP',\n",
       "  'XPOS': 'PP',\n",
       "  'FEATS': '_',\n",
       "  'HEAD': '7',\n",
       "  'DEPREL': 'case',\n",
       "  'DEPS': '7:case',\n",
       "  'MISC': '_'},\n",
       " {'ID': '6',\n",
       "  'FORM': 'två',\n",
       "  'LEMMA': 'två',\n",
       "  'UPOS': 'NUM',\n",
       "  'XPOS': 'RG|NOM',\n",
       "  'FEATS': 'Case=Nom|NumType=Card',\n",
       "  'HEAD': '7',\n",
       "  'DEPREL': 'nummod',\n",
       "  'DEPS': '7:nummod',\n",
       "  'MISC': '_'},\n",
       " {'ID': '7',\n",
       "  'FORM': 'slag',\n",
       "  'LEMMA': 'slag',\n",
       "  'UPOS': 'NOUN',\n",
       "  'XPOS': 'NN|NEU|PLU|IND|NOM',\n",
       "  'FEATS': 'Case=Nom|Definite=Ind|Gender=Neut|Number=Plur',\n",
       "  'HEAD': '0',\n",
       "  'DEPREL': 'root',\n",
       "  'DEPS': '0:root',\n",
       "  'MISC': 'SpaceAfter=No'},\n",
       " {'ID': '8',\n",
       "  'FORM': ':',\n",
       "  'LEMMA': ':',\n",
       "  'UPOS': 'PUNCT',\n",
       "  'XPOS': 'MID',\n",
       "  'FEATS': '_',\n",
       "  'HEAD': '7',\n",
       "  'DEPREL': 'punct',\n",
       "  'DEPS': '7:punct',\n",
       "  'MISC': '_'},\n",
       " {'ID': '9',\n",
       "  'FORM': 'folkpension',\n",
       "  'LEMMA': 'folkpension',\n",
       "  'UPOS': 'NOUN',\n",
       "  'XPOS': 'NN|UTR|SIN|IND|NOM',\n",
       "  'FEATS': 'Case=Nom|Definite=Ind|Gender=Com|Number=Sing',\n",
       "  'HEAD': '7',\n",
       "  'DEPREL': 'appos',\n",
       "  'DEPS': '7:appos',\n",
       "  'MISC': '_'},\n",
       " {'ID': '10',\n",
       "  'FORM': 'och',\n",
       "  'LEMMA': 'och',\n",
       "  'UPOS': 'CCONJ',\n",
       "  'XPOS': 'KN',\n",
       "  'FEATS': '_',\n",
       "  'HEAD': '11',\n",
       "  'DEPREL': 'cc',\n",
       "  'DEPS': '11:cc',\n",
       "  'MISC': '_'},\n",
       " {'ID': '11',\n",
       "  'FORM': 'tilläggspension',\n",
       "  'LEMMA': 'tilläggspension',\n",
       "  'UPOS': 'NOUN',\n",
       "  'XPOS': 'NN|UTR|SIN|IND|NOM',\n",
       "  'FEATS': 'Case=Nom|Definite=Ind|Gender=Com|Number=Sing',\n",
       "  'HEAD': '9',\n",
       "  'DEPREL': 'conj',\n",
       "  'DEPS': '7:appos|9:conj:och',\n",
       "  'MISC': '_'},\n",
       " {'ID': '12',\n",
       "  'FORM': '(',\n",
       "  'LEMMA': '(',\n",
       "  'UPOS': 'PUNCT',\n",
       "  'XPOS': 'PAD',\n",
       "  'FEATS': '_',\n",
       "  'HEAD': '11',\n",
       "  'DEPREL': 'punct',\n",
       "  'DEPS': '11:punct',\n",
       "  'MISC': 'SpaceAfter=No'},\n",
       " {'ID': '13',\n",
       "  'FORM': 'ATP',\n",
       "  'LEMMA': 'ATP',\n",
       "  'UPOS': 'PROPN',\n",
       "  'XPOS': 'PM|NOM',\n",
       "  'FEATS': 'Case=Nom',\n",
       "  'HEAD': '11',\n",
       "  'DEPREL': 'appos',\n",
       "  'DEPS': '11:appos',\n",
       "  'MISC': 'SpaceAfter=No'},\n",
       " {'ID': '14',\n",
       "  'FORM': ')',\n",
       "  'LEMMA': ')',\n",
       "  'UPOS': 'PUNCT',\n",
       "  'XPOS': 'PAD',\n",
       "  'FEATS': '_',\n",
       "  'HEAD': '11',\n",
       "  'DEPREL': 'punct',\n",
       "  'DEPS': '11:punct',\n",
       "  'MISC': 'SpaceAfter=No'},\n",
       " {'ID': '15',\n",
       "  'FORM': '.',\n",
       "  'LEMMA': '.',\n",
       "  'UPOS': 'PUNCT',\n",
       "  'XPOS': 'MAD',\n",
       "  'FEATS': '_',\n",
       "  'HEAD': '7',\n",
       "  'DEPREL': 'punct',\n",
       "  'DEPS': '7:punct',\n",
       "  'MISC': '_'}]"
      ]
     },
     "execution_count": 33,
     "metadata": {},
     "output_type": "execute_result"
    }
   ],
   "source": [
    "sentences_test = read_sentences(path_sv_test)\n",
    "formatted_corpus_test = split_rows(sentences_test, column_names_u)\n",
    "formatted_corpus_test_clean = clean_indicies(formatted_corpus_test)\n",
    "formatted_corpus_test_clean[0]"
   ]
  },
  {
   "cell_type": "code",
   "execution_count": 34,
   "metadata": {
    "execution": {
     "iopub.execute_input": "2020-12-11T20:34:36.200787Z",
     "iopub.status.busy": "2020-12-11T20:34:36.199908Z",
     "iopub.status.idle": "2020-12-11T20:34:36.204049Z",
     "shell.execute_reply": "2020-12-11T20:34:36.203417Z"
    },
    "papermill": {
     "duration": 0.09117,
     "end_time": "2020-12-11T20:34:36.204186",
     "exception": false,
     "start_time": "2020-12-11T20:34:36.113016",
     "status": "completed"
    },
    "tags": []
   },
   "outputs": [],
   "source": [
    "def apply_transition(stack, queue, graph, trans):\n",
    "    if stack and trans[:2] == 'ra':\n",
    "        stack, queue, graph = right_arc(stack, queue, graph, trans[3:])\n",
    "        return stack, queue, graph, 'ra'\n",
    "    if stack and can_leftarc(stack, graph) and trans[:2] == 'la':\n",
    "        if trans[3:] == 'root' and exists_root(graph):\n",
    "            stack, queue, graph = shift(stack, queue, graph)\n",
    "            return stack, queue, graph, 'sh'\n",
    "        else:\n",
    "            stack, queue, graph = left_arc(stack, queue, graph, trans[3:])\n",
    "            return stack, queue, graph, 'la'\n",
    "    if stack and can_reduce(stack, graph) and trans == 're':\n",
    "        stack, queue, graph = reduce(stack, queue, graph)\n",
    "        return stack, queue, graph, 're'\n",
    "    stack, queue, graph = shift(stack, queue, graph)\n",
    "    return stack, queue, graph, 'sh'"
   ]
  },
  {
   "cell_type": "code",
   "execution_count": 35,
   "metadata": {
    "execution": {
     "iopub.execute_input": "2020-12-11T20:34:36.364071Z",
     "iopub.status.busy": "2020-12-11T20:34:36.363069Z",
     "iopub.status.idle": "2020-12-11T20:50:45.036826Z",
     "shell.execute_reply": "2020-12-11T20:50:45.037612Z"
    },
    "papermill": {
     "duration": 968.759967,
     "end_time": "2020-12-11T20:50:45.037815",
     "exception": false,
     "start_time": "2020-12-11T20:34:36.277848",
     "status": "completed"
    },
    "tags": []
   },
   "outputs": [
    {
     "name": "stderr",
     "output_type": "stream",
     "text": [
      "1219it [16:08,  1.26it/s]\n"
     ]
    }
   ],
   "source": [
    "from tqdm import tqdm\n",
    "\n",
    "for sent_cnt, sentence in tqdm(enumerate(formatted_corpus_test_clean)):\n",
    "    X_test_dict = []\n",
    "    stack, queue, graph = init_config(sentence)\n",
    "    while queue:\n",
    "        X_test_dict = extract(depth, stack, queue, graph, sentence)\n",
    "        X_test = vec.transform(X_test_dict)\n",
    "        y_test = classifier.predict(X_test)[0]\n",
    "        stack, queue, graph, trans = apply_transition(stack, queue, graph, y_test)\n",
    "    stack, graph = empty_stack(stack, graph)\n",
    "    for word in sentence:\n",
    "        word['HEAD'] = graph['heads'][word['ID']]\n",
    "        word['DEPREL'] = graph['deprels'][word['ID']]"
   ]
  },
  {
   "cell_type": "code",
   "execution_count": 36,
   "metadata": {
    "execution": {
     "iopub.execute_input": "2020-12-11T20:50:46.174605Z",
     "iopub.status.busy": "2020-12-11T20:50:46.173710Z",
     "iopub.status.idle": "2020-12-11T20:50:46.179218Z",
     "shell.execute_reply": "2020-12-11T20:50:46.178421Z"
    },
    "papermill": {
     "duration": 0.585169,
     "end_time": "2020-12-11T20:50:46.179372",
     "exception": false,
     "start_time": "2020-12-11T20:50:45.594203",
     "status": "completed"
    },
    "tags": []
   },
   "outputs": [
    {
     "data": {
      "text/plain": [
       "[{'ID': '0',\n",
       "  'FORM': 'root',\n",
       "  'LEMMA': 'root',\n",
       "  'UPOS': 'root',\n",
       "  'XPOS': 'root',\n",
       "  'FEATS': 'root',\n",
       "  'HEAD': '0',\n",
       "  'DEPREL': 'ROOT',\n",
       "  'DEPS': 'root',\n",
       "  'MISC': 'root'},\n",
       " {'ID': '1',\n",
       "  'FORM': 'Den',\n",
       "  'LEMMA': 'en',\n",
       "  'UPOS': 'DET',\n",
       "  'XPOS': 'DT|UTR|SIN|DEF',\n",
       "  'FEATS': 'Definite=Def|Gender=Com|Number=Sing|PronType=Art',\n",
       "  'HEAD': '3',\n",
       "  'DEPREL': 'det',\n",
       "  'DEPS': '3:det',\n",
       "  'MISC': '_'},\n",
       " {'ID': '2',\n",
       "  'FORM': 'allmänna',\n",
       "  'LEMMA': 'allmän',\n",
       "  'UPOS': 'ADJ',\n",
       "  'XPOS': 'JJ|POS|UTR/NEU|SIN|DEF|NOM',\n",
       "  'FEATS': 'Case=Nom|Definite=Def|Degree=Pos|Number=Sing',\n",
       "  'HEAD': '3',\n",
       "  'DEPREL': 'amod',\n",
       "  'DEPS': '3:amod',\n",
       "  'MISC': '_'},\n",
       " {'ID': '3',\n",
       "  'FORM': 'pensionen',\n",
       "  'LEMMA': 'pension',\n",
       "  'UPOS': 'NOUN',\n",
       "  'XPOS': 'NN|UTR|SIN|DEF|NOM',\n",
       "  'FEATS': 'Case=Nom|Definite=Def|Gender=Com|Number=Sing',\n",
       "  'HEAD': '7',\n",
       "  'DEPREL': 'nsubj',\n",
       "  'DEPS': '7:nsubj',\n",
       "  'MISC': '_'},\n",
       " {'ID': '4',\n",
       "  'FORM': 'är',\n",
       "  'LEMMA': 'vara',\n",
       "  'UPOS': 'AUX',\n",
       "  'XPOS': 'VB|PRS|AKT',\n",
       "  'FEATS': 'Mood=Ind|Tense=Pres|VerbForm=Fin|Voice=Act',\n",
       "  'HEAD': '7',\n",
       "  'DEPREL': 'cop',\n",
       "  'DEPS': '7:cop',\n",
       "  'MISC': '_'},\n",
       " {'ID': '5',\n",
       "  'FORM': 'av',\n",
       "  'LEMMA': 'av',\n",
       "  'UPOS': 'ADP',\n",
       "  'XPOS': 'PP',\n",
       "  'FEATS': '_',\n",
       "  'HEAD': '7',\n",
       "  'DEPREL': 'case',\n",
       "  'DEPS': '7:case',\n",
       "  'MISC': '_'},\n",
       " {'ID': '6',\n",
       "  'FORM': 'två',\n",
       "  'LEMMA': 'två',\n",
       "  'UPOS': 'NUM',\n",
       "  'XPOS': 'RG|NOM',\n",
       "  'FEATS': 'Case=Nom|NumType=Card',\n",
       "  'HEAD': '7',\n",
       "  'DEPREL': 'nummod',\n",
       "  'DEPS': '7:nummod',\n",
       "  'MISC': '_'},\n",
       " {'ID': '7',\n",
       "  'FORM': 'slag',\n",
       "  'LEMMA': 'slag',\n",
       "  'UPOS': 'NOUN',\n",
       "  'XPOS': 'NN|NEU|PLU|IND|NOM',\n",
       "  'FEATS': 'Case=Nom|Definite=Ind|Gender=Neut|Number=Plur',\n",
       "  'HEAD': '0',\n",
       "  'DEPREL': 'root',\n",
       "  'DEPS': '0:root',\n",
       "  'MISC': 'SpaceAfter=No'},\n",
       " {'ID': '8',\n",
       "  'FORM': ':',\n",
       "  'LEMMA': ':',\n",
       "  'UPOS': 'PUNCT',\n",
       "  'XPOS': 'MID',\n",
       "  'FEATS': '_',\n",
       "  'HEAD': '7',\n",
       "  'DEPREL': 'punct',\n",
       "  'DEPS': '7:punct',\n",
       "  'MISC': '_'},\n",
       " {'ID': '9',\n",
       "  'FORM': 'folkpension',\n",
       "  'LEMMA': 'folkpension',\n",
       "  'UPOS': 'NOUN',\n",
       "  'XPOS': 'NN|UTR|SIN|IND|NOM',\n",
       "  'FEATS': 'Case=Nom|Definite=Ind|Gender=Com|Number=Sing',\n",
       "  'HEAD': '7',\n",
       "  'DEPREL': 'appos',\n",
       "  'DEPS': '7:appos',\n",
       "  'MISC': '_'},\n",
       " {'ID': '10',\n",
       "  'FORM': 'och',\n",
       "  'LEMMA': 'och',\n",
       "  'UPOS': 'CCONJ',\n",
       "  'XPOS': 'KN',\n",
       "  'FEATS': '_',\n",
       "  'HEAD': '11',\n",
       "  'DEPREL': 'cc',\n",
       "  'DEPS': '11:cc',\n",
       "  'MISC': '_'},\n",
       " {'ID': '11',\n",
       "  'FORM': 'tilläggspension',\n",
       "  'LEMMA': 'tilläggspension',\n",
       "  'UPOS': 'NOUN',\n",
       "  'XPOS': 'NN|UTR|SIN|IND|NOM',\n",
       "  'FEATS': 'Case=Nom|Definite=Ind|Gender=Com|Number=Sing',\n",
       "  'HEAD': '7',\n",
       "  'DEPREL': 'appos',\n",
       "  'DEPS': '7:appos|9:conj:och',\n",
       "  'MISC': '_'},\n",
       " {'ID': '12',\n",
       "  'FORM': '(',\n",
       "  'LEMMA': '(',\n",
       "  'UPOS': 'PUNCT',\n",
       "  'XPOS': 'PAD',\n",
       "  'FEATS': '_',\n",
       "  'HEAD': '7',\n",
       "  'DEPREL': 'punct',\n",
       "  'DEPS': '11:punct',\n",
       "  'MISC': 'SpaceAfter=No'},\n",
       " {'ID': '13',\n",
       "  'FORM': 'ATP',\n",
       "  'LEMMA': 'ATP',\n",
       "  'UPOS': 'PROPN',\n",
       "  'XPOS': 'PM|NOM',\n",
       "  'FEATS': 'Case=Nom',\n",
       "  'HEAD': '7',\n",
       "  'DEPREL': 'appos',\n",
       "  'DEPS': '11:appos',\n",
       "  'MISC': 'SpaceAfter=No'},\n",
       " {'ID': '14',\n",
       "  'FORM': ')',\n",
       "  'LEMMA': ')',\n",
       "  'UPOS': 'PUNCT',\n",
       "  'XPOS': 'PAD',\n",
       "  'FEATS': '_',\n",
       "  'HEAD': '7',\n",
       "  'DEPREL': 'punct',\n",
       "  'DEPS': '11:punct',\n",
       "  'MISC': 'SpaceAfter=No'},\n",
       " {'ID': '15',\n",
       "  'FORM': '.',\n",
       "  'LEMMA': '.',\n",
       "  'UPOS': 'PUNCT',\n",
       "  'XPOS': 'MAD',\n",
       "  'FEATS': '_',\n",
       "  'HEAD': '7',\n",
       "  'DEPREL': 'punct',\n",
       "  'DEPS': '7:punct',\n",
       "  'MISC': '_'}]"
      ]
     },
     "execution_count": 36,
     "metadata": {},
     "output_type": "execute_result"
    }
   ],
   "source": [
    "formatted_corpus_test_clean[0]"
   ]
  },
  {
   "cell_type": "code",
   "execution_count": 37,
   "metadata": {
    "execution": {
     "iopub.execute_input": "2020-12-11T20:50:47.317605Z",
     "iopub.status.busy": "2020-12-11T20:50:47.316565Z",
     "iopub.status.idle": "2020-12-11T20:50:47.321807Z",
     "shell.execute_reply": "2020-12-11T20:50:47.321060Z"
    },
    "papermill": {
     "duration": 0.587635,
     "end_time": "2020-12-11T20:50:47.321944",
     "exception": false,
     "start_time": "2020-12-11T20:50:46.734309",
     "status": "completed"
    },
    "tags": []
   },
   "outputs": [
    {
     "data": {
      "text/plain": [
       "[{'ID': '0',\n",
       "  'FORM': 'root',\n",
       "  'LEMMA': 'root',\n",
       "  'UPOS': 'root',\n",
       "  'XPOS': 'root',\n",
       "  'FEATS': 'root',\n",
       "  'HEAD': '0',\n",
       "  'DEPREL': 'ROOT',\n",
       "  'DEPS': 'root',\n",
       "  'MISC': 'root'},\n",
       " {'ID': '1',\n",
       "  'FORM': 'Den',\n",
       "  'LEMMA': 'en',\n",
       "  'UPOS': 'DET',\n",
       "  'XPOS': 'DT|UTR|SIN|DEF',\n",
       "  'FEATS': 'Definite=Def|Gender=Com|Number=Sing|PronType=Art',\n",
       "  'HEAD': '3',\n",
       "  'DEPREL': 'det',\n",
       "  'DEPS': '3:det',\n",
       "  'MISC': '_'},\n",
       " {'ID': '2',\n",
       "  'FORM': 'allmänna',\n",
       "  'LEMMA': 'allmän',\n",
       "  'UPOS': 'ADJ',\n",
       "  'XPOS': 'JJ|POS|UTR/NEU|SIN|DEF|NOM',\n",
       "  'FEATS': 'Case=Nom|Definite=Def|Degree=Pos|Number=Sing',\n",
       "  'HEAD': '3',\n",
       "  'DEPREL': 'amod',\n",
       "  'DEPS': '3:amod',\n",
       "  'MISC': '_'},\n",
       " {'ID': '3',\n",
       "  'FORM': 'pensionen',\n",
       "  'LEMMA': 'pension',\n",
       "  'UPOS': 'NOUN',\n",
       "  'XPOS': 'NN|UTR|SIN|DEF|NOM',\n",
       "  'FEATS': 'Case=Nom|Definite=Def|Gender=Com|Number=Sing',\n",
       "  'HEAD': '7',\n",
       "  'DEPREL': 'nsubj',\n",
       "  'DEPS': '7:nsubj',\n",
       "  'MISC': '_'},\n",
       " {'ID': '4',\n",
       "  'FORM': 'är',\n",
       "  'LEMMA': 'vara',\n",
       "  'UPOS': 'AUX',\n",
       "  'XPOS': 'VB|PRS|AKT',\n",
       "  'FEATS': 'Mood=Ind|Tense=Pres|VerbForm=Fin|Voice=Act',\n",
       "  'HEAD': '7',\n",
       "  'DEPREL': 'cop',\n",
       "  'DEPS': '7:cop',\n",
       "  'MISC': '_'},\n",
       " {'ID': '5',\n",
       "  'FORM': 'av',\n",
       "  'LEMMA': 'av',\n",
       "  'UPOS': 'ADP',\n",
       "  'XPOS': 'PP',\n",
       "  'FEATS': '_',\n",
       "  'HEAD': '7',\n",
       "  'DEPREL': 'case',\n",
       "  'DEPS': '7:case',\n",
       "  'MISC': '_'},\n",
       " {'ID': '6',\n",
       "  'FORM': 'två',\n",
       "  'LEMMA': 'två',\n",
       "  'UPOS': 'NUM',\n",
       "  'XPOS': 'RG|NOM',\n",
       "  'FEATS': 'Case=Nom|NumType=Card',\n",
       "  'HEAD': '7',\n",
       "  'DEPREL': 'nummod',\n",
       "  'DEPS': '7:nummod',\n",
       "  'MISC': '_'},\n",
       " {'ID': '7',\n",
       "  'FORM': 'slag',\n",
       "  'LEMMA': 'slag',\n",
       "  'UPOS': 'NOUN',\n",
       "  'XPOS': 'NN|NEU|PLU|IND|NOM',\n",
       "  'FEATS': 'Case=Nom|Definite=Ind|Gender=Neut|Number=Plur',\n",
       "  'HEAD': '0',\n",
       "  'DEPREL': 'root',\n",
       "  'DEPS': '0:root',\n",
       "  'MISC': 'SpaceAfter=No'},\n",
       " {'ID': '8',\n",
       "  'FORM': ':',\n",
       "  'LEMMA': ':',\n",
       "  'UPOS': 'PUNCT',\n",
       "  'XPOS': 'MID',\n",
       "  'FEATS': '_',\n",
       "  'HEAD': '7',\n",
       "  'DEPREL': 'punct',\n",
       "  'DEPS': '7:punct',\n",
       "  'MISC': '_'},\n",
       " {'ID': '9',\n",
       "  'FORM': 'folkpension',\n",
       "  'LEMMA': 'folkpension',\n",
       "  'UPOS': 'NOUN',\n",
       "  'XPOS': 'NN|UTR|SIN|IND|NOM',\n",
       "  'FEATS': 'Case=Nom|Definite=Ind|Gender=Com|Number=Sing',\n",
       "  'HEAD': '7',\n",
       "  'DEPREL': 'appos',\n",
       "  'DEPS': '7:appos',\n",
       "  'MISC': '_'},\n",
       " {'ID': '10',\n",
       "  'FORM': 'och',\n",
       "  'LEMMA': 'och',\n",
       "  'UPOS': 'CCONJ',\n",
       "  'XPOS': 'KN',\n",
       "  'FEATS': '_',\n",
       "  'HEAD': '11',\n",
       "  'DEPREL': 'cc',\n",
       "  'DEPS': '11:cc',\n",
       "  'MISC': '_'},\n",
       " {'ID': '11',\n",
       "  'FORM': 'tilläggspension',\n",
       "  'LEMMA': 'tilläggspension',\n",
       "  'UPOS': 'NOUN',\n",
       "  'XPOS': 'NN|UTR|SIN|IND|NOM',\n",
       "  'FEATS': 'Case=Nom|Definite=Ind|Gender=Com|Number=Sing',\n",
       "  'HEAD': '7',\n",
       "  'DEPREL': 'appos',\n",
       "  'DEPS': '7:appos|9:conj:och',\n",
       "  'MISC': '_'},\n",
       " {'ID': '12',\n",
       "  'FORM': '(',\n",
       "  'LEMMA': '(',\n",
       "  'UPOS': 'PUNCT',\n",
       "  'XPOS': 'PAD',\n",
       "  'FEATS': '_',\n",
       "  'HEAD': '7',\n",
       "  'DEPREL': 'punct',\n",
       "  'DEPS': '11:punct',\n",
       "  'MISC': 'SpaceAfter=No'},\n",
       " {'ID': '13',\n",
       "  'FORM': 'ATP',\n",
       "  'LEMMA': 'ATP',\n",
       "  'UPOS': 'PROPN',\n",
       "  'XPOS': 'PM|NOM',\n",
       "  'FEATS': 'Case=Nom',\n",
       "  'HEAD': '7',\n",
       "  'DEPREL': 'appos',\n",
       "  'DEPS': '11:appos',\n",
       "  'MISC': 'SpaceAfter=No'},\n",
       " {'ID': '14',\n",
       "  'FORM': ')',\n",
       "  'LEMMA': ')',\n",
       "  'UPOS': 'PUNCT',\n",
       "  'XPOS': 'PAD',\n",
       "  'FEATS': '_',\n",
       "  'HEAD': '7',\n",
       "  'DEPREL': 'punct',\n",
       "  'DEPS': '11:punct',\n",
       "  'MISC': 'SpaceAfter=No'},\n",
       " {'ID': '15',\n",
       "  'FORM': '.',\n",
       "  'LEMMA': '.',\n",
       "  'UPOS': 'PUNCT',\n",
       "  'XPOS': 'MAD',\n",
       "  'FEATS': '_',\n",
       "  'HEAD': '7',\n",
       "  'DEPREL': 'punct',\n",
       "  'DEPS': '7:punct',\n",
       "  'MISC': '_'}]"
      ]
     },
     "execution_count": 37,
     "metadata": {},
     "output_type": "execute_result"
    }
   ],
   "source": [
    "formatted_corpus_test[0]"
   ]
  },
  {
   "cell_type": "code",
   "execution_count": 38,
   "metadata": {
    "execution": {
     "iopub.execute_input": "2020-12-11T20:50:48.507284Z",
     "iopub.status.busy": "2020-12-11T20:50:48.506008Z",
     "iopub.status.idle": "2020-12-11T20:50:48.512710Z",
     "shell.execute_reply": "2020-12-11T20:50:48.511923Z"
    },
    "papermill": {
     "duration": 0.63841,
     "end_time": "2020-12-11T20:50:48.512871",
     "exception": false,
     "start_time": "2020-12-11T20:50:47.874461",
     "status": "completed"
    },
    "tags": []
   },
   "outputs": [
    {
     "data": {
      "text/plain": [
       "1219"
      ]
     },
     "execution_count": 38,
     "metadata": {},
     "output_type": "execute_result"
    }
   ],
   "source": [
    "len(formatted_corpus_test_clean)"
   ]
  },
  {
   "cell_type": "code",
   "execution_count": 39,
   "metadata": {
    "execution": {
     "iopub.execute_input": "2020-12-11T20:50:49.710409Z",
     "iopub.status.busy": "2020-12-11T20:50:49.709251Z",
     "iopub.status.idle": "2020-12-11T20:50:49.713537Z",
     "shell.execute_reply": "2020-12-11T20:50:49.712736Z"
    },
    "papermill": {
     "duration": 0.587982,
     "end_time": "2020-12-11T20:50:49.713675",
     "exception": false,
     "start_time": "2020-12-11T20:50:49.125693",
     "status": "completed"
    },
    "tags": []
   },
   "outputs": [],
   "source": [
    "def save(file, formatted_corpus, column_names):\n",
    "    f_out = open(file, 'w', encoding='utf-8')\n",
    "    for sentence in formatted_corpus:\n",
    "        for row in sentence[1:]:\n",
    "            # print(row, flush=True)\n",
    "            for col in column_names[:-1]:\n",
    "                if col in row:\n",
    "                    f_out.write(row[col] + '\\t')\n",
    "                else:\n",
    "                    f_out.write('_\\t')\n",
    "            col = column_names[-1]\n",
    "            if col in row:\n",
    "                f_out.write(row[col] + '\\n')\n",
    "            else:\n",
    "                f_out.write('_\\n')\n",
    "        f_out.write('\\n')\n",
    "    #f_out.write('\\n')\n",
    "    f_out.close()"
   ]
  },
  {
   "cell_type": "code",
   "execution_count": 40,
   "metadata": {
    "execution": {
     "iopub.execute_input": "2020-12-11T20:50:50.882211Z",
     "iopub.status.busy": "2020-12-11T20:50:50.879126Z",
     "iopub.status.idle": "2020-12-11T20:50:50.988823Z",
     "shell.execute_reply": "2020-12-11T20:50:50.987995Z"
    },
    "papermill": {
     "duration": 0.681456,
     "end_time": "2020-12-11T20:50:50.988965",
     "exception": false,
     "start_time": "2020-12-11T20:50:50.307509",
     "status": "completed"
    },
    "tags": []
   },
   "outputs": [],
   "source": [
    "out_file_name = 'out_sys'\n",
    "save(out_file_name, formatted_corpus_test_clean, column_names_u)"
   ]
  },
  {
   "cell_type": "markdown",
   "metadata": {
    "papermill": {
     "duration": 0.553337,
     "end_time": "2020-12-11T20:50:52.147504",
     "exception": false,
     "start_time": "2020-12-11T20:50:51.594167",
     "status": "completed"
    },
    "tags": []
   },
   "source": [
    "### Evaluation"
   ]
  },
  {
   "cell_type": "markdown",
   "metadata": {
    "papermill": {
     "duration": 0.556551,
     "end_time": "2020-12-11T20:50:53.264447",
     "exception": false,
     "start_time": "2020-12-11T20:50:52.707896",
     "status": "completed"
    },
    "tags": []
   },
   "source": [
    "1. Once you have parsed the test set, you will measure the accuracy of your parser using the CoNLL evaluation script available here: http://universaldependencies.org/conll18/evaluation.html. Download it.\n",
    "2. You will run the evaluation in the cell below. Be sure to have the Python program in your folder.\n",
    "2. You will report your best score. You need to reach a _labelled attachment score_ (LAS) of 0.67 to pass this lab."
   ]
  },
  {
   "cell_type": "code",
   "execution_count": 41,
   "metadata": {
    "execution": {
     "iopub.execute_input": "2020-12-11T20:50:54.367979Z",
     "iopub.status.busy": "2020-12-11T20:50:54.367129Z",
     "iopub.status.idle": "2020-12-11T20:50:54.460125Z",
     "shell.execute_reply": "2020-12-11T20:50:54.459490Z"
    },
    "papermill": {
     "duration": 0.646355,
     "end_time": "2020-12-11T20:50:54.460261",
     "exception": false,
     "start_time": "2020-12-11T20:50:53.813906",
     "status": "completed"
    },
    "tags": []
   },
   "outputs": [
    {
     "ename": "ModuleNotFoundError",
     "evalue": "No module named 'conll18_ud_eval'",
     "output_type": "error",
     "traceback": [
      "\u001b[0;31m---------------------------------------------------------------------------\u001b[0m",
      "\u001b[0;31mModuleNotFoundError\u001b[0m                       Traceback (most recent call last)",
      "\u001b[0;32m<ipython-input-41-f314cb018365>\u001b[0m in \u001b[0;36m<module>\u001b[0;34m\u001b[0m\n\u001b[0;32m----> 1\u001b[0;31m \u001b[0;32mimport\u001b[0m \u001b[0mconll18_ud_eval\u001b[0m\u001b[0;34m\u001b[0m\u001b[0;34m\u001b[0m\u001b[0m\n\u001b[0m\u001b[1;32m      2\u001b[0m \u001b[0msystem_ud_file\u001b[0m \u001b[0;34m=\u001b[0m \u001b[0mopen\u001b[0m\u001b[0;34m(\u001b[0m\u001b[0mout_file_name\u001b[0m\u001b[0;34m,\u001b[0m \u001b[0mencoding\u001b[0m\u001b[0;34m=\u001b[0m\u001b[0;34m'utf-8'\u001b[0m\u001b[0;34m)\u001b[0m\u001b[0;34m\u001b[0m\u001b[0;34m\u001b[0m\u001b[0m\n\u001b[1;32m      3\u001b[0m \u001b[0msystem_ud\u001b[0m \u001b[0;34m=\u001b[0m \u001b[0mconll18_ud_eval\u001b[0m\u001b[0;34m.\u001b[0m\u001b[0mload_conllu\u001b[0m\u001b[0;34m(\u001b[0m\u001b[0msystem_ud_file\u001b[0m\u001b[0;34m)\u001b[0m\u001b[0;34m\u001b[0m\u001b[0;34m\u001b[0m\u001b[0m\n\u001b[1;32m      4\u001b[0m \u001b[0;34m\u001b[0m\u001b[0m\n\u001b[1;32m      5\u001b[0m \u001b[0mgold_ud_file\u001b[0m \u001b[0;34m=\u001b[0m \u001b[0mopen\u001b[0m\u001b[0;34m(\u001b[0m\u001b[0mpath_sv_test\u001b[0m\u001b[0;34m,\u001b[0m \u001b[0mencoding\u001b[0m\u001b[0;34m=\u001b[0m\u001b[0;34m'utf-8'\u001b[0m\u001b[0;34m)\u001b[0m\u001b[0;34m\u001b[0m\u001b[0;34m\u001b[0m\u001b[0m\n",
      "\u001b[0;31mModuleNotFoundError\u001b[0m: No module named 'conll18_ud_eval'"
     ]
    }
   ],
   "source": [
    "import conll18_ud_eval\n",
    "system_ud_file = open(out_file_name, encoding='utf-8')\n",
    "system_ud = conll18_ud_eval.load_conllu(system_ud_file)\n",
    "\n",
    "gold_ud_file = open(path_sv_test, encoding='utf-8')\n",
    "gold_ud = conll18_ud_eval.load_conllu(gold_ud_file)\n",
    "\n",
    "las = conll18_ud_eval.evaluate(gold_ud, system_ud)['LAS'].f1\n",
    "las"
   ]
  },
  {
   "cell_type": "markdown",
   "metadata": {
    "papermill": {
     "duration": 0.549391,
     "end_time": "2020-12-11T20:50:55.555420",
     "exception": false,
     "start_time": "2020-12-11T20:50:55.006029",
     "status": "completed"
    },
    "tags": []
   },
   "source": [
    "Should you want to run the script in other experiments, just execute: `python conll18_ud_eval.py gold_file system_file`"
   ]
  },
  {
   "cell_type": "markdown",
   "metadata": {
    "papermill": {
     "duration": 0.562127,
     "end_time": "2020-12-11T20:50:56.679185",
     "exception": false,
     "start_time": "2020-12-11T20:50:56.117058",
     "status": "completed"
    },
    "tags": []
   },
   "source": [
    "### Reading"
   ]
  },
  {
   "cell_type": "markdown",
   "metadata": {
    "papermill": {
     "duration": 0.552964,
     "end_time": "2020-12-11T20:50:57.787982",
     "exception": false,
     "start_time": "2020-12-11T20:50:57.235018",
     "status": "completed"
    },
    "tags": []
   },
   "source": [
    "Read the article: _Globally Normalized Transition-Based Neural Networks_ by Andor and al. (2016) [<a href=\"https://www.aclweb.org/anthology/P16-1231\">pdf</a>] and write in a few sentences how it relates to your work in this assignment.</p>"
   ]
  }
 ],
 "metadata": {
  "kernelspec": {
   "display_name": "Python 3",
   "language": "python",
   "name": "python3"
  },
  "language_info": {
   "codemirror_mode": {
    "name": "ipython",
    "version": 3
   },
   "file_extension": ".py",
   "mimetype": "text/x-python",
   "name": "python",
   "nbconvert_exporter": "python",
   "pygments_lexer": "ipython3",
   "version": "3.7.6"
  },
  "papermill": {
   "duration": 1214.84878,
   "end_time": "2020-12-11T20:50:58.453379",
   "environment_variables": {},
   "exception": null,
   "input_path": "__notebook__.ipynb",
   "output_path": "__notebook__.ipynb",
   "parameters": {},
   "start_time": "2020-12-11T20:30:43.604599",
   "version": "2.1.0"
  }
 },
 "nbformat": 4,
 "nbformat_minor": 4
}
