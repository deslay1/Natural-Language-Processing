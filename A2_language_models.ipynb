{
 "cells": [
  {
   "cell_type": "markdown",
   "metadata": {
    "papermill": {
     "duration": 0.077972,
     "end_time": "2020-09-25T19:40:55.115517",
     "exception": false,
     "start_time": "2020-09-25T19:40:55.037545",
     "status": "completed"
    },
    "tags": []
   },
   "source": [
    "# Assignment #2: Language models"
   ]
  },
  {
   "cell_type": "markdown",
   "metadata": {
    "papermill": {
     "duration": 0.075974,
     "end_time": "2020-09-25T19:40:55.268588",
     "exception": false,
     "start_time": "2020-09-25T19:40:55.192614",
     "status": "completed"
    },
    "tags": []
   },
   "source": [
    "## Objectives"
   ]
  },
  {
   "cell_type": "markdown",
   "metadata": {
    "papermill": {
     "duration": 0.076112,
     "end_time": "2020-09-25T19:40:55.420584",
     "exception": false,
     "start_time": "2020-09-25T19:40:55.344472",
     "status": "completed"
    },
    "tags": []
   },
   "source": [
    "The objectives of this assignment are to:\n",
    "* Write a program to find n-gram statistics\n",
    "* Compute the probability of a sentence\n",
    "* Know what a language model is\n",
    "* Write a short report of 1 to 2 pages on the assignment\n",
    "* Optionally read a short article on the importance of corpora\n"
   ]
  },
  {
   "cell_type": "markdown",
   "metadata": {
    "papermill": {
     "duration": 0.077984,
     "end_time": "2020-09-25T19:40:55.575549",
     "exception": false,
     "start_time": "2020-09-25T19:40:55.497565",
     "status": "completed"
    },
    "tags": []
   },
   "source": [
    "## Programming"
   ]
  },
  {
   "cell_type": "markdown",
   "metadata": {
    "papermill": {
     "duration": 0.076557,
     "end_time": "2020-09-25T19:40:55.727404",
     "exception": false,
     "start_time": "2020-09-25T19:40:55.650847",
     "status": "completed"
    },
    "tags": []
   },
   "source": [
    "### Imports"
   ]
  },
  {
   "cell_type": "markdown",
   "metadata": {
    "papermill": {
     "duration": 0.075093,
     "end_time": "2020-09-25T19:40:55.877751",
     "exception": false,
     "start_time": "2020-09-25T19:40:55.802658",
     "status": "completed"
    },
    "tags": []
   },
   "source": [
    "Some imports you may need. Add others as needed."
   ]
  },
  {
   "cell_type": "code",
   "execution_count": 1,
   "metadata": {
    "execution": {
     "iopub.execute_input": "2020-09-25T19:40:56.036070Z",
     "iopub.status.busy": "2020-09-25T19:40:56.035248Z",
     "iopub.status.idle": "2020-09-25T19:40:56.070520Z",
     "shell.execute_reply": "2020-09-25T19:40:56.069725Z"
    },
    "papermill": {
     "duration": 0.11764,
     "end_time": "2020-09-25T19:40:56.070680",
     "exception": false,
     "start_time": "2020-09-25T19:40:55.953040",
     "status": "completed"
    },
    "tags": []
   },
   "outputs": [],
   "source": [
    "import bz2\n",
    "import math\n",
    "import os\n",
    "import regex as re\n",
    "import requests\n",
    "import sys\n",
    "from zipfile import ZipFile"
   ]
  },
  {
   "cell_type": "markdown",
   "metadata": {
    "papermill": {
     "duration": 0.07778,
     "end_time": "2020-09-25T19:40:56.224799",
     "exception": false,
     "start_time": "2020-09-25T19:40:56.147019",
     "status": "completed"
    },
    "tags": []
   },
   "source": [
    "### Collecting and analyzing a corpus"
   ]
  },
  {
   "cell_type": "markdown",
   "metadata": {
    "papermill": {
     "duration": 0.07784,
     "end_time": "2020-09-25T19:40:56.381907",
     "exception": false,
     "start_time": "2020-09-25T19:40:56.304067",
     "status": "completed"
    },
    "tags": []
   },
   "source": [
    "Retrieve a corpus of novels by Selma Lagerl&ouml;f from this URL:\n",
    "<a href=\"https://github.com/pnugues/ilppp/blob/master/programs/corpus/Selma.txt\">\n",
    "    <tt>https://github.com/pnugues/ilppp/blob/master/programs/corpus/Selma.txt</tt>\n",
    "</a>. The text of these novels was extracted\n",
    "from <a href=\"https://litteraturbanken.se/forfattare/LagerlofS/titlar\">Lagerlöf arkivet</a> at\n",
    "<a href=\"https://litteraturbanken.se/\">Litteraturbanken</a>."
   ]
  },
  {
   "cell_type": "code",
   "execution_count": 2,
   "metadata": {
    "execution": {
     "iopub.execute_input": "2020-09-25T19:40:56.544016Z",
     "iopub.status.busy": "2020-09-25T19:40:56.543105Z",
     "iopub.status.idle": "2020-09-25T19:40:56.549896Z",
     "shell.execute_reply": "2020-09-25T19:40:56.548933Z"
    },
    "papermill": {
     "duration": 0.090004,
     "end_time": "2020-09-25T19:40:56.550045",
     "exception": false,
     "start_time": "2020-09-25T19:40:56.460041",
     "status": "completed"
    },
    "tags": []
   },
   "outputs": [
    {
     "name": "stdout",
     "output_type": "stream",
     "text": [
      "/kaggle/input/corpus/SelmaCorpus.txt\n"
     ]
    }
   ],
   "source": [
    "for dirname, _, filenames in os.walk('/kaggle/input'):\n",
    "    for filename in filenames:\n",
    "        print(os.path.join(dirname, filename))"
   ]
  },
  {
   "cell_type": "code",
   "execution_count": 3,
   "metadata": {
    "execution": {
     "iopub.execute_input": "2020-09-25T19:40:56.711403Z",
     "iopub.status.busy": "2020-09-25T19:40:56.710234Z",
     "iopub.status.idle": "2020-09-25T19:40:56.753573Z",
     "shell.execute_reply": "2020-09-25T19:40:56.752776Z"
    },
    "papermill": {
     "duration": 0.125871,
     "end_time": "2020-09-25T19:40:56.753704",
     "exception": false,
     "start_time": "2020-09-25T19:40:56.627833",
     "status": "completed"
    },
    "tags": []
   },
   "outputs": [],
   "source": [
    "corpus = open(\"/kaggle/input/corpus/SelmaCorpus.txt\",\"r\", encoding='utf-8').read()"
   ]
  },
  {
   "cell_type": "markdown",
   "metadata": {
    "papermill": {
     "duration": 0.075564,
     "end_time": "2020-09-25T19:40:56.905675",
     "exception": false,
     "start_time": "2020-09-25T19:40:56.830111",
     "status": "completed"
    },
    "tags": []
   },
   "source": [
    "Run the <a href=\"https://github.com/pnugues/ilppp/tree/master/programs/ch02/python\">concordance\n",
    "program </a> to print the lines containing a specific word, for instance <i>Nils</i>."
   ]
  },
  {
   "cell_type": "code",
   "execution_count": 4,
   "metadata": {
    "execution": {
     "iopub.execute_input": "2020-09-25T19:40:57.068243Z",
     "iopub.status.busy": "2020-09-25T19:40:57.067244Z",
     "iopub.status.idle": "2020-09-25T19:40:57.069911Z",
     "shell.execute_reply": "2020-09-25T19:40:57.070510Z"
    },
    "papermill": {
     "duration": 0.088212,
     "end_time": "2020-09-25T19:40:57.070669",
     "exception": false,
     "start_time": "2020-09-25T19:40:56.982457",
     "status": "completed"
    },
    "tags": []
   },
   "outputs": [],
   "source": [
    "pattern = 'Nils Holgersson'\n",
    "width = 25"
   ]
  },
  {
   "cell_type": "code",
   "execution_count": 5,
   "metadata": {
    "execution": {
     "iopub.execute_input": "2020-09-25T19:40:57.256866Z",
     "iopub.status.busy": "2020-09-25T19:40:57.255798Z",
     "iopub.status.idle": "2020-09-25T19:40:58.035595Z",
     "shell.execute_reply": "2020-09-25T19:40:58.034806Z"
    },
    "papermill": {
     "duration": 0.886858,
     "end_time": "2020-09-25T19:40:58.035764",
     "exception": false,
     "start_time": "2020-09-25T19:40:57.148906",
     "status": "completed"
    },
    "tags": []
   },
   "outputs": [
    {
     "name": "stdout",
     "output_type": "stream",
     "text": [
      "Selma Lagerlöf Nils Holgerssons underbara resa genom Sv\n",
      "! Se på Tummetott! Se på Nils Holgersson Tummetott!» Genast vände\n",
      "r,» sade han. »Jag heter Nils Holgersson och är son till en husma\n",
      "lden. »Inte är det värt, Nils Holgersson, att du är ängslig eller\n",
      " i dem. På den tiden, då Nils Holgersson drog omkring med vildgäs\n",
      "ulle allt visa honom vad Nils Holgersson från Västra Vemmenhög va\n",
      "om ägde rum det året, då Nils Holgersson for omkring med vildgäss\n",
      "m vad det kan kosta dem. Nils Holgersson hade inte haft förstånd \n",
      "de det inte mer sägas om Nils Holgersson, att han inte tyckte om \n",
      " Rosenbom?» För där stod Nils Holgersson mitt uppe på Rosenboms n\n",
      " Med ens fingo de syn på Nils Holgersson, och då sköt den store v\n",
      "vila. När vildgässen och Nils Holgersson äntligen hade letat sig \n",
      " slags arbetare. Men vad Nils Holgersson inte såg, det var, att s\n",
      "nde han fråga, och om då Nils Holgersson sade nej, började han ge\n",
      "de lille Mats, och om nu Nils Holgersson också hade tegat, så had\n",
      "åg så försmädlig ut, att Nils Holgersson kastade sig över honom f\n",
      " brodern. Och inte ville Nils Holgersson slåss med en tös, utan h\n",
      "örkar. På den tiden, när Nils Holgersson for omkring med vildgäss\n",
      " ryckte omkull honom. Om Nils Holgersson genast hade ropat på hjä\n",
      "u reda dig på egen hand, Nils Holgersson,» sade han då till sig s\n",
      "r satte Fumle-Drumle ner Nils Holgersson på bottnen av en sandgro\n",
      "mlingarna. – »Jo, jag är Nils Holgersson från Västra Vemmenhög, s\n",
      "rakten. På den tiden, då Nils Holgersson for omkring med vildgäss\n",
      "Jo, det står – Det står: Nils Holgersson fr. V. Vemmenhög.» »Det \n",
      "visan 1 Sveriges karta 2 Nils Holgerssons underbara resa genom Sv\n",
      "admalsvåden 233 ________ Nils Holgerssons underbara resa genom Sv\n",
      "R. Tolv år ungefär innan Nils Holgersson hade börjat resa omkring\n",
      "och leta efter föda, men Nils Holgersson hade på morgonen tappat \n",
      "ill i Närke det året, då Nils Holgersson for fram över landskapet\n",
      "hade flyttat tassen över Nils Holgerssons ansikte, så att den sta\n",
      "29 april. Denna dag fick Nils Holgersson se södra Dalarna. Vildgä\n",
      "rliga sjön. Det året, då Nils Holgersson for med vildgässen genom\n",
      "t skänka upptäckten till Nils Holgersson. Det var ju både det tro\n",
      " som sången varade, stod Nils Holgersson och lyssnade till den, m\n",
      "ova på en vassrugge. Vad Nils Holgersson angår, så var han för hu\n",
      "e svårt för en sådan som Nils Holgersson att finna en farkost. Ha\n",
      "r de hade kommit mittför Nils Holgersson, slogo de sig ner på ett\n",
      " 5 maj. På den tiden, då Nils Holgersson drog genom landet med vi\n",
      "an vara bra lycklig. Att Nils Holgersson, som för ett par timmar \n",
      " afton. Och således hade Nils Holgersson fått se studenterna, när\n",
      "nger under marschen. Men Nils Holgersson hade tyckt, att det inte\n",
      "och glädja så som dessa. Nils Holgersson hade mest sett på studen\n",
      "m, stannade han. »Jag är Nils Holgersson från Västra Vemmenhög,» \n",
      " Ett par år före det, då Nils Holgersson drog omkring med vildgäs\n",
      " detsamma fattade han om Nils Holgersson med sin stora fot, höjde\n",
      "t ingen mer än den lilla Nils Holgersson, som följde henne. Solen\n",
      " voro klädda med is, och Nils Holgersson ville följa henne dit in\n",
      "t Lappland är mitt!» Men Nils Holgersson hade blivit så ängslig, \n",
      " över klippväggarna, och Nils Holgersson kunde förstå, att det va\n",
      " SJUKDOMEN. Det året, då Nils Holgersson for omkring med vildgäss\n",
      "jligt att undgå den. Vad Nils Holgersson beträffar, så hade han h\n",
      "hade hon slagit klorna i Nils Holgerssons skuldra och hackade eft\n",
      "g, att just det året, då Nils Holgersson for omkring med vildgäss\n",
      " lönt att vara bedrövad, Nils Holgersson,» sade solen. »Världen ä\n",
      "åga om han inte kunde ge Nils Holgersson bättre villkor. ’Det öns\n",
      "du vill,’ sade han. ’Med Nils Holgersson blir det ändå så, som ja\n",
      "a haft av honom. Ja, säg Nils Holgersson, att föräldrarna redan h\n",
      "Västergötland. Den lille Nils Holgersson hade krupit upp på en la\n",
      " honom sämre.» Den lille Nils Holgersson hade följt med barnen he\n",
      "e bara störa.» Då tyckte Nils Holgersson, att när ingen annan gjo\n",
      "n färdig att följa det.» Nils Holgersson sprang raskt neråt vägen\n",
      "rott mellan de unga. Vad Nils Holgersson beträffar, så hade han i\n",
      "on gav sig tid att se på Nils Holgersson, innan hon stötte till. \n",
      " ändå alldeles olik. Den Nils Holgersson, som hade farit bort i v\n",
      " tro det. Välkommen hem, Nils Holgersson, välkommen hem! Det här \n",
      "mig här på gården,» sade Nils Holgersson. »Min egen mor tror, att\n",
      "on riktig sjukdom,» sade Nils Holgersson. »Jag får försöka ställa\n",
      "in kniv här på din hov?» Nils Holgersson var nätt och jämnt färdi\n",
      "sslingen, som var så lik Nils Holgersson, att om det inte var han\n",
      "pojken fanns i närheten. Nils Holgersson hörde honom nog, men han\n",
      "ottrar ihop ett tack för Nils Holgersson? Vad skulle det ha blivi\n"
     ]
    }
   ],
   "source": [
    "# spaces match tabs and newlines\n",
    "pattern = re.sub(' ', '\\\\s+', pattern)\n",
    "# Replaces newlines with spaces in the text\n",
    "clean_corpus = re.sub('\\s+', ' ', corpus)\n",
    "concordance = ('(.{{0,{width}}}{pattern}.{{0,{width}}})'\n",
    "               .format(pattern=pattern, width=width))\n",
    "for match in re.finditer(concordance, clean_corpus):\n",
    "    print(match.group(1))\n",
    "# print the string with 0..width characters on either side"
   ]
  },
  {
   "cell_type": "markdown",
   "metadata": {
    "papermill": {
     "duration": 0.076551,
     "end_time": "2020-09-25T19:40:58.190922",
     "exception": false,
     "start_time": "2020-09-25T19:40:58.114371",
     "status": "completed"
    },
    "tags": []
   },
   "source": [
    "Run a simple <a href=\"https://github.com/pnugues/ilppp/tree/master/programs/ch05/python\">tokenization\n",
    "program</a> on your corpus."
   ]
  },
  {
   "cell_type": "code",
   "execution_count": 6,
   "metadata": {
    "execution": {
     "iopub.execute_input": "2020-09-25T19:40:58.354106Z",
     "iopub.status.busy": "2020-09-25T19:40:58.353226Z",
     "iopub.status.idle": "2020-09-25T19:40:58.355779Z",
     "shell.execute_reply": "2020-09-25T19:40:58.356360Z"
    },
    "papermill": {
     "duration": 0.08637,
     "end_time": "2020-09-25T19:40:58.356523",
     "exception": false,
     "start_time": "2020-09-25T19:40:58.270153",
     "status": "completed"
    },
    "tags": []
   },
   "outputs": [],
   "source": [
    "def tokenize(text):\n",
    "    words = re.findall('\\p{L}+', text)\n",
    "    return words"
   ]
  },
  {
   "cell_type": "code",
   "execution_count": 7,
   "metadata": {
    "execution": {
     "iopub.execute_input": "2020-09-25T19:40:58.523266Z",
     "iopub.status.busy": "2020-09-25T19:40:58.522130Z",
     "iopub.status.idle": "2020-09-25T19:40:59.155070Z",
     "shell.execute_reply": "2020-09-25T19:40:59.154482Z"
    },
    "papermill": {
     "duration": 0.721153,
     "end_time": "2020-09-25T19:40:59.155213",
     "exception": false,
     "start_time": "2020-09-25T19:40:58.434060",
     "status": "completed"
    },
    "tags": []
   },
   "outputs": [
    {
     "data": {
      "text/plain": [
       "['Selma',\n",
       " 'Lagerlöf',\n",
       " 'Nils',\n",
       " 'Holgerssons',\n",
       " 'underbara',\n",
       " 'resa',\n",
       " 'genom',\n",
       " 'Sverige',\n",
       " 'Första',\n",
       " 'bandet']"
      ]
     },
     "execution_count": 7,
     "metadata": {},
     "output_type": "execute_result"
    }
   ],
   "source": [
    "words = tokenize(corpus)\n",
    "words[:10]"
   ]
  },
  {
   "cell_type": "markdown",
   "metadata": {
    "papermill": {
     "duration": 0.078082,
     "end_time": "2020-09-25T19:40:59.312217",
     "exception": false,
     "start_time": "2020-09-25T19:40:59.234135",
     "status": "completed"
    },
    "tags": []
   },
   "source": [
    "Count the number of unique words in the original corpus and when setting all the words in lowercase"
   ]
  },
  {
   "cell_type": "markdown",
   "metadata": {
    "papermill": {
     "duration": 0.079123,
     "end_time": "2020-09-25T19:40:59.469002",
     "exception": false,
     "start_time": "2020-09-25T19:40:59.389879",
     "status": "completed"
    },
    "tags": []
   },
   "source": [
    "Original text"
   ]
  },
  {
   "cell_type": "code",
   "execution_count": 8,
   "metadata": {
    "execution": {
     "iopub.execute_input": "2020-09-25T19:40:59.725746Z",
     "iopub.status.busy": "2020-09-25T19:40:59.724731Z",
     "iopub.status.idle": "2020-09-25T19:40:59.729621Z",
     "shell.execute_reply": "2020-09-25T19:40:59.729003Z"
    },
    "papermill": {
     "duration": 0.181406,
     "end_time": "2020-09-25T19:40:59.729753",
     "exception": false,
     "start_time": "2020-09-25T19:40:59.548347",
     "status": "completed"
    },
    "tags": []
   },
   "outputs": [
    {
     "data": {
      "text/plain": [
       "44266"
      ]
     },
     "execution_count": 8,
     "metadata": {},
     "output_type": "execute_result"
    }
   ],
   "source": [
    "no_unique_words_orig = len(set(words))\n",
    "no_unique_words_orig"
   ]
  },
  {
   "cell_type": "markdown",
   "metadata": {
    "papermill": {
     "duration": 0.07931,
     "end_time": "2020-09-25T19:40:59.887270",
     "exception": false,
     "start_time": "2020-09-25T19:40:59.807960",
     "status": "completed"
    },
    "tags": []
   },
   "source": [
    "Lowercased text"
   ]
  },
  {
   "cell_type": "code",
   "execution_count": 9,
   "metadata": {
    "execution": {
     "iopub.execute_input": "2020-09-25T19:41:00.066470Z",
     "iopub.status.busy": "2020-09-25T19:41:00.061148Z",
     "iopub.status.idle": "2020-09-25T19:41:00.341038Z",
     "shell.execute_reply": "2020-09-25T19:41:00.340399Z"
    },
    "papermill": {
     "duration": 0.375462,
     "end_time": "2020-09-25T19:41:00.341169",
     "exception": false,
     "start_time": "2020-09-25T19:40:59.965707",
     "status": "completed"
    },
    "tags": []
   },
   "outputs": [
    {
     "data": {
      "text/plain": [
       "41041"
      ]
     },
     "execution_count": 9,
     "metadata": {},
     "output_type": "execute_result"
    }
   ],
   "source": [
    "lowered = [e.lower() for e in words]\n",
    "no_unique_words_low = len(set(lowered))\n",
    "no_unique_words_low"
   ]
  },
  {
   "cell_type": "markdown",
   "metadata": {
    "papermill": {
     "duration": 0.07989,
     "end_time": "2020-09-25T19:41:00.500559",
     "exception": false,
     "start_time": "2020-09-25T19:41:00.420669",
     "status": "completed"
    },
    "tags": []
   },
   "source": [
    "### Segmenting a corpus"
   ]
  },
  {
   "cell_type": "markdown",
   "metadata": {
    "papermill": {
     "duration": 0.087771,
     "end_time": "2020-09-25T19:41:00.667573",
     "exception": false,
     "start_time": "2020-09-25T19:41:00.579802",
     "status": "completed"
    },
    "tags": []
   },
   "source": [
    "You will write a program to tokenize your text, insert `<s>` and `</s>` tags to delimit sentences, and set all the words in lowercase letters. In the end, you will only keep the words."
   ]
  },
  {
   "cell_type": "markdown",
   "metadata": {
    "papermill": {
     "duration": 0.086188,
     "end_time": "2020-09-25T19:41:00.842895",
     "exception": false,
     "start_time": "2020-09-25T19:41:00.756707",
     "status": "completed"
    },
    "tags": []
   },
   "source": [
    "#### Normalizing "
   ]
  },
  {
   "cell_type": "markdown",
   "metadata": {
    "papermill": {
     "duration": 0.078805,
     "end_time": "2020-09-25T19:41:01.003911",
     "exception": false,
     "start_time": "2020-09-25T19:41:00.925106",
     "status": "completed"
    },
    "tags": []
   },
   "source": [
    "Write a regular expression that matches all the characters that are neither a letter nor a punctuation sign. The punctuations signs will be the followings: `.;:?!`. In your regex, use the same order. For the definition of a letter, use a Unicode regex. You will call the regex string `nonletter`"
   ]
  },
  {
   "cell_type": "code",
   "execution_count": 10,
   "metadata": {
    "execution": {
     "iopub.execute_input": "2020-09-25T19:41:01.171702Z",
     "iopub.status.busy": "2020-09-25T19:41:01.170934Z",
     "iopub.status.idle": "2020-09-25T19:41:01.174121Z",
     "shell.execute_reply": "2020-09-25T19:41:01.173393Z"
    },
    "papermill": {
     "duration": 0.087135,
     "end_time": "2020-09-25T19:41:01.174260",
     "exception": false,
     "start_time": "2020-09-25T19:41:01.087125",
     "status": "completed"
    },
    "tags": []
   },
   "outputs": [],
   "source": [
    "nonletter = '[^\\p{L}.;:?!]'"
   ]
  },
  {
   "cell_type": "markdown",
   "metadata": {
    "papermill": {
     "duration": 0.079043,
     "end_time": "2020-09-25T19:41:01.333633",
     "exception": false,
     "start_time": "2020-09-25T19:41:01.254590",
     "status": "completed"
    },
    "tags": []
   },
   "source": [
    "Write a `clean()` function that replaces all the characters that are neither a letter nor a punctuation sign with a space. The punctuations signs will be the followings: `.;:?!`.   For the sentence:\n",
    "\n",
    "_En gång hade de på Mårbacka en barnpiga, som hette Back-Kajsa._\n",
    "\n",
    "the result will be:\n",
    "\n",
    "`En gång hade de på Mårbacka en barnpiga som hette Back Kajsa.`"
   ]
  },
  {
   "cell_type": "code",
   "execution_count": 11,
   "metadata": {
    "execution": {
     "iopub.execute_input": "2020-09-25T19:41:01.500234Z",
     "iopub.status.busy": "2020-09-25T19:41:01.499159Z",
     "iopub.status.idle": "2020-09-25T19:41:01.502800Z",
     "shell.execute_reply": "2020-09-25T19:41:01.502003Z"
    },
    "papermill": {
     "duration": 0.089577,
     "end_time": "2020-09-25T19:41:01.502933",
     "exception": false,
     "start_time": "2020-09-25T19:41:01.413356",
     "status": "completed"
    },
    "tags": []
   },
   "outputs": [],
   "source": [
    "def clean(text):\n",
    "    return re.sub(nonletter, ' ', text)"
   ]
  },
  {
   "cell_type": "code",
   "execution_count": 12,
   "metadata": {
    "execution": {
     "iopub.execute_input": "2020-09-25T19:41:01.669080Z",
     "iopub.status.busy": "2020-09-25T19:41:01.668117Z",
     "iopub.status.idle": "2020-09-25T19:41:01.671219Z",
     "shell.execute_reply": "2020-09-25T19:41:01.670601Z"
    },
    "papermill": {
     "duration": 0.088671,
     "end_time": "2020-09-25T19:41:01.671344",
     "exception": false,
     "start_time": "2020-09-25T19:41:01.582673",
     "status": "completed"
    },
    "tags": []
   },
   "outputs": [],
   "source": [
    "test_para = 'En gång hade de på Mårbacka en barnpiga, som hette Back-Kajsa. \\\n",
    "Hon var nog sina tre alnar lång, hon hade ett stort, grovt ansikte med stränga, mörka drag, \\\n",
    "hennes händer voro hårda och fulla av sprickor, som barnens hår fastnade i, \\\n",
    "när hon kammade dem, och till humöret var hon dyster och sorgbunden.'"
   ]
  },
  {
   "cell_type": "code",
   "execution_count": 13,
   "metadata": {
    "execution": {
     "iopub.execute_input": "2020-09-25T19:41:01.838090Z",
     "iopub.status.busy": "2020-09-25T19:41:01.836985Z",
     "iopub.status.idle": "2020-09-25T19:41:01.842862Z",
     "shell.execute_reply": "2020-09-25T19:41:01.842267Z"
    },
    "papermill": {
     "duration": 0.090969,
     "end_time": "2020-09-25T19:41:01.842997",
     "exception": false,
     "start_time": "2020-09-25T19:41:01.752028",
     "status": "completed"
    },
    "tags": []
   },
   "outputs": [
    {
     "data": {
      "text/plain": [
       "'En gång hade de på Mårbacka en barnpiga  som hette Back Kajsa. Hon var nog sina tre alnar lång  hon hade ett stort  grovt ansikte med stränga  mörka drag  hennes händer voro hårda och fulla av sprickor  som barnens hår fastnade i  när hon kammade dem  och till humöret var hon dyster och sorgbunden.'"
      ]
     },
     "execution_count": 13,
     "metadata": {},
     "output_type": "execute_result"
    }
   ],
   "source": [
    "test_para = clean(test_para)\n",
    "test_para"
   ]
  },
  {
   "cell_type": "markdown",
   "metadata": {
    "papermill": {
     "duration": 0.080625,
     "end_time": "2020-09-25T19:41:02.003983",
     "exception": false,
     "start_time": "2020-09-25T19:41:01.923358",
     "status": "completed"
    },
    "tags": []
   },
   "source": [
    "#### Segmenter"
   ]
  },
  {
   "cell_type": "markdown",
   "metadata": {
    "papermill": {
     "duration": 0.129322,
     "end_time": "2020-09-25T19:41:02.215930",
     "exception": false,
     "start_time": "2020-09-25T19:41:02.086608",
     "status": "completed"
    },
    "tags": []
   },
   "source": [
    "In this section, you will write a sentence segmenter that will delimit each sentence with `</s>` and `<s>` symbols. For example the sentence:\n",
    "\n",
    "_En gång hade de på Mårbacka en barnpiga, som hette Back-Kajsa._\n",
    "\n",
    "will be bracketed as:\n",
    "\n",
    "`<s> En gång hade de på Mårbacka en barnpiga som hette Back-Kajsa </s>`\n",
    "\n",
    "As algorithm, you will use a simple heuristics to detect the sentence boundaries: A sentence starts with a capital letter and ends with a period-equivalent punctuation sign. You will write a regex to match these boundaries with a regular expression and you will insert `</s>\\n<s>` symbols with a substitution function."
   ]
  },
  {
   "cell_type": "markdown",
   "metadata": {
    "papermill": {
     "duration": 0.080012,
     "end_time": "2020-09-25T19:41:02.377006",
     "exception": false,
     "start_time": "2020-09-25T19:41:02.296994",
     "status": "completed"
    },
    "tags": []
   },
   "source": [
    "##### Detecting sentence boundaries"
   ]
  },
  {
   "cell_type": "markdown",
   "metadata": {
    "papermill": {
     "duration": 0.079952,
     "end_time": "2020-09-25T19:41:02.537225",
     "exception": false,
     "start_time": "2020-09-25T19:41:02.457273",
     "status": "completed"
    },
    "tags": []
   },
   "source": [
    "Write a regular expression that matches a punctuation, a sequence of spaces, and an uppercase letter. Call this regex string `sentence_boundaries`. In the regex, you will remember the value of the uppercase letter using a backreference. Use the Unicode regexes for the letters and the spaces."
   ]
  },
  {
   "cell_type": "code",
   "execution_count": 14,
   "metadata": {
    "execution": {
     "iopub.execute_input": "2020-09-25T19:41:02.705836Z",
     "iopub.status.busy": "2020-09-25T19:41:02.704892Z",
     "iopub.status.idle": "2020-09-25T19:41:02.709351Z",
     "shell.execute_reply": "2020-09-25T19:41:02.708584Z"
    },
    "papermill": {
     "duration": 0.091312,
     "end_time": "2020-09-25T19:41:02.709473",
     "exception": false,
     "start_time": "2020-09-25T19:41:02.618161",
     "status": "completed"
    },
    "tags": []
   },
   "outputs": [
    {
     "data": {
      "text/plain": [
       "[('.', ' ', 'H')]"
      ]
     },
     "execution_count": 14,
     "metadata": {},
     "output_type": "execute_result"
    }
   ],
   "source": [
    "sentence_boundaries = '([.;:?!])(\\s+)(\\p{Lu})'\n",
    "re.findall(sentence_boundaries, test_para)"
   ]
  },
  {
   "cell_type": "markdown",
   "metadata": {
    "papermill": {
     "duration": 0.080375,
     "end_time": "2020-09-25T19:41:02.870900",
     "exception": false,
     "start_time": "2020-09-25T19:41:02.790525",
     "status": "completed"
    },
    "tags": []
   },
   "source": [
    "##### Replacement markup"
   ]
  },
  {
   "cell_type": "markdown",
   "metadata": {
    "papermill": {
     "duration": 0.082479,
     "end_time": "2020-09-25T19:41:03.034411",
     "exception": false,
     "start_time": "2020-09-25T19:41:02.951932",
     "status": "completed"
    },
    "tags": []
   },
   "source": [
    "Write a string to replace the matched boundaries with the sentence boundary markup. Remember that a sentence ends with `</s>` and starts with `<s>` and that there is one sentence per line. Hint: The markup is `</s>\\n<s>`. Remember also that the first letter of your sentence is in a regex backreference. Call the regex string `sentence_markup`."
   ]
  },
  {
   "cell_type": "code",
   "execution_count": 15,
   "metadata": {
    "execution": {
     "iopub.execute_input": "2020-09-25T19:41:03.203786Z",
     "iopub.status.busy": "2020-09-25T19:41:03.202818Z",
     "iopub.status.idle": "2020-09-25T19:41:03.206013Z",
     "shell.execute_reply": "2020-09-25T19:41:03.205430Z"
    },
    "papermill": {
     "duration": 0.089022,
     "end_time": "2020-09-25T19:41:03.206148",
     "exception": false,
     "start_time": "2020-09-25T19:41:03.117126",
     "status": "completed"
    },
    "tags": []
   },
   "outputs": [],
   "source": [
    "sentence_markup = ' </s>\\n<s> \\g<3>'"
   ]
  },
  {
   "cell_type": "markdown",
   "metadata": {
    "papermill": {
     "duration": 0.081635,
     "end_time": "2020-09-25T19:41:03.369561",
     "exception": false,
     "start_time": "2020-09-25T19:41:03.287926",
     "status": "completed"
    },
    "tags": []
   },
   "source": [
    "##### Applying the substitution"
   ]
  },
  {
   "cell_type": "markdown",
   "metadata": {
    "papermill": {
     "duration": 0.080855,
     "end_time": "2020-09-25T19:41:03.531932",
     "exception": false,
     "start_time": "2020-09-25T19:41:03.451077",
     "status": "completed"
    },
    "tags": []
   },
   "source": [
    "Use your regexes to segment your text. Use the string `sentence_boundaries`, `sentence_markup`, and `test_para` as input and `text` as output."
   ]
  },
  {
   "cell_type": "code",
   "execution_count": 16,
   "metadata": {
    "execution": {
     "iopub.execute_input": "2020-09-25T19:41:03.701066Z",
     "iopub.status.busy": "2020-09-25T19:41:03.699793Z",
     "iopub.status.idle": "2020-09-25T19:41:03.703058Z",
     "shell.execute_reply": "2020-09-25T19:41:03.702457Z"
    },
    "papermill": {
     "duration": 0.090119,
     "end_time": "2020-09-25T19:41:03.703177",
     "exception": false,
     "start_time": "2020-09-25T19:41:03.613058",
     "status": "completed"
    },
    "tags": []
   },
   "outputs": [],
   "source": [
    "text = re.sub(sentence_boundaries, sentence_markup, test_para)"
   ]
  },
  {
   "cell_type": "code",
   "execution_count": 17,
   "metadata": {
    "execution": {
     "iopub.execute_input": "2020-09-25T19:41:03.872320Z",
     "iopub.status.busy": "2020-09-25T19:41:03.871372Z",
     "iopub.status.idle": "2020-09-25T19:41:03.875115Z",
     "shell.execute_reply": "2020-09-25T19:41:03.875930Z"
    },
    "papermill": {
     "duration": 0.090683,
     "end_time": "2020-09-25T19:41:03.876127",
     "exception": false,
     "start_time": "2020-09-25T19:41:03.785444",
     "status": "completed"
    },
    "tags": []
   },
   "outputs": [
    {
     "name": "stdout",
     "output_type": "stream",
     "text": [
      "En gång hade de på Mårbacka en barnpiga  som hette Back Kajsa </s>\n",
      "<s> Hon var nog sina tre alnar lång  hon hade ett stort  grovt ansikte med stränga  mörka drag  hennes händer voro hårda och fulla av sprickor  som barnens hår fastnade i  när hon kammade dem  och till humöret var hon dyster och sorgbunden.\n"
     ]
    }
   ],
   "source": [
    "print(text)"
   ]
  },
  {
   "cell_type": "markdown",
   "metadata": {
    "papermill": {
     "duration": 0.081732,
     "end_time": "2020-09-25T19:41:04.040245",
     "exception": false,
     "start_time": "2020-09-25T19:41:03.958513",
     "status": "completed"
    },
    "tags": []
   },
   "source": [
    "The output should look like this:\n",
    "\n",
    "`En gång hade de på Mårbacka en barnpiga, som hette Back-Kajsa </s>\n",
    "<s> Hon var nog sina tre alnar lång, hon hade ett stort, grovt ansikte med stränga, mörka drag, hennes händer voro hårda och fulla av sprickor, som barnens hår fastnade i, när hon kammade dem, och till humöret var hon dyster och sorgbunden.`"
   ]
  },
  {
   "cell_type": "markdown",
   "metadata": {
    "papermill": {
     "duration": 0.081441,
     "end_time": "2020-09-25T19:41:04.205030",
     "exception": false,
     "start_time": "2020-09-25T19:41:04.123589",
     "status": "completed"
    },
    "tags": []
   },
   "source": [
    "Insert markup codes in the beginning and end of the text"
   ]
  },
  {
   "cell_type": "code",
   "execution_count": 18,
   "metadata": {
    "execution": {
     "iopub.execute_input": "2020-09-25T19:41:04.376405Z",
     "iopub.status.busy": "2020-09-25T19:41:04.375600Z",
     "iopub.status.idle": "2020-09-25T19:41:04.379496Z",
     "shell.execute_reply": "2020-09-25T19:41:04.378754Z"
    },
    "papermill": {
     "duration": 0.091304,
     "end_time": "2020-09-25T19:41:04.379627",
     "exception": false,
     "start_time": "2020-09-25T19:41:04.288323",
     "status": "completed"
    },
    "tags": []
   },
   "outputs": [
    {
     "data": {
      "text/plain": [
       "'<s> En gång hade de på Mårbacka en barnpiga  som hette Back Kajsa </s>\\n<s> Hon var nog sina tre alnar lång  hon hade ett stort  grovt ansikte med stränga  mörka drag  hennes händer voro hårda och fulla av sprickor  som barnens hår fastnade i  när hon kammade dem  och till humöret var hon dyster och sorgbunden. </s>'"
      ]
     },
     "execution_count": 18,
     "metadata": {},
     "output_type": "execute_result"
    }
   ],
   "source": [
    "text = '<s> ' + text + \" </s>\"\n",
    "text"
   ]
  },
  {
   "cell_type": "markdown",
   "metadata": {
    "papermill": {
     "duration": 0.082618,
     "end_time": "2020-09-25T19:41:04.545530",
     "exception": false,
     "start_time": "2020-09-25T19:41:04.462912",
     "status": "completed"
    },
    "tags": []
   },
   "source": [
    "The output should look like this:\n",
    "\n",
    "`<s> En gång hade de på Mårbacka en barnpiga, som hette Back-Kajsa </s>\n",
    "<s> Hon var nog sina tre alnar lång, hon hade ett stort, grovt ansikte med stränga, mörka drag, hennes händer voro hårda och fulla av sprickor, som barnens hår fastnade i, när hon kammade dem, och till humöret var hon dyster och sorgbunden. </s>`"
   ]
  },
  {
   "cell_type": "markdown",
   "metadata": {
    "papermill": {
     "duration": 0.082027,
     "end_time": "2020-09-25T19:41:04.709595",
     "exception": false,
     "start_time": "2020-09-25T19:41:04.627568",
     "status": "completed"
    },
    "tags": []
   },
   "source": [
    "Replace the space duplicates with one space and remove the punctuation signs. For the spaces, use the Unicode regex."
   ]
  },
  {
   "cell_type": "code",
   "execution_count": 19,
   "metadata": {
    "execution": {
     "iopub.execute_input": "2020-09-25T19:41:04.909449Z",
     "iopub.status.busy": "2020-09-25T19:41:04.908506Z",
     "iopub.status.idle": "2020-09-25T19:41:04.912592Z",
     "shell.execute_reply": "2020-09-25T19:41:04.913133Z"
    },
    "papermill": {
     "duration": 0.119705,
     "end_time": "2020-09-25T19:41:04.913309",
     "exception": false,
     "start_time": "2020-09-25T19:41:04.793604",
     "status": "completed"
    },
    "tags": []
   },
   "outputs": [
    {
     "name": "stdout",
     "output_type": "stream",
     "text": [
      "<s> En gång hade de på Mårbacka en barnpiga som hette Back Kajsa </s>\n",
      "<s> Hon var nog sina tre alnar lång hon hade ett stort grovt ansikte med stränga mörka drag hennes händer voro hårda och fulla av sprickor som barnens hår fastnade i när hon kammade dem och till humöret var hon dyster och sorgbunden. </s>\n"
     ]
    }
   ],
   "source": [
    "text = re.sub('\\p{Zs}+', ' ', text)\n",
    "print(text)"
   ]
  },
  {
   "cell_type": "markdown",
   "metadata": {
    "papermill": {
     "duration": 0.083661,
     "end_time": "2020-09-25T19:41:05.080907",
     "exception": false,
     "start_time": "2020-09-25T19:41:04.997246",
     "status": "completed"
    },
    "tags": []
   },
   "source": [
    "The output should look like this:\n",
    "    \n",
    "`<s> En gång hade de på Mårbacka en barnpiga, som hette Back-Kajsa </s>\n",
    "<s> Hon var nog sina tre alnar lång, hon hade ett stort, grovt ansikte med stränga, mörka drag, hennes händer voro hårda och fulla av sprickor, som barnens hår fastnade i, när hon kammade dem, och till humöret var hon dyster och sorgbunden </s>`"
   ]
  },
  {
   "cell_type": "markdown",
   "metadata": {
    "papermill": {
     "duration": 0.08559,
     "end_time": "2020-09-25T19:41:05.250131",
     "exception": false,
     "start_time": "2020-09-25T19:41:05.164541",
     "status": "completed"
    },
    "tags": []
   },
   "source": [
    "Write a `segment_sentences(text)` function to gather the code in the Segmenter section and set the text in lowercase"
   ]
  },
  {
   "cell_type": "code",
   "execution_count": 20,
   "metadata": {
    "execution": {
     "iopub.execute_input": "2020-09-25T19:41:05.424394Z",
     "iopub.status.busy": "2020-09-25T19:41:05.423324Z",
     "iopub.status.idle": "2020-09-25T19:41:05.426727Z",
     "shell.execute_reply": "2020-09-25T19:41:05.426065Z"
    },
    "papermill": {
     "duration": 0.0931,
     "end_time": "2020-09-25T19:41:05.426848",
     "exception": false,
     "start_time": "2020-09-25T19:41:05.333748",
     "status": "completed"
    },
    "tags": []
   },
   "outputs": [],
   "source": [
    "def segment_sentences(text):\n",
    "    sentence_boundaries = '([.;:?!])(\\p{Zs}+)(\\p{Lu})'\n",
    "    sentence_markup = ' </s>\\n<s> \\g<3>'\n",
    "    separated_text = re.sub(sentence_boundaries, sentence_markup, text)\n",
    "    start_plus_end_text = '<s> ' + separated_text[:-1] + \" </s>\"\n",
    "    removed_space_duplicates = re.sub('\\p{Zs}+', ' ', start_plus_end_text)\n",
    "    return removed_space_duplicates.lower()"
   ]
  },
  {
   "cell_type": "code",
   "execution_count": 21,
   "metadata": {
    "execution": {
     "iopub.execute_input": "2020-09-25T19:41:05.603499Z",
     "iopub.status.busy": "2020-09-25T19:41:05.602425Z",
     "iopub.status.idle": "2020-09-25T19:41:05.606623Z",
     "shell.execute_reply": "2020-09-25T19:41:05.605913Z"
    },
    "papermill": {
     "duration": 0.093349,
     "end_time": "2020-09-25T19:41:05.606752",
     "exception": false,
     "start_time": "2020-09-25T19:41:05.513403",
     "status": "completed"
    },
    "tags": []
   },
   "outputs": [
    {
     "name": "stdout",
     "output_type": "stream",
     "text": [
      "<s> en gång hade de på mårbacka en barnpiga som hette back kajsa </s>\n",
      "<s> hon var nog sina tre alnar lång hon hade ett stort grovt ansikte med stränga mörka drag hennes händer voro hårda och fulla av sprickor som barnens hår fastnade i när hon kammade dem och till humöret var hon dyster och sorgbunden </s>\n"
     ]
    }
   ],
   "source": [
    "print(segment_sentences(test_para))"
   ]
  },
  {
   "cell_type": "markdown",
   "metadata": {
    "papermill": {
     "duration": 0.085229,
     "end_time": "2020-09-25T19:41:05.776152",
     "exception": false,
     "start_time": "2020-09-25T19:41:05.690923",
     "status": "completed"
    },
    "tags": []
   },
   "source": [
    "Estimate roughly the accuracy of your program."
   ]
  },
  {
   "cell_type": "markdown",
   "metadata": {
    "papermill": {
     "duration": 0.083481,
     "end_time": "2020-09-25T19:41:05.943838",
     "exception": false,
     "start_time": "2020-09-25T19:41:05.860357",
     "status": "completed"
    },
    "tags": []
   },
   "source": [
    "#### Tokenizing the corpus"
   ]
  },
  {
   "cell_type": "markdown",
   "metadata": {
    "papermill": {
     "duration": 0.085739,
     "end_time": "2020-09-25T19:41:06.114174",
     "exception": false,
     "start_time": "2020-09-25T19:41:06.028435",
     "status": "completed"
    },
    "tags": []
   },
   "source": [
    "Clean and segment the corpus"
   ]
  },
  {
   "cell_type": "code",
   "execution_count": 22,
   "metadata": {
    "execution": {
     "iopub.execute_input": "2020-09-25T19:41:06.288374Z",
     "iopub.status.busy": "2020-09-25T19:41:06.287573Z",
     "iopub.status.idle": "2020-09-25T19:41:08.126345Z",
     "shell.execute_reply": "2020-09-25T19:41:08.127013Z"
    },
    "papermill": {
     "duration": 1.928566,
     "end_time": "2020-09-25T19:41:08.127201",
     "exception": false,
     "start_time": "2020-09-25T19:41:06.198635",
     "status": "completed"
    },
    "tags": []
   },
   "outputs": [],
   "source": [
    "corpus = segment_sentences(clean(corpus))"
   ]
  },
  {
   "cell_type": "code",
   "execution_count": 23,
   "metadata": {
    "execution": {
     "iopub.execute_input": "2020-09-25T19:41:08.305461Z",
     "iopub.status.busy": "2020-09-25T19:41:08.304437Z",
     "iopub.status.idle": "2020-09-25T19:41:08.308548Z",
     "shell.execute_reply": "2020-09-25T19:41:08.309160Z"
    },
    "papermill": {
     "duration": 0.095686,
     "end_time": "2020-09-25T19:41:08.309348",
     "exception": false,
     "start_time": "2020-09-25T19:41:08.213662",
     "status": "completed"
    },
    "tags": []
   },
   "outputs": [
    {
     "name": "stdout",
     "output_type": "stream",
     "text": [
      "s> hon hade fått större kärlek av sina föräldrar än någon annan han visste och sådan kärlek måste vändas i välsignelse </s>\n",
      "<s> då prästen sade detta kom alla människor att se bort mot klara gulla och de förundrade sig över vad de såg </s>\n",
      "<s> prästens ord tycktes redan ha gått i uppfyllelse </s>\n",
      "<s> där stod klara fina gulleborg ifrån skrolycka hon som var uppkallad efter själva solen vid sina föräldrars grav och lyste som en förklarad </s>\n",
      "<s> hon var likaså vacker som den söndagen då hon gick till kyrkan i den röda klänningen om inte vackrare. </s>\n"
     ]
    }
   ],
   "source": [
    "print(corpus[-557:])"
   ]
  },
  {
   "cell_type": "markdown",
   "metadata": {
    "papermill": {
     "duration": 0.084722,
     "end_time": "2020-09-25T19:41:08.480713",
     "exception": false,
     "start_time": "2020-09-25T19:41:08.395991",
     "status": "completed"
    },
    "tags": []
   },
   "source": [
    "The result should be a normalized text without punctuation signs where all the sentences are delimited with `<s>` and `</s>` tags. The five last lines of the text should look like this:\n",
    "\n",
    "```\n",
    "<s> hon hade fått större kärlek av sina föräldrar än någon annan han visste och sådan kärlek måste vändas i välsignelse </s> \n",
    "<s> då prästen sade detta kom alla människor att se bort mot klara gulla och de förundrade sig över vad de såg </s>\n",
    "<s> prästens ord tycktes redan ha gått i uppfyllelse </s>\n",
    "<s> där stod klara fina gulleborg ifrån skrolycka hon som var uppkallad efter själva solen vid sina föräldrars grav och lyste som en förklarad </s>\n",
    "<s> hon var likaså vacker som den söndagen då hon gick till kyrkan i den röda klänningen om inte vackrare </s>\n",
    "```"
   ]
  },
  {
   "cell_type": "markdown",
   "metadata": {
    "papermill": {
     "duration": 0.095943,
     "end_time": "2020-09-25T19:41:08.683326",
     "exception": false,
     "start_time": "2020-09-25T19:41:08.587383",
     "status": "completed"
    },
    "tags": []
   },
   "source": [
    "You will now create a list of words from your string. You will consider that a space or a carriage return is an item separator"
   ]
  },
  {
   "cell_type": "code",
   "execution_count": 24,
   "metadata": {
    "execution": {
     "iopub.execute_input": "2020-09-25T19:41:08.865521Z",
     "iopub.status.busy": "2020-09-25T19:41:08.864660Z",
     "iopub.status.idle": "2020-09-25T19:41:09.787032Z",
     "shell.execute_reply": "2020-09-25T19:41:09.786256Z"
    },
    "papermill": {
     "duration": 1.017319,
     "end_time": "2020-09-25T19:41:09.787156",
     "exception": false,
     "start_time": "2020-09-25T19:41:08.769837",
     "status": "completed"
    },
    "tags": []
   },
   "outputs": [],
   "source": [
    "def create_list(text):\n",
    "    words = re.findall('[\\p{L}<>\\/]+', text)\n",
    "    return words\n",
    "\n",
    "words = create_list(corpus)"
   ]
  },
  {
   "cell_type": "code",
   "execution_count": 25,
   "metadata": {
    "execution": {
     "iopub.execute_input": "2020-09-25T19:41:09.963903Z",
     "iopub.status.busy": "2020-09-25T19:41:09.963018Z",
     "iopub.status.idle": "2020-09-25T19:41:09.966371Z",
     "shell.execute_reply": "2020-09-25T19:41:09.966998Z"
    },
    "papermill": {
     "duration": 0.095401,
     "end_time": "2020-09-25T19:41:09.967200",
     "exception": false,
     "start_time": "2020-09-25T19:41:09.871799",
     "status": "completed"
    },
    "tags": []
   },
   "outputs": [
    {
     "name": "stdout",
     "output_type": "stream",
     "text": [
      "['<s>', 'hon', 'hade', 'fått', 'större', 'kärlek', 'av', 'sina', 'föräldrar', 'än', 'någon', 'annan', 'han', 'visste', 'och', 'sådan', 'kärlek', 'måste', 'vändas', 'i', 'välsignelse', '</s>', '<s>', 'då', 'prästen', 'sade', 'detta', 'kom', 'alla', 'människor', 'att', 'se', 'bort', 'mot', 'klara', 'gulla', 'och', 'de', 'förundrade', 'sig', 'över', 'vad', 'de', 'såg', '</s>', '<s>', 'prästens', 'ord', 'tycktes', 'redan', 'ha', 'gått', 'i', 'uppfyllelse', '</s>', '<s>', 'där', 'stod', 'klara', 'fina', 'gulleborg', 'ifrån', 'skrolycka', 'hon', 'som', 'var', 'uppkallad', 'efter', 'själva', 'solen', 'vid', 'sina', 'föräldrars', 'grav', 'och', 'lyste', 'som', 'en', 'förklarad', '</s>', '<s>', 'hon', 'var', 'likaså', 'vacker', 'som', 'den', 'söndagen', 'då', 'hon', 'gick', 'till', 'kyrkan', 'i', 'den', 'röda', 'klänningen', 'om', 'inte', 'vackrare', '</s>']\n"
     ]
    }
   ],
   "source": [
    "print(words[-101:])"
   ]
  },
  {
   "cell_type": "markdown",
   "metadata": {
    "papermill": {
     "duration": 0.085945,
     "end_time": "2020-09-25T19:41:10.140584",
     "exception": false,
     "start_time": "2020-09-25T19:41:10.054639",
     "status": "completed"
    },
    "tags": []
   },
   "source": [
    "The five last lines of the corpus should like this:\n",
    "\n",
    "`['<s>', 'hon', 'hade', 'fått', 'större', 'kärlek', 'av', 'sina', 'föräldrar', 'än', 'någon', 'annan', 'han', 'visste', 'och', 'sådan', 'kärlek', 'måste', 'vändas', 'i', 'välsignelse', '</s>', '<s>', 'då', 'prästen', 'sade', 'detta', 'kom', 'alla', 'människor', 'att', 'se', 'bort', 'mot', 'klara', 'gulla', 'och', 'de', 'förundrade', 'sig', 'över', 'vad', 'de', 'såg', '</s>', '<s>', 'prästens', 'ord', 'tycktes', 'redan', 'ha', 'gått', 'i', 'uppfyllelse', '</s>', '<s>', 'där', 'stod', 'klara', 'fina', 'gulleborg', 'ifrån', 'skrolycka', 'hon', 'som', 'var', 'uppkallad', 'efter', 'själva', 'solen', 'vid', 'sina', 'föräldrars', 'grav', 'och', 'lyste', 'som', 'en', 'förklarad', '</s>', '<s>', 'hon', 'var', 'likaså', 'vacker', 'som', 'den', 'söndagen', 'då', 'hon', 'gick', 'till', 'kyrkan', 'i', 'den', 'röda', 'klänningen', 'om', 'inte', 'vackrare', '</s>']`\n",
    "\n"
   ]
  },
  {
   "cell_type": "markdown",
   "metadata": {
    "papermill": {
     "duration": 0.08552,
     "end_time": "2020-09-25T19:41:10.313145",
     "exception": false,
     "start_time": "2020-09-25T19:41:10.227625",
     "status": "completed"
    },
    "tags": []
   },
   "source": [
    "### Counting unigrams and bigrams"
   ]
  },
  {
   "cell_type": "markdown",
   "metadata": {
    "papermill": {
     "duration": 0.085097,
     "end_time": "2020-09-25T19:41:10.484008",
     "exception": false,
     "start_time": "2020-09-25T19:41:10.398911",
     "status": "completed"
    },
    "tags": []
   },
   "source": [
    "Read and try programs to compute the frequency of unigrams and bigrams of the training set: [<a\n",
    "            href=\"https://github.com/pnugues/ilppp/tree/master/programs/ch05/python\">Program folder</a>]."
   ]
  },
  {
   "cell_type": "markdown",
   "metadata": {
    "papermill": {
     "duration": 0.086115,
     "end_time": "2020-09-25T19:41:10.656389",
     "exception": false,
     "start_time": "2020-09-25T19:41:10.570274",
     "status": "completed"
    },
    "tags": []
   },
   "source": [
    "#### Unigrams"
   ]
  },
  {
   "cell_type": "code",
   "execution_count": 26,
   "metadata": {
    "execution": {
     "iopub.execute_input": "2020-09-25T19:41:10.835037Z",
     "iopub.status.busy": "2020-09-25T19:41:10.834017Z",
     "iopub.status.idle": "2020-09-25T19:41:10.837236Z",
     "shell.execute_reply": "2020-09-25T19:41:10.836624Z"
    },
    "papermill": {
     "duration": 0.095427,
     "end_time": "2020-09-25T19:41:10.837367",
     "exception": false,
     "start_time": "2020-09-25T19:41:10.741940",
     "status": "completed"
    },
    "tags": []
   },
   "outputs": [],
   "source": [
    "def unigrams(words):\n",
    "    frequency = {}\n",
    "    for i in range(len(words)):\n",
    "        if words[i] in frequency:\n",
    "            frequency[words[i]] += 1\n",
    "        else:\n",
    "            frequency[words[i]] = 1\n",
    "    return frequency"
   ]
  },
  {
   "cell_type": "markdown",
   "metadata": {
    "papermill": {
     "duration": 0.08599,
     "end_time": "2020-09-25T19:41:11.009790",
     "exception": false,
     "start_time": "2020-09-25T19:41:10.923800",
     "status": "completed"
    },
    "tags": []
   },
   "source": [
    "We compute the frequencies."
   ]
  },
  {
   "cell_type": "code",
   "execution_count": 27,
   "metadata": {
    "execution": {
     "iopub.execute_input": "2020-09-25T19:41:11.207130Z",
     "iopub.status.busy": "2020-09-25T19:41:11.196813Z",
     "iopub.status.idle": "2020-09-25T19:41:11.862814Z",
     "shell.execute_reply": "2020-09-25T19:41:11.862156Z"
    },
    "papermill": {
     "duration": 0.766404,
     "end_time": "2020-09-25T19:41:11.862950",
     "exception": false,
     "start_time": "2020-09-25T19:41:11.096546",
     "status": "completed"
    },
    "tags": []
   },
   "outputs": [
    {
     "data": {
      "text/plain": [
       "[('<s>', 59047),\n",
       " ('selma', 52),\n",
       " ('lagerlöf', 270),\n",
       " ('nils', 87),\n",
       " ('holgerssons', 6),\n",
       " ('underbara', 23),\n",
       " ('resa', 317),\n",
       " ('genom', 688),\n",
       " ('sverige', 56),\n",
       " ('</s>', 59047),\n",
       " ('första', 525),\n",
       " ('bandet', 6),\n",
       " ('users', 1),\n",
       " ('deslay', 1),\n",
       " ('documents', 1),\n",
       " ('spra', 1),\n",
       " ('kteknologi', 1),\n",
       " ('edan', 2),\n",
       " ('notebooks', 1),\n",
       " ('selmacorpus', 1)]"
      ]
     },
     "execution_count": 27,
     "metadata": {},
     "output_type": "execute_result"
    }
   ],
   "source": [
    "frequency = unigrams(words)\n",
    "list(frequency.items())[:20]"
   ]
  },
  {
   "cell_type": "markdown",
   "metadata": {
    "papermill": {
     "duration": 0.087315,
     "end_time": "2020-09-25T19:41:12.038336",
     "exception": false,
     "start_time": "2020-09-25T19:41:11.951021",
     "status": "completed"
    },
    "tags": []
   },
   "source": [
    "#### Bigrams"
   ]
  },
  {
   "cell_type": "code",
   "execution_count": 28,
   "metadata": {
    "execution": {
     "iopub.execute_input": "2020-09-25T19:41:12.222651Z",
     "iopub.status.busy": "2020-09-25T19:41:12.221719Z",
     "iopub.status.idle": "2020-09-25T19:41:12.225074Z",
     "shell.execute_reply": "2020-09-25T19:41:12.224358Z"
    },
    "papermill": {
     "duration": 0.099614,
     "end_time": "2020-09-25T19:41:12.225219",
     "exception": false,
     "start_time": "2020-09-25T19:41:12.125605",
     "status": "completed"
    },
    "tags": []
   },
   "outputs": [],
   "source": [
    "def bigrams(words):\n",
    "    bigrams = []\n",
    "    for i in range(len(words) - 1):\n",
    "        bigrams.append((words[i], words[i + 1]))\n",
    "    frequency_bigrams = {}\n",
    "    for i in range(len(words) - 1):\n",
    "        if bigrams[i] in frequency_bigrams:\n",
    "            frequency_bigrams[bigrams[i]] += 1\n",
    "        else:\n",
    "            frequency_bigrams[bigrams[i]] = 1\n",
    "    return frequency_bigrams"
   ]
  },
  {
   "cell_type": "code",
   "execution_count": 29,
   "metadata": {
    "execution": {
     "iopub.execute_input": "2020-09-25T19:41:12.443525Z",
     "iopub.status.busy": "2020-09-25T19:41:12.427611Z",
     "iopub.status.idle": "2020-09-25T19:41:14.039425Z",
     "shell.execute_reply": "2020-09-25T19:41:14.038754Z"
    },
    "papermill": {
     "duration": 1.727982,
     "end_time": "2020-09-25T19:41:14.039547",
     "exception": false,
     "start_time": "2020-09-25T19:41:12.311565",
     "status": "completed"
    },
    "tags": []
   },
   "outputs": [
    {
     "data": {
      "text/plain": [
       "[(('<s>', 'selma'), 8),\n",
       " (('selma', 'lagerlöf'), 11),\n",
       " (('lagerlöf', 'nils'), 1),\n",
       " (('nils', 'holgerssons'), 6),\n",
       " (('holgerssons', 'underbara'), 4),\n",
       " (('underbara', 'resa'), 4),\n",
       " (('resa', 'genom'), 6),\n",
       " (('genom', 'sverige'), 5),\n",
       " (('sverige', '</s>'), 17),\n",
       " (('</s>', '<s>'), 59046),\n",
       " (('<s>', 'första'), 11),\n",
       " (('första', 'bandet'), 1),\n",
       " (('bandet', 'users'), 1),\n",
       " (('users', 'deslay'), 1),\n",
       " (('deslay', 'documents'), 1),\n",
       " (('documents', 'spra'), 1),\n",
       " (('spra', 'kteknologi'), 1),\n",
       " (('kteknologi', 'edan'), 1),\n",
       " (('edan', 'edan'), 1),\n",
       " (('edan', 'notebooks'), 1)]"
      ]
     },
     "execution_count": 29,
     "metadata": {},
     "output_type": "execute_result"
    }
   ],
   "source": [
    "frequency_bigrams = bigrams(words)\n",
    "list(frequency_bigrams.items())[:20]"
   ]
  },
  {
   "cell_type": "markdown",
   "metadata": {
    "papermill": {
     "duration": 0.087342,
     "end_time": "2020-09-25T19:41:14.216148",
     "exception": false,
     "start_time": "2020-09-25T19:41:14.128806",
     "status": "completed"
    },
    "tags": []
   },
   "source": [
    "In the report, tell what is the possible number of bigrams and their real number? Explain why such a difference. What would be the possible number of 4-grams.\n",
    "\n",
    "Propose a solution to cope with bigrams unseen in the corpus. This topic will be discussed during the lab session."
   ]
  },
  {
   "cell_type": "markdown",
   "metadata": {
    "papermill": {
     "duration": 0.087207,
     "end_time": "2020-09-25T19:41:14.391622",
     "exception": false,
     "start_time": "2020-09-25T19:41:14.304415",
     "status": "completed"
    },
    "tags": []
   },
   "source": [
    "### Computing the likelihood of a sentence"
   ]
  },
  {
   "cell_type": "markdown",
   "metadata": {
    "papermill": {
     "duration": 0.086172,
     "end_time": "2020-09-25T19:41:14.564854",
     "exception": false,
     "start_time": "2020-09-25T19:41:14.478682",
     "status": "completed"
    },
    "tags": []
   },
   "source": [
    "#### Unigrams"
   ]
  },
  {
   "cell_type": "markdown",
   "metadata": {
    "papermill": {
     "duration": 0.087992,
     "end_time": "2020-09-25T19:41:14.739036",
     "exception": false,
     "start_time": "2020-09-25T19:41:14.651044",
     "status": "completed"
    },
    "tags": []
   },
   "source": [
    "Write a program to compute a sentence's probability using unigrams. You may find useful the dictionaries that we saw in the mutual information program: [<a href=\"https://github.com/pnugues/ilppp/tree/master/programs/ch05/python\">Program folder</a>]. Your function will return the perplexity."
   ]
  },
  {
   "cell_type": "markdown",
   "metadata": {
    "papermill": {
     "duration": 0.086158,
     "end_time": "2020-09-25T19:41:14.911810",
     "exception": false,
     "start_time": "2020-09-25T19:41:14.825652",
     "status": "completed"
    },
    "tags": []
   },
   "source": [
    "Your function should print and tabulate the results as in the examples below with the sentence _Det var en gång en katt som hette Nils_. "
   ]
  },
  {
   "cell_type": "markdown",
   "metadata": {
    "papermill": {
     "duration": 0.088122,
     "end_time": "2020-09-25T19:41:15.088380",
     "exception": false,
     "start_time": "2020-09-25T19:41:15.000258",
     "status": "completed"
    },
    "tags": []
   },
   "source": [
    "```\n",
    "=====================================================\n",
    "wi \t C(wi) \t #words \t P(wi)\n",
    "=====================================================\n",
    "det \t 21108 \t 1041631 \t 0.0202643738521607\n",
    "var \t 12090 \t 1041631 \t 0.01160679741674355\n",
    "en \t 13514 \t 1041631 \t 0.01297388422579589\n",
    "gång \t 1332 \t 1041631 \t 0.001278763784871994\n",
    "en \t 13514 \t 1041631 \t 0.01297388422579589\n",
    "katt \t 16 \t 1041631 \t 1.5360525944408337e-05\n",
    "som \t 16288 \t 1041631 \t 0.015637015411407686\n",
    "hette \t 97 \t 1041631 \t 9.312318853797554e-05\n",
    "nils \t 87 \t 1041631 \t 8.352285982272032e-05\n",
    "</s> \t 59047 \t 1041631 \t 0.056687060964967444\n",
    "=====================================================\n",
    "Prob. unigrams:\t 5.361459667285409e-27\n",
    "Geometric mean prob.: 0.0023600885848765307\n",
    "Entropy rate:\t 8.726943273141258\n",
    "Perplexity:\t 423.71290908655254\n",
    "```"
   ]
  },
  {
   "cell_type": "code",
   "execution_count": 30,
   "metadata": {
    "execution": {
     "iopub.execute_input": "2020-09-25T19:41:15.280772Z",
     "iopub.status.busy": "2020-09-25T19:41:15.274912Z",
     "iopub.status.idle": "2020-09-25T19:41:15.284700Z",
     "shell.execute_reply": "2020-09-25T19:41:15.283889Z"
    },
    "papermill": {
     "duration": 0.108338,
     "end_time": "2020-09-25T19:41:15.284843",
     "exception": false,
     "start_time": "2020-09-25T19:41:15.176505",
     "status": "completed"
    },
    "tags": []
   },
   "outputs": [],
   "source": [
    "from functools import reduce\n",
    "\n",
    "def unigram_lm(freqs, words):\n",
    "    num_w = 0\n",
    "    for s in freqs.keys():\n",
    "        num_w = num_w + freqs[s]\n",
    "    print(\"=\"*50)\n",
    "    print(\"wi \\t C(wi) \\t #words \\t P(wi)\")\n",
    "    print(\"=\"*50)\n",
    "    probs_uni = []\n",
    "    for word in words:\n",
    "        if word in freqs.keys():\n",
    "            print(f\"{word} \\t {freqs[word]} \\t {num_w} \\t {freqs[word] / num_w}\")\n",
    "            probs_uni.append(freqs[word] / num_w)\n",
    "        else:\n",
    "             print(f\"{word} \\t {0} \\t {num_w} \\t {0 / num_w}\")\n",
    "    \n",
    "    multiplied = reduce((lambda x, y: x * y), probs_uni) \n",
    "    geo_mean = multiplied**(1/len(probs_uni)) / len(probs_uni)\n",
    "    entropy_sub = [p*math.log(p,2) for p in probs_uni]\n",
    "    entropy = -1 * sum(entropy_sub)\n",
    "    perplexity = (1 / multiplied)**(1/len(probs_uni))\n",
    "    \n",
    "    print(\"=\"*50)\n",
    "    print(f\"Prob. unigrams: \\t {multiplied}\")\n",
    "    print(f\"Geometric mean prob.: \\t {geo_mean}\")\n",
    "    print(f\"Entropy rate: \\t {entropy}\")\n",
    "    print(f\"Perplexity: \\t {perplexity}\")\n",
    "    \n",
    "    return perplexity"
   ]
  },
  {
   "cell_type": "code",
   "execution_count": 31,
   "metadata": {
    "execution": {
     "iopub.execute_input": "2020-09-25T19:41:15.471241Z",
     "iopub.status.busy": "2020-09-25T19:41:15.470220Z",
     "iopub.status.idle": "2020-09-25T19:41:15.475043Z",
     "shell.execute_reply": "2020-09-25T19:41:15.474471Z"
    },
    "papermill": {
     "duration": 0.100876,
     "end_time": "2020-09-25T19:41:15.475194",
     "exception": false,
     "start_time": "2020-09-25T19:41:15.374318",
     "status": "completed"
    },
    "tags": []
   },
   "outputs": [
    {
     "data": {
      "text/plain": [
       "['det', 'var', 'en', 'gång', 'en', 'katt', 'som', 'hette', 'nils', '</s>']"
      ]
     },
     "execution_count": 31,
     "metadata": {},
     "output_type": "execute_result"
    }
   ],
   "source": [
    "sentence = 'det var en gång en katt som hette nils </s>'\n",
    "sent_words = sentence.split()\n",
    "sent_words"
   ]
  },
  {
   "cell_type": "code",
   "execution_count": 32,
   "metadata": {
    "execution": {
     "iopub.execute_input": "2020-09-25T19:41:15.672364Z",
     "iopub.status.busy": "2020-09-25T19:41:15.669925Z",
     "iopub.status.idle": "2020-09-25T19:41:15.676963Z",
     "shell.execute_reply": "2020-09-25T19:41:15.676169Z"
    },
    "papermill": {
     "duration": 0.10842,
     "end_time": "2020-09-25T19:41:15.677088",
     "exception": false,
     "start_time": "2020-09-25T19:41:15.568668",
     "status": "completed"
    },
    "tags": []
   },
   "outputs": [
    {
     "name": "stdout",
     "output_type": "stream",
     "text": [
      "==================================================\n",
      "wi \t C(wi) \t #words \t P(wi)\n",
      "==================================================\n",
      "det \t 21108 \t 1041589 \t 0.02026519097263892\n",
      "var \t 12090 \t 1041589 \t 0.011607265437711036\n",
      "en \t 13514 \t 1041589 \t 0.012974407371813643\n",
      "gång \t 1332 \t 1041589 \t 0.001278815348472382\n",
      "en \t 13514 \t 1041589 \t 0.012974407371813643\n",
      "katt \t 16 \t 1041589 \t 1.536114532699558e-05\n",
      "som \t 16288 \t 1041589 \t 0.0156376459428815\n",
      "hette \t 97 \t 1041589 \t 9.31269435449107e-05\n",
      "nils \t 87 \t 1041589 \t 8.352622771553847e-05\n",
      "</s> \t 59047 \t 1041589 \t 0.056689346757694256\n",
      "==================================================\n",
      "Prob. unigrams: \t 5.363621961341534e-27\n",
      "Geometric mean prob.: \t 0.000236018375074384\n",
      "Entropy rate: \t 0.6947223837696388\n",
      "Perplexity: \t 423.6958243970784\n"
     ]
    }
   ],
   "source": [
    "perplexity_unigrams = unigram_lm(frequency, sent_words)"
   ]
  },
  {
   "cell_type": "code",
   "execution_count": 33,
   "metadata": {
    "execution": {
     "iopub.execute_input": "2020-09-25T19:41:15.860985Z",
     "iopub.status.busy": "2020-09-25T19:41:15.860022Z",
     "iopub.status.idle": "2020-09-25T19:41:15.864617Z",
     "shell.execute_reply": "2020-09-25T19:41:15.863881Z"
    },
    "papermill": {
     "duration": 0.098953,
     "end_time": "2020-09-25T19:41:15.864746",
     "exception": false,
     "start_time": "2020-09-25T19:41:15.765793",
     "status": "completed"
    },
    "tags": []
   },
   "outputs": [
    {
     "data": {
      "text/plain": [
       "423"
      ]
     },
     "execution_count": 33,
     "metadata": {},
     "output_type": "execute_result"
    }
   ],
   "source": [
    "perplexity_unigrams = int(perplexity_unigrams)\n",
    "perplexity_unigrams"
   ]
  },
  {
   "cell_type": "markdown",
   "metadata": {
    "papermill": {
     "duration": 0.09051,
     "end_time": "2020-09-25T19:41:16.043883",
     "exception": false,
     "start_time": "2020-09-25T19:41:15.953373",
     "status": "completed"
    },
    "tags": []
   },
   "source": [
    "#### Bigrams"
   ]
  },
  {
   "cell_type": "markdown",
   "metadata": {
    "papermill": {
     "duration": 0.089509,
     "end_time": "2020-09-25T19:41:16.223985",
     "exception": false,
     "start_time": "2020-09-25T19:41:16.134476",
     "status": "completed"
    },
    "tags": []
   },
   "source": [
    "Write a program to compute the sentence probability using bigrams. Your function will tabulate and print the results as below. It will return the perplexity."
   ]
  },
  {
   "cell_type": "markdown",
   "metadata": {
    "papermill": {
     "duration": 0.089657,
     "end_time": "2020-09-25T19:41:16.402744",
     "exception": false,
     "start_time": "2020-09-25T19:41:16.313087",
     "status": "completed"
    },
    "tags": []
   },
   "source": [
    "```\n",
    "=====================================================\n",
    "wi \t wi+1 \t Ci,i+1 \t C(i) \t P(wi+1|wi)\n",
    "=====================================================\n",
    "<s>\t det \t 5672 \t 59047 \t 0.09605907158704083\n",
    "det \t var \t 3839 \t 21108 \t 0.1818741709304529\n",
    "var \t en \t 712 \t 12090 \t 0.058891645988420185\n",
    "en \t gång \t 706 \t 13514 \t 0.052242119283705785\n",
    "gång \t en \t 20 \t 1332 \t 0.015015015015015015\n",
    "en \t katt \t 6 \t 13514 \t 0.0004439840165754033\n",
    "katt \t som \t 2 \t 16 \t 0.125\n",
    "som \t hette \t 45 \t 16288 \t 0.002762770137524558\n",
    "hette \t nils \t 0 \t 97 \t 0.0 \t *backoff: \t 8.352285982272032e-05\n",
    "nils \t </s> \t 2 \t 87 \t 0.022988505747126436\n",
    "=====================================================\n",
    "Prob. bigrams:\t 2.376007803503683e-19\n",
    "Geometric mean prob.: 0.013727289294133601\n",
    "Entropy rate:\t 6.186809422848149\n",
    "Perplexity:\t 72.84759420254609\n",
    "```"
   ]
  },
  {
   "cell_type": "code",
   "execution_count": 34,
   "metadata": {
    "execution": {
     "iopub.execute_input": "2020-09-25T19:41:16.597798Z",
     "iopub.status.busy": "2020-09-25T19:41:16.594702Z",
     "iopub.status.idle": "2020-09-25T19:41:16.601265Z",
     "shell.execute_reply": "2020-09-25T19:41:16.600507Z"
    },
    "papermill": {
     "duration": 0.109392,
     "end_time": "2020-09-25T19:41:16.601388",
     "exception": false,
     "start_time": "2020-09-25T19:41:16.491996",
     "status": "completed"
    },
    "tags": []
   },
   "outputs": [],
   "source": [
    "def bigram_lm(freqs, frequency_bigrams, words):\n",
    "    num_w = sum(freqs.values())\n",
    "    num_bi = sum(frequency_bigrams.values())\n",
    "    \n",
    "    bigrams = [tuple(words[inx:inx + 2])\n",
    "                   for inx in range(len(words) - 1)]\n",
    "    \n",
    "    print(\"=\"*50)\n",
    "    print(\"wi \\t wi+1 \\t Ci,i+1   C(i) \\t P(wi+1|wi)\")\n",
    "    print(\"=\"*50)\n",
    "    probs_bi = []\n",
    "    for bigram in bigrams:\n",
    "        if bigram in frequency_bigrams.keys():\n",
    "            prob_bayes = (frequency_bigrams[bigram] / num_bi) * (1) / (freqs[bigram[0]]/ num_w)\n",
    "            probs_bi.append(prob_bayes)\n",
    "            print(f\"{bigram[0]} \\t {bigram[1]} \\t {frequency_bigrams[bigram]} \\t {freqs[bigram[0]]} \\t {prob_bayes}\")\n",
    "        else:\n",
    "            # Stupid backoff\n",
    "            backoff = 1 * freqs[bigram[1]] / num_w\n",
    "            probs_bi.append(backoff)\n",
    "            print(f\"{bigram[0]} \\t {bigram[1]} \\t {0} \\t {freqs[bigram[0]]} \\t {0.0} \\t *backoff: \\t {backoff}\")\n",
    "    \n",
    "    multiplied = reduce((lambda x, y: x * y), probs_bi) \n",
    "    geo_mean = multiplied**(1/len(probs_bi)) / len(probs_bi)\n",
    "    entropy_sub = [p*math.log(p,2) for p in probs_bi]\n",
    "    entropy = -1 * sum(entropy_sub)\n",
    "    perplexity = (1 / multiplied)**(1/len(probs_bi))\n",
    "    \n",
    "    print(\"=\"*50)\n",
    "    print(f\"Prob. unigrams: \\t {multiplied}\")\n",
    "    print(f\"Geometric mean prob.: \\t {geo_mean}\")\n",
    "    print(f\"Entropy rate: \\t {entropy}\")\n",
    "    print(f\"Perplexity: \\t {perplexity}\")\n",
    "    \n",
    "    return perplexity"
   ]
  },
  {
   "cell_type": "code",
   "execution_count": 35,
   "metadata": {
    "execution": {
     "iopub.execute_input": "2020-09-25T19:41:16.794763Z",
     "iopub.status.busy": "2020-09-25T19:41:16.793865Z",
     "iopub.status.idle": "2020-09-25T19:41:16.798477Z",
     "shell.execute_reply": "2020-09-25T19:41:16.797539Z"
    },
    "papermill": {
     "duration": 0.105994,
     "end_time": "2020-09-25T19:41:16.798631",
     "exception": false,
     "start_time": "2020-09-25T19:41:16.692637",
     "status": "completed"
    },
    "tags": []
   },
   "outputs": [
    {
     "name": "stdout",
     "output_type": "stream",
     "text": [
      "==================================================\n",
      "wi \t wi+1 \t Ci,i+1   C(i) \t P(wi+1|wi)\n",
      "==================================================\n",
      "<s> \t det \t 5672 \t 59047 \t 0.09605916381071428\n",
      "det \t var \t 3839 \t 21108 \t 0.18187434554284374\n",
      "var \t en \t 712 \t 12090 \t 0.058891702528670244\n",
      "en \t gång \t 706 \t 13514 \t 0.05224216943992809\n",
      "gång \t en \t 20 \t 1332 \t 0.015015029430518089\n",
      "en \t katt \t 6 \t 13514 \t 0.0004439844428322501\n",
      "katt \t som \t 2 \t 16 \t 0.1250001200090631\n",
      "som \t hette \t 45 \t 16288 \t 0.0027627727899842036\n",
      "hette \t nils \t 0 \t 97 \t 0.0 \t *backoff: \t 8.352622771553847e-05\n",
      "nils \t </s> \t 2 \t 87 \t 0.02298852781775873\n",
      "==================================================\n",
      "Prob. unigrams: \t 2.376124142446303e-19\n",
      "Geometric mean prob.: \t 0.0013727356507007727\n",
      "Entropy rate: \t 1.8556370539000757\n",
      "Perplexity: \t 72.84723752089533\n"
     ]
    }
   ],
   "source": [
    "sent_words.insert(0, '<s>')\n",
    "perplexity_bigrams = bigram_lm(frequency, frequency_bigrams, sent_words)"
   ]
  },
  {
   "cell_type": "code",
   "execution_count": 36,
   "metadata": {
    "execution": {
     "iopub.execute_input": "2020-09-25T19:41:16.986411Z",
     "iopub.status.busy": "2020-09-25T19:41:16.985404Z",
     "iopub.status.idle": "2020-09-25T19:41:16.989518Z",
     "shell.execute_reply": "2020-09-25T19:41:16.990059Z"
    },
    "papermill": {
     "duration": 0.099549,
     "end_time": "2020-09-25T19:41:16.990234",
     "exception": false,
     "start_time": "2020-09-25T19:41:16.890685",
     "status": "completed"
    },
    "tags": []
   },
   "outputs": [
    {
     "data": {
      "text/plain": [
       "72"
      ]
     },
     "execution_count": 36,
     "metadata": {},
     "output_type": "execute_result"
    }
   ],
   "source": [
    "perplexity_bigrams = int(perplexity_bigrams)\n",
    "perplexity_bigrams"
   ]
  },
  {
   "cell_type": "code",
   "execution_count": 37,
   "metadata": {
    "execution": {
     "iopub.execute_input": "2020-09-25T19:41:17.234151Z",
     "iopub.status.busy": "2020-09-25T19:41:17.229872Z",
     "iopub.status.idle": "2020-09-25T19:41:17.265011Z",
     "shell.execute_reply": "2020-09-25T19:41:17.263962Z"
    },
    "papermill": {
     "duration": 0.183798,
     "end_time": "2020-09-25T19:41:17.265173",
     "exception": false,
     "start_time": "2020-09-25T19:41:17.081375",
     "status": "completed"
    },
    "tags": []
   },
   "outputs": [
    {
     "name": "stdout",
     "output_type": "stream",
     "text": [
      "==================================================\n",
      "wi \t C(wi) \t #words \t P(wi)\n",
      "==================================================\n",
      "en \t 13514 \t 1041589 \t 0.012974407371813643\n",
      "liten \t 592 \t 1041589 \t 0.0005683623770988365\n",
      "katt \t 16 \t 1041589 \t 1.536114532699558e-05\n",
      "på \t 14250 \t 1041589 \t 0.013681020056855439\n",
      "taket \t 67 \t 1041589 \t 6.4324796056794e-05\n",
      "==================================================\n",
      "Prob. unigrams: \t 9.968581117979318e-17\n",
      "Geometric mean prob.: \t 0.0001261120731547574\n",
      "Entropy rate: \t 0.17330328670022624\n",
      "Perplexity: \t 1585.8909856677374\n",
      "==================================================\n",
      "wi \t wi+1 \t Ci,i+1   C(i) \t P(wi+1|wi)\n",
      "==================================================\n",
      "en \t liten \t 419 \t 13514 \t 0.031004913591118802\n",
      "liten \t katt \t 1 \t 592 \t 0.0016891908109332849\n",
      "katt \t på \t 0 \t 16 \t 0.0 \t *backoff: \t 0.013681020056855439\n",
      "på \t taket \t 19 \t 14250 \t 0.001333334613430006\n",
      "==================================================\n",
      "Prob. unigrams: \t 9.55359592762272e-10\n",
      "Geometric mean prob.: \t 0.001389894146315906\n",
      "Entropy rate: \t 0.26837612738348654\n",
      "Perplexity: \t 179.86981286499932\n",
      "Test sentence 0 : Perplexity unigrams/bigrams: 1585.8909856677374 / 179.86981286499932 \n",
      "==================================================\n",
      "wi \t C(wi) \t #words \t P(wi)\n",
      "==================================================\n",
      "hur \t 1996 \t 1041589 \t 0.0019163028795426988\n",
      "ofta \t 144 \t 1041589 \t 0.00013825030794296022\n",
      "får \t 906 \t 1041589 \t 0.0008698248541411247\n",
      "man \t 2322 \t 1041589 \t 0.002229286215580234\n",
      "rätt \t 716 \t 1041589 \t 0.0006874112533830522\n",
      "första \t 525 \t 1041589 \t 0.0005040375810420425\n",
      "gången \t 238 \t 1041589 \t 0.00022849703673905925\n",
      "==================================================\n",
      "Prob. unigrams: \t 4.0671297880787973e-23\n",
      "Geometric mean prob.: \t 9.041257151855472e-05\n",
      "Entropy rate: \t 0.06306093169618511\n",
      "Perplexity: \t 1580.0583973858693\n",
      "==================================================\n",
      "wi \t wi+1 \t Ci,i+1   C(i) \t P(wi+1|wi)\n",
      "==================================================\n",
      "hur \t ofta \t 6 \t 1996 \t 0.003006014910037589\n",
      "ofta \t får \t 0 \t 144 \t 0.0 \t *backoff: \t 0.0008698248541411247\n",
      "får \t man \t 15 \t 906 \t 0.016556307285968623\n",
      "man \t rätt \t 2 \t 2322 \t 0.0008613272696576268\n",
      "rätt \t första \t 0 \t 716 \t 0.0 \t *backoff: \t 0.0005040375810420425\n",
      "första \t gången \t 86 \t 525 \t 0.1638096810785436\n",
      "==================================================\n",
      "Prob. unigrams: \t 3.07862720142883e-15\n",
      "Geometric mean prob.: \t 0.0006356844676714312\n",
      "Entropy rate: \t 0.573801402254059\n",
      "Perplexity: \t 262.1845823560571\n",
      "Test sentence 1 : Perplexity unigrams/bigrams: 1580.0583973858693 / 262.1845823560571 \n",
      "==================================================\n",
      "wi \t C(wi) \t #words \t P(wi)\n",
      "==================================================\n",
      "vid \t 1952 \t 1041589 \t 0.001874059729893461\n",
      "den \t 11624 \t 1041589 \t 0.01115987208006229\n",
      "vackra \t 214 \t 1041589 \t 0.0002054553187485659\n",
      "sjön \t 232 \t 1041589 \t 0.00022273660724143592\n",
      "stod \t 1192 \t 1041589 \t 0.0011444053268611708\n",
      "en \t 13514 \t 1041589 \t 0.012974407371813643\n",
      "pojke \t 52 \t 1041589 \t 4.9923722312735634e-05\n",
      "==================================================\n",
      "Prob. unigrams: \t 7.094568612662842e-22\n",
      "Geometric mean prob.: \t 0.0001360209091495818\n",
      "Entropy rate: \t 0.18779655766594336\n",
      "Perplexity: \t 1050.258697359854\n",
      "==================================================\n",
      "wi \t wi+1 \t Ci,i+1   C(i) \t P(wi+1|wi)\n",
      "==================================================\n",
      "vid \t den \t 70 \t 1952 \t 0.035860690166534495\n",
      "den \t vackra \t 44 \t 11624 \t 0.003785275485477478\n",
      "vackra \t sjön \t 3 \t 214 \t 0.014018705047745392\n",
      "sjön \t stod \t 0 \t 232 \t 0.0 \t *backoff: \t 0.0011444053268611708\n",
      "stod \t en \t 50 \t 1192 \t 0.041946348996329895\n",
      "en \t pojke \t 13 \t 13514 \t 0.0009619662928032086\n",
      "==================================================\n",
      "Prob. unigrams: \t 8.787350012746357e-14\n",
      "Geometric mean prob.: \t 0.0011112840229716837\n",
      "Entropy rate: \t 0.5016839693312287\n",
      "Perplexity: \t 149.97666053092664\n",
      "Test sentence 2 : Perplexity unigrams/bigrams: 1050.258697359854 / 149.97666053092664 \n",
      "==================================================\n",
      "wi \t C(wi) \t #words \t P(wi)\n",
      "==================================================\n",
      "det \t 21108 \t 1041589 \t 0.02026519097263892\n",
      "är \t 6290 \t 1041589 \t 0.006038850256675138\n",
      "viktigt \t 9 \t 1041589 \t 8.640644246435014e-06\n",
      "att \t 28020 \t 1041589 \t 0.026901205753901012\n",
      "komma \t 1343 \t 1041589 \t 0.0012893761358846916\n",
      "på \t 14250 \t 1041589 \t 0.013681020056855439\n",
      "rätt \t 716 \t 1041589 \t 0.0006874112533830522\n",
      "sak \t 205 \t 1041589 \t 0.00019681467450213087\n",
      "==================================================\n",
      "Prob. unigrams: \t 6.788831877055794e-23\n",
      "Geometric mean prob.: \t 0.0002117797321616072\n",
      "Entropy rate: \t 0.40570181279536804\n",
      "Perplexity: \t 590.235896155604\n",
      "==================================================\n",
      "wi \t wi+1 \t Ci,i+1   C(i) \t P(wi+1|wi)\n",
      "==================================================\n",
      "det \t är \t 2014 \t 21108 \t 0.09541415262393521\n",
      "är \t viktigt \t 2 \t 6290 \t 0.00031796532911685364\n",
      "viktigt \t att \t 2 \t 9 \t 0.22222243557166774\n",
      "att \t komma \t 226 \t 28020 \t 0.008065675124068025\n",
      "komma \t på \t 19 \t 1343 \t 0.014147444706908107\n",
      "på \t rätt \t 7 \t 14250 \t 0.0004912285417900023\n",
      "rätt \t sak \t 0 \t 716 \t 0.0 \t *backoff: \t 0.00019681467450213087\n",
      "==================================================\n",
      "Prob. unigrams: \t 7.437727576984669e-17\n",
      "Geometric mean prob.: \t 0.0007092869969273461\n",
      "Entropy rate: \t 0.9601439916078032\n",
      "Perplexity: \t 201.40950486334103\n",
      "Test sentence 3 : Perplexity unigrams/bigrams: 590.235896155604 / 201.40950486334103 \n",
      "==================================================\n",
      "wi \t C(wi) \t #words \t P(wi)\n",
      "==================================================\n",
      "detta \t 2482 \t 1041589 \t 0.0023828976688501893\n",
      "är \t 6290 \t 1041589 \t 0.006038850256675138\n",
      "ett \t 5060 \t 1041589 \t 0.004857962209662352\n",
      "viktigt \t 9 \t 1041589 \t 8.640644246435014e-06\n",
      "fönster \t 97 \t 1041589 \t 9.31269435449107e-05\n",
      "==================================================\n",
      "Prob. unigrams: \t 5.625164915405135e-17\n",
      "Geometric mean prob.: \t 0.0001124752708192252\n",
      "Entropy rate: \t 0.10400568854292128\n",
      "Perplexity: \t 1778.1686458123588\n",
      "==================================================\n",
      "wi \t wi+1 \t Ci,i+1   C(i) \t P(wi+1|wi)\n",
      "==================================================\n",
      "detta \t är \t 157 \t 2482 \t 0.06325549989177408\n",
      "är \t ett \t 68 \t 6290 \t 0.010810821189973023\n",
      "ett \t viktigt \t 1 \t 5060 \t 0.0001976286482356729\n",
      "viktigt \t fönster \t 0 \t 9 \t 0.0 \t *backoff: \t 9.31269435449107e-05\n",
      "==================================================\n",
      "Prob. unigrams: \t 1.2585840569395204e-11\n",
      "Geometric mean prob.: \t 0.0004708803474195675\n",
      "Entropy rate: \t 0.3262138801151398\n",
      "Perplexity: \t 530.9204373680158\n",
      "Test sentence 4 : Perplexity unigrams/bigrams: 1778.1686458123588 / 530.9204373680158 \n"
     ]
    }
   ],
   "source": [
    "test_set = [\n",
    "    'en liten katt på taket',\n",
    "    'hur ofta får man rätt första gången',\n",
    "    'vid den vackra sjön stod en pojke',\n",
    "    'det är viktigt att komma på rätt sak',\n",
    "    'detta är ett viktigt fönster'\n",
    "]\n",
    "\n",
    "for i, s in enumerate(test_set):\n",
    "    s = s.split()\n",
    "    test_p_uni = unigram_lm(frequency, s)\n",
    "    test_p_bi = bigram_lm(frequency, frequency_bigrams, s)\n",
    "    print(f\"Test sentence {i} : Perplexity unigrams/bigrams: {test_p_uni} / {test_p_bi} \")"
   ]
  },
  {
   "cell_type": "markdown",
   "metadata": {
    "papermill": {
     "duration": 0.091524,
     "end_time": "2020-09-25T19:41:17.448477",
     "exception": false,
     "start_time": "2020-09-25T19:41:17.356953",
     "status": "completed"
    },
    "tags": []
   },
   "source": [
    "In addition to this sentence, _Det var en gång en katt som hette Nils_, write five other sentences that will form your test set and run your programs on them. You will insert them in your report."
   ]
  },
  {
   "cell_type": "markdown",
   "metadata": {
    "papermill": {
     "duration": 0.092017,
     "end_time": "2020-09-25T19:41:17.633638",
     "exception": false,
     "start_time": "2020-09-25T19:41:17.541621",
     "status": "completed"
    },
    "tags": []
   },
   "source": [
    "### Online prediction of words"
   ]
  },
  {
   "cell_type": "markdown",
   "metadata": {
    "papermill": {
     "duration": 0.09319,
     "end_time": "2020-09-25T19:41:17.819220",
     "exception": false,
     "start_time": "2020-09-25T19:41:17.726030",
     "status": "completed"
    },
    "tags": []
   },
   "source": [
    "You will now carry out an online prediction of words. You will consider two cases:\n",
    "1. Prediction of the current word a user is typing;\n",
    "2. Prediction of the next word.\n",
    "\n",
    "Ideally, you would write a loop that reads the words and apply the models while typing. As the Jupyter labs are not designed for interactive input and output, we will simplify the experimental settings with constant strings at a given time of the input.  \n",
    "\n",
    "We will assume the user is typing the phrase: _Det var en gång_. "
   ]
  },
  {
   "cell_type": "markdown",
   "metadata": {
    "papermill": {
     "duration": 0.091385,
     "end_time": "2020-09-25T19:41:18.002689",
     "exception": false,
     "start_time": "2020-09-25T19:41:17.911304",
     "status": "completed"
    },
    "tags": []
   },
   "source": [
    "#### Trigrams"
   ]
  },
  {
   "cell_type": "markdown",
   "metadata": {
    "papermill": {
     "duration": 0.096161,
     "end_time": "2020-09-25T19:41:18.192723",
     "exception": false,
     "start_time": "2020-09-25T19:41:18.096562",
     "status": "completed"
    },
    "tags": []
   },
   "source": [
    "To have a more accurate prediction, you will use a trigram counting function. Program it following the model of bigrams."
   ]
  },
  {
   "cell_type": "code",
   "execution_count": 38,
   "metadata": {
    "execution": {
     "iopub.execute_input": "2020-09-25T19:41:18.387159Z",
     "iopub.status.busy": "2020-09-25T19:41:18.386382Z",
     "iopub.status.idle": "2020-09-25T19:41:18.390262Z",
     "shell.execute_reply": "2020-09-25T19:41:18.389507Z"
    },
    "papermill": {
     "duration": 0.105181,
     "end_time": "2020-09-25T19:41:18.390395",
     "exception": false,
     "start_time": "2020-09-25T19:41:18.285214",
     "status": "completed"
    },
    "tags": []
   },
   "outputs": [],
   "source": [
    "def trigrams(words):\n",
    "    trigrams = []\n",
    "    words = [ e for e in words if e != '<s>' and e != '</s>']\n",
    "    for i in range(len(words) - 2):\n",
    "        trigrams.append((words[i], words[i + 1], words[i + 2]))\n",
    "    frequency_trigrams = {}\n",
    "    for i in range(len(trigrams)):\n",
    "        if trigrams[i] in frequency_trigrams:\n",
    "            frequency_trigrams[trigrams[i]] += 1\n",
    "        else:\n",
    "            frequency_trigrams[trigrams[i]] = 1\n",
    "    return frequency_trigrams"
   ]
  },
  {
   "cell_type": "code",
   "execution_count": 39,
   "metadata": {
    "execution": {
     "iopub.execute_input": "2020-09-25T19:41:18.600951Z",
     "iopub.status.busy": "2020-09-25T19:41:18.595799Z",
     "iopub.status.idle": "2020-09-25T19:41:20.120711Z",
     "shell.execute_reply": "2020-09-25T19:41:20.120005Z"
    },
    "papermill": {
     "duration": 1.638951,
     "end_time": "2020-09-25T19:41:20.120848",
     "exception": false,
     "start_time": "2020-09-25T19:41:18.481897",
     "status": "completed"
    },
    "tags": []
   },
   "outputs": [
    {
     "data": {
      "text/plain": [
       "330"
      ]
     },
     "execution_count": 39,
     "metadata": {},
     "output_type": "execute_result"
    }
   ],
   "source": [
    "frequency_trigrams = trigrams(words)\n",
    "frequency_trigrams[('det', 'var', 'en')]"
   ]
  },
  {
   "cell_type": "markdown",
   "metadata": {
    "papermill": {
     "duration": 0.092654,
     "end_time": "2020-09-25T19:41:20.307349",
     "exception": false,
     "start_time": "2020-09-25T19:41:20.214695",
     "status": "completed"
    },
    "tags": []
   },
   "source": [
    "#### Prediction"
   ]
  },
  {
   "cell_type": "markdown",
   "metadata": {
    "papermill": {
     "duration": 0.091276,
     "end_time": "2020-09-25T19:41:20.490995",
     "exception": false,
     "start_time": "2020-09-25T19:41:20.399719",
     "status": "completed"
    },
    "tags": []
   },
   "source": [
    "The user starts typing _Det var en gång_. After the 2nd character, your program tries to help the user with suggested words."
   ]
  },
  {
   "cell_type": "code",
   "execution_count": 40,
   "metadata": {
    "execution": {
     "iopub.execute_input": "2020-09-25T19:41:20.684533Z",
     "iopub.status.busy": "2020-09-25T19:41:20.683427Z",
     "iopub.status.idle": "2020-09-25T19:41:20.686880Z",
     "shell.execute_reply": "2020-09-25T19:41:20.686099Z"
    },
    "papermill": {
     "duration": 0.102612,
     "end_time": "2020-09-25T19:41:20.687007",
     "exception": false,
     "start_time": "2020-09-25T19:41:20.584395",
     "status": "completed"
    },
    "tags": []
   },
   "outputs": [],
   "source": [
    "starting_text = 'De'.lower()"
   ]
  },
  {
   "cell_type": "markdown",
   "metadata": {
    "papermill": {
     "duration": 0.09609,
     "end_time": "2020-09-25T19:41:20.880950",
     "exception": false,
     "start_time": "2020-09-25T19:41:20.784860",
     "status": "completed"
    },
    "tags": []
   },
   "source": [
    "Write a program to rank the five first candidates at this point. Assign these predictions in a list that you will call `current_word_predictions_1`. Note that you are starting a sentence and you can then use the bigram frequencies."
   ]
  },
  {
   "cell_type": "code",
   "execution_count": 41,
   "metadata": {
    "execution": {
     "iopub.execute_input": "2020-09-25T19:41:21.077470Z",
     "iopub.status.busy": "2020-09-25T19:41:21.076361Z",
     "iopub.status.idle": "2020-09-25T19:41:21.079875Z",
     "shell.execute_reply": "2020-09-25T19:41:21.079069Z"
    },
    "papermill": {
     "duration": 0.104771,
     "end_time": "2020-09-25T19:41:21.080003",
     "exception": false,
     "start_time": "2020-09-25T19:41:20.975232",
     "status": "completed"
    },
    "tags": []
   },
   "outputs": [],
   "source": [
    "cand_nbr = 5"
   ]
  },
  {
   "cell_type": "code",
   "execution_count": 42,
   "metadata": {
    "execution": {
     "iopub.execute_input": "2020-09-25T19:41:21.315651Z",
     "iopub.status.busy": "2020-09-25T19:41:21.294804Z",
     "iopub.status.idle": "2020-09-25T19:41:21.343382Z",
     "shell.execute_reply": "2020-09-25T19:41:21.344159Z"
    },
    "papermill": {
     "duration": 0.169085,
     "end_time": "2020-09-25T19:41:21.344397",
     "exception": false,
     "start_time": "2020-09-25T19:41:21.175312",
     "status": "completed"
    },
    "tags": []
   },
   "outputs": [
    {
     "name": "stdout",
     "output_type": "stream",
     "text": [
      "{('<s>', 'det'): 0.005445531246519737, ('<s>', 'de'): 0.0019883101571830705, ('<s>', 'den'): 0.0013200996939288854, ('<s>', 'detta'): 0.0002861016063933148, ('<s>', 'denna'): 7.680580037404424e-05}\n"
     ]
    }
   ],
   "source": [
    "def candidates_bi(starting_text, cand_nbr):\n",
    "    candidates = {}\n",
    "    num_bi = sum(frequency_bigrams.values())\n",
    "    \n",
    "    for bigram in frequency_bigrams.keys():\n",
    "        \n",
    "        if bigram[0] == \"<s>\":\n",
    "            if bigram[1].startswith(starting_text.lower()):\n",
    "                prob_bigram = frequency_bigrams[bigram] / num_bi\n",
    "\n",
    "                if len(candidates) < cand_nbr:\n",
    "                    if bigram[1] not in [bi[1] for bi in candidates.keys()]:\n",
    "                        candidates[bigram] = prob_bigram\n",
    "                else:\n",
    "                    key_min = min(candidates, key=candidates.get) # get min value in dict\n",
    "                    if prob_bigram > candidates[key_min]:\n",
    "                        if bigram[1] not in [bi[1] for bi in candidates.keys()]:\n",
    "                            del candidates[key_min]\n",
    "                            candidates[bigram] = prob_bigram\n",
    "                \n",
    "    candidates_sorted = {k: v for k, v in sorted(candidates.items(), key=lambda item: item[1], reverse=True)}\n",
    "    print(candidates_sorted)\n",
    "    return list(candidates_sorted.keys())\n",
    "\n",
    "current_word_predictions_1 = [c[1] for c in candidates_bi(starting_text, cand_nbr)]"
   ]
  },
  {
   "cell_type": "code",
   "execution_count": 43,
   "metadata": {
    "execution": {
     "iopub.execute_input": "2020-09-25T19:41:21.537678Z",
     "iopub.status.busy": "2020-09-25T19:41:21.536749Z",
     "iopub.status.idle": "2020-09-25T19:41:21.541430Z",
     "shell.execute_reply": "2020-09-25T19:41:21.540710Z"
    },
    "papermill": {
     "duration": 0.103053,
     "end_time": "2020-09-25T19:41:21.541549",
     "exception": false,
     "start_time": "2020-09-25T19:41:21.438496",
     "status": "completed"
    },
    "tags": []
   },
   "outputs": [
    {
     "data": {
      "text/plain": [
       "['det', 'de', 'den', 'detta', 'denna']"
      ]
     },
     "execution_count": 43,
     "metadata": {},
     "output_type": "execute_result"
    }
   ],
   "source": [
    "current_word_predictions_1"
   ]
  },
  {
   "cell_type": "markdown",
   "metadata": {
    "papermill": {
     "duration": 0.092892,
     "end_time": "2020-09-25T19:41:21.728151",
     "exception": false,
     "start_time": "2020-09-25T19:41:21.635259",
     "status": "completed"
    },
    "tags": []
   },
   "source": [
    "Let us now suppose that the user has typed: _Det var en_. After detecting a space, your program starts predicting a next possible word."
   ]
  },
  {
   "cell_type": "code",
   "execution_count": 44,
   "metadata": {
    "execution": {
     "iopub.execute_input": "2020-09-25T19:41:21.925130Z",
     "iopub.status.busy": "2020-09-25T19:41:21.924240Z",
     "iopub.status.idle": "2020-09-25T19:41:21.926606Z",
     "shell.execute_reply": "2020-09-25T19:41:21.927331Z"
    },
    "papermill": {
     "duration": 0.103103,
     "end_time": "2020-09-25T19:41:21.927484",
     "exception": false,
     "start_time": "2020-09-25T19:41:21.824381",
     "status": "completed"
    },
    "tags": []
   },
   "outputs": [],
   "source": [
    "current_text = \"Det var en \".lower()"
   ]
  },
  {
   "cell_type": "markdown",
   "metadata": {
    "papermill": {
     "duration": 0.095615,
     "end_time": "2020-09-25T19:41:22.120534",
     "exception": false,
     "start_time": "2020-09-25T19:41:22.024919",
     "status": "completed"
    },
    "tags": []
   },
   "source": [
    "Tokenize this text and return a list of tokens. Call it `tokens`."
   ]
  },
  {
   "cell_type": "code",
   "execution_count": 45,
   "metadata": {
    "execution": {
     "iopub.execute_input": "2020-09-25T19:41:22.318590Z",
     "iopub.status.busy": "2020-09-25T19:41:22.317649Z",
     "iopub.status.idle": "2020-09-25T19:41:22.320935Z",
     "shell.execute_reply": "2020-09-25T19:41:22.320169Z"
    },
    "papermill": {
     "duration": 0.105309,
     "end_time": "2020-09-25T19:41:22.321059",
     "exception": false,
     "start_time": "2020-09-25T19:41:22.215750",
     "status": "completed"
    },
    "tags": []
   },
   "outputs": [],
   "source": [
    "def tokenize_with_space(text):\n",
    "    words = re.findall('\\p{L}+', text)\n",
    "    if text.endswith(' '):\n",
    "        words.append(' ')\n",
    "    return words\n",
    "tokens = tokenize_with_space(current_text)"
   ]
  },
  {
   "cell_type": "code",
   "execution_count": 46,
   "metadata": {
    "execution": {
     "iopub.execute_input": "2020-09-25T19:41:22.521158Z",
     "iopub.status.busy": "2020-09-25T19:41:22.520011Z",
     "iopub.status.idle": "2020-09-25T19:41:22.525247Z",
     "shell.execute_reply": "2020-09-25T19:41:22.524506Z"
    },
    "papermill": {
     "duration": 0.104771,
     "end_time": "2020-09-25T19:41:22.525368",
     "exception": false,
     "start_time": "2020-09-25T19:41:22.420597",
     "status": "completed"
    },
    "tags": []
   },
   "outputs": [
    {
     "data": {
      "text/plain": [
       "['det', 'var', 'en', ' ']"
      ]
     },
     "execution_count": 46,
     "metadata": {},
     "output_type": "execute_result"
    }
   ],
   "source": [
    "tokens"
   ]
  },
  {
   "cell_type": "markdown",
   "metadata": {
    "papermill": {
     "duration": 0.095981,
     "end_time": "2020-09-25T19:41:22.717453",
     "exception": false,
     "start_time": "2020-09-25T19:41:22.621472",
     "status": "completed"
    },
    "tags": []
   },
   "source": [
    "Write a program to propose the five next possible words ranked by frequency using a trigram model. Assign these predictions to a variable that you will call `next_word_predictions`"
   ]
  },
  {
   "cell_type": "code",
   "execution_count": 47,
   "metadata": {
    "execution": {
     "iopub.execute_input": "2020-09-25T19:41:22.924795Z",
     "iopub.status.busy": "2020-09-25T19:41:22.916820Z",
     "iopub.status.idle": "2020-09-25T19:41:22.928248Z",
     "shell.execute_reply": "2020-09-25T19:41:22.927515Z"
    },
    "papermill": {
     "duration": 0.114999,
     "end_time": "2020-09-25T19:41:22.928381",
     "exception": false,
     "start_time": "2020-09-25T19:41:22.813382",
     "status": "completed"
    },
    "tags": []
   },
   "outputs": [],
   "source": [
    "def candidates_tri(starting_text, cand_nbr, space):\n",
    "    candidates = {}\n",
    "    num_tri = sum(frequency_trigrams.values())\n",
    "    \n",
    "    for trigram in frequency_trigrams.keys():\n",
    "        if (space == True and starting_text[-3:-1] == list(trigram)[0:2]) or (space == False and starting_text[-3:-1] == list(trigram)[0:2] and trigram[2].startswith(starting_text[-1])):\n",
    "            prob_trigram = frequency_trigrams[trigram] / num_tri\n",
    "            if len(candidates) < cand_nbr:\n",
    "                candidates[trigram] = prob_trigram\n",
    "            else:\n",
    "                key_min = min(candidates, key=candidates.get) # get min value in dict\n",
    "                if prob_trigram > candidates[key_min]:\n",
    "                    del candidates[key_min]\n",
    "                    candidates[trigram] = prob_trigram\n",
    "                \n",
    "    candidates_sorted = {k: v for k, v in sorted(candidates.items(), key=lambda item: item[1], reverse=True)}\n",
    "    print(candidates_sorted)\n",
    "    return list(candidates_sorted.keys())\n",
    "\n",
    "def propose_next_five(words):\n",
    "    space = False\n",
    "    if words[-1] == ' ':\n",
    "        space = True\n",
    "    else:\n",
    "        space = False\n",
    "    candidates1 = candidates_tri(words, 5, space)\n",
    "    # add two more words from last one in proposed trigrams.\n",
    "    #candidates2 = [candidates_tri(c[2], 1)[0] for c in candidates1]\n",
    "    #five_candidates = [(c1 + c2[1:3]) for c1, c2 in zip(candidates1, candidates2)] \n",
    "    #return five_candidates\n",
    "    return candidates1"
   ]
  },
  {
   "cell_type": "code",
   "execution_count": 48,
   "metadata": {
    "execution": {
     "iopub.execute_input": "2020-09-25T19:41:23.147338Z",
     "iopub.status.busy": "2020-09-25T19:41:23.142277Z",
     "iopub.status.idle": "2020-09-25T19:41:23.699896Z",
     "shell.execute_reply": "2020-09-25T19:41:23.699021Z"
    },
    "papermill": {
     "duration": 0.674617,
     "end_time": "2020-09-25T19:41:23.700051",
     "exception": false,
     "start_time": "2020-09-25T19:41:23.025434",
     "status": "completed"
    },
    "tags": []
   },
   "outputs": [
    {
     "name": "stdout",
     "output_type": "stream",
     "text": [
      "{('var', 'en', 'stor'): 3.6816738188594827e-05, ('var', 'en', 'liten'): 2.8153976261866632e-05, ('var', 'en', 'gammal'): 2.057405957597946e-05, ('var', 'en', 'god'): 1.8408369094297413e-05, ('var', 'en', 'sådan'): 1.8408369094297413e-05}\n"
     ]
    }
   ],
   "source": [
    "five_next_trigrams = propose_next_five(tokens)\n",
    "next_word_predictions = [c[2] for c in five_next_trigrams]"
   ]
  },
  {
   "cell_type": "code",
   "execution_count": 49,
   "metadata": {
    "execution": {
     "iopub.execute_input": "2020-09-25T19:41:23.900490Z",
     "iopub.status.busy": "2020-09-25T19:41:23.899695Z",
     "iopub.status.idle": "2020-09-25T19:41:23.903840Z",
     "shell.execute_reply": "2020-09-25T19:41:23.903238Z"
    },
    "papermill": {
     "duration": 0.106682,
     "end_time": "2020-09-25T19:41:23.903958",
     "exception": false,
     "start_time": "2020-09-25T19:41:23.797276",
     "status": "completed"
    },
    "tags": []
   },
   "outputs": [
    {
     "data": {
      "text/plain": [
       "['stor', 'liten', 'gammal', 'god', 'sådan']"
      ]
     },
     "execution_count": 49,
     "metadata": {},
     "output_type": "execute_result"
    }
   ],
   "source": [
    "next_word_predictions"
   ]
  },
  {
   "cell_type": "markdown",
   "metadata": {
    "papermill": {
     "duration": 0.096902,
     "end_time": "2020-09-25T19:41:24.096892",
     "exception": false,
     "start_time": "2020-09-25T19:41:23.999990",
     "status": "completed"
    },
    "tags": []
   },
   "source": [
    "Finally, let us suppose that the user has typed _Det var en g_, rank the five possible candidates. Assign these predictions in a list that you will call `current_word_predictions_2`"
   ]
  },
  {
   "cell_type": "code",
   "execution_count": 50,
   "metadata": {
    "execution": {
     "iopub.execute_input": "2020-09-25T19:41:24.297440Z",
     "iopub.status.busy": "2020-09-25T19:41:24.296589Z",
     "iopub.status.idle": "2020-09-25T19:41:24.300441Z",
     "shell.execute_reply": "2020-09-25T19:41:24.299683Z"
    },
    "papermill": {
     "duration": 0.107583,
     "end_time": "2020-09-25T19:41:24.300565",
     "exception": false,
     "start_time": "2020-09-25T19:41:24.192982",
     "status": "completed"
    },
    "tags": []
   },
   "outputs": [],
   "source": [
    "current_text = \"Det var en g\".lower()"
   ]
  },
  {
   "cell_type": "code",
   "execution_count": 51,
   "metadata": {
    "execution": {
     "iopub.execute_input": "2020-09-25T19:41:24.544204Z",
     "iopub.status.busy": "2020-09-25T19:41:24.539086Z",
     "iopub.status.idle": "2020-09-25T19:41:25.106064Z",
     "shell.execute_reply": "2020-09-25T19:41:25.106788Z"
    },
    "papermill": {
     "duration": 0.709274,
     "end_time": "2020-09-25T19:41:25.106944",
     "exception": false,
     "start_time": "2020-09-25T19:41:24.397670",
     "status": "completed"
    },
    "tags": []
   },
   "outputs": [
    {
     "name": "stdout",
     "output_type": "stream",
     "text": [
      "{('var', 'en', 'gammal'): 2.057405957597946e-05, ('var', 'en', 'god'): 1.8408369094297413e-05, ('var', 'en', 'gång'): 1.0828452408410243e-05, ('var', 'en', 'ganska'): 3.2485357225230726e-06, ('var', 'en', 'grann'): 2.1656904816820487e-06}\n"
     ]
    }
   ],
   "source": [
    "current_word_predictions_2 = [c[2] for c in propose_next_five(tokenize(current_text))]\n",
    "#current_word_predictions_2 = propose_next_five(tokenize(current_text))"
   ]
  },
  {
   "cell_type": "code",
   "execution_count": 52,
   "metadata": {
    "execution": {
     "iopub.execute_input": "2020-09-25T19:41:25.308647Z",
     "iopub.status.busy": "2020-09-25T19:41:25.307671Z",
     "iopub.status.idle": "2020-09-25T19:41:25.312334Z",
     "shell.execute_reply": "2020-09-25T19:41:25.311600Z"
    },
    "papermill": {
     "duration": 0.107485,
     "end_time": "2020-09-25T19:41:25.312457",
     "exception": false,
     "start_time": "2020-09-25T19:41:25.204972",
     "status": "completed"
    },
    "tags": []
   },
   "outputs": [
    {
     "data": {
      "text/plain": [
       "['gammal', 'god', 'gång', 'ganska', 'grann']"
      ]
     },
     "execution_count": 52,
     "metadata": {},
     "output_type": "execute_result"
    }
   ],
   "source": [
    "current_word_predictions_2"
   ]
  },
  {
   "cell_type": "markdown",
   "metadata": {
    "papermill": {
     "duration": 0.105456,
     "end_time": "2020-09-25T19:41:25.516516",
     "exception": false,
     "start_time": "2020-09-25T19:41:25.411060",
     "status": "completed"
    },
    "tags": []
   },
   "source": [
    "## Checked answers"
   ]
  },
  {
   "cell_type": "markdown",
   "metadata": {
    "papermill": {
     "duration": 0.100254,
     "end_time": "2020-09-25T19:41:25.717011",
     "exception": false,
     "start_time": "2020-09-25T19:41:25.616757",
     "status": "completed"
    },
    "tags": []
   },
   "source": [
    "The system will check these answers: `(perplexity_unigrams, perplexity_bigrams, current_word_predictions_1, next_word_predictions, current_word_predictions_2)`"
   ]
  },
  {
   "cell_type": "markdown",
   "metadata": {
    "papermill": {
     "duration": 0.096076,
     "end_time": "2020-09-25T19:41:25.910606",
     "exception": false,
     "start_time": "2020-09-25T19:41:25.814530",
     "status": "completed"
    },
    "tags": []
   },
   "source": [
    "The submission code will send your answer. It consists of the perplexities and predictions."
   ]
  },
  {
   "cell_type": "code",
   "execution_count": 53,
   "metadata": {
    "execution": {
     "iopub.execute_input": "2020-09-25T19:41:26.114928Z",
     "iopub.status.busy": "2020-09-25T19:41:26.114042Z",
     "iopub.status.idle": "2020-09-25T19:41:26.118791Z",
     "shell.execute_reply": "2020-09-25T19:41:26.118123Z"
    },
    "papermill": {
     "duration": 0.110962,
     "end_time": "2020-09-25T19:41:26.118928",
     "exception": false,
     "start_time": "2020-09-25T19:41:26.007966",
     "status": "completed"
    },
    "tags": []
   },
   "outputs": [
    {
     "data": {
      "text/plain": [
       "\"(423, 72, ['det', 'de', 'den', 'detta', 'denna'], ['stor', 'liten', 'gammal', 'god', 'sådan'], ['gammal', 'god', 'gång', 'ganska', 'grann'])\""
      ]
     },
     "execution_count": 53,
     "metadata": {},
     "output_type": "execute_result"
    }
   ],
   "source": [
    "ANSWER = str((perplexity_unigrams, perplexity_bigrams, current_word_predictions_1, next_word_predictions, current_word_predictions_2))\n",
    "ANSWER"
   ]
  },
  {
   "cell_type": "markdown",
   "metadata": {
    "papermill": {
     "duration": 0.125974,
     "end_time": "2020-09-25T19:41:26.379125",
     "exception": false,
     "start_time": "2020-09-25T19:41:26.253151",
     "status": "completed"
    },
    "tags": []
   },
   "source": [
    "## Reading"
   ]
  },
  {
   "cell_type": "markdown",
   "metadata": {
    "papermill": {
     "duration": 0.099485,
     "end_time": "2020-09-25T19:41:26.577979",
     "exception": false,
     "start_time": "2020-09-25T19:41:26.478494",
     "status": "completed"
    },
    "tags": []
   },
   "source": [
    "<p>As an application of n-grams, execute the Jupyter notebook by Peter Norvig <a\n",
    "        href=\"http://nbviewer.jupyter.org/url/norvig.com/ipython/How%20to%20Do%20Things%20with%20Words.ipynb\">\n",
    "    here</a>. Just run all the cells and be sure that you understand the code.\n",
    "    You will find the data <a href=\"http://norvig.com/ngrams/\">here</a>.</p>\n",
    "<p>In your report, you will also describe one experiment with a long string of words\n",
    "    your will create yourself or copy from a text you like. You will remove all the punctuation and\n",
    "    white spaces from this string. Set this string in lowercase letters.</p>\n",
    "<p>You will just add a cell at the end of Sect. 7 in Norvig's notebook, where you will use your string and\n",
    "    run the notebook cell with the <tt>segment()</tt> and <tt>segment2()</tt> functions. </p>\n",
    "<p>You will comment the segmentation results you obtain with unigram and bigram models.\n",
    "</p>"
   ]
  },
  {
   "cell_type": "code",
   "execution_count": null,
   "metadata": {
    "papermill": {
     "duration": 0.096905,
     "end_time": "2020-09-25T19:41:26.772990",
     "exception": false,
     "start_time": "2020-09-25T19:41:26.676085",
     "status": "completed"
    },
    "tags": []
   },
   "outputs": [],
   "source": []
  }
 ],
 "metadata": {
  "kernelspec": {
   "display_name": "Python 3",
   "language": "python",
   "name": "python3"
  },
  "language_info": {
   "codemirror_mode": {
    "name": "ipython",
    "version": 3
   },
   "file_extension": ".py",
   "mimetype": "text/x-python",
   "name": "python",
   "nbconvert_exporter": "python",
   "pygments_lexer": "ipython3",
   "version": "3.7.6"
  },
  "papermill": {
   "duration": 37.528694,
   "end_time": "2020-09-25T19:41:26.981061",
   "environment_variables": {},
   "exception": null,
   "input_path": "__notebook__.ipynb",
   "output_path": "__notebook__.ipynb",
   "parameters": {},
   "start_time": "2020-09-25T19:40:49.452367",
   "version": "2.1.0"
  }
 },
 "nbformat": 4,
 "nbformat_minor": 4
}
