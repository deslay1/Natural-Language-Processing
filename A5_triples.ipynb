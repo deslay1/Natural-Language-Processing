{
 "cells": [
  {
   "cell_type": "markdown",
   "metadata": {
    "papermill": {
     "duration": 0.049852,
     "end_time": "2020-12-11T20:24:52.597694",
     "exception": false,
     "start_time": "2020-12-11T20:24:52.547842",
     "status": "completed"
    },
    "tags": []
   },
   "source": [
    "# Assignment #5: Extraction of subject–verb–object triples\n",
    "Author: Pierre Nugues"
   ]
  },
  {
   "cell_type": "markdown",
   "metadata": {
    "papermill": {
     "duration": 0.050079,
     "end_time": "2020-12-11T20:24:52.697117",
     "exception": false,
     "start_time": "2020-12-11T20:24:52.647038",
     "status": "completed"
    },
    "tags": []
   },
   "source": [
    "## Objectives"
   ]
  },
  {
   "cell_type": "markdown",
   "metadata": {
    "papermill": {
     "duration": 0.050331,
     "end_time": "2020-12-11T20:24:52.836253",
     "exception": false,
     "start_time": "2020-12-11T20:24:52.785922",
     "status": "completed"
    },
    "tags": []
   },
   "source": [
    "In this assignment, you will extract relations from a parsed sentence involving two words or entities. You will start with pairs of words, namely a subject and its verb, and then extend your programs to triples: subject, verb, and object. In the triples, the subject and the object are the entities, and the verb represents the relation. \n",
    "\n",
    "$$\n",
    "\\text{Subject} \\xrightarrow[\\text{}]{\\text{Verb}} \\text{Object}\n",
    "$$\n",
    "\n",
    "The overall work is inspired by the _Prismatic_ knowledge base used in the IBM Watson system, where the subject, verb, and object triples are a way to extract knowledge from text.  See <a href=\"http://www.aclweb.org/anthology/W/W10/W10-0915.pdf\">this paper</a> for details. \n",
    "\n",
    "You will apply the extraction to multilingual texts: \n",
    "1. First you will use a parsed corpus of Swedish; and then\n",
    "2. You will apply it to other languages.\n",
    "            \n",
    "The objectives of this assignment are to:\n",
    "* Extract the subject–verb pairs from a parsed corpus\n",
    "* Extend the extraction to subject–verb–object triples\n",
    "* Understand how dependency parsing can help create a knowledge base\n",
    "* Write a short report of 1 to 2 pages on the assignment"
   ]
  },
  {
   "cell_type": "markdown",
   "metadata": {
    "papermill": {
     "duration": 0.04928,
     "end_time": "2020-12-11T20:24:52.934095",
     "exception": false,
     "start_time": "2020-12-11T20:24:52.884815",
     "status": "completed"
    },
    "tags": []
   },
   "source": [
    "## Corpus"
   ]
  },
  {
   "cell_type": "markdown",
   "metadata": {
    "papermill": {
     "duration": 0.049606,
     "end_time": "2020-12-11T20:24:53.033276",
     "exception": false,
     "start_time": "2020-12-11T20:24:52.983670",
     "status": "completed"
    },
    "tags": []
   },
   "source": [
    "As corpora, you will use the Universal Dependencies: https://universaldependencies.org/.\n",
    "1. In the first part of the assignment, you will focus on Swedish as it is easier to understand for most students, and then \n",
    "2. Move on to all the other languages. \n",
    "\n",
    "You will only consider the training sets of each corpus."
   ]
  },
  {
   "cell_type": "markdown",
   "metadata": {
    "papermill": {
     "duration": 0.050373,
     "end_time": "2020-12-11T20:24:53.133957",
     "exception": false,
     "start_time": "2020-12-11T20:24:53.083584",
     "status": "completed"
    },
    "tags": []
   },
   "source": [
    "### Choosing a parsed corpus"
   ]
  },
  {
   "cell_type": "markdown",
   "metadata": {
    "papermill": {
     "duration": 0.048504,
     "end_time": "2020-12-11T20:24:53.234495",
     "exception": false,
     "start_time": "2020-12-11T20:24:53.185991",
     "status": "completed"
    },
    "tags": []
   },
   "source": [
    "1. Download the latest version of Universal dependencies (2.6) and uncompress them.\n",
    "2. Go to the Swedish _Talbanken_ corpus;\n",
    "3. Read the CoNLL-U annotation here: https://universaldependencies.org/format.html"
   ]
  },
  {
   "cell_type": "markdown",
   "metadata": {
    "papermill": {
     "duration": 0.050201,
     "end_time": "2020-12-11T20:24:53.333993",
     "exception": false,
     "start_time": "2020-12-11T20:24:53.283792",
     "status": "completed"
    },
    "tags": []
   },
   "source": [
    "### Examining the annotation"
   ]
  },
  {
   "cell_type": "markdown",
   "metadata": {
    "papermill": {
     "duration": 0.048528,
     "end_time": "2020-12-11T20:24:53.431457",
     "exception": false,
     "start_time": "2020-12-11T20:24:53.382929",
     "status": "completed"
    },
    "tags": []
   },
   "source": [
    "You will carry out the following steps and describe them in your report:\n",
    "\n",
    "1. Draw graphical representations of the two first Swedish sentences of the training set. You will include these drawings in your report;\n",
    "2. Visualize these sentences with this tool: http://spyysalo.github.io/conllu.js/ and check that you have the same results;\n",
    "3. Apply the dependency parser for Swedish of the <a href=\"http://vilde.cs.lth.se:9000/\">Langforia pipelines</a> to these sentences (only the text of each sentence). You will have to select Swedish and activate both `Token` and `DependencyRelation`. Link to Lanforia pipelines: <a href=\"http://vilde.cs.lth.se:9000/\">http://vilde.cs.lth.se:9000/</a>. You will describe possible differences."
   ]
  },
  {
   "cell_type": "markdown",
   "metadata": {
    "papermill": {
     "duration": 0.049367,
     "end_time": "2020-12-11T20:24:53.529495",
     "exception": false,
     "start_time": "2020-12-11T20:24:53.480128",
     "status": "completed"
    },
    "tags": []
   },
   "source": [
    "## Programming"
   ]
  },
  {
   "cell_type": "markdown",
   "metadata": {
    "papermill": {
     "duration": 0.048983,
     "end_time": "2020-12-11T20:24:53.628324",
     "exception": false,
     "start_time": "2020-12-11T20:24:53.579341",
     "status": "completed"
    },
    "tags": []
   },
   "source": [
    "### Swedish"
   ]
  },
  {
   "cell_type": "markdown",
   "metadata": {
    "papermill": {
     "duration": 0.048452,
     "end_time": "2020-12-11T20:24:53.725652",
     "exception": false,
     "start_time": "2020-12-11T20:24:53.677200",
     "status": "completed"
    },
    "tags": []
   },
   "source": [
    "You will extract all the subject–verb pairs and the subject–verb–object triples from the Swedish _Talbanken_ training corpus. To start the program, you can use the CoNLL-U reader available in the cells below.\n",
    "This program works for the other corpora."
   ]
  },
  {
   "cell_type": "markdown",
   "metadata": {
    "papermill": {
     "duration": 0.04972,
     "end_time": "2020-12-11T20:24:53.824308",
     "exception": false,
     "start_time": "2020-12-11T20:24:53.774588",
     "status": "completed"
    },
    "tags": []
   },
   "source": [
    "#### Imports"
   ]
  },
  {
   "cell_type": "code",
   "execution_count": 1,
   "metadata": {
    "execution": {
     "iopub.execute_input": "2020-12-11T20:24:53.927769Z",
     "iopub.status.busy": "2020-12-11T20:24:53.927009Z",
     "iopub.status.idle": "2020-12-11T20:24:53.950392Z",
     "shell.execute_reply": "2020-12-11T20:24:53.949867Z"
    },
    "papermill": {
     "duration": 0.076668,
     "end_time": "2020-12-11T20:24:53.950490",
     "exception": false,
     "start_time": "2020-12-11T20:24:53.873822",
     "status": "completed"
    },
    "tags": []
   },
   "outputs": [],
   "source": [
    "import os\n",
    "import regex as re"
   ]
  },
  {
   "cell_type": "markdown",
   "metadata": {
    "papermill": {
     "duration": 0.048569,
     "end_time": "2020-12-11T20:24:54.047976",
     "exception": false,
     "start_time": "2020-12-11T20:24:53.999407",
     "status": "completed"
    },
    "tags": []
   },
   "source": [
    "### Corpus location"
   ]
  },
  {
   "cell_type": "markdown",
   "metadata": {
    "papermill": {
     "duration": 0.049724,
     "end_time": "2020-12-11T20:24:54.147230",
     "exception": false,
     "start_time": "2020-12-11T20:24:54.097506",
     "status": "completed"
    },
    "tags": []
   },
   "source": [
    "Here are the corpus locations you will use. You may have to adjust `ud_path`."
   ]
  },
  {
   "cell_type": "code",
   "execution_count": 2,
   "metadata": {
    "execution": {
     "iopub.execute_input": "2020-12-11T20:24:54.251093Z",
     "iopub.status.busy": "2020-12-11T20:24:54.250344Z",
     "iopub.status.idle": "2020-12-11T20:24:54.254285Z",
     "shell.execute_reply": "2020-12-11T20:24:54.253783Z"
    },
    "papermill": {
     "duration": 0.056259,
     "end_time": "2020-12-11T20:24:54.254412",
     "exception": false,
     "start_time": "2020-12-11T20:24:54.198153",
     "status": "completed"
    },
    "tags": []
   },
   "outputs": [],
   "source": [
    "ud_path = '../input/udtreebanksv26/ud-treebanks-v2.6/'"
   ]
  },
  {
   "cell_type": "code",
   "execution_count": 3,
   "metadata": {
    "execution": {
     "iopub.execute_input": "2020-12-11T20:24:54.357089Z",
     "iopub.status.busy": "2020-12-11T20:24:54.356321Z",
     "iopub.status.idle": "2020-12-11T20:24:54.360310Z",
     "shell.execute_reply": "2020-12-11T20:24:54.359810Z"
    },
    "papermill": {
     "duration": 0.057388,
     "end_time": "2020-12-11T20:24:54.360403",
     "exception": false,
     "start_time": "2020-12-11T20:24:54.303015",
     "status": "completed"
    },
    "tags": []
   },
   "outputs": [],
   "source": [
    "path_sv = ud_path + 'UD_Swedish-Talbanken/sv_talbanken-ud-train.conllu'\n",
    "path_fr = ud_path + 'UD_French-GSD/fr_gsd-ud-train.conllu'\n",
    "path_ru = ud_path + 'UD_Russian-SynTagRus/ru_syntagrus-ud-train.conllu'\n",
    "path_en = ud_path + 'UD_English-EWT/en_ewt-ud-train.conllu'"
   ]
  },
  {
   "cell_type": "markdown",
   "metadata": {
    "papermill": {
     "duration": 0.048626,
     "end_time": "2020-12-11T20:24:54.458206",
     "exception": false,
     "start_time": "2020-12-11T20:24:54.409580",
     "status": "completed"
    },
    "tags": []
   },
   "source": [
    "The column names of the CoNLL-U corpora"
   ]
  },
  {
   "cell_type": "code",
   "execution_count": 4,
   "metadata": {
    "execution": {
     "iopub.execute_input": "2020-12-11T20:24:54.563821Z",
     "iopub.status.busy": "2020-12-11T20:24:54.562097Z",
     "iopub.status.idle": "2020-12-11T20:24:54.564463Z",
     "shell.execute_reply": "2020-12-11T20:24:54.564966Z"
    },
    "papermill": {
     "duration": 0.057997,
     "end_time": "2020-12-11T20:24:54.565093",
     "exception": false,
     "start_time": "2020-12-11T20:24:54.507096",
     "status": "completed"
    },
    "tags": []
   },
   "outputs": [],
   "source": [
    "column_names_u = ['ID', 'FORM', 'LEMMA', 'UPOS', 'XPOS', 'FEATS', 'HEAD', 'DEPREL', 'DEPS', 'MISC']"
   ]
  },
  {
   "cell_type": "markdown",
   "metadata": {
    "papermill": {
     "duration": 0.04906,
     "end_time": "2020-12-11T20:24:54.662406",
     "exception": false,
     "start_time": "2020-12-11T20:24:54.613346",
     "status": "completed"
    },
    "tags": []
   },
   "source": [
    "#### Functions to read the CoNLL-U files"
   ]
  },
  {
   "cell_type": "code",
   "execution_count": 5,
   "metadata": {
    "execution": {
     "iopub.execute_input": "2020-12-11T20:24:54.766647Z",
     "iopub.status.busy": "2020-12-11T20:24:54.765969Z",
     "iopub.status.idle": "2020-12-11T20:24:54.769916Z",
     "shell.execute_reply": "2020-12-11T20:24:54.770384Z"
    },
    "papermill": {
     "duration": 0.059603,
     "end_time": "2020-12-11T20:24:54.770561",
     "exception": false,
     "start_time": "2020-12-11T20:24:54.710958",
     "status": "completed"
    },
    "tags": []
   },
   "outputs": [],
   "source": [
    "def read_sentences(file):\n",
    "    \"\"\"\n",
    "    Creates a list of sentences from the corpus\n",
    "    Each sentence is a string\n",
    "    :param file:\n",
    "    :return:\n",
    "    \"\"\"\n",
    "    f = open(file, encoding='utf-8').read().strip()\n",
    "    sentences = f.split('\\n\\n')\n",
    "    return sentences"
   ]
  },
  {
   "cell_type": "code",
   "execution_count": 6,
   "metadata": {
    "execution": {
     "iopub.execute_input": "2020-12-11T20:24:54.879094Z",
     "iopub.status.busy": "2020-12-11T20:24:54.878144Z",
     "iopub.status.idle": "2020-12-11T20:24:54.881044Z",
     "shell.execute_reply": "2020-12-11T20:24:54.880496Z"
    },
    "papermill": {
     "duration": 0.060252,
     "end_time": "2020-12-11T20:24:54.881146",
     "exception": false,
     "start_time": "2020-12-11T20:24:54.820894",
     "status": "completed"
    },
    "tags": []
   },
   "outputs": [],
   "source": [
    "def split_rows(sentences, column_names):\n",
    "    \"\"\"\n",
    "    Creates a list of sentence where each sentence is a list of lines\n",
    "    Each line is a dictionary of columns\n",
    "    :param sentences:\n",
    "    :param column_names:\n",
    "    :return:\n",
    "    \"\"\"\n",
    "    new_sentences = []\n",
    "    root_values = ['0', 'ROOT', 'ROOT', 'ROOT', 'ROOT', 'ROOT', '0', 'ROOT', '0', 'ROOT']\n",
    "    start = [dict(zip(column_names, root_values))]\n",
    "    for sentence in sentences:\n",
    "        rows = sentence.split('\\n')\n",
    "        sentence = [dict(zip(column_names, row.split('\\t'))) for row in rows if row[0] != '#']\n",
    "        sentence = start + sentence\n",
    "        new_sentences.append(sentence)\n",
    "    return new_sentences"
   ]
  },
  {
   "cell_type": "markdown",
   "metadata": {
    "papermill": {
     "duration": 0.055968,
     "end_time": "2020-12-11T20:24:54.986362",
     "exception": false,
     "start_time": "2020-12-11T20:24:54.930394",
     "status": "completed"
    },
    "tags": []
   },
   "source": [
    "#### Reading the corpus"
   ]
  },
  {
   "cell_type": "markdown",
   "metadata": {
    "papermill": {
     "duration": 0.049082,
     "end_time": "2020-12-11T20:24:55.086714",
     "exception": false,
     "start_time": "2020-12-11T20:24:55.037632",
     "status": "completed"
    },
    "tags": []
   },
   "source": [
    "We load the Swedish Talbanken corpus."
   ]
  },
  {
   "cell_type": "code",
   "execution_count": 7,
   "metadata": {
    "execution": {
     "iopub.execute_input": "2020-12-11T20:24:55.192649Z",
     "iopub.status.busy": "2020-12-11T20:24:55.191981Z",
     "iopub.status.idle": "2020-12-11T20:24:55.577794Z",
     "shell.execute_reply": "2020-12-11T20:24:55.576944Z"
    },
    "papermill": {
     "duration": 0.440709,
     "end_time": "2020-12-11T20:24:55.577916",
     "exception": false,
     "start_time": "2020-12-11T20:24:55.137207",
     "status": "completed"
    },
    "tags": []
   },
   "outputs": [],
   "source": [
    "sentences = read_sentences(path_sv)\n",
    "formatted_corpus = split_rows(sentences, column_names_u)"
   ]
  },
  {
   "cell_type": "code",
   "execution_count": 8,
   "metadata": {
    "execution": {
     "iopub.execute_input": "2020-12-11T20:24:55.683994Z",
     "iopub.status.busy": "2020-12-11T20:24:55.683162Z",
     "iopub.status.idle": "2020-12-11T20:24:55.688462Z",
     "shell.execute_reply": "2020-12-11T20:24:55.687970Z"
    },
    "papermill": {
     "duration": 0.061007,
     "end_time": "2020-12-11T20:24:55.688580",
     "exception": false,
     "start_time": "2020-12-11T20:24:55.627573",
     "status": "completed"
    },
    "tags": []
   },
   "outputs": [
    {
     "data": {
      "text/plain": [
       "4303"
      ]
     },
     "execution_count": 8,
     "metadata": {},
     "output_type": "execute_result"
    }
   ],
   "source": [
    "len(formatted_corpus)"
   ]
  },
  {
   "cell_type": "markdown",
   "metadata": {
    "papermill": {
     "duration": 0.050203,
     "end_time": "2020-12-11T20:24:55.791292",
     "exception": false,
     "start_time": "2020-12-11T20:24:55.741089",
     "status": "completed"
    },
    "tags": []
   },
   "source": [
    "The parsed sentence: _Genom skattereformen införs individuell beskattning (särbeskattning) av arbetsinkomster._"
   ]
  },
  {
   "cell_type": "code",
   "execution_count": 9,
   "metadata": {
    "execution": {
     "iopub.execute_input": "2020-12-11T20:24:55.904789Z",
     "iopub.status.busy": "2020-12-11T20:24:55.904095Z",
     "iopub.status.idle": "2020-12-11T20:24:55.909823Z",
     "shell.execute_reply": "2020-12-11T20:24:55.910278Z"
    },
    "papermill": {
     "duration": 0.066157,
     "end_time": "2020-12-11T20:24:55.910420",
     "exception": false,
     "start_time": "2020-12-11T20:24:55.844263",
     "status": "completed"
    },
    "tags": []
   },
   "outputs": [
    {
     "data": {
      "text/plain": [
       "[{'ID': '0',\n",
       "  'FORM': 'ROOT',\n",
       "  'LEMMA': 'ROOT',\n",
       "  'UPOS': 'ROOT',\n",
       "  'XPOS': 'ROOT',\n",
       "  'FEATS': 'ROOT',\n",
       "  'HEAD': '0',\n",
       "  'DEPREL': 'ROOT',\n",
       "  'DEPS': '0',\n",
       "  'MISC': 'ROOT'},\n",
       " {'ID': '1',\n",
       "  'FORM': 'Genom',\n",
       "  'LEMMA': 'genom',\n",
       "  'UPOS': 'ADP',\n",
       "  'XPOS': 'PP',\n",
       "  'FEATS': '_',\n",
       "  'HEAD': '2',\n",
       "  'DEPREL': 'case',\n",
       "  'DEPS': '2:case',\n",
       "  'MISC': '_'},\n",
       " {'ID': '2',\n",
       "  'FORM': 'skattereformen',\n",
       "  'LEMMA': 'skattereform',\n",
       "  'UPOS': 'NOUN',\n",
       "  'XPOS': 'NN|UTR|SIN|DEF|NOM',\n",
       "  'FEATS': 'Case=Nom|Definite=Def|Gender=Com|Number=Sing',\n",
       "  'HEAD': '3',\n",
       "  'DEPREL': 'obl',\n",
       "  'DEPS': '3:obl:genom',\n",
       "  'MISC': '_'},\n",
       " {'ID': '3',\n",
       "  'FORM': 'införs',\n",
       "  'LEMMA': 'införa',\n",
       "  'UPOS': 'VERB',\n",
       "  'XPOS': 'VB|PRS|SFO',\n",
       "  'FEATS': 'Mood=Ind|Tense=Pres|VerbForm=Fin|Voice=Pass',\n",
       "  'HEAD': '0',\n",
       "  'DEPREL': 'root',\n",
       "  'DEPS': '0:root',\n",
       "  'MISC': '_'},\n",
       " {'ID': '4',\n",
       "  'FORM': 'individuell',\n",
       "  'LEMMA': 'individuell',\n",
       "  'UPOS': 'ADJ',\n",
       "  'XPOS': 'JJ|POS|UTR|SIN|IND|NOM',\n",
       "  'FEATS': 'Case=Nom|Definite=Ind|Degree=Pos|Gender=Com|Number=Sing',\n",
       "  'HEAD': '5',\n",
       "  'DEPREL': 'amod',\n",
       "  'DEPS': '5:amod',\n",
       "  'MISC': '_'},\n",
       " {'ID': '5',\n",
       "  'FORM': 'beskattning',\n",
       "  'LEMMA': 'beskattning',\n",
       "  'UPOS': 'NOUN',\n",
       "  'XPOS': 'NN|UTR|SIN|IND|NOM',\n",
       "  'FEATS': 'Case=Nom|Definite=Ind|Gender=Com|Number=Sing',\n",
       "  'HEAD': '3',\n",
       "  'DEPREL': 'nsubj:pass',\n",
       "  'DEPS': '3:nsubj:pass',\n",
       "  'MISC': '_'},\n",
       " {'ID': '6',\n",
       "  'FORM': '(',\n",
       "  'LEMMA': '(',\n",
       "  'UPOS': 'PUNCT',\n",
       "  'XPOS': 'PAD',\n",
       "  'FEATS': '_',\n",
       "  'HEAD': '5',\n",
       "  'DEPREL': 'punct',\n",
       "  'DEPS': '5:punct',\n",
       "  'MISC': 'SpaceAfter=No'},\n",
       " {'ID': '7',\n",
       "  'FORM': 'särbeskattning',\n",
       "  'LEMMA': 'särbeskattning',\n",
       "  'UPOS': 'NOUN',\n",
       "  'XPOS': 'NN|UTR|SIN|IND|NOM',\n",
       "  'FEATS': 'Case=Nom|Definite=Ind|Gender=Com|Number=Sing',\n",
       "  'HEAD': '5',\n",
       "  'DEPREL': 'appos',\n",
       "  'DEPS': '5:appos',\n",
       "  'MISC': 'SpaceAfter=No'},\n",
       " {'ID': '8',\n",
       "  'FORM': ')',\n",
       "  'LEMMA': ')',\n",
       "  'UPOS': 'PUNCT',\n",
       "  'XPOS': 'PAD',\n",
       "  'FEATS': '_',\n",
       "  'HEAD': '5',\n",
       "  'DEPREL': 'punct',\n",
       "  'DEPS': '5:punct',\n",
       "  'MISC': '_'},\n",
       " {'ID': '9',\n",
       "  'FORM': 'av',\n",
       "  'LEMMA': 'av',\n",
       "  'UPOS': 'ADP',\n",
       "  'XPOS': 'PP',\n",
       "  'FEATS': '_',\n",
       "  'HEAD': '10',\n",
       "  'DEPREL': 'case',\n",
       "  'DEPS': '10:case',\n",
       "  'MISC': '_'},\n",
       " {'ID': '10',\n",
       "  'FORM': 'arbetsinkomster',\n",
       "  'LEMMA': 'arbetsinkomst',\n",
       "  'UPOS': 'NOUN',\n",
       "  'XPOS': 'NN|UTR|PLU|IND|NOM',\n",
       "  'FEATS': 'Case=Nom|Definite=Ind|Gender=Com|Number=Plur',\n",
       "  'HEAD': '5',\n",
       "  'DEPREL': 'nmod',\n",
       "  'DEPS': '5:nmod:av',\n",
       "  'MISC': 'SpaceAfter=No'},\n",
       " {'ID': '11',\n",
       "  'FORM': '.',\n",
       "  'LEMMA': '.',\n",
       "  'UPOS': 'PUNCT',\n",
       "  'XPOS': 'MAD',\n",
       "  'FEATS': '_',\n",
       "  'HEAD': '3',\n",
       "  'DEPREL': 'punct',\n",
       "  'DEPS': '3:punct',\n",
       "  'MISC': '_'}]"
      ]
     },
     "execution_count": 9,
     "metadata": {},
     "output_type": "execute_result"
    }
   ],
   "source": [
    "formatted_corpus[1]"
   ]
  },
  {
   "cell_type": "markdown",
   "metadata": {
    "papermill": {
     "duration": 0.054314,
     "end_time": "2020-12-11T20:24:56.017433",
     "exception": false,
     "start_time": "2020-12-11T20:24:55.963119",
     "status": "completed"
    },
    "tags": []
   },
   "source": [
    "#### Converting the lists in dictionaries"
   ]
  },
  {
   "cell_type": "markdown",
   "metadata": {
    "papermill": {
     "duration": 0.051849,
     "end_time": "2020-12-11T20:24:56.121813",
     "exception": false,
     "start_time": "2020-12-11T20:24:56.069964",
     "status": "completed"
    },
    "tags": []
   },
   "source": [
    "To ease the processing of some corpora, you will use a dictionary represention of the sentences. The keys will be the `ID` values. We do this because `ID` is not necessarily a number."
   ]
  },
  {
   "cell_type": "code",
   "execution_count": 10,
   "metadata": {
    "execution": {
     "iopub.execute_input": "2020-12-11T20:24:56.234666Z",
     "iopub.status.busy": "2020-12-11T20:24:56.232850Z",
     "iopub.status.idle": "2020-12-11T20:24:56.235444Z",
     "shell.execute_reply": "2020-12-11T20:24:56.235981Z"
    },
    "papermill": {
     "duration": 0.061218,
     "end_time": "2020-12-11T20:24:56.236106",
     "exception": false,
     "start_time": "2020-12-11T20:24:56.174888",
     "status": "completed"
    },
    "tags": []
   },
   "outputs": [],
   "source": [
    "def convert_to_dict(formatted_corpus):\n",
    "    \"\"\"\n",
    "    Converts each sentence from a list of words to a dictionary where the keys are id\n",
    "    :param formatted_corpus:\n",
    "    :return:\n",
    "    \"\"\"\n",
    "    formatted_corpus_dict = []\n",
    "    for sentence in formatted_corpus:\n",
    "        sentence_dict = {}\n",
    "        for word in sentence:\n",
    "            sentence_dict[word['ID']] = word\n",
    "        formatted_corpus_dict.append(sentence_dict)\n",
    "    return formatted_corpus_dict"
   ]
  },
  {
   "cell_type": "code",
   "execution_count": 11,
   "metadata": {
    "execution": {
     "iopub.execute_input": "2020-12-11T20:24:56.370144Z",
     "iopub.status.busy": "2020-12-11T20:24:56.369117Z",
     "iopub.status.idle": "2020-12-11T20:24:56.373737Z",
     "shell.execute_reply": "2020-12-11T20:24:56.374385Z"
    },
    "papermill": {
     "duration": 0.086911,
     "end_time": "2020-12-11T20:24:56.374542",
     "exception": false,
     "start_time": "2020-12-11T20:24:56.287631",
     "status": "completed"
    },
    "scrolled": false,
    "tags": []
   },
   "outputs": [
    {
     "data": {
      "text/plain": [
       "{'0': {'ID': '0',\n",
       "  'FORM': 'ROOT',\n",
       "  'LEMMA': 'ROOT',\n",
       "  'UPOS': 'ROOT',\n",
       "  'XPOS': 'ROOT',\n",
       "  'FEATS': 'ROOT',\n",
       "  'HEAD': '0',\n",
       "  'DEPREL': 'ROOT',\n",
       "  'DEPS': '0',\n",
       "  'MISC': 'ROOT'},\n",
       " '1': {'ID': '1',\n",
       "  'FORM': 'Genom',\n",
       "  'LEMMA': 'genom',\n",
       "  'UPOS': 'ADP',\n",
       "  'XPOS': 'PP',\n",
       "  'FEATS': '_',\n",
       "  'HEAD': '2',\n",
       "  'DEPREL': 'case',\n",
       "  'DEPS': '2:case',\n",
       "  'MISC': '_'},\n",
       " '2': {'ID': '2',\n",
       "  'FORM': 'skattereformen',\n",
       "  'LEMMA': 'skattereform',\n",
       "  'UPOS': 'NOUN',\n",
       "  'XPOS': 'NN|UTR|SIN|DEF|NOM',\n",
       "  'FEATS': 'Case=Nom|Definite=Def|Gender=Com|Number=Sing',\n",
       "  'HEAD': '3',\n",
       "  'DEPREL': 'obl',\n",
       "  'DEPS': '3:obl:genom',\n",
       "  'MISC': '_'},\n",
       " '3': {'ID': '3',\n",
       "  'FORM': 'införs',\n",
       "  'LEMMA': 'införa',\n",
       "  'UPOS': 'VERB',\n",
       "  'XPOS': 'VB|PRS|SFO',\n",
       "  'FEATS': 'Mood=Ind|Tense=Pres|VerbForm=Fin|Voice=Pass',\n",
       "  'HEAD': '0',\n",
       "  'DEPREL': 'root',\n",
       "  'DEPS': '0:root',\n",
       "  'MISC': '_'},\n",
       " '4': {'ID': '4',\n",
       "  'FORM': 'individuell',\n",
       "  'LEMMA': 'individuell',\n",
       "  'UPOS': 'ADJ',\n",
       "  'XPOS': 'JJ|POS|UTR|SIN|IND|NOM',\n",
       "  'FEATS': 'Case=Nom|Definite=Ind|Degree=Pos|Gender=Com|Number=Sing',\n",
       "  'HEAD': '5',\n",
       "  'DEPREL': 'amod',\n",
       "  'DEPS': '5:amod',\n",
       "  'MISC': '_'},\n",
       " '5': {'ID': '5',\n",
       "  'FORM': 'beskattning',\n",
       "  'LEMMA': 'beskattning',\n",
       "  'UPOS': 'NOUN',\n",
       "  'XPOS': 'NN|UTR|SIN|IND|NOM',\n",
       "  'FEATS': 'Case=Nom|Definite=Ind|Gender=Com|Number=Sing',\n",
       "  'HEAD': '3',\n",
       "  'DEPREL': 'nsubj:pass',\n",
       "  'DEPS': '3:nsubj:pass',\n",
       "  'MISC': '_'},\n",
       " '6': {'ID': '6',\n",
       "  'FORM': '(',\n",
       "  'LEMMA': '(',\n",
       "  'UPOS': 'PUNCT',\n",
       "  'XPOS': 'PAD',\n",
       "  'FEATS': '_',\n",
       "  'HEAD': '5',\n",
       "  'DEPREL': 'punct',\n",
       "  'DEPS': '5:punct',\n",
       "  'MISC': 'SpaceAfter=No'},\n",
       " '7': {'ID': '7',\n",
       "  'FORM': 'särbeskattning',\n",
       "  'LEMMA': 'särbeskattning',\n",
       "  'UPOS': 'NOUN',\n",
       "  'XPOS': 'NN|UTR|SIN|IND|NOM',\n",
       "  'FEATS': 'Case=Nom|Definite=Ind|Gender=Com|Number=Sing',\n",
       "  'HEAD': '5',\n",
       "  'DEPREL': 'appos',\n",
       "  'DEPS': '5:appos',\n",
       "  'MISC': 'SpaceAfter=No'},\n",
       " '8': {'ID': '8',\n",
       "  'FORM': ')',\n",
       "  'LEMMA': ')',\n",
       "  'UPOS': 'PUNCT',\n",
       "  'XPOS': 'PAD',\n",
       "  'FEATS': '_',\n",
       "  'HEAD': '5',\n",
       "  'DEPREL': 'punct',\n",
       "  'DEPS': '5:punct',\n",
       "  'MISC': '_'},\n",
       " '9': {'ID': '9',\n",
       "  'FORM': 'av',\n",
       "  'LEMMA': 'av',\n",
       "  'UPOS': 'ADP',\n",
       "  'XPOS': 'PP',\n",
       "  'FEATS': '_',\n",
       "  'HEAD': '10',\n",
       "  'DEPREL': 'case',\n",
       "  'DEPS': '10:case',\n",
       "  'MISC': '_'},\n",
       " '10': {'ID': '10',\n",
       "  'FORM': 'arbetsinkomster',\n",
       "  'LEMMA': 'arbetsinkomst',\n",
       "  'UPOS': 'NOUN',\n",
       "  'XPOS': 'NN|UTR|PLU|IND|NOM',\n",
       "  'FEATS': 'Case=Nom|Definite=Ind|Gender=Com|Number=Plur',\n",
       "  'HEAD': '5',\n",
       "  'DEPREL': 'nmod',\n",
       "  'DEPS': '5:nmod:av',\n",
       "  'MISC': 'SpaceAfter=No'},\n",
       " '11': {'ID': '11',\n",
       "  'FORM': '.',\n",
       "  'LEMMA': '.',\n",
       "  'UPOS': 'PUNCT',\n",
       "  'XPOS': 'MAD',\n",
       "  'FEATS': '_',\n",
       "  'HEAD': '3',\n",
       "  'DEPREL': 'punct',\n",
       "  'DEPS': '3:punct',\n",
       "  'MISC': '_'}}"
      ]
     },
     "execution_count": 11,
     "metadata": {},
     "output_type": "execute_result"
    }
   ],
   "source": [
    "formatted_corpus_dict = convert_to_dict(formatted_corpus)\n",
    "formatted_corpus_dict[1]"
   ]
  },
  {
   "cell_type": "markdown",
   "metadata": {
    "papermill": {
     "duration": 0.053343,
     "end_time": "2020-12-11T20:24:56.479872",
     "exception": false,
     "start_time": "2020-12-11T20:24:56.426529",
     "status": "completed"
    },
    "tags": []
   },
   "source": [
    "### Extracting the subject-verb pairs"
   ]
  },
  {
   "cell_type": "markdown",
   "metadata": {
    "papermill": {
     "duration": 0.05124,
     "end_time": "2020-12-11T20:24:56.583228",
     "exception": false,
     "start_time": "2020-12-11T20:24:56.531988",
     "status": "completed"
    },
    "tags": []
   },
   "source": [
    "Now you will extract the subject-verb pairs, where you will set the words in lowercase. In the second sentence of the corpus, this corresponds to `(beskattning, införs)`. You will call the function `extract_pairs(formatted_corpus_dict)` and and you will store the results in a `pairs_sv` variable. All the corpora in the universal dependencies format use the same function names: `nsubj` and `obj` for the subject and direct object.\n",
    "\n",
    "You can use the algorithm you want. However, here are some hints on the results:\n",
    "* You will extract all the subject-verb pairs in the corpus. In the extraction, just check the function between two words. Do not check if the part of speech is a verb or a noun in the pair. You will also ignore the possible function suffixes as in `nsubj:pass`, where `pass` means passive.\n",
    "* You will return the results as Python's dictionaries, where the key will be the pair and the value, the count, as for instance `{(beskattning, införs): 1}`. Be sure you understand the Python dictionaries and note that you can use tuples as keys."
   ]
  },
  {
   "cell_type": "code",
   "execution_count": 12,
   "metadata": {
    "execution": {
     "iopub.execute_input": "2020-12-11T20:24:56.696176Z",
     "iopub.status.busy": "2020-12-11T20:24:56.695295Z",
     "iopub.status.idle": "2020-12-11T20:24:56.698445Z",
     "shell.execute_reply": "2020-12-11T20:24:56.697939Z"
    },
    "papermill": {
     "duration": 0.06398,
     "end_time": "2020-12-11T20:24:56.698590",
     "exception": false,
     "start_time": "2020-12-11T20:24:56.634610",
     "status": "completed"
    },
    "tags": []
   },
   "outputs": [],
   "source": [
    "def extract_pairs(formatted_corpus_dict):\n",
    "    result = {}\n",
    "    for sentence in formatted_corpus_dict:\n",
    "        for e in sentence.values():\n",
    "            subj = e['FORM']\n",
    "            verb_ind = e['HEAD']\n",
    "            if not verb_ind.isnumeric():\n",
    "                continue\n",
    "            if int(verb_ind) > 0 and 'nsubj' in e['DEPREL']:\n",
    "                pair = (subj.lower(), sentence[verb_ind]['FORM'].lower())\n",
    "                if pair in result:\n",
    "                    result[pair] +=1\n",
    "                else:\n",
    "                    result[pair] = 1\n",
    "    return result"
   ]
  },
  {
   "cell_type": "code",
   "execution_count": 13,
   "metadata": {
    "execution": {
     "iopub.execute_input": "2020-12-11T20:24:56.836208Z",
     "iopub.status.busy": "2020-12-11T20:24:56.831142Z",
     "iopub.status.idle": "2020-12-11T20:24:56.861436Z",
     "shell.execute_reply": "2020-12-11T20:24:56.860878Z"
    },
    "papermill": {
     "duration": 0.111208,
     "end_time": "2020-12-11T20:24:56.861582",
     "exception": false,
     "start_time": "2020-12-11T20:24:56.750374",
     "status": "completed"
    },
    "tags": []
   },
   "outputs": [],
   "source": [
    "pairs_sv = extract_pairs(formatted_corpus_dict)"
   ]
  },
  {
   "cell_type": "code",
   "execution_count": 14,
   "metadata": {
    "execution": {
     "iopub.execute_input": "2020-12-11T20:24:56.992283Z",
     "iopub.status.busy": "2020-12-11T20:24:56.980621Z",
     "iopub.status.idle": "2020-12-11T20:24:57.122695Z",
     "shell.execute_reply": "2020-12-11T20:24:57.123460Z"
    },
    "papermill": {
     "duration": 0.208844,
     "end_time": "2020-12-11T20:24:57.123698",
     "exception": false,
     "start_time": "2020-12-11T20:24:56.914854",
     "status": "completed"
    },
    "tags": []
   },
   "outputs": [
    {
     "data": {
      "text/plain": [
       "{('beskattning', 'införs'): 1,\n",
       " ('det', 'innebär'): 7,\n",
       " ('skatteskala', 'finnas'): 1,\n",
       " ('den', 'blir'): 4,\n",
       " ('den', 'gäller'): 2,\n",
       " ('inkomster', 'kallas'): 1,\n",
       " ('som', 'beskattas'): 2,\n",
       " ('inkomster', 'inkomst'): 1,\n",
       " ('understöd', 'undantag'): 1,\n",
       " ('skattskyldige', 'arbetat'): 2,\n",
       " ('inkomster', 'b-inkomster'): 1,\n",
       " ('inkomst', 'b-inkomster'): 1,\n",
       " ('b-inkomster', 'betraktas'): 1,\n",
       " ('som', 'uppgår'): 1,\n",
       " ('särbeskattning', 'tillämpas'): 1,\n",
       " ('ansökan', 'göras'): 1,\n",
       " ('kommunalskatteavdraget', 'slopas'): 1,\n",
       " ('rätten', 'slopas'): 1,\n",
       " ('som', 'avlämnas'): 1,\n",
       " ('som', 'avser'): 1,\n",
       " ('avdrag', 'göras'): 1,\n",
       " ('förvärvsavdragen', 'ändras'): 1,\n",
       " ('förvärvsavdrag', 'medges'): 1,\n",
       " ('barn', 'finns'): 2,\n",
       " ('avdrag', 'medges'): 1,\n",
       " ('ålder', 'räknas'): 1,\n",
       " ('barnet', 'fött'): 2,\n",
       " ('de', 'likställs'): 1,\n",
       " ('som', 'lever'): 7,\n",
       " ('de', 'gifta'): 1,\n",
       " ('avdrag', 'höjs'): 1,\n",
       " ('åldergränsen', 'höjs'): 1,\n",
       " ('kravet', 'mildrats'): 1,\n",
       " ('avdraget', 'styrkas'): 1,\n",
       " ('intyg', 'bifogas'): 1,\n",
       " ('dom', 'godtas'): 1,\n",
       " ('ortsavdraget', 'ersätts'): 1,\n",
       " ('grundavdraget', 'uppgår'): 2,\n",
       " ('som', 'ersätter'): 2,\n",
       " ('avdraget', 'sjunker'): 1,\n",
       " ('som', 'överstiger'): 2,\n",
       " ('grundavdraget', 'upphör'): 1,\n",
       " ('inkomst', 'uppgår'): 1,\n",
       " ('grundavdraget', 'blir'): 1,\n",
       " ('grundavdrag', 'avräknas'): 1,\n",
       " ('grundavdrag', 'överföras'): 1,\n",
       " ('maken', 'har'): 1,\n",
       " ('regler', 'gäller'): 1,\n",
       " ('som', 'bosatt'): 1,\n",
       " ('som', 'haft'): 2,\n",
       " ('gränsen', 'höjs'): 1,\n",
       " ('ungdom', 'ha'): 1,\n",
       " ('regeln', 'bibehålls'): 1,\n",
       " ('skattskyldig', 'påförs'): 1,\n",
       " ('som', 'har'): 45,\n",
       " ('bostadstillägget', 'blir'): 1,\n",
       " ('folkpensionären', 'har'): 1,\n",
       " ('folkpensionär', 'ha'): 1,\n",
       " ('pensionärer', 'blir'): 1,\n",
       " ('sidoinkomsten', 'uppgår'): 1,\n",
       " ('detta', 'ordnas'): 1,\n",
       " ('finansministern', 'åberopade'): 1,\n",
       " ('broschyren', 'ge'): 1,\n",
       " ('som', 'händer'): 4,\n",
       " ('miljö', 'väntar'): 1,\n",
       " ('befälet', 'introducera'): 1,\n",
       " ('du', 'har'): 17,\n",
       " ('som', 'berörs'): 2,\n",
       " ('samhället', 'givit'): 1,\n",
       " ('dessa', 'redovisas'): 1,\n",
       " ('utbildning', 'sker'): 1,\n",
       " ('du', 'får'): 19,\n",
       " ('du', 'skaffa'): 2,\n",
       " ('du', 'lära'): 2,\n",
       " ('krig', 'hårt'): 1,\n",
       " ('verksamheten', 'har'): 1,\n",
       " ('livet', 'avviker'): 1,\n",
       " ('lydnad', 'har'): 1,\n",
       " ('verksamheten', 'kräver'): 1,\n",
       " ('liv', 'står'): 1,\n",
       " ('du', 'möter'): 3,\n",
       " ('du', 'underordna'): 1,\n",
       " ('som', 'nytt'): 1,\n",
       " ('du', 'koppla'): 1,\n",
       " ('du', 'handla'): 1,\n",
       " ('detta', 'framkommer'): 1,\n",
       " ('verksamhet', 'utförs'): 1,\n",
       " ('utbildningen', 'syftar'): 1,\n",
       " ('kravet', 'därav'): 1,\n",
       " ('tvekan', 'kosta'): 1,\n",
       " ('du', 'bo'): 1,\n",
       " ('detta', 'bli'): 2,\n",
       " ('det', 'beror'): 6,\n",
       " ('humör', 'skapar'): 1,\n",
       " ('människor', 'lika'): 1,\n",
       " ('du', 'stor'): 1,\n",
       " ('du', 'märker'): 1,\n",
       " ('form', 'förekommer'): 1,\n",
       " ('det', 'skvaller'): 1,\n",
       " ('det', 'skyldighet'): 1,\n",
       " ('kamratförtryck', 'förbjudet'): 1,\n",
       " ('som', 'farligt'): 1,\n",
       " ('det', 'hanteras'): 1,\n",
       " ('som', 'värt'): 1,\n",
       " ('du', 'delta'): 1,\n",
       " ('riskerna', 'stora'): 1,\n",
       " ('man', 'gör'): 8,\n",
       " ('du', 'visa'): 1,\n",
       " ('du', 'gör'): 2,\n",
       " ('du', 'se'): 5,\n",
       " ('du', 'använda'): 2,\n",
       " ('utrymmet', 'begränsat'): 1,\n",
       " ('du', 'hålla'): 1,\n",
       " ('sakerna', 'lätta'): 1,\n",
       " ('sakerna', 'ha'): 1,\n",
       " ('du', 'räkna'): 1,\n",
       " ('du', 'behöver'): 5,\n",
       " ('du', 'äger'): 1,\n",
       " ('marketenteriet', 'affär'): 1,\n",
       " ('du', 'köper'): 3,\n",
       " ('vinsten', 'kommer'): 1,\n",
       " ('du', 'väcks'): 1,\n",
       " ('uppställningen', 'sker'): 1,\n",
       " ('du', 'hunnit'): 1,\n",
       " ('allt', 'tiptop'): 1,\n",
       " ('du', 'tränas'): 1,\n",
       " ('övningar', 'börjar'): 1,\n",
       " ('som', 'pågår'): 1,\n",
       " ('du', 'skött'): 1,\n",
       " ('det', 'är'): 9,\n",
       " ('du', 'hinner'): 2,\n",
       " ('du', 'göra'): 7,\n",
       " ('kvällsövningar', 'ordnas'): 1,\n",
       " ('värnpliktiga', 'har'): 3,\n",
       " ('soldater', 'har'): 1,\n",
       " ('som', 'tar'): 11,\n",
       " ('utbildningstiden', 'variera'): 1,\n",
       " ('yrkesbefälet', 'räcker'): 1,\n",
       " ('procent', 'värnpliktiga'): 1,\n",
       " ('de', 'klara'): 1,\n",
       " ('de', 'har'): 11,\n",
       " ('de', 'få'): 5,\n",
       " ('som', 'tagits'): 2,\n",
       " ('de', 'lär'): 2,\n",
       " ('grundutbildning', 'tar'): 1,\n",
       " ('de', 'klarar'): 2,\n",
       " ('de', 'anmäla'): 1,\n",
       " ('som', 'frivillig'): 1,\n",
       " ('de', 'utbildas'): 2,\n",
       " ('utbildning', 'tar'): 1,\n",
       " ('utbildningstiden', 'lång'): 1,\n",
       " ('värnpliktiga', 'får'): 2,\n",
       " ('del', 'handha'): 1,\n",
       " ('värnpliktiga', 'tillhör'): 1,\n",
       " ('f-värnpliktiga', 'lära'): 1,\n",
       " ('som', 'tillhör'): 1,\n",
       " ('du', 'tagits'): 1,\n",
       " ('man', 'funnit'): 2,\n",
       " ('som', 'krävs'): 1,\n",
       " ('du', 'klara'): 1,\n",
       " ('man', 'väntar'): 2,\n",
       " ('du', 'ha'): 4,\n",
       " ('du', 'söker'): 1,\n",
       " ('värnpliktiga', 'anmäla'): 1,\n",
       " ('som', 'uttagna'): 1,\n",
       " ('som', 'önskar'): 1,\n",
       " ('som', 'fullgör'): 1,\n",
       " ('som', 'växer'): 1,\n",
       " ('du', 'läsa'): 1,\n",
       " ('nyheter', 'gäller'): 1,\n",
       " ('vi', 'berättar'): 1,\n",
       " ('system', 'tillämpas'): 1,\n",
       " ('det', 'gäller'): 8,\n",
       " ('du', 'blir'): 3,\n",
       " ('systemet', 'innebär'): 1,\n",
       " ('du', 'betalar'): 3,\n",
       " ('du', 'besöker'): 3,\n",
       " ('doktorn', 'kommer'): 1,\n",
       " ('du', 'rådfrågar'): 1,\n",
       " ('försäkringskassan', 'betalar'): 3,\n",
       " ('du', 'ligga'): 1,\n",
       " ('systemet', 'gör'): 2,\n",
       " ('du', 'vet'): 2,\n",
       " ('undersökningar', 'ingår'): 1,\n",
       " ('röntgen-', 'ingår'): 1,\n",
       " ('remissbesök', 'ingår'): 1,\n",
       " ('du', 'gå'): 3,\n",
       " ('du', 'betala'): 3,\n",
       " ('återbesök', 'betalas'): 1,\n",
       " ('resekostnaderna', 'ersätts'): 1,\n",
       " ('du', 'lämna'): 2,\n",
       " ('systemet', 'gäller'): 1,\n",
       " ('ersättningssystemet', 'gäller'): 1,\n",
       " ('han', 'begär'): 1,\n",
       " ('pensionärer', 'får'): 1,\n",
       " ('pensionärer', 'haft'): 1,\n",
       " ('vårdtiden', 'förlängs'): 1,\n",
       " ('patienten', 'betalar'): 1,\n",
       " ('sjukhuset', 'sätter'): 1,\n",
       " ('pensionärer', 'har'): 1,\n",
       " ('folkpensionärer', 'har'): 1,\n",
       " ('som', 'sjukpenningförsäkrade'): 1,\n",
       " ('bestämmelserna', 'gäller'): 1,\n",
       " ('som', 'vårdats'): 1,\n",
       " ('de', 'fått'): 3,\n",
       " ('man', 'ligger'): 2,\n",
       " ('resten', 'räknas'): 1,\n",
       " ('kostnaderna', 'betalas'): 2,\n",
       " ('det', 'fråga'): 13,\n",
       " ('resorna', 'ersätts'): 1,\n",
       " ('du', 'anlita'): 1,\n",
       " ('ersättningsbestämmelser', 'gäller'): 1,\n",
       " ('du', 'söka'): 1,\n",
       " ('försäkringskassan', 'ersätta'): 1,\n",
       " ('du', 'få'): 5,\n",
       " ('reformen', 'kostar'): 1,\n",
       " ('kostnaderna', 'ökar'): 2,\n",
       " ('förmånerna', 'förbättras'): 1,\n",
       " ('avgifter', 'höjs'): 1,\n",
       " ('sjukförsäkringsavgifter', 'påverkas'): 1,\n",
       " ('försäkringskassan', 'ge'): 2,\n",
       " ('något', 'oklart'): 1,\n",
       " ('invandrare', 'finns'): 1,\n",
       " ('man', 'uppskattar'): 1,\n",
       " ('vilka', 'förvärvat'): 1,\n",
       " ('procent', 'utgörs'): 1,\n",
       " ('medborgare', 'fanns'): 1,\n",
       " ('invandrargrupper', 'vilka'): 1,\n",
       " ('invandrarna', 'utgör'): 1,\n",
       " ('invandrarna', 'finns'): 1,\n",
       " ('de', 'koncentrerade'): 1,\n",
       " ('trakterna', 'mälarområdet'): 1,\n",
       " ('invandrarna', 'ålder'): 1,\n",
       " ('invandrare', 'ålder'): 1,\n",
       " ('procent', 'tillhörde'): 1,\n",
       " ('procent', 'år'): 1,\n",
       " ('vem', 'slå'): 1,\n",
       " ('länderna', 'har'): 1,\n",
       " ('medborgare', 'ta'): 1,\n",
       " ('medborgare', 'ha'): 2,\n",
       " ('arbetstillstånd', 'beviljas'): 2,\n",
       " ('som', 'bedömer'): 1,\n",
       " ('organisationerna', 'yttra'): 1,\n",
       " ('arbetsgivare', 'se'): 1,\n",
       " ('som', 'införa'): 1,\n",
       " ('bostad', 'finns'): 1,\n",
       " ('invandrarna', 'har'): 1,\n",
       " ('invandrarna', 'anslutna'): 1,\n",
       " ('flesta', 'hör'): 1,\n",
       " ('metallindustriarbetareförbundet', 'har'): 1,\n",
       " ('procent', 'invandrare'): 1,\n",
       " ('fackföreningsrörelsen', 'har'): 1,\n",
       " ('invandraren', 'ges'): 1,\n",
       " ('medborgare', 'har'): 2,\n",
       " ('medborgare', 'behandlas'): 1,\n",
       " ('detta', 'regeln'): 1,\n",
       " ('förmånerna', 'oberoende'): 1,\n",
       " ('utlänningar', 'betalar'): 1,\n",
       " ('de', 'gör'): 6,\n",
       " ('sverige', 'tar'): 1,\n",
       " ('person', 'få'): 2,\n",
       " ('som', 'lämnat'): 1,\n",
       " ('han', 'riskerar'): 1,\n",
       " ('rätt', 'menas'): 1,\n",
       " ('åtgärden', 'betraktas'): 1,\n",
       " ('vad', 'behövs'): 1,\n",
       " ('invandraren', 'försörja'): 1,\n",
       " ('han', 'visa'): 1,\n",
       " ('han', 'kan'): 1,\n",
       " ('medborgare', 'vistats'): 1,\n",
       " ('nordbor', 'förvärva'): 1,\n",
       " ('invandrare', 'fått'): 1,\n",
       " ('som', 'sysslar'): 1,\n",
       " ('invandrarverket', 'handlägger'): 1,\n",
       " ('som', 'började'): 3,\n",
       " ('arbetsmarknadsstyrelsen', 'svarar'): 1,\n",
       " ('den', 'sköter'): 1,\n",
       " ('skolöverstyrelsen', 'har'): 1,\n",
       " ('utredning', 'tillsattes'): 1,\n",
       " ('den', 'undersöka'): 1,\n",
       " ('postnummer', 'ingår'): 1,\n",
       " ('som', 'stå'): 2,\n",
       " ('postnumret', 'skrivs'): 1,\n",
       " ('adressen', 'skrivas'): 2,\n",
       " ('postnumren', 'behövs'): 1,\n",
       " ('posten', 'sorteras'): 1,\n",
       " ('maskiner', 'kräver'): 1,\n",
       " ('postsorteringen', 'sker'): 1,\n",
       " ('den', 'underlättas'): 1,\n",
       " ('försändelserna', 'försedda'): 1,\n",
       " ('man', 'använder'): 5,\n",
       " ('postanstalter', 'upptagna'): 1,\n",
       " ('man', 'finner'): 5,\n",
       " ('postnummer', 'finns'): 2,\n",
       " ('det', 'rör'): 5,\n",
       " ('lägsta', 'används'): 1,\n",
       " ('adressaten', 'hämtar'): 1,\n",
       " ('som', 'adresseras'): 1,\n",
       " ('postnumret', 'detsamma'): 1,\n",
       " ('upplysningen', 'består'): 1,\n",
       " ('adressort', 'går'): 1,\n",
       " ('man', 'se'): 3,\n",
       " ('den', 'förekommer'): 1,\n",
       " ('som', 'börjar'): 4,\n",
       " ('upplysning', 'finns'): 1,\n",
       " ('som', 'ligger'): 5,\n",
       " ('ort', 'har'): 3,\n",
       " ('postnumren', 'hjälpa'): 1,\n",
       " ('postnumret', 'bestäms'): 1,\n",
       " ('följande', 'orter'): 1,\n",
       " ('upplysning', 'ges'): 1,\n",
       " ('hus', 'har'): 1,\n",
       " ('numren', 'specificeras'): 1,\n",
       " ('exemplet', 'hämtat'): 1,\n",
       " ('detta', 'betyder'): 1,\n",
       " ('husnummer', 'har'): 1,\n",
       " ('husnumren', 'har'): 1,\n",
       " ('företag', 'fått'): 1,\n",
       " ('man', 'finna'): 1,\n",
       " ('man', 'hitta'): 1,\n",
       " ('man', 'söker'): 8,\n",
       " ('det', 'röra'): 1,\n",
       " ('det', 'gälla'): 2,\n",
       " ('gatuadresser', 'finns'): 1,\n",
       " ('man', 'använda'): 6,\n",
       " ('uppgift', 'finns'): 1,\n",
       " ('uppgifterna', 'sammanförda'): 1,\n",
       " ('avsnitt', 'börjar'): 1,\n",
       " ('de', 'upptagna'): 1,\n",
       " ('uppgifter', 'finns'): 1,\n",
       " ('förteckning', 'följer'): 1,\n",
       " ('gator', 'upptagna'): 1,\n",
       " ('man', 'veta'): 5,\n",
       " ('man', 'vet'): 5,\n",
       " ('adressorten', 'stockholm'): 1,\n",
       " ('bokstavsbeteckningarna', 'användas'): 1,\n",
       " ('man', 'sätter'): 2,\n",
       " ('man', 'skriver'): 4,\n",
       " ('som', 'infört'): 1,\n",
       " ('man', 'ange'): 1,\n",
       " ('som', 'brukligt'): 1,\n",
       " ('länder', 'har'): 2,\n",
       " ('flesta', 'ha'): 2,\n",
       " ('som', 'börjat'): 3,\n",
       " ('man', 'sätta'): 3,\n",
       " ('någon', 'skriver'): 1,\n",
       " ('han', 'skriva'): 1,\n",
       " ('man', 'förhindra'): 1,\n",
       " ('sorteringsmaskin', 'förväxlar'): 1,\n",
       " ('som', 'användas'): 3,\n",
       " ('följande', 'nationalitetsbeteckningar'): 1,\n",
       " ('bilarna', 'har'): 1,\n",
       " ('företag', 'anpassa'): 1,\n",
       " ('som', 'skickar'): 2,\n",
       " ('som', 'gäller'): 7,\n",
       " ('man', 'få'): 10,\n",
       " ('regler', 'finns'): 1,\n",
       " ('försändelserna', 'ordnade'): 1,\n",
       " ('som', 'erhållas'): 1,\n",
       " ('posten', 'tillhandahåller'): 1,\n",
       " ('man', 'ta'): 4,\n",
       " ('nummer', 'hänför'): 1,\n",
       " ('adressorten', 'ligger'): 1,\n",
       " ('kunder', 'vända'): 1,\n",
       " ('postanstalter', 'deltar'): 1,\n",
       " ('1.300', 'finns'): 1,\n",
       " ('lantbrevbärare', 'tar'): 1,\n",
       " ('sätt', 'finns'): 2,\n",
       " ('man', 'välja'): 2,\n",
       " ('paket', 'transporteras'): 4,\n",
       " ('som', 'avsedda'): 2,\n",
       " ('de', 'behandlas'): 1,\n",
       " ('man', 'väljer'): 2,\n",
       " ('befordringsavgiften', 'högre'): 1,\n",
       " ('avsändaren', 'få'): 1,\n",
       " ('utkörning', 'finns'): 1,\n",
       " ('sändningen', 'brådskande'): 1,\n",
       " ('varan', 'tar'): 1,\n",
       " ('anteckning', 'behövs'): 1,\n",
       " ('paketadresskortet', 'delas'): 1,\n",
       " ('som', 'aviserar'): 1,\n",
       " ('paketet', 'finns'): 1,\n",
       " ('transporten', 'kräver'): 2,\n",
       " ('adresskortet', 'delas'): 2,\n",
       " ('ni', 'befria'): 1,\n",
       " ('paket', 'märkta'): 3,\n",
       " ('de', 'lämnas'): 1,\n",
       " ('paket', 'körs'): 1,\n",
       " ('paketen', 'köras'): 1,\n",
       " ('utkörning', 'förekommer'): 1,\n",
       " ('utkörning', 'begäras'): 1,\n",
       " ('postanstalt', 'ge'): 2,\n",
       " ('ni', 'finner'): 2,\n",
       " ('den', 'kostar'): 3,\n",
       " ('sändningen', 'kommer'): 1,\n",
       " ('ilpaket', 'transporteras'): 1,\n",
       " ('nattimmarna', 'räcker'): 1,\n",
       " ('tåg', 'hinna'): 1,\n",
       " ('brevbäringsturen', 'påbörjas'): 1,\n",
       " ('postanstalten', 'försöker'): 1,\n",
       " ('ilpaket', 'finns'): 1,\n",
       " ('ni', 'önskar'): 2,\n",
       " ('sändningen', 'når'): 1,\n",
       " ('ilpaketet', 'når'): 1,\n",
       " ('ilpaket', 'kommit'): 1,\n",
       " ('det', 'delas'): 1,\n",
       " ('inskränkningar', 'gäller'): 1,\n",
       " ('postanstalterna', 'lämna'): 1,\n",
       " ('expressutdelning', 'begäras'): 1,\n",
       " ('rfsu-laboratoriet', 'informerar'): 1,\n",
       " ('menstruation', 'tecknet'): 1,\n",
       " ('denna', 'utebli'): 1,\n",
       " ('det', 'bevis'): 1,\n",
       " ('graviditet', 'föreligger'): 2,\n",
       " ('tecken', 'förekommer'): 1,\n",
       " ('graviditet', 'fastställes'): 1,\n",
       " ('graviditet', 'konstateras'): 1,\n",
       " ('resultatet', 'blir'): 3,\n",
       " ('undersökningen', 'kompletteras'): 1,\n",
       " ('rfsu-laboratoriet', 'utför'): 1,\n",
       " ('urinprov', 'lämnas'): 2,\n",
       " ('som', 'arbetar'): 6,\n",
       " ('ägget', 'producerar'): 1,\n",
       " ('som', 'lämnar'): 1,\n",
       " ('hormon', 'förekommer'): 1,\n",
       " ('graviditet', 'fastställas'): 1,\n",
       " ('metod', 'användes'): 1,\n",
       " ('metoden', 'ger'): 1,\n",
       " ('hormonet', 'uppträder'): 1,\n",
       " ('menstruationen', 'börjat'): 1,\n",
       " ('resultatet', 'osäkert'): 1,\n",
       " ('menstruationerna', 'brukar'): 1,\n",
       " ('man', 'vänta'): 1,\n",
       " ('prov', 'tas'): 1,\n",
       " ('urinprovet', 'inlämnats'): 2,\n",
       " ('man', 'beräknar'): 2,\n",
       " ('tillförlitlighet', '%'): 1,\n",
       " ('%', 'blir'): 1,\n",
       " ('mängd', 'förekommer'): 1,\n",
       " ('utslag', 'svårt'): 1,\n",
       " ('rfsu-laboratoriet', 'önska'): 1,\n",
       " ('kontrollundersökning', 'utföres'): 1,\n",
       " ('provet', 'inlämnats'): 2,\n",
       " ('jag', 'gör'): 1,\n",
       " ('undersökning', 'bli'): 1,\n",
       " ('ni', 'tar'): 1,\n",
       " ('som', 'etiketteras'): 1,\n",
       " ('som', 'inlämnas'): 1,\n",
       " ('blanketter', 'erhålles'): 1,\n",
       " ('provet', 'lämnas'): 3,\n",
       " ('de', 'rekvireras'): 1,\n",
       " ('provet', 'inlämnas'): 1,\n",
       " ('ni', 'få'): 3,\n",
       " ('laboratorieundersökning', 'kostar'): 1,\n",
       " ('laboratoriet', 'fått'): 1,\n",
       " ('ni', 'hämta'): 1,\n",
       " ('de', 'får'): 7,\n",
       " ('som', 'erhållit'): 1,\n",
       " ('missförstånd', 'undvikas'): 1,\n",
       " ('ni', 'anger'): 1,\n",
       " ('jag', 'fått'): 1,\n",
       " ('svaret', 'anger'): 2,\n",
       " ('ni', 'gravid'): 3,\n",
       " ('ni', 'invänta'): 1,\n",
       " ('ni', 'känner'): 1,\n",
       " ('menstruation', 'uppträder'): 1,\n",
       " ('läkare', 'konsulteras'): 1,\n",
       " ('läkarundersökning', 'ske'): 1,\n",
       " ('graviditeten', 'kräver'): 1,\n",
       " ('detta', 'ske'): 1,\n",
       " ('graviditeten', 'innebär'): 1,\n",
       " ('kurator', 'står'): 1,\n",
       " ('som', 'äter'): 1,\n",
       " ('ni', 'glömt'): 1,\n",
       " ('urinprovet', 'blir'): 1,\n",
       " ('befruktning', 'ägt'): 1,\n",
       " ('lotteriet', 'har'): 1,\n",
       " ('du', 'vinna'): 1,\n",
       " ('vinstlistan', 'toppas'): 1,\n",
       " ('massor', 'dragningarna'): 1,\n",
       " ('vinsterna', 'skattefria'): 1,\n",
       " ('du', 'vara'): 3,\n",
       " ('du', 'deltar'): 1,\n",
       " ('insats', 'sparande'): 1,\n",
       " ('som', 'återgår'): 1,\n",
       " ('du', 'sätter'): 2,\n",
       " ('du', 'tar'): 2,\n",
       " ('det', 'sent'): 1,\n",
       " ('du', 'erbjuds'): 1,\n",
       " ('du', 'läser'): 1,\n",
       " ('det', 'går'): 5,\n",
       " ('det', 'enkelt'): 2,\n",
       " ('vilka', 'vara'): 1,\n",
       " ('förmånerna', 'gäller'): 1,\n",
       " ('som', 'fått'): 3,\n",
       " ('förmåner', 'gäller'): 1,\n",
       " ('du', 'öppna'): 1,\n",
       " ('du', 'hämtar'): 1,\n",
       " ('insättningsdag', 'februari'): 1,\n",
       " ('du', 'skjuta'): 1,\n",
       " ('du', 'vill'): 1,\n",
       " ('som', 'gör'): 4,\n",
       " ('du', 'kommer'): 2,\n",
       " ('hundralapp', 'ger'): 1,\n",
       " ('ingen', 'ha'): 1,\n",
       " ('som', 'står'): 6,\n",
       " ('sparpremien', 'räknas'): 1,\n",
       " ('medlen', 'bundna'): 1,\n",
       " ('beloppet', 'tas'): 1,\n",
       " ('saldot', 'understiga'): 1,\n",
       " ('du', 'går'): 2,\n",
       " ('antalet', 'minskar'): 1,\n",
       " ('bankräntan', 'reduceras'): 1,\n",
       " ('medlen', 'behandlas'): 1,\n",
       " ('de', 'uppsagda'): 1,\n",
       " ('premiesparkontot', 'överlåtes'): 1,\n",
       " ('rätten', 'går'): 1,\n",
       " ('upplysningar', 'lämnas'): 1,\n",
       " ('eleverna', 'läsa'): 1,\n",
       " ('undervisningen', 'blir'): 1,\n",
       " ('elever', 'får'): 1,\n",
       " ('engelska', 'blir'): 1,\n",
       " ('det', 'obligatoriskt'): 1,\n",
       " ('musik', 'blir'): 1,\n",
       " ('musik', 'förekommer'): 1,\n",
       " ('eleverna', 'välja'): 2,\n",
       " ('hemkunskap', 'ingå'): 1,\n",
       " ('hemkunskap', 'obligatorisk'): 1,\n",
       " ('elever', 'ha'): 1,\n",
       " ('pryo', 'förekom'): 1,\n",
       " ('yrkesorienteringen', 'förberedes'): 1,\n",
       " ('elev', 'välja'): 1,\n",
       " ('senare', 'har'): 1,\n",
       " ('eleverna', 'har'): 1,\n",
       " ('tillvalsämnen', 'ger'): 1,\n",
       " ('arbete', 'blir'): 1,\n",
       " ('veckotimmar', 'ägnas'): 1,\n",
       " ('tiden', 'användas'): 1,\n",
       " ('skolstyrelsen', 'bestämmer'): 1,\n",
       " ('som', 'erbjudas'): 1,\n",
       " ('uppläggningen', 'växla'): 1,\n",
       " ('betyg', 'ges'): 4,\n",
       " ('skolstyrelsen', 'besluta'): 1,\n",
       " ('finska', 'ingå'): 1,\n",
       " ('veckotimmar', 'användas'): 1,\n",
       " ('undervisning', 'ordnas'): 1,\n",
       " ('skolstyrelsen', 'beslutar'): 1,\n",
       " ('kristendomskunskap', 'byter'): 1,\n",
       " ('orienteringsämnen', 'blir'): 1,\n",
       " ('undervisningen', 'delas'): 1,\n",
       " ('läroplanen', 'anger'): 1,\n",
       " ('betygsättningstillfällen', 'reducerats'): 1,\n",
       " ('skolan', 'informera'): 1,\n",
       " ('läroplanen', 'innebär'): 1,\n",
       " ('ämnesinnehållet', 'förändras'): 1,\n",
       " ('exempel', 'ges'): 1,\n",
       " ('undervisningen', 'utökas'): 1,\n",
       " ('inslaget', 'blir'): 1,\n",
       " ('man', 'fäster'): 1,\n",
       " ('innehållet', 'förändras'): 1,\n",
       " ('undervisningen', 'utgår'): 1,\n",
       " ('eleverna', 'arbeta'): 2,\n",
       " ('innehåll', 'förändras'): 1,\n",
       " ('man', 'knyta'): 1,\n",
       " ('undervisningen', 'utökad'): 1,\n",
       " ('undervisning', 'ingår'): 1,\n",
       " ('samordning', 'blir'): 1,\n",
       " ('eleverna', 'få'): 1,\n",
       " ('skola', 'får'): 1,\n",
       " ('skolarbetet', 'upplagt'): 1,\n",
       " ('ämnena', 'desamma'): 1,\n",
       " ('skolstyrelserna', 'får'): 1,\n",
       " ('arbetsområden', 'begrepp'): 1,\n",
       " ('stoffenheter', 'menas'): 1,\n",
       " ('eleverna', 'överblicka'): 1,\n",
       " ('undervisningen', 'samlas'): 1,\n",
       " ('som', 'beröra'): 1,\n",
       " ('som', 'berör'): 3,\n",
       " ('man', 'tänka'): 4,\n",
       " ('man', 'organisera'): 1,\n",
       " ('studiearbetet', 'förläggs'): 1,\n",
       " ('hemuppgifter', 'blir'): 1,\n",
       " ('vikt', 'läggas'): 1,\n",
       " ('elev', 'få'): 1,\n",
       " ('samarbetet', 'övas'): 1,\n",
       " ('skolan', 'får'): 1,\n",
       " ('det', 'ske'): 3,\n",
       " ('eleven', 'går'): 1,\n",
       " ('specialläraren', 'komma'): 1,\n",
       " ('skolstyrelse', 'får'): 1,\n",
       " ('läraren', 'har'): 1,\n",
       " ('tid', 'användas'): 1,\n",
       " ('uppdelning', 'möjlighet'): 1,\n",
       " ('lärare', 'samverka'): 1,\n",
       " ('uppgifter', 'lämnas'): 2,\n",
       " ('man', 'vända'): 2,\n",
       " ('åldersgränser', 'finns'): 1,\n",
       " ('barnavårdsnämnd', 'verka'): 1,\n",
       " ('barn', 'får'): 4,\n",
       " ('detta', 'innebär'): 2,\n",
       " ('som', 'begär'): 1,\n",
       " ('barn', 'råkar'): 1,\n",
       " ('ansvar', 'varar'): 1,\n",
       " ('de', 'fyller'): 1,\n",
       " ('ledamöter', 'väljs'): 1,\n",
       " ('verksamhet', 'grundas'): 1,\n",
       " ('barnavårdsnämnden', 'har'): 1,\n",
       " ('som', 'söker'): 1,\n",
       " ('man', 'vänder'): 14,\n",
       " ('barnavården', 'sköts'): 1,\n",
       " ('sköterska', 'gör'): 1,\n",
       " ('mödrar', 'får'): 1,\n",
       " ('hälsokontroll', 'håller'): 1,\n",
       " ('barnavårdsnämnden', 'utser'): 1,\n",
       " ('barnavårdsman', 'utses'): 1,\n",
       " ('föräldrarna', 'lever'): 1,\n",
       " ('barnavårdsmannen', 'se'): 1,\n",
       " ('rätt', 'tas'): 1,\n",
       " ('mor', 'kontakta'): 1,\n",
       " ('bidraget', 'betalas'): 2,\n",
       " ('det', 'skattefritt'): 1,\n",
       " ('barnbidraget', 'betalas'): 1,\n",
       " ('barnet', 'föddes'): 1,\n",
       " ('man', 'skickar'): 1,\n",
       " ('personalen', 'brukar'): 1,\n",
       " ('anmälan', 'ifylld'): 1,\n",
       " ('barnavårdsnämnden', 'svarar'): 1,\n",
       " ('förslag', 'lagts'): 1,\n",
       " ('barnbidraget', 'höjas'): 1,\n",
       " ('barnhem', 'finns'): 1,\n",
       " ('som', 'behöver'): 3,\n",
       " ('barnkolonier', 'ge'): 1,\n",
       " ('kolonier', 'avsedda'): 1,\n",
       " ('resor', 'ordnas'): 1,\n",
       " ('organisationer', 'ordnar'): 1,\n",
       " ('kommuner', 'ordnar'): 2,\n",
       " ('som', 'uppdelas'): 1,\n",
       " ('föräldrarna', 'förvärvsarbetar'): 3,\n",
       " ('de', 'avsedda'): 1,\n",
       " ('avgiften', 'bestäms'): 1,\n",
       " ('inkomsten', 'stor'): 3,\n",
       " ('avgiften', 'låg'): 1,\n",
       " ('avgiften', 'beror'): 2,\n",
       " ('barntillsyn', 'ordnas'): 1,\n",
       " ('barn', 'få'): 1,\n",
       " ('föräldrar', 'förvärvsarbetar'): 1,\n",
       " ('sådana', 'finns'): 1,\n",
       " ('verksamheten', 'utbyggnad'): 1,\n",
       " ('avgiften', 'beräknas'): 1,\n",
       " ('dessa', 'leds'): 1,\n",
       " ('verksamheten', 'sköts'): 2,\n",
       " ('kommuner', 'har'): 1,\n",
       " ('stat', 'stöder'): 1,\n",
       " ('samhällsorgan', 'har'): 1,\n",
       " ('familjer', 'har'): 1,\n",
       " ('beloppen', 'olika'): 1,\n",
       " ('man', 'har'): 16,\n",
       " ('storlek', 'beror'): 1,\n",
       " ('familjer', 'får'): 1,\n",
       " ('som', 'tjänar'): 1,\n",
       " ('inkomsten', 'kr'): 1,\n",
       " ('tillägget', 'minskas'): 1,\n",
       " ('bostadstillägget', 'består'): 1,\n",
       " ('familjer', 'få'): 1,\n",
       " ('grundbeloppet', 'kr'): 1,\n",
       " ('det', 'ökar'): 1,\n",
       " ('grundbeloppet', 'utgår'): 1,\n",
       " ('familj', 'få'): 2,\n",
       " ('bostaden', 'egen'): 1,\n",
       " ('som', 'bor'): 7,\n",
       " ('tillägget', 'utgår'): 2,\n",
       " ('bostaden', 'har'): 1,\n",
       " ('den', 'har'): 12,\n",
       " ('bostaden', 'uppfyller'): 1,\n",
       " ('kommunerna', 'ge'): 1,\n",
       " ('som', 'nämnts'): 1,\n",
       " ('man', 'ansöka'): 1,\n",
       " ('blanketter', 'sänds'): 1,\n",
       " ('som', 'får'): 3,\n",
       " ('kommuner', 'ger'): 1,\n",
       " ('det', 'kallas'): 1,\n",
       " ('bostadstillägg', 'ges'): 1,\n",
       " ('bostadsförmedling', 'finns'): 1,\n",
       " ('förmedlingen', 'sköts'): 1,\n",
       " ('förmedling', 'gratis'): 1,\n",
       " ('staten', 'lämnar'): 1,\n",
       " ('procent', 'stöds'): 1,\n",
       " ('lånet', 'procent'): 1,\n",
       " ('det', 'procent'): 1,\n",
       " ('lånet', 'förmedlas'): 1,\n",
       " ('beslutet', 'fattas'): 1,\n",
       " ('hyreslagen', 'gäller'): 2,\n",
       " ('bestämmelser', 'innebär'): 1,\n",
       " ('hyresvärd', 'komma'): 1,\n",
       " ('hyresregleringen', 'gäller'): 1,\n",
       " ('hyresnämnderna', 'pröva'): 1,\n",
       " ('den', 'visa'): 1,\n",
       " ('nämnden', 'fastställa'): 1,\n",
       " ('den', 'överklaga'): 1,\n",
       " ('som', 'missnöjd'): 1,\n",
       " ('rätt', 'stärkts'): 1,\n",
       " ('lagen', 'ger'): 1,\n",
       " ('hyresvärden', 'motsätta'): 1,\n",
       " ('hyresvärden', 'fått'): 1,\n",
       " ('hyresregleringen', 'förlängts'): 1,\n",
       " ('hyrorna', 'ändras'): 1,\n",
       " ('lägenheter', 'undantas'): 1,\n",
       " ('som', 'färdigställts'): 1,\n",
       " ('tvister', 'prövas'): 1,\n",
       " ('man', 'klaga'): 1,\n",
       " ('prishöjningar', 'gör'): 1,\n",
       " ('centralbyrån', 'beräknar'): 1,\n",
       " ('vi', 'konsumerar'): 1,\n",
       " ('prisförändringarna', 'uttrycks'): 1,\n",
       " ('vi', 'ha'): 4,\n",
       " ('löner', 'justeras'): 1,\n",
       " ('hänsyn', 'tas'): 2,\n",
       " ('kpi', 'används'): 2,\n",
       " ('andra', 'beroende'): 1,\n",
       " ('levnadsstandard', 'värdeskyddad'): 1,\n",
       " ('äldre', 'får'): 1,\n",
       " ('underhållsbidrag', 'värdeskyddade'): 1,\n",
       " ('kpi', 'beskrivas'): 1,\n",
       " ('vi', 'har'): 19,\n",
       " ('man', 'nöja'): 2,\n",
       " ('prisinsamlingen', 'begränsats'): 1,\n",
       " ('centralbyrån', 'samlar'): 1,\n",
       " ('priserna', 'samlas'): 1,\n",
       " ('priserna', 'enhetliga'): 1,\n",
       " ('prisförändringen', 'beräknas'): 1,\n",
       " ('resultaten', 'vägs'): 1,\n",
       " ('varan', 'har'): 1,\n",
       " ('hyreshöjning', 'märks'): 1,\n",
       " ('konsumentprisindex', 'visa'): 1,\n",
       " ('varor', 'skiftar'): 1,\n",
       " ('del', 'beror'): 1,\n",
       " ('kvalitetsförändringen', 'anses'): 1,\n",
       " ('index', 'opåverkat'): 1,\n",
       " ('del', 'beaktas'): 1,\n",
       " ('centralbyrån', 'ha'): 1,\n",
       " ('butikspersonalen', 'spelar'): 1,\n",
       " ('indexnämnd', 'finns'): 1,\n",
       " ('nämnden', 'avgör'): 1,\n",
       " ('vilka', 'fastställts'): 1,\n",
       " ('fårsteken', 'slopad'): 1,\n",
       " ('köpvanor', 'förändrats'): 1,\n",
       " ('varor', 'ingick'): 1,\n",
       " ('varor', 'slopats'): 1,\n",
       " ('man', 'håller'): 2,\n",
       " ('korv', 'prisnoteras'): 1,\n",
       " ('undersökning', 'visat'): 1,\n",
       " ('vi', 'sätter'): 2,\n",
       " ('prisutvecklingen', 'mäts'): 1,\n",
       " ('sammansättning', 'ändras'): 1,\n",
       " ('konsumtionsriktningen', 'ändras'): 1,\n",
       " ('kpi', 'konstruerad'): 1,\n",
       " ('vilket', 'innebär'): 3,\n",
       " ('man', 'jämföra'): 1,\n",
       " ('konsumentprisindex', 'fått'): 1,\n",
       " ('förändringar', 'får'): 1,\n",
       " ('kpi', 'berättar'): 1,\n",
       " ('vi', 'räknat'): 1,\n",
       " ('kpi', '218'): 1,\n",
       " ('prisstegringen', 'beräknas'): 1,\n",
       " ('228', '1,05'): 1,\n",
       " ('1,05', 'innebär'): 1,\n",
       " ('köpkraften', 'motsvaras'): 1,\n",
       " ('som', 'veta'): 1,\n",
       " ('centralbyrån', 'givit'): 1,\n",
       " ('vilken', 'köpas'): 1,\n",
       " ('pris', 'kr'): 1,\n",
       " ('myntreformen', 'inleds'): 1,\n",
       " ('lag', 'träder'): 1,\n",
       " ('femöringen', 'blir'): 1,\n",
       " ('vi', 'får'): 10,\n",
       " ('dessa', 'bli'): 1,\n",
       " ('de', 'användas'): 3,\n",
       " ('femöringen', 'gäller'): 1,\n",
       " ('ett-', 'slopas'): 1,\n",
       " ('ett-', 'blir'): 1,\n",
       " ('mynt', 'se'): 1,\n",
       " ('två-', 'blir'): 1,\n",
       " ('de', 'finns'): 9,\n",
       " ('femkronorssedeln', 'finns'): 1,\n",
       " ('detta', 'möjligt'): 1,\n",
       " ('ettöringar', 'finns'): 1,\n",
       " ('lag', 'gäller'): 1,\n",
       " ('den', 'säger'): 1,\n",
       " ('belopp', 'avrundas'): 2,\n",
       " ('som', 'slutar'): 3,\n",
       " ('beloppet', 'slutar'): 1,\n",
       " ('det', 'avrundas'): 2,\n",
       " ('det', 'slutar'): 1,\n",
       " ('teckningen', 'visar'): 1,\n",
       " ('avrundningen', 'görs'): 1,\n",
       " ('som', 'avrundas'): 2,\n",
       " ('limpan', 'göra'): 1,\n",
       " ('som', 'kostat'): 1,\n",
       " ('bensin', 'säljas'): 1,\n",
       " ('du', 'tankar'): 2,\n",
       " ('detta', 'kostar'): 1,\n",
       " ('slutsumman', 'avrundas'): 1,\n",
       " ('det', 'blir'): 11,\n",
       " ('detta', 'gör'): 3,\n",
       " ('margarinet', 'gick'): 1,\n",
       " ('slutsumman', 'blev'): 1,\n",
       " ('du', 'hittar'): 1,\n",
       " ('ingen', 'förlorar'): 1,\n",
       " ('mycket', 'blir'): 2,\n",
       " ('slutsummorna', 'avrundas'): 1,\n",
       " ('hela', 'uträknat'): 1,\n",
       " ('det', 'jämnar'): 1,\n",
       " ('handel', 'slipper'): 1,\n",
       " ('köerna', 'blir'): 1,\n",
       " ('ett-', 'går'): 1,\n",
       " ('handeln', 'ger'): 1,\n",
       " ('köparna', 'betalar'): 1,\n",
       " ('pris-', 'övervakar'): 1,\n",
       " ('myntreformen', 'leda'): 1,\n",
       " ('avrundningen', 'gäller'): 1,\n",
       " ('slutsumman', 'betalas'): 1,\n",
       " ('detta', 'viktigt'): 1,\n",
       " ('som', 'väger'): 1,\n",
       " ('smör', 'ha'): 1,\n",
       " ('sådant', 'ändras'): 1,\n",
       " ('ett-', 'försvinner'): 1,\n",
       " ('pris-', 'följer'): 1,\n",
       " ('man', 'uppmärksamma'): 1,\n",
       " ('lösningarna', '6:20'): 1,\n",
       " ('fritidsbåtar', 'är'): 1,\n",
       " ('flytvästar', 'finns'): 1,\n",
       " ('barn', 'ha'): 1,\n",
       " ('detta', 'börjar'): 1,\n",
       " ('det', 'form'): 1,\n",
       " ('vuxna', 'använda'): 1,\n",
       " ('simkunnighet', 'bra'): 1,\n",
       " ('person', 'simma'): 1,\n",
       " ('personer', 'drunknade'): 1,\n",
       " ('den', 'ha'): 2,\n",
       " ('det', 'räcker'): 5,\n",
       " ('flytvästen', 'vara'): 1,\n",
       " ('det', 'syndas'): 1,\n",
       " ('barn', 'bära'): 1,\n",
       " ('som', 'uppehåller'): 1,\n",
       " ('leken', 'sker'): 1,\n",
       " ('lek', 'förbjuden'): 1,\n",
       " ('den', 'flytriktig'): 1,\n",
       " ('person', 'flyter'): 1,\n",
       " ('person', 'hålls'): 1,\n",
       " ('hållfastheten', 'deklareras'): 1,\n",
       " ('västen', 'tåla'): 1,\n",
       " ('bärförmågan', 'förloras'): 1,\n",
       " ('den', 'se'): 1,\n",
       " ('som', 'väljer'): 2,\n",
       " ('den', 'känns'): 1,\n",
       " ('kravet', 'uppfylls'): 1,\n",
       " ('flytvästar', 'orangefärgade'): 1,\n",
       " ('det', 'gör'): 2,\n",
       " ('de', 'syns'): 1,\n",
       " ('reflexband', 'fördel'): 1,\n",
       " ('som', 'presenteras'): 1,\n",
       " ('ingen', 'finns'): 1,\n",
       " ('flytförmåga', 'påverkas'): 1,\n",
       " ('storlek', 'stämmer'): 1,\n",
       " ('barnet', 'bekanta'): 1,\n",
       " ('man', 'vänja'): 1,\n",
       " ('den', 'fungerar'): 1,\n",
       " ('den', 'ska'): 1,\n",
       " ('band', 'hela'): 1,\n",
       " ('västen', 'förvaras'): 1,\n",
       " ('den', 'torka'): 1,\n",
       " ('den', 'läggs'): 1,\n",
       " ('flytvästen', 'kostar'): 1,\n",
       " ('flytvästar', 'kostar'): 1,\n",
       " ('som', 'finns'): 17,\n",
       " ('som', 'uppgivits'): 1,\n",
       " ('undersökning', 'gjorts'): 1,\n",
       " ('cirkapriserna', 'underskrids'): 1,\n",
       " ('tillverkare', 'gått'): 1,\n",
       " ('priser', 'anges'): 1,\n",
       " ('som', 'tas'): 1,\n",
       " ('västen', 'gjord'): 1,\n",
       " ('reflexer', 'ingår'): 1,\n",
       " ('prisskillnaderna', 'motsvaras'): 1,\n",
       " ('undersökning', 'finns'): 1,\n",
       " ('som', 'visar'): 5,\n",
       " ('instans', 'ser'): 1,\n",
       " ('västar', 'fyller'): 1,\n",
       " ('som', 'väljs'): 2,\n",
       " ('västar', 'kostar'): 1,\n",
       " ('det', 'skilja'): 1,\n",
       " ('cellplast', 'flytmaterial'): 1,\n",
       " ('som', 'påverkas'): 1,\n",
       " ('skumplast', 'har'): 1,\n",
       " ('det', 'alternativ'): 1,\n",
       " ('som', 'tycker'): 4,\n",
       " ('cellplasten', 'känns'): 1,\n",
       " ('västar', 'finns'): 1,\n",
       " ('barn', 'blåsa'): 1,\n",
       " ('fördelen', 'väst'): 1,\n",
       " ('livslängden', 'år'): 1,\n",
       " ('svensk', 'skadas'): 1,\n",
       " ('man', 'förutsätter'): 3,\n",
       " ('var', 'har'): 2,\n",
       " ('trafikolyckorna', 'orsakas'): 1,\n",
       " ('trafikmiljön', 'ställer'): 1,\n",
       " ('vardagstrafikanter', 'svarar'): 1,\n",
       " ('de', 'inträffar'): 1,\n",
       " ('fordringar', 'större'): 1,\n",
       " ('bilar', 'byggas'): 1,\n",
       " ('intresse', 'är'): 1,\n",
       " ('säkerheten', 'anses'): 1,\n",
       " ('man', 'lägger'): 1,\n",
       " ('samhället', 'skärper'): 1,\n",
       " ('bilar', 'har'): 2,\n",
       " ('som', 'blir'): 3,\n",
       " ('bilköpet', 'utgift'): 1,\n",
       " ('bilköparen', 'har'): 1,\n",
       " ('han', 'lägger'): 1,\n",
       " ('konsumentutredningen', 'jämföra'): 1,\n",
       " ('bilmodeller', 'visa'): 1,\n",
       " ('konsumenten', 'få'): 1,\n",
       " ('som', 'säkrare'): 1,\n",
       " ('sverige', 'blev'): 1,\n",
       " ('tätorterna', 'växer'): 1,\n",
       " ('avstånden', 'växer'): 1,\n",
       " ('fler', 'använda'): 2,\n",
       " ('fler', 'köper'): 2,\n",
       " ('bilismen', 'växer'): 1,\n",
       " ('underlaget', 'minskar'): 1,\n",
       " ('trafikservicen', 'försämras'): 1,\n",
       " ('varannan', 'köper'): 1,\n",
       " ('många', 'beroende'): 1,\n",
       " ('bilen', 'betyder'): 1,\n",
       " ('persontransporter', 'gjordes'): 1,\n",
       " ('siffran', 'procent'): 1,\n",
       " ('trafikmiljön', 'förbättrats'): 1,\n",
       " ('bilismen', 'ökat'): 1,\n",
       " ('hälften', 'saknar'): 2,\n",
       " ('statistiken', 'säger'): 1,\n",
       " ('många', 'stå'): 1,\n",
       " ('bilägandet', 'vanligare'): 1,\n",
       " ('miljoner', 'trängs'): 1,\n",
       " ('människor', 'åker'): 1,\n",
       " ('barn', 'skall'): 1,\n",
       " ('hälften', 'görs'): 1,\n",
       " ('olyckor', 'räknas'): 1,\n",
       " ('var', 'gjort'): 1,\n",
       " ('som', 'dödas'): 1,\n",
       " ('trafikolyckorna', 'minskas'): 1,\n",
       " ('arbetsplatser', 'läggs'): 1,\n",
       " ('tiderna', 'förskjuts'): 1,\n",
       " ('människor', 'är'): 1,\n",
       " ('resor', 'görs'): 1,\n",
       " ('bilförare', 'dödades'): 1,\n",
       " ('skadade', '14000'): 1,\n",
       " ('dödade', 'kommer'): 1,\n",
       " ('som', 'åkte'): 1,\n",
       " ('man', 'öka'): 1,\n",
       " ('bilolyckorna', 'kostar'): 1,\n",
       " ('bilister', 'använder'): 1,\n",
       " ('trafikmiljön', 'fylld'): 1,\n",
       " ('trafikmiljö', 'ställer'): 1,\n",
       " ('trafiksystem', 'har'): 1,\n",
       " ('trafiken', 'flyter'): 1,\n",
       " ('som', 'anpassats'): 1,\n",
       " ('behovet', 'minskar'): 1,\n",
       " ('säkerheten', 'ökar'): 1,\n",
       " ('du', 'värderar'): 1,\n",
       " ('du', 'litar'): 1,\n",
       " ('du', 'skall'): 1,\n",
       " ('kommunen', 'gör'): 1,\n",
       " ('skolan', 'gör'): 1,\n",
       " ('det', 'säkerhetsfråga'): 1,\n",
       " ('fackföreningen', 'ta'): 1,\n",
       " ('som', 'göra'): 1,\n",
       " ('du', 'kör'): 6,\n",
       " ('reglerna', 'bra'): 1,\n",
       " ('man', 'köra'): 3,\n",
       " ('sådan', 'finns'): 1,\n",
       " ('man', 'svänga'): 1,\n",
       " ('man', 'ligga'): 1,\n",
       " ('körfält', 'finns'): 1,\n",
       " ('man', 'hålla'): 1,\n",
       " ('cyklist', 'kör'): 1,\n",
       " ('som', 'svänga'): 1,\n",
       " ('cykelreglerna', 'gäller'): 1,\n",
       " ('som', 'komma'): 2,\n",
       " ('du', 'kan'): 1,\n",
       " ('motorväg', 'avsedd'): 1,\n",
       " ('motortrafikled', 'motorväg'): 1,\n",
       " ('motortrafikleden', 'ha'): 1,\n",
       " ('du', 'möta'): 1,\n",
       " ('motorvägar', 'förbjudna'): 1,\n",
       " ('du', 'byter'): 1,\n",
       " ('som', 'är'): 5,\n",
       " ('du', 'glider'): 1,\n",
       " ('mittlinje', 'består'): 1,\n",
       " ('kantlinjer', 'streckade'): 1,\n",
       " ('du', 'köra'): 2,\n",
       " ...}"
      ]
     },
     "execution_count": 14,
     "metadata": {},
     "output_type": "execute_result"
    }
   ],
   "source": [
    "pairs_sv"
   ]
  },
  {
   "cell_type": "markdown",
   "metadata": {
    "papermill": {
     "duration": 0.077652,
     "end_time": "2020-12-11T20:24:57.287022",
     "exception": false,
     "start_time": "2020-12-11T20:24:57.209370",
     "status": "completed"
    },
    "tags": []
   },
   "source": [
    "You will compute the total number of subject-verb pairs. You should find 6,083 pairs."
   ]
  },
  {
   "cell_type": "code",
   "execution_count": 15,
   "metadata": {
    "execution": {
     "iopub.execute_input": "2020-12-11T20:24:57.447597Z",
     "iopub.status.busy": "2020-12-11T20:24:57.446708Z",
     "iopub.status.idle": "2020-12-11T20:24:57.452126Z",
     "shell.execute_reply": "2020-12-11T20:24:57.453439Z"
    },
    "papermill": {
     "duration": 0.088962,
     "end_time": "2020-12-11T20:24:57.453612",
     "exception": false,
     "start_time": "2020-12-11T20:24:57.364650",
     "status": "completed"
    },
    "tags": []
   },
   "outputs": [
    {
     "data": {
      "text/plain": [
       "6083"
      ]
     },
     "execution_count": 15,
     "metadata": {},
     "output_type": "execute_result"
    }
   ],
   "source": [
    "sum([pairs_sv[pair] for pair in pairs_sv])"
   ]
  },
  {
   "cell_type": "markdown",
   "metadata": {
    "papermill": {
     "duration": 0.089744,
     "end_time": "2020-12-11T20:24:57.618892",
     "exception": false,
     "start_time": "2020-12-11T20:24:57.529148",
     "status": "completed"
    },
    "tags": []
   },
   "source": [
    "#### Finding the most frequent pairs"
   ]
  },
  {
   "cell_type": "markdown",
   "metadata": {
    "papermill": {
     "duration": 0.077974,
     "end_time": "2020-12-11T20:24:57.834408",
     "exception": false,
     "start_time": "2020-12-11T20:24:57.756434",
     "status": "completed"
    },
    "tags": []
   },
   "source": [
    "You will sort your pairs by frequency and by lexical order of the pairs and store the five most frequent pairs in the `freq_pairs_sv` variable as in:\n",
    "```\n",
    "freq_pairs_sv = [(('som', 'har'), 45),\n",
    "\n",
    " ...]\n",
    " ````\n",
    "\n",
    "Here are the frequencies you should find:\n",
    "```\n",
    "45\n",
    "19\n",
    "19\n",
    "```"
   ]
  },
  {
   "cell_type": "markdown",
   "metadata": {
    "papermill": {
     "duration": 0.070361,
     "end_time": "2020-12-11T20:24:57.980415",
     "exception": false,
     "start_time": "2020-12-11T20:24:57.910054",
     "status": "completed"
    },
    "tags": []
   },
   "source": [
    "In all the experiments, we will keep the `nbest` most frequent. In the first experiments, we set `nbest` to 3 first. We will set it to 5 in the last experiment."
   ]
  },
  {
   "cell_type": "code",
   "execution_count": 16,
   "metadata": {
    "execution": {
     "iopub.execute_input": "2020-12-11T20:24:58.139792Z",
     "iopub.status.busy": "2020-12-11T20:24:58.138928Z",
     "iopub.status.idle": "2020-12-11T20:24:58.141472Z",
     "shell.execute_reply": "2020-12-11T20:24:58.140777Z"
    },
    "papermill": {
     "duration": 0.087687,
     "end_time": "2020-12-11T20:24:58.141624",
     "exception": false,
     "start_time": "2020-12-11T20:24:58.053937",
     "status": "completed"
    },
    "tags": []
   },
   "outputs": [],
   "source": [
    "nbest = 3"
   ]
  },
  {
   "cell_type": "code",
   "execution_count": 17,
   "metadata": {
    "execution": {
     "iopub.execute_input": "2020-12-11T20:24:58.307108Z",
     "iopub.status.busy": "2020-12-11T20:24:58.305256Z",
     "iopub.status.idle": "2020-12-11T20:24:58.307841Z",
     "shell.execute_reply": "2020-12-11T20:24:58.308305Z"
    },
    "papermill": {
     "duration": 0.078426,
     "end_time": "2020-12-11T20:24:58.308494",
     "exception": false,
     "start_time": "2020-12-11T20:24:58.230068",
     "status": "completed"
    },
    "tags": []
   },
   "outputs": [],
   "source": [
    "sorted_pairs = sorted(pairs_sv, key=lambda x: (-pairs_sv[x], x))\n",
    "freq_pairs_sv = [(pair, pairs_sv[pair]) for pair in sorted_pairs][:nbest]"
   ]
  },
  {
   "cell_type": "code",
   "execution_count": 18,
   "metadata": {
    "execution": {
     "iopub.execute_input": "2020-12-11T20:24:58.425624Z",
     "iopub.status.busy": "2020-12-11T20:24:58.424626Z",
     "iopub.status.idle": "2020-12-11T20:24:58.429260Z",
     "shell.execute_reply": "2020-12-11T20:24:58.428735Z"
    },
    "papermill": {
     "duration": 0.065641,
     "end_time": "2020-12-11T20:24:58.429357",
     "exception": false,
     "start_time": "2020-12-11T20:24:58.363716",
     "status": "completed"
    },
    "tags": []
   },
   "outputs": [
    {
     "data": {
      "text/plain": [
       "[(('som', 'har'), 45), (('du', 'får'), 19), (('vi', 'har'), 19)]"
      ]
     },
     "execution_count": 18,
     "metadata": {},
     "output_type": "execute_result"
    }
   ],
   "source": [
    "freq_pairs_sv"
   ]
  },
  {
   "cell_type": "markdown",
   "metadata": {
    "papermill": {
     "duration": 0.055036,
     "end_time": "2020-12-11T20:24:58.539750",
     "exception": false,
     "start_time": "2020-12-11T20:24:58.484714",
     "status": "completed"
    },
    "tags": []
   },
   "source": [
    "### Extracting the subject-verb-object triples"
   ]
  },
  {
   "cell_type": "markdown",
   "metadata": {
    "papermill": {
     "duration": 0.055151,
     "end_time": "2020-12-11T20:24:58.650210",
     "exception": false,
     "start_time": "2020-12-11T20:24:58.595059",
     "status": "completed"
    },
    "tags": []
   },
   "source": [
    "You will now extract all the subject–verb–object triples of the corpus. The object function uses the `obj` code."
   ]
  },
  {
   "cell_type": "code",
   "execution_count": 19,
   "metadata": {
    "execution": {
     "iopub.execute_input": "2020-12-11T20:24:58.771739Z",
     "iopub.status.busy": "2020-12-11T20:24:58.770922Z",
     "iopub.status.idle": "2020-12-11T20:24:58.774899Z",
     "shell.execute_reply": "2020-12-11T20:24:58.774344Z"
    },
    "papermill": {
     "duration": 0.06962,
     "end_time": "2020-12-11T20:24:58.775008",
     "exception": false,
     "start_time": "2020-12-11T20:24:58.705388",
     "status": "completed"
    },
    "tags": []
   },
   "outputs": [],
   "source": [
    "def extract_triples(formatted_corpus_dict):\n",
    "    # Iterate through sentence values.\n",
    "    # If there valid verb index --> Get verb and save subject.\n",
    "    # How to get obj? Need to loop and look for it.\n",
    "    result = {}\n",
    "    for sentence in formatted_corpus_dict:\n",
    "        for e in sentence.values():\n",
    "            subj = e['FORM']\n",
    "            verb_ind = e['HEAD']\n",
    "            if not verb_ind.isnumeric():\n",
    "                continue\n",
    "            if int(verb_ind) > 0:\n",
    "                verb = sentence[verb_ind]['FORM']\n",
    "                if'nsubj' in e['DEPREL']:\n",
    "                    for e2 in sentence.values():\n",
    "                        if e2['HEAD'] == verb_ind and 'obj' in e2['DEPREL'] and e2['DEPREL'] != 'iobj':\n",
    "                            triple = (subj.lower(), verb.lower(), e2['FORM'].lower())\n",
    "                            if triple in result:\n",
    "                                result[triple] += 1\n",
    "                            else:\n",
    "                                result[triple] = 1\n",
    "                \n",
    "    return result"
   ]
  },
  {
   "cell_type": "code",
   "execution_count": 20,
   "metadata": {
    "execution": {
     "iopub.execute_input": "2020-12-11T20:24:58.921865Z",
     "iopub.status.busy": "2020-12-11T20:24:58.916685Z",
     "iopub.status.idle": "2020-12-11T20:24:58.972579Z",
     "shell.execute_reply": "2020-12-11T20:24:58.971930Z"
    },
    "papermill": {
     "duration": 0.139907,
     "end_time": "2020-12-11T20:24:58.972721",
     "exception": false,
     "start_time": "2020-12-11T20:24:58.832814",
     "status": "completed"
    },
    "tags": []
   },
   "outputs": [],
   "source": [
    "triples_sv = extract_triples(formatted_corpus_dict)"
   ]
  },
  {
   "cell_type": "markdown",
   "metadata": {
    "papermill": {
     "duration": 0.056558,
     "end_time": "2020-12-11T20:24:59.086546",
     "exception": false,
     "start_time": "2020-12-11T20:24:59.029988",
     "status": "completed"
    },
    "tags": []
   },
   "source": [
    "Compute the total number of triples. You should find 2054 triples."
   ]
  },
  {
   "cell_type": "code",
   "execution_count": 21,
   "metadata": {
    "execution": {
     "iopub.execute_input": "2020-12-11T20:24:59.207387Z",
     "iopub.status.busy": "2020-12-11T20:24:59.206586Z",
     "iopub.status.idle": "2020-12-11T20:24:59.210236Z",
     "shell.execute_reply": "2020-12-11T20:24:59.210733Z"
    },
    "papermill": {
     "duration": 0.068167,
     "end_time": "2020-12-11T20:24:59.210863",
     "exception": false,
     "start_time": "2020-12-11T20:24:59.142696",
     "status": "completed"
    },
    "tags": []
   },
   "outputs": [
    {
     "data": {
      "text/plain": [
       "[('som', 'avser', 'inkomster'),\n",
       " ('intyg', 'bifogas', 'deklarationen'),\n",
       " ('som', 'ersätter', 'ortsavdrag'),\n",
       " ('som', 'överstiger', 'kronor'),\n",
       " ('maken', 'har', 'rätt'),\n",
       " ('som', 'haft', 'inkomst'),\n",
       " ('skattskyldig', 'påförs', 'skatt'),\n",
       " ('som', 'har', 'folkpension'),\n",
       " ('folkpensionären', 'har', 'inkomst'),\n",
       " ('folkpensionär', 'ha', 'inkomst')]"
      ]
     },
     "execution_count": 21,
     "metadata": {},
     "output_type": "execute_result"
    }
   ],
   "source": [
    "list(triples_sv)[:10]"
   ]
  },
  {
   "cell_type": "code",
   "execution_count": 22,
   "metadata": {
    "execution": {
     "iopub.execute_input": "2020-12-11T20:24:59.328568Z",
     "iopub.status.busy": "2020-12-11T20:24:59.327892Z",
     "iopub.status.idle": "2020-12-11T20:24:59.332761Z",
     "shell.execute_reply": "2020-12-11T20:24:59.333227Z"
    },
    "papermill": {
     "duration": 0.066567,
     "end_time": "2020-12-11T20:24:59.333343",
     "exception": false,
     "start_time": "2020-12-11T20:24:59.266776",
     "status": "completed"
    },
    "scrolled": true,
    "tags": []
   },
   "outputs": [
    {
     "data": {
      "text/plain": [
       "2054"
      ]
     },
     "execution_count": 22,
     "metadata": {},
     "output_type": "execute_result"
    }
   ],
   "source": [
    "sum([triples_sv[triple] for triple in triples_sv])"
   ]
  },
  {
   "cell_type": "markdown",
   "metadata": {
    "papermill": {
     "duration": 0.056128,
     "end_time": "2020-12-11T20:24:59.445614",
     "exception": false,
     "start_time": "2020-12-11T20:24:59.389486",
     "status": "completed"
    },
    "tags": []
   },
   "source": [
    "#### Finding the most frequent triples"
   ]
  },
  {
   "cell_type": "markdown",
   "metadata": {
    "papermill": {
     "duration": 0.055622,
     "end_time": "2020-12-11T20:24:59.557846",
     "exception": false,
     "start_time": "2020-12-11T20:24:59.502224",
     "status": "completed"
    },
    "tags": []
   },
   "source": [
    "You will sort your triples by frequency and by lexical order of the pairs and store the three most frequent triples in the `freq_triples_sv` variable as in:\n",
    "```\n",
    "freq_triples_sv = [(('man', 'vänder', 'sig'), 14),\n",
    "\n",
    " ...]\n",
    " ````\n",
    "\n",
    "Here are the frequencies you should find:\n",
    "```\n",
    "14\n",
    "5\n",
    "3\n",
    "```"
   ]
  },
  {
   "cell_type": "code",
   "execution_count": 23,
   "metadata": {
    "execution": {
     "iopub.execute_input": "2020-12-11T20:24:59.683214Z",
     "iopub.status.busy": "2020-12-11T20:24:59.682327Z",
     "iopub.status.idle": "2020-12-11T20:24:59.684699Z",
     "shell.execute_reply": "2020-12-11T20:24:59.685126Z"
    },
    "papermill": {
     "duration": 0.071145,
     "end_time": "2020-12-11T20:24:59.685248",
     "exception": false,
     "start_time": "2020-12-11T20:24:59.614103",
     "status": "completed"
    },
    "tags": []
   },
   "outputs": [],
   "source": [
    "sorted_triples = sorted(triples_sv, key=lambda x: (-triples_sv[x], x))\n",
    "freq_triples_sv = [(triple, triples_sv[triple]) for triple in sorted_triples][:nbest]"
   ]
  },
  {
   "cell_type": "code",
   "execution_count": 24,
   "metadata": {
    "execution": {
     "iopub.execute_input": "2020-12-11T20:24:59.804331Z",
     "iopub.status.busy": "2020-12-11T20:24:59.803586Z",
     "iopub.status.idle": "2020-12-11T20:24:59.806617Z",
     "shell.execute_reply": "2020-12-11T20:24:59.807191Z"
    },
    "papermill": {
     "duration": 0.065758,
     "end_time": "2020-12-11T20:24:59.807316",
     "exception": false,
     "start_time": "2020-12-11T20:24:59.741558",
     "status": "completed"
    },
    "tags": []
   },
   "outputs": [
    {
     "data": {
      "text/plain": [
       "[(('man', 'vänder', 'sig'), 14),\n",
       " (('det', 'rör', 'sig'), 5),\n",
       " (('man', 'söker', 'arbete'), 3)]"
      ]
     },
     "execution_count": 24,
     "metadata": {},
     "output_type": "execute_result"
    }
   ],
   "source": [
    "freq_triples_sv"
   ]
  },
  {
   "cell_type": "markdown",
   "metadata": {
    "papermill": {
     "duration": 0.057062,
     "end_time": "2020-12-11T20:24:59.922107",
     "exception": false,
     "start_time": "2020-12-11T20:24:59.865045",
     "status": "completed"
    },
    "tags": []
   },
   "source": [
    "### Multilingual Corpora"
   ]
  },
  {
   "cell_type": "markdown",
   "metadata": {
    "papermill": {
     "duration": 0.058562,
     "end_time": "2020-12-11T20:25:00.038412",
     "exception": false,
     "start_time": "2020-12-11T20:24:59.979850",
     "status": "completed"
    },
    "tags": []
   },
   "source": [
    "Once your program is working on Swedish, you will apply it to all the other languages in universal dependencies. The code below returns all the files from a folder with a suffix. Here we consider the training files only."
   ]
  },
  {
   "cell_type": "code",
   "execution_count": 25,
   "metadata": {
    "execution": {
     "iopub.execute_input": "2020-12-11T20:25:00.163718Z",
     "iopub.status.busy": "2020-12-11T20:25:00.162806Z",
     "iopub.status.idle": "2020-12-11T20:25:00.165840Z",
     "shell.execute_reply": "2020-12-11T20:25:00.165317Z"
    },
    "papermill": {
     "duration": 0.069771,
     "end_time": "2020-12-11T20:25:00.165969",
     "exception": false,
     "start_time": "2020-12-11T20:25:00.096198",
     "status": "completed"
    },
    "tags": []
   },
   "outputs": [],
   "source": [
    "def get_files(dir, suffix):\n",
    "    \"\"\"\n",
    "    Returns all the files in a folder ending with suffix\n",
    "    Recursive version\n",
    "    :param dir:\n",
    "    :param suffix:\n",
    "    :return: the list of file names\n",
    "    \"\"\"\n",
    "    files = []\n",
    "    for file in os.listdir(dir):\n",
    "        path = dir + '/' + file\n",
    "        if os.path.isdir(path):\n",
    "            files += get_files(path, suffix)\n",
    "        elif os.path.isfile(path) and file.endswith(suffix):\n",
    "            files.append(path)\n",
    "    return files"
   ]
  },
  {
   "cell_type": "code",
   "execution_count": 26,
   "metadata": {
    "execution": {
     "iopub.execute_input": "2020-12-11T20:25:00.286069Z",
     "iopub.status.busy": "2020-12-11T20:25:00.285395Z",
     "iopub.status.idle": "2020-12-11T20:25:01.041291Z",
     "shell.execute_reply": "2020-12-11T20:25:01.040494Z"
    },
    "papermill": {
     "duration": 0.816654,
     "end_time": "2020-12-11T20:25:01.041436",
     "exception": false,
     "start_time": "2020-12-11T20:25:00.224782",
     "status": "completed"
    },
    "tags": []
   },
   "outputs": [],
   "source": [
    "files = get_files(ud_path, 'train.conllu')"
   ]
  },
  {
   "cell_type": "markdown",
   "metadata": {
    "papermill": {
     "duration": 0.068027,
     "end_time": "2020-12-11T20:25:01.175191",
     "exception": false,
     "start_time": "2020-12-11T20:25:01.107164",
     "status": "completed"
    },
    "tags": []
   },
   "source": [
    "#### Dealing with the indices"
   ]
  },
  {
   "cell_type": "markdown",
   "metadata": {
    "papermill": {
     "duration": 0.057374,
     "end_time": "2020-12-11T20:25:01.292028",
     "exception": false,
     "start_time": "2020-12-11T20:25:01.234654",
     "status": "completed"
    },
    "tags": []
   },
   "source": [
    "Some corpora expand some tokens into multiwords. This is the case in French, Spanish, and German.\n",
    "        The table below shows examples of such expansions.\n",
    "        <table style=\"width:100%\">\n",
    "            <tr>\n",
    "                <th>French</th>\n",
    "                <th>Spanish</th>\n",
    "                <th>German</th>\n",
    "            </tr>\n",
    "            <tr>\n",
    "                <td><i>du</i>: de le\n",
    "                </td>\n",
    "                <td><i>del</i>: de el\n",
    "                </td>\n",
    "                <td><i>zur</i>: zu der\n",
    "                </td>\n",
    "            </tr>\n",
    "            <tr>\n",
    "                <td><i>des</i>: de les\n",
    "                </td>\n",
    "                <td><i>vámonos</i>: vamos nos\n",
    "                </td>\n",
    "                <td><i>im</i>: in dem\n",
    "                </td>\n",
    "            </tr>\n",
    "        </table>\n",
    "        In the corpora, you have the original tokens as well as the multiwords as with <i>vámonos al mar</i>.\n",
    "        <pre>\n",
    "1-2 vámonos _\n",
    "1 vamos ir\n",
    "2 nos nosotros\n",
    "3-4 al _\n",
    "3 a a\n",
    "4 el el\n",
    "5 mar mar\n",
    "</pre>Read the format description for the details: [<a\n",
    "                href=\"http://universaldependencies.org/format.html\">CoNLL-U format</a>]."
   ]
  },
  {
   "cell_type": "markdown",
   "metadata": {
    "papermill": {
     "duration": 0.057722,
     "end_time": "2020-12-11T20:25:01.407284",
     "exception": false,
     "start_time": "2020-12-11T20:25:01.349562",
     "status": "completed"
    },
    "tags": []
   },
   "source": [
    "If you represent the sentences as lists, the item indices are not reliable: In the format description,\n",
    "        the token at position 1 is <i>vamos</i> and not <i>vámonos</i>.\n",
    "        You have two ways to cope with this:\n",
    "1. Either remove all the lines that include a range in the `ID` field, or\n",
    "2. Encode the sentences as dictionaries (I felt this was preferable), where the keys are the `ID` numbers. This is what `convert_to_dict()` does. Here are the results for a sentence from the French CoNLL-U corpus:\n",
    "_Les iris du mâles sont jaunes toute l'année._ Note the `3-4` index and it expansion in `3`and `4`:\n",
    "```\n",
    "{'0': {'ID': '0',  'FORM': 'ROOT',  'LEMMA': 'ROOT',  'UPOS': 'ROOT',  'XPOS': 'ROOT',  'FEATS': 'ROOT',  'HEAD': '0',  'DEPREL': 'ROOT',  'DEPS': '0',  'MISC': 'ROOT'}, \n",
    "'1': {'ID': '1',  'FORM': 'Les',  'LEMMA': 'le',  'UPOS': 'DET',  'XPOS': '_',  'FEATS': 'Definite=Def|Gender=Masc|Number=Plur|PronType=Art',  'HEAD': '2',  'DEPREL': 'det',  'DEPS': '_',  'MISC': 'wordform=les'}, \n",
    "'2': {'ID': '2',  'FORM': 'iris',  'LEMMA': 'iris',  'UPOS': 'NOUN',  'XPOS': '_',  'FEATS': 'Gender=Masc|Number=Plur',  'HEAD': '7',  'DEPREL': 'nsubj',  'DEPS': '_',  'MISC': '_'}, \n",
    "'3-4': {'ID': '3-4',  'FORM': 'du',  'LEMMA': '_',  'UPOS': '_',  'XPOS': '_',  'FEATS': '_',  'HEAD': '_',  'DEPREL': '_',  'DEPS': '_',  'MISC': '_'}, \n",
    "'3': {'ID': '3',  'FORM': 'de',  'LEMMA': 'de',  'UPOS': 'ADP',  'XPOS': '_',  'FEATS': '_',  'HEAD': '5',  'DEPREL': 'case',  'DEPS': '_',  'MISC': '_'}, \n",
    "'4': {'ID': '4',  'FORM': 'le',  'LEMMA': 'le',  'UPOS': 'DET',  'XPOS': '_',  'FEATS': 'Definite=Def|Gender=Masc|Number=Sing|PronType=Art',  'HEAD': '5',  'DEPREL': 'det',  'DEPS': '_',  'MISC': '_'}, \n",
    "'5': {'ID': '5',  'FORM': 'mâles',  'LEMMA': 'mâle',  'UPOS': 'NOUN',  'XPOS': '_',  'FEATS': 'Gender=Masc|Number=Plur',  'HEAD': '2',  'DEPREL': 'nmod',  'DEPS': '_',  'MISC': '_'}, \n",
    "'6': {'ID': '6',  'FORM': 'sont',  'LEMMA': 'être',  'UPOS': 'AUX',  'XPOS': '_',  'FEATS': 'Mood=Ind|Number=Plur|Person=3|Tense=Pres|VerbForm=Fin',  'HEAD': '7',  'DEPREL': 'cop',  'DEPS': '_',  'MISC': '_'}, \n",
    "'7': {'ID': '7',  'FORM': 'jaunes',  'LEMMA': 'jaune',  'UPOS': 'ADJ',  'XPOS': '_',  'FEATS': 'Gender=Masc|Number=Plur',  'HEAD': '0',  'DEPREL': 'root',  'DEPS': '_',  'MISC': '_'}, \n",
    "'8': {'ID': '8',  'FORM': 'toute',  'LEMMA': 'tout',  'UPOS': 'ADJ',  'XPOS': '_',  'FEATS': 'Gender=Fem|Number=Sing',  'HEAD': '10',  'DEPREL': 'amod',  'DEPS': '_',  'MISC': '_'}, \n",
    "'9': {'ID': '9',  'FORM': \"l'\",  'LEMMA': 'le',  'UPOS': 'DET',  'XPOS': '_',  'FEATS': 'Definite=Def|Gender=Fem|Number=Sing|PronType=Art',  'HEAD': '10',  'DEPREL': 'det',  'DEPS': '_',  'MISC': 'SpaceAfter=No'}, \n",
    "'10': {'ID': '10',  'FORM': 'année',  'LEMMA': 'année',  'UPOS': 'NOUN',  'XPOS': '_',  'FEATS': 'Gender=Fem|Number=Sing',  'HEAD': '7',  'DEPREL': 'obl',  'DEPS': '_',  'MISC': 'SpaceAfter=No'}, \n",
    "'11': {'ID': '11',  'FORM': '.',  'LEMMA': '.',  'UPOS': 'PUNCT',  'XPOS': '_',  'FEATS': '_',  'HEAD': '7',  'DEPREL': 'punct',  'DEPS': '_',  'MISC': '_'}}\n",
    "```\n",
    "3. Some corpora have sentence numbers. You solve it by discarding lines starting with a `#`. This is already done in the CoNLL reader."
   ]
  },
  {
   "cell_type": "markdown",
   "metadata": {
    "papermill": {
     "duration": 0.057169,
     "end_time": "2020-12-11T20:25:01.523097",
     "exception": false,
     "start_time": "2020-12-11T20:25:01.465928",
     "status": "completed"
    },
    "tags": []
   },
   "source": [
    "#### Extracting the pairs and triples"
   ]
  },
  {
   "cell_type": "markdown",
   "metadata": {
    "papermill": {
     "duration": 0.058373,
     "end_time": "2020-12-11T20:25:01.638162",
     "exception": false,
     "start_time": "2020-12-11T20:25:01.579789",
     "status": "completed"
    },
    "tags": []
   },
   "source": [
    "Write a function `extract_pairs_and_triples(formatted_corpus_dict, nbest)` that extracts the `nbest` most frequent pairs and triples of a given corpus and returns two sorted lists of tuples: `frequent_pairs` and `frequent_triples`. You will sort them by frequency and then by alphabetical order of the pair or triple."
   ]
  },
  {
   "cell_type": "code",
   "execution_count": 27,
   "metadata": {
    "execution": {
     "iopub.execute_input": "2020-12-11T20:25:01.765403Z",
     "iopub.status.busy": "2020-12-11T20:25:01.764480Z",
     "iopub.status.idle": "2020-12-11T20:25:01.767589Z",
     "shell.execute_reply": "2020-12-11T20:25:01.767057Z"
    },
    "papermill": {
     "duration": 0.070619,
     "end_time": "2020-12-11T20:25:01.767690",
     "exception": false,
     "start_time": "2020-12-11T20:25:01.697071",
     "status": "completed"
    },
    "tags": []
   },
   "outputs": [],
   "source": [
    "def extract_pairs_and_triples(formatted_corpus_dict, nbest):\n",
    "    pairs = extract_pairs(formatted_corpus_dict)\n",
    "    sorted_pairs = sorted(pairs, key=lambda x: (-pairs[x], x))\n",
    "    frequent_pairs = [(pair, pairs[pair]) for pair in sorted_pairs][:nbest]\n",
    "    \n",
    "    triples = extract_triples(formatted_corpus_dict)\n",
    "    sorted_triples = sorted(triples, key=lambda x: (-triples[x], x))\n",
    "    frequent_triples = [(triple, triples[triple]) for triple in sorted_triples][:nbest]\n",
    "    \n",
    "    return (frequent_pairs, frequent_triples)\n",
    "    "
   ]
  },
  {
   "cell_type": "markdown",
   "metadata": {
    "papermill": {
     "duration": 0.058876,
     "end_time": "2020-12-11T20:25:01.884254",
     "exception": false,
     "start_time": "2020-12-11T20:25:01.825378",
     "status": "completed"
    },
    "tags": []
   },
   "source": [
    "Run your extractor on all the corpora. Note that some corpora have replaced the words by underscores as for one corpus n French. You need then to contact the provider to obtain them."
   ]
  },
  {
   "cell_type": "code",
   "execution_count": 28,
   "metadata": {
    "execution": {
     "iopub.execute_input": "2020-12-11T20:25:02.006564Z",
     "iopub.status.busy": "2020-12-11T20:25:02.005809Z",
     "iopub.status.idle": "2020-12-11T20:27:11.389484Z",
     "shell.execute_reply": "2020-12-11T20:27:11.388250Z"
    },
    "papermill": {
     "duration": 129.447895,
     "end_time": "2020-12-11T20:27:11.390288",
     "exception": false,
     "start_time": "2020-12-11T20:25:01.942393",
     "status": "completed"
    },
    "tags": []
   },
   "outputs": [],
   "source": [
    "corpora_pairs_and_triples = []\n",
    "for corpus_file in files:\n",
    "    sentences = read_sentences(corpus_file)\n",
    "    formatted_corpus = split_rows(sentences, column_names_u)\n",
    "    formatted_corpus_dict = convert_to_dict(formatted_corpus)\n",
    "    corpora_pairs_and_triples.append(extract_pairs_and_triples(formatted_corpus_dict, nbest))"
   ]
  },
  {
   "cell_type": "code",
   "execution_count": 29,
   "metadata": {
    "execution": {
     "iopub.execute_input": "2020-12-11T20:27:11.509860Z",
     "iopub.status.busy": "2020-12-11T20:27:11.509103Z",
     "iopub.status.idle": "2020-12-11T20:27:11.514980Z",
     "shell.execute_reply": "2020-12-11T20:27:11.514480Z"
    },
    "papermill": {
     "duration": 0.067167,
     "end_time": "2020-12-11T20:27:11.515080",
     "exception": false,
     "start_time": "2020-12-11T20:27:11.447913",
     "status": "completed"
    },
    "scrolled": true,
    "tags": []
   },
   "outputs": [
    {
     "data": {
      "text/plain": [
       "([(('#grillo', 'fa'), 20), (('governo', 'piace'), 17), (('che', 'fa'), 16)],\n",
       " [(('governo', 'fa', 'schifo'), 6),\n",
       "  (('goldman', 'innesca', 'crisi'), 4),\n",
       "  (('#grillo', 'rifondare', 'nazionalsocialismo'), 3)])"
      ]
     },
     "execution_count": 29,
     "metadata": {},
     "output_type": "execute_result"
    }
   ],
   "source": [
    "corpora_pairs_and_triples[13]"
   ]
  },
  {
   "cell_type": "markdown",
   "metadata": {
    "papermill": {
     "duration": 0.056967,
     "end_time": "2020-12-11T20:27:11.629204",
     "exception": false,
     "start_time": "2020-12-11T20:27:11.572237",
     "status": "completed"
    },
    "tags": []
   },
   "source": [
    "In your report, you will include the `nbest` most frequent pairs and triples you obtained in **three languages**. You may choose the ones you want.\n",
    "\n",
    "For the checking script, you will extract `nbest` triples in French, Russian, and English. You will rank these triples by frequency, and then by alphabetical order of the triple using `sorted()`. You will use the French GSD corpus, the Russian SynTagRus corpus, and the English EWT corpus. You will store these triples in the following variables:\n",
    "`freq_triples_fr`, `freq_triples_ru`, `freq_triples_en`. Each variable will contain a list of tuples: `(subject, verb, object), freq)`\n",
    "\n",
    "Here is what you should find:\n",
    "\n",
    "French\n",
    "```\n",
    "freq_triples_fr = [(('il', 'fait', 'partie'), 16),\n",
    "\n",
    " ...]\n",
    " ````\n",
    "\n",
    "And the frequencies:\n",
    "```\n",
    "16\n",
    "7\n",
    "7\n",
    "```\n",
    "\n",
    "Russian:\n",
    "```\n",
    "freq_triples_ru = [(('мы', 'имеем', 'дело'), 6),\n",
    "\n",
    " ...]\n",
    " ````\n",
    "\n",
    "And the frequencies:\n",
    "```\n",
    "6\n",
    "4\n",
    "4\n",
    "```\n",
    "\n",
    "English:\n",
    "```\n",
    "freq_triples_en = [(('you', 'have', 'questions'), 22),\n",
    "\n",
    " ...]\n",
    " ````\n",
    "\n",
    "And the frequencies:\n",
    "```\n",
    "22\n",
    "12\n",
    "7\n",
    "```"
   ]
  },
  {
   "cell_type": "code",
   "execution_count": 30,
   "metadata": {
    "execution": {
     "iopub.execute_input": "2020-12-11T20:27:11.750653Z",
     "iopub.status.busy": "2020-12-11T20:27:11.749954Z",
     "iopub.status.idle": "2020-12-11T20:27:11.754002Z",
     "shell.execute_reply": "2020-12-11T20:27:11.754429Z"
    },
    "papermill": {
     "duration": 0.066729,
     "end_time": "2020-12-11T20:27:11.754581",
     "exception": false,
     "start_time": "2020-12-11T20:27:11.687852",
     "status": "completed"
    },
    "tags": []
   },
   "outputs": [],
   "source": [
    "files = [path_fr, path_ru, path_en]"
   ]
  },
  {
   "cell_type": "code",
   "execution_count": 31,
   "metadata": {
    "execution": {
     "iopub.execute_input": "2020-12-11T20:27:11.876217Z",
     "iopub.status.busy": "2020-12-11T20:27:11.875447Z",
     "iopub.status.idle": "2020-12-11T20:27:12.995264Z",
     "shell.execute_reply": "2020-12-11T20:27:12.995871Z"
    },
    "papermill": {
     "duration": 1.183644,
     "end_time": "2020-12-11T20:27:12.996034",
     "exception": false,
     "start_time": "2020-12-11T20:27:11.812390",
     "status": "completed"
    },
    "tags": []
   },
   "outputs": [],
   "source": [
    "sentences = read_sentences(files[0])\n",
    "formatted_corpus = split_rows(sentences, column_names_u)\n",
    "formatted_corpus_dict = convert_to_dict(formatted_corpus)\n"
   ]
  },
  {
   "cell_type": "code",
   "execution_count": 32,
   "metadata": {
    "execution": {
     "iopub.execute_input": "2020-12-11T20:27:13.130679Z",
     "iopub.status.busy": "2020-12-11T20:27:13.120399Z",
     "iopub.status.idle": "2020-12-11T20:27:13.799718Z",
     "shell.execute_reply": "2020-12-11T20:27:13.800201Z"
    },
    "papermill": {
     "duration": 0.746215,
     "end_time": "2020-12-11T20:27:13.800331",
     "exception": false,
     "start_time": "2020-12-11T20:27:13.054116",
     "status": "completed"
    },
    "tags": []
   },
   "outputs": [
    {
     "data": {
      "text/plain": [
       "[(('il', 'fait', 'partie'), 16),\n",
       " (('elle', 'fait', 'partie'), 7),\n",
       " (('il', 'comptait', 'habitants'), 7)]"
      ]
     },
     "execution_count": 32,
     "metadata": {},
     "output_type": "execute_result"
    }
   ],
   "source": [
    "freq_pairs_fr, freq_triples_fr = extract_pairs_and_triples(formatted_corpus_dict, nbest)\n",
    "freq_triples_fr"
   ]
  },
  {
   "cell_type": "code",
   "execution_count": 33,
   "metadata": {
    "execution": {
     "iopub.execute_input": "2020-12-11T20:27:13.922359Z",
     "iopub.status.busy": "2020-12-11T20:27:13.921702Z",
     "iopub.status.idle": "2020-12-11T20:27:17.137586Z",
     "shell.execute_reply": "2020-12-11T20:27:17.136111Z"
    },
    "papermill": {
     "duration": 3.27864,
     "end_time": "2020-12-11T20:27:17.137705",
     "exception": false,
     "start_time": "2020-12-11T20:27:13.859065",
     "status": "completed"
    },
    "tags": []
   },
   "outputs": [],
   "source": [
    "sentences = read_sentences(files[1])\n",
    "formatted_corpus = split_rows(sentences, column_names_u)\n",
    "formatted_corpus_dict = convert_to_dict(formatted_corpus)"
   ]
  },
  {
   "cell_type": "code",
   "execution_count": 34,
   "metadata": {
    "execution": {
     "iopub.execute_input": "2020-12-11T20:27:17.299487Z",
     "iopub.status.busy": "2020-12-11T20:27:17.263598Z",
     "iopub.status.idle": "2020-12-11T20:27:19.008483Z",
     "shell.execute_reply": "2020-12-11T20:27:19.007631Z"
    },
    "papermill": {
     "duration": 1.811822,
     "end_time": "2020-12-11T20:27:19.008612",
     "exception": false,
     "start_time": "2020-12-11T20:27:17.196790",
     "status": "completed"
    },
    "tags": []
   },
   "outputs": [
    {
     "data": {
      "text/plain": [
       "[(('мы', 'имеем', 'дело'), 6),\n",
       " (('мы', 'имеем', 'что'), 4),\n",
       " (('мы', 'сделаем', 'все'), 4)]"
      ]
     },
     "execution_count": 34,
     "metadata": {},
     "output_type": "execute_result"
    }
   ],
   "source": [
    "freq_pairs_ru, freq_triples_ru = extract_pairs_and_triples(formatted_corpus_dict, nbest)\n",
    "freq_triples_ru"
   ]
  },
  {
   "cell_type": "code",
   "execution_count": 35,
   "metadata": {
    "execution": {
     "iopub.execute_input": "2020-12-11T20:27:19.133318Z",
     "iopub.status.busy": "2020-12-11T20:27:19.132422Z",
     "iopub.status.idle": "2020-12-11T20:27:19.962141Z",
     "shell.execute_reply": "2020-12-11T20:27:19.961457Z"
    },
    "papermill": {
     "duration": 0.893975,
     "end_time": "2020-12-11T20:27:19.962267",
     "exception": false,
     "start_time": "2020-12-11T20:27:19.068292",
     "status": "completed"
    },
    "tags": []
   },
   "outputs": [],
   "source": [
    "sentences = read_sentences(files[2])\n",
    "formatted_corpus = split_rows(sentences, column_names_u)\n",
    "formatted_corpus_dict = convert_to_dict(formatted_corpus)"
   ]
  },
  {
   "cell_type": "code",
   "execution_count": 36,
   "metadata": {
    "execution": {
     "iopub.execute_input": "2020-12-11T20:27:20.161803Z",
     "iopub.status.busy": "2020-12-11T20:27:20.160940Z",
     "iopub.status.idle": "2020-12-11T20:27:20.960158Z",
     "shell.execute_reply": "2020-12-11T20:27:20.961193Z"
    },
    "papermill": {
     "duration": 0.899357,
     "end_time": "2020-12-11T20:27:20.961364",
     "exception": false,
     "start_time": "2020-12-11T20:27:20.062007",
     "status": "completed"
    },
    "tags": []
   },
   "outputs": [
    {
     "data": {
      "text/plain": [
       "[(('you', 'have', 'questions'), 22),\n",
       " (('you', 'think', 'what'), 12),\n",
       " (('i', 'do', 'what'), 7)]"
      ]
     },
     "execution_count": 36,
     "metadata": {},
     "output_type": "execute_result"
    }
   ],
   "source": [
    "freq_pairs_en, freq_triples_en = extract_pairs_and_triples(formatted_corpus_dict, nbest)\n",
    "freq_triples_en"
   ]
  },
  {
   "cell_type": "markdown",
   "metadata": {
    "papermill": {
     "duration": 0.089438,
     "end_time": "2020-12-11T20:27:21.131568",
     "exception": false,
     "start_time": "2020-12-11T20:27:21.042130",
     "status": "completed"
    },
    "tags": []
   },
   "source": [
    "## Resolving the entities"
   ]
  },
  {
   "cell_type": "markdown",
   "metadata": {
    "papermill": {
     "duration": 0.060925,
     "end_time": "2020-12-11T20:27:21.275293",
     "exception": false,
     "start_time": "2020-12-11T20:27:21.214368",
     "status": "completed"
    },
    "tags": []
   },
   "source": [
    "You will now extract the relations involving named entities, that is where both the subject and the object are proper nouns. \n",
    "\n",
    "Write an `extract_entity_triples(formatted_corpus_dict)` that will process the corpus and return a list of `(subject, verb, object)` triples. You will leave the case as it is in the form, for instance _United States_ and not _united states_.  "
   ]
  },
  {
   "cell_type": "code",
   "execution_count": 37,
   "metadata": {
    "execution": {
     "iopub.execute_input": "2020-12-11T20:27:21.410841Z",
     "iopub.status.busy": "2020-12-11T20:27:21.408622Z",
     "iopub.status.idle": "2020-12-11T20:27:21.411506Z",
     "shell.execute_reply": "2020-12-11T20:27:21.411994Z"
    },
    "papermill": {
     "duration": 0.075328,
     "end_time": "2020-12-11T20:27:21.412129",
     "exception": false,
     "start_time": "2020-12-11T20:27:21.336801",
     "status": "completed"
    },
    "tags": []
   },
   "outputs": [],
   "source": [
    "def extract_entity_triples(formatted_corpus_dict):\n",
    "    result = {}\n",
    "    for sentence in formatted_corpus_dict:\n",
    "        for e in sentence.values():\n",
    "            subj = e['FORM']\n",
    "            verb_ind = e['HEAD']\n",
    "            if not verb_ind.isnumeric():\n",
    "                continue\n",
    "            if int(verb_ind) > 0:\n",
    "                verb = sentence[verb_ind]['FORM']\n",
    "                if'nsubj' in e['DEPREL'] and e['UPOS'] == \"PROPN\":\n",
    "                    for e2 in sentence.values():\n",
    "                        if e2['HEAD'] == verb_ind and 'obj' in e2['DEPREL'] and e2['DEPREL'] != 'iobj' and e2['UPOS'] == \"PROPN\":\n",
    "                            triple = (subj, verb , e2['FORM'])\n",
    "                            if triple in result:\n",
    "                                result[triple] += 1\n",
    "                            else:\n",
    "                                result[triple] = 1\n",
    "                \n",
    "    return result"
   ]
  },
  {
   "cell_type": "markdown",
   "metadata": {
    "papermill": {
     "duration": 0.061319,
     "end_time": "2020-12-11T20:27:21.535078",
     "exception": false,
     "start_time": "2020-12-11T20:27:21.473759",
     "status": "completed"
    },
    "tags": []
   },
   "source": [
    "You will run the `extract_entity_triples()` function one the English EWT corpus. You will store the list in the `entity_relation_en` variable and you will sort it with `sorted()`. You will keep the **five** first triples. "
   ]
  },
  {
   "cell_type": "code",
   "execution_count": 38,
   "metadata": {
    "execution": {
     "iopub.execute_input": "2020-12-11T20:27:21.662930Z",
     "iopub.status.busy": "2020-12-11T20:27:21.661992Z",
     "iopub.status.idle": "2020-12-11T20:27:21.665328Z",
     "shell.execute_reply": "2020-12-11T20:27:21.664829Z"
    },
    "papermill": {
     "duration": 0.069171,
     "end_time": "2020-12-11T20:27:21.665427",
     "exception": false,
     "start_time": "2020-12-11T20:27:21.596256",
     "status": "completed"
    },
    "tags": []
   },
   "outputs": [],
   "source": [
    "nbest = 5"
   ]
  },
  {
   "cell_type": "markdown",
   "metadata": {
    "papermill": {
     "duration": 0.060909,
     "end_time": "2020-12-11T20:27:21.787543",
     "exception": false,
     "start_time": "2020-12-11T20:27:21.726634",
     "status": "completed"
    },
    "tags": []
   },
   "source": [
    "The two first triples are:\n",
    "```\n",
    "[('Baba', 'remember', 'George'),\n",
    " ('Beschta', 'told', 'Planet'),\n",
    "...]\n",
    " ```\n",
    "Note that this time, we keep the original case and the triples are in the alphabetical order."
   ]
  },
  {
   "cell_type": "code",
   "execution_count": 39,
   "metadata": {
    "execution": {
     "iopub.execute_input": "2020-12-11T20:27:21.920092Z",
     "iopub.status.busy": "2020-12-11T20:27:21.918622Z",
     "iopub.status.idle": "2020-12-11T20:27:22.715787Z",
     "shell.execute_reply": "2020-12-11T20:27:22.714888Z"
    },
    "papermill": {
     "duration": 0.864043,
     "end_time": "2020-12-11T20:27:22.715902",
     "exception": false,
     "start_time": "2020-12-11T20:27:21.851859",
     "status": "completed"
    },
    "tags": []
   },
   "outputs": [],
   "source": [
    "sentences = read_sentences('../input/udtreebanksv26/ud-treebanks-v2.6/UD_English-EWT/en_ewt-ud-train.conllu')\n",
    "formatted_corpus = split_rows(sentences, column_names_u)\n",
    "formatted_corpus_dict = convert_to_dict(formatted_corpus)\n",
    "entity_relation_en = extract_entity_triples(formatted_corpus_dict)"
   ]
  },
  {
   "cell_type": "code",
   "execution_count": 40,
   "metadata": {
    "execution": {
     "iopub.execute_input": "2020-12-11T20:27:22.845285Z",
     "iopub.status.busy": "2020-12-11T20:27:22.844484Z",
     "iopub.status.idle": "2020-12-11T20:27:22.847669Z",
     "shell.execute_reply": "2020-12-11T20:27:22.848142Z"
    },
    "papermill": {
     "duration": 0.071236,
     "end_time": "2020-12-11T20:27:22.848258",
     "exception": false,
     "start_time": "2020-12-11T20:27:22.777022",
     "status": "completed"
    },
    "tags": []
   },
   "outputs": [
    {
     "data": {
      "text/plain": [
       "[('Baba', 'remember', 'George'),\n",
       " ('Beschta', 'told', 'Planet'),\n",
       " ('Boi', 'beat', 'Lopez'),\n",
       " ('Bush', 'mentioned', 'Arabia'),\n",
       " ('Bush', 'mentioned', 'Osama')]"
      ]
     },
     "execution_count": 40,
     "metadata": {},
     "output_type": "execute_result"
    }
   ],
   "source": [
    "entity_relation_en = sorted(entity_relation_en)[:nbest]\n",
    "entity_relation_en"
   ]
  },
  {
   "cell_type": "markdown",
   "metadata": {
    "papermill": {
     "duration": 0.060812,
     "end_time": "2020-12-11T20:27:22.969660",
     "exception": false,
     "start_time": "2020-12-11T20:27:22.908848",
     "status": "completed"
    },
    "tags": []
   },
   "source": [
    "### Optional exercise: Extracting the chunks"
   ]
  },
  {
   "cell_type": "markdown",
   "metadata": {
    "papermill": {
     "duration": 0.061529,
     "end_time": "2020-12-11T20:27:23.092806",
     "exception": false,
     "start_time": "2020-12-11T20:27:23.031277",
     "status": "completed"
    },
    "tags": []
   },
   "source": [
    "Extracting only the headword of the subject and object if often incomplete and uninformative. You can extract all the chunk instead. As an optional exercise, you can try a baseline technique and extract adjacent proper nouns. You may also want to apply the chunker of the 4th assignment to the corpus to do this."
   ]
  },
  {
   "cell_type": "markdown",
   "metadata": {
    "papermill": {
     "duration": 0.060721,
     "end_time": "2020-12-11T20:27:23.216427",
     "exception": false,
     "start_time": "2020-12-11T20:27:23.155706",
     "status": "completed"
    },
    "tags": []
   },
   "source": [
    "### Optional exercise: Mapping the entities"
   ]
  },
  {
   "cell_type": "markdown",
   "metadata": {
    "papermill": {
     "duration": 0.061465,
     "end_time": "2020-12-11T20:27:23.339022",
     "exception": false,
     "start_time": "2020-12-11T20:27:23.277557",
     "status": "completed"
    },
    "tags": []
   },
   "source": [
    "As in the chunker assignment, you may also want to complement your assignment with a entity solver that will link the entities to wikidata."
   ]
  },
  {
   "cell_type": "markdown",
   "metadata": {
    "papermill": {
     "duration": 0.060574,
     "end_time": "2020-12-11T20:27:23.460828",
     "exception": false,
     "start_time": "2020-12-11T20:27:23.400254",
     "status": "completed"
    },
    "tags": []
   },
   "source": [
    "## Reading"
   ]
  },
  {
   "cell_type": "markdown",
   "metadata": {
    "papermill": {
     "duration": 0.06043,
     "end_time": "2020-12-11T20:27:23.581862",
     "exception": false,
     "start_time": "2020-12-11T20:27:23.521432",
     "status": "completed"
    },
    "tags": []
   },
   "source": [
    "Read the article: _PRISMATIC: Inducing Knowledge from a Large Scale Lexicalized Relation Resource_ by Fan and al. (2010) [<a href=\"http://www.aclweb.org/anthology/W/W10/W10-0915.pdf\">pdf</a>] and write in a few sentences how it relates to your work in this assignment."
   ]
  }
 ],
 "metadata": {
  "kernelspec": {
   "display_name": "Python 3",
   "language": "python",
   "name": "python3"
  },
  "language_info": {
   "codemirror_mode": {
    "name": "ipython",
    "version": 3
   },
   "file_extension": ".py",
   "mimetype": "text/x-python",
   "name": "python",
   "nbconvert_exporter": "python",
   "pygments_lexer": "ipython3",
   "version": "3.7.6"
  },
  "papermill": {
   "duration": 155.878588,
   "end_time": "2020-12-11T20:27:23.748719",
   "environment_variables": {},
   "exception": null,
   "input_path": "__notebook__.ipynb",
   "output_path": "__notebook__.ipynb",
   "parameters": {},
   "start_time": "2020-12-11T20:24:47.870131",
   "version": "2.1.0"
  }
 },
 "nbformat": 4,
 "nbformat_minor": 4
}
