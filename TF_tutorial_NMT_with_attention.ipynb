{
 "cells": [
  {
   "cell_type": "markdown",
   "metadata": {
    "papermill": {
     "duration": 0.028067,
     "end_time": "2020-11-26T17:03:58.294794",
     "exception": false,
     "start_time": "2020-11-26T17:03:58.266727",
     "status": "completed"
    },
    "tags": []
   },
   "source": [
    "# Neural machine translation using attention\n",
    "\n",
    "In this notebook I am following the tensorflow tutorial that aims to build a machine translation model based on recent papers: https://www.tensorflow.org/tutorials/text/nmt_with_attention\n",
    "\n",
    "The tutorial uses a dataset of English and Spanish sentences.\n",
    "Here I use English and Swedish sentences. Dataset received from http://www.manythings.org/anki/."
   ]
  },
  {
   "cell_type": "code",
   "execution_count": 1,
   "metadata": {
    "_cell_guid": "79c7e3d0-c299-4dcb-8224-4455121ee9b0",
    "_uuid": "d629ff2d2480ee46fbb7e2d37f6b5fab8052498a",
    "execution": {
     "iopub.execute_input": "2020-11-26T17:03:58.419346Z",
     "iopub.status.busy": "2020-11-26T17:03:58.418345Z",
     "iopub.status.idle": "2020-11-26T17:04:04.754961Z",
     "shell.execute_reply": "2020-11-26T17:04:04.753397Z"
    },
    "papermill": {
     "duration": 6.432581,
     "end_time": "2020-11-26T17:04:04.755109",
     "exception": false,
     "start_time": "2020-11-26T17:03:58.322528",
     "status": "completed"
    },
    "tags": []
   },
   "outputs": [],
   "source": [
    "import tensorflow as tf\n",
    "\n",
    "import matplotlib.pyplot as plt\n",
    "import matplotlib.ticker as ticker\n",
    "from sklearn.model_selection import train_test_split\n",
    "\n",
    "import unicodedata\n",
    "import re\n",
    "import numpy as np\n",
    "import os\n",
    "import io\n",
    "import time"
   ]
  },
  {
   "cell_type": "markdown",
   "metadata": {
    "papermill": {
     "duration": 0.029482,
     "end_time": "2020-11-26T17:04:04.815207",
     "exception": false,
     "start_time": "2020-11-26T17:04:04.785725",
     "status": "completed"
    },
    "tags": []
   },
   "source": [
    "# Preprocessing"
   ]
  },
  {
   "cell_type": "markdown",
   "metadata": {
    "papermill": {
     "duration": 0.028411,
     "end_time": "2020-11-26T17:04:04.872779",
     "exception": false,
     "start_time": "2020-11-26T17:04:04.844368",
     "status": "completed"
    },
    "tags": []
   },
   "source": [
    "Adding start and end tokens, remove special characters, create index mappings and pad sentences."
   ]
  },
  {
   "cell_type": "code",
   "execution_count": 2,
   "metadata": {
    "execution": {
     "iopub.execute_input": "2020-11-26T17:04:04.934975Z",
     "iopub.status.busy": "2020-11-26T17:04:04.932999Z",
     "iopub.status.idle": "2020-11-26T17:04:04.935670Z",
     "shell.execute_reply": "2020-11-26T17:04:04.936169Z"
    },
    "papermill": {
     "duration": 0.035357,
     "end_time": "2020-11-26T17:04:04.936290",
     "exception": false,
     "start_time": "2020-11-26T17:04:04.900933",
     "status": "completed"
    },
    "tags": []
   },
   "outputs": [],
   "source": [
    "path_to_dataset = '../input/bilingual-swe-eng-sentence-pairs/swe.txt'"
   ]
  },
  {
   "cell_type": "markdown",
   "metadata": {
    "papermill": {
     "duration": 0.027686,
     "end_time": "2020-11-26T17:04:04.990627",
     "exception": false,
     "start_time": "2020-11-26T17:04:04.962941",
     "status": "completed"
    },
    "tags": []
   },
   "source": [
    "### Helper functions"
   ]
  },
  {
   "cell_type": "code",
   "execution_count": 3,
   "metadata": {
    "execution": {
     "iopub.execute_input": "2020-11-26T17:04:05.053944Z",
     "iopub.status.busy": "2020-11-26T17:04:05.053194Z",
     "iopub.status.idle": "2020-11-26T17:04:05.057514Z",
     "shell.execute_reply": "2020-11-26T17:04:05.057014Z"
    },
    "papermill": {
     "duration": 0.039478,
     "end_time": "2020-11-26T17:04:05.057609",
     "exception": false,
     "start_time": "2020-11-26T17:04:05.018131",
     "status": "completed"
    },
    "tags": []
   },
   "outputs": [],
   "source": [
    "# Converts the unicode file to ascii\n",
    "def unicode_to_ascii(s):\n",
    "    return ''.join(c for c in unicodedata.normalize('NFD', s)\n",
    "        if unicodedata.category(c) != 'Mn')\n",
    "\n",
    "\n",
    "def preprocess_sentence(w):\n",
    "    w = unicode_to_ascii(w.lower().strip())\n",
    "\n",
    "    # creating a space between a word and the punctuation following it\n",
    "    # eg: \"he is a boy.\" => \"he is a boy .\"\n",
    "    # Reference:- https://stackoverflow.com/questions/3645931/python-padding-punctuation-with-white-spaces-keeping-punctuation\n",
    "    w = re.sub(r\"([?.!,¿])\", r\" \\1 \", w)\n",
    "    w = re.sub(r'[\" \"]+', \" \", w)\n",
    "\n",
    "    # replacing everything with space except (a-z, A-Z, \".\", \"?\", \"!\", \",\")\n",
    "    w = re.sub(r\"[^a-zA-Z?.!,¿]+\", \" \", w)\n",
    "\n",
    "    w = w.strip()\n",
    "\n",
    "    # adding a start and an end token to the sentence\n",
    "    # so that the model know when to start and stop predicting.\n",
    "    w = '<start> ' + w + ' <end>'\n",
    "    return w"
   ]
  },
  {
   "cell_type": "code",
   "execution_count": 4,
   "metadata": {
    "execution": {
     "iopub.execute_input": "2020-11-26T17:04:05.123778Z",
     "iopub.status.busy": "2020-11-26T17:04:05.122808Z",
     "iopub.status.idle": "2020-11-26T17:04:05.128350Z",
     "shell.execute_reply": "2020-11-26T17:04:05.127544Z"
    },
    "papermill": {
     "duration": 0.043989,
     "end_time": "2020-11-26T17:04:05.128453",
     "exception": false,
     "start_time": "2020-11-26T17:04:05.084464",
     "status": "completed"
    },
    "tags": []
   },
   "outputs": [
    {
     "name": "stdout",
     "output_type": "stream",
     "text": [
      "<start> may i borrow this book ? <end>\n",
      "b'<start> \\xc2\\xbf far jag lana den har boken ? <end>'\n"
     ]
    }
   ],
   "source": [
    "# See examples\n",
    "en_sentence = u\"May I borrow this book?\"\n",
    "sv_sentence = u\"¿Får jag låna den här boken?\"\n",
    "print(preprocess_sentence(en_sentence))\n",
    "print(preprocess_sentence(sv_sentence).encode('utf-8'))"
   ]
  },
  {
   "cell_type": "code",
   "execution_count": 5,
   "metadata": {
    "execution": {
     "iopub.execute_input": "2020-11-26T17:04:05.195455Z",
     "iopub.status.busy": "2020-11-26T17:04:05.193594Z",
     "iopub.status.idle": "2020-11-26T17:04:05.196483Z",
     "shell.execute_reply": "2020-11-26T17:04:05.196976Z"
    },
    "papermill": {
     "duration": 0.039626,
     "end_time": "2020-11-26T17:04:05.197093",
     "exception": false,
     "start_time": "2020-11-26T17:04:05.157467",
     "status": "completed"
    },
    "tags": []
   },
   "outputs": [],
   "source": [
    "# 1. Remove the accents\n",
    "# 2. Clean the sentences\n",
    "# 3. Return word pairs in the format: [ENGLISH, SWEDISH]\n",
    "def create_dataset(path, num_examples):\n",
    "    lines = io.open(path, encoding='UTF-8').read().strip().split('\\n')\n",
    "    \n",
    "    # If i < 2 because file contains other information such as author and reference. basically we use the first two tabbed elements.\n",
    "    word_pairs = [[preprocess_sentence(w) for i, w in enumerate(l.split('\\t')) if i < 2]  for l in lines[:num_examples]]\n",
    "    \n",
    "    #print(zip(zip(*word_pairs)))\n",
    "    \n",
    "    return zip(*word_pairs)"
   ]
  },
  {
   "cell_type": "code",
   "execution_count": 6,
   "metadata": {
    "execution": {
     "iopub.execute_input": "2020-11-26T17:04:05.264378Z",
     "iopub.status.busy": "2020-11-26T17:04:05.263472Z",
     "iopub.status.idle": "2020-11-26T17:04:06.511503Z",
     "shell.execute_reply": "2020-11-26T17:04:06.512141Z"
    },
    "papermill": {
     "duration": 1.284878,
     "end_time": "2020-11-26T17:04:06.512286",
     "exception": false,
     "start_time": "2020-11-26T17:04:05.227408",
     "status": "completed"
    },
    "tags": []
   },
   "outputs": [
    {
     "name": "stdout",
     "output_type": "stream",
     "text": [
      "<start> if you translate from your second language into your own native language , rather than the other way around , you re less likely to make mistakes . <end>\n",
      "<start> om man oversatter fran sitt andrasprak till sitt modersmal , istallet for omvant , ar det mindre sannolikhet for att man gor fel . <end>\n"
     ]
    }
   ],
   "source": [
    "# Example of how we get bilingual sentence pairs.\n",
    "en, sv = create_dataset(path_to_dataset, None)\n",
    "print(en[-1])\n",
    "print(sv[-1])"
   ]
  },
  {
   "cell_type": "code",
   "execution_count": 7,
   "metadata": {
    "execution": {
     "iopub.execute_input": "2020-11-26T17:04:06.581183Z",
     "iopub.status.busy": "2020-11-26T17:04:06.580429Z",
     "iopub.status.idle": "2020-11-26T17:04:06.583944Z",
     "shell.execute_reply": "2020-11-26T17:04:06.584387Z"
    },
    "papermill": {
     "duration": 0.041309,
     "end_time": "2020-11-26T17:04:06.584533",
     "exception": false,
     "start_time": "2020-11-26T17:04:06.543224",
     "status": "completed"
    },
    "tags": []
   },
   "outputs": [],
   "source": [
    "def tokenize(lang):\n",
    "    lang_tokenizer = tf.keras.preprocessing.text.Tokenizer(\n",
    "      filters='')\n",
    "    lang_tokenizer.fit_on_texts(lang)\n",
    "\n",
    "    tensor = lang_tokenizer.texts_to_sequences(lang)\n",
    "\n",
    "    tensor = tf.keras.preprocessing.sequence.pad_sequences(tensor,\n",
    "                                                         padding='post')\n",
    "\n",
    "    return tensor, lang_tokenizer"
   ]
  },
  {
   "cell_type": "code",
   "execution_count": 8,
   "metadata": {
    "execution": {
     "iopub.execute_input": "2020-11-26T17:04:06.654168Z",
     "iopub.status.busy": "2020-11-26T17:04:06.652334Z",
     "iopub.status.idle": "2020-11-26T17:04:06.654940Z",
     "shell.execute_reply": "2020-11-26T17:04:06.655454Z"
    },
    "papermill": {
     "duration": 0.040458,
     "end_time": "2020-11-26T17:04:06.655649",
     "exception": false,
     "start_time": "2020-11-26T17:04:06.615191",
     "status": "completed"
    },
    "tags": []
   },
   "outputs": [],
   "source": [
    "def load_dataset(path, num_examples=None):\n",
    "    # creating cleaned input, output pairs\n",
    "    targ_lang, inp_lang = create_dataset(path, num_examples)\n",
    "\n",
    "    input_tensor, inp_lang_tokenizer = tokenize(inp_lang)\n",
    "    target_tensor, targ_lang_tokenizer = tokenize(targ_lang)\n",
    "\n",
    "    return input_tensor, target_tensor, inp_lang_tokenizer, targ_lang_tokenizer"
   ]
  },
  {
   "cell_type": "markdown",
   "metadata": {
    "papermill": {
     "duration": 0.03393,
     "end_time": "2020-11-26T17:04:06.720770",
     "exception": false,
     "start_time": "2020-11-26T17:04:06.686840",
     "status": "completed"
    },
    "tags": []
   },
   "source": [
    "Sometimes we only want a portion of our dataset to try it out first.\n",
    "\n",
    "Since our dataset contains a maximum of 18 655 sentences we don't need to set a limit. Google's tutorial on the spanish-english pairs has more than 100 000 sentences."
   ]
  },
  {
   "cell_type": "code",
   "execution_count": 9,
   "metadata": {
    "execution": {
     "iopub.execute_input": "2020-11-26T17:04:06.799799Z",
     "iopub.status.busy": "2020-11-26T17:04:06.798623Z",
     "iopub.status.idle": "2020-11-26T17:04:09.221814Z",
     "shell.execute_reply": "2020-11-26T17:04:09.221173Z"
    },
    "papermill": {
     "duration": 2.460618,
     "end_time": "2020-11-26T17:04:09.221947",
     "exception": false,
     "start_time": "2020-11-26T17:04:06.761329",
     "status": "completed"
    },
    "tags": []
   },
   "outputs": [
    {
     "name": "stdout",
     "output_type": "stream",
     "text": [
      "Maximum English sentence length: 38\n",
      "Maximum Swedish sentence length: 34\n"
     ]
    }
   ],
   "source": [
    "num_examples = None\n",
    "input_tensor, target_tensor, inp_lang, targ_lang = load_dataset(path_to_dataset, num_examples)\n",
    "\n",
    "# Calculate max_length of the target tensors\n",
    "max_length_targ, max_length_inp = target_tensor.shape[1], input_tensor.shape[1]\n",
    "print('Maximum English sentence length: {}'.format(max_length_targ))\n",
    "print('Maximum Swedish sentence length: {}'.format(max_length_inp))"
   ]
  },
  {
   "cell_type": "code",
   "execution_count": 10,
   "metadata": {
    "execution": {
     "iopub.execute_input": "2020-11-26T17:04:09.290609Z",
     "iopub.status.busy": "2020-11-26T17:04:09.289752Z",
     "iopub.status.idle": "2020-11-26T17:04:09.302348Z",
     "shell.execute_reply": "2020-11-26T17:04:09.301645Z"
    },
    "papermill": {
     "duration": 0.04887,
     "end_time": "2020-11-26T17:04:09.302502",
     "exception": false,
     "start_time": "2020-11-26T17:04:09.253632",
     "status": "completed"
    },
    "tags": []
   },
   "outputs": [
    {
     "name": "stdout",
     "output_type": "stream",
     "text": [
      "14924 14924 3731 3731\n"
     ]
    }
   ],
   "source": [
    "# Creating training and validation sets using an 80-20 split\n",
    "input_tensor_train, input_tensor_val, target_tensor_train, target_tensor_val = train_test_split(input_tensor, target_tensor, test_size=0.2)\n",
    "\n",
    "# Show length\n",
    "print(len(input_tensor_train), len(target_tensor_train), len(input_tensor_val), len(target_tensor_val))"
   ]
  },
  {
   "cell_type": "markdown",
   "metadata": {
    "papermill": {
     "duration": 0.029491,
     "end_time": "2020-11-26T17:04:09.363245",
     "exception": false,
     "start_time": "2020-11-26T17:04:09.333754",
     "status": "completed"
    },
    "tags": []
   },
   "source": [
    "### Produce index mappings from our tokens"
   ]
  },
  {
   "cell_type": "code",
   "execution_count": 11,
   "metadata": {
    "execution": {
     "iopub.execute_input": "2020-11-26T17:04:09.431176Z",
     "iopub.status.busy": "2020-11-26T17:04:09.430388Z",
     "iopub.status.idle": "2020-11-26T17:04:09.433406Z",
     "shell.execute_reply": "2020-11-26T17:04:09.432922Z"
    },
    "papermill": {
     "duration": 0.039739,
     "end_time": "2020-11-26T17:04:09.433560",
     "exception": false,
     "start_time": "2020-11-26T17:04:09.393821",
     "status": "completed"
    },
    "tags": []
   },
   "outputs": [],
   "source": [
    "def convert(lang, tensor):\n",
    "    for t in tensor:\n",
    "        if t!=0:\n",
    "            print (\"%d ----> %s\" % (t, lang.index_word[t]))"
   ]
  },
  {
   "cell_type": "code",
   "execution_count": 12,
   "metadata": {
    "execution": {
     "iopub.execute_input": "2020-11-26T17:04:09.501033Z",
     "iopub.status.busy": "2020-11-26T17:04:09.500142Z",
     "iopub.status.idle": "2020-11-26T17:04:09.508730Z",
     "shell.execute_reply": "2020-11-26T17:04:09.508199Z"
    },
    "papermill": {
     "duration": 0.044848,
     "end_time": "2020-11-26T17:04:09.508848",
     "exception": false,
     "start_time": "2020-11-26T17:04:09.464000",
     "status": "completed"
    },
    "tags": []
   },
   "outputs": [
    {
     "name": "stdout",
     "output_type": "stream",
     "text": [
      "Input Language; index to word mapping\n",
      "1 ----> <start>\n",
      "129 ----> nagra\n",
      "153 ----> barn\n",
      "2440 ----> leker\n",
      "18 ----> i\n",
      "771 ----> parken\n",
      "3 ----> .\n",
      "2 ----> <end>\n",
      "\n",
      "Target Language; index to word mapping\n",
      "1 ----> <start>\n",
      "96 ----> some\n",
      "470 ----> kids\n",
      "28 ----> are\n",
      "356 ----> playing\n",
      "23 ----> in\n",
      "8 ----> the\n",
      "542 ----> park\n",
      "3 ----> .\n",
      "2 ----> <end>\n"
     ]
    }
   ],
   "source": [
    "print (\"Input Language; index to word mapping\")\n",
    "convert(inp_lang, input_tensor_train[0])\n",
    "print ()\n",
    "print (\"Target Language; index to word mapping\")\n",
    "convert(targ_lang, target_tensor_train[0])"
   ]
  },
  {
   "cell_type": "code",
   "execution_count": 13,
   "metadata": {
    "execution": {
     "iopub.execute_input": "2020-11-26T17:04:10.430871Z",
     "iopub.status.busy": "2020-11-26T17:04:10.429955Z",
     "iopub.status.idle": "2020-11-26T17:04:11.952075Z",
     "shell.execute_reply": "2020-11-26T17:04:11.951134Z"
    },
    "papermill": {
     "duration": 2.412378,
     "end_time": "2020-11-26T17:04:11.952194",
     "exception": false,
     "start_time": "2020-11-26T17:04:09.539816",
     "status": "completed"
    },
    "tags": []
   },
   "outputs": [],
   "source": [
    "BUFFER_SIZE = len(input_tensor_train)\n",
    "BATCH_SIZE = 64\n",
    "steps_per_epoch = len(input_tensor_train)//BATCH_SIZE\n",
    "embedding_dim = 256\n",
    "units = 1024\n",
    "vocab_inp_size = len(inp_lang.word_index)+1\n",
    "vocab_tar_size = len(targ_lang.word_index)+1\n",
    "\n",
    "dataset = tf.data.Dataset.from_tensor_slices((input_tensor_train, target_tensor_train)).shuffle(BUFFER_SIZE)\n",
    "dataset = dataset.batch(BATCH_SIZE, drop_remainder=True)"
   ]
  },
  {
   "cell_type": "markdown",
   "metadata": {
    "papermill": {
     "duration": 0.03208,
     "end_time": "2020-11-26T17:04:12.016956",
     "exception": false,
     "start_time": "2020-11-26T17:04:11.984876",
     "status": "completed"
    },
    "tags": []
   },
   "source": [
    "The resulting batch shapes are in the format of (batch_size, longest_sentence_length_for_language)"
   ]
  },
  {
   "cell_type": "code",
   "execution_count": 14,
   "metadata": {
    "execution": {
     "iopub.execute_input": "2020-11-26T17:04:12.086656Z",
     "iopub.status.busy": "2020-11-26T17:04:12.085825Z",
     "iopub.status.idle": "2020-11-26T17:04:12.151170Z",
     "shell.execute_reply": "2020-11-26T17:04:12.150646Z"
    },
    "papermill": {
     "duration": 0.101659,
     "end_time": "2020-11-26T17:04:12.151294",
     "exception": false,
     "start_time": "2020-11-26T17:04:12.049635",
     "status": "completed"
    },
    "tags": []
   },
   "outputs": [
    {
     "data": {
      "text/plain": [
       "(TensorShape([64, 34]), TensorShape([64, 38]))"
      ]
     },
     "execution_count": 14,
     "metadata": {},
     "output_type": "execute_result"
    }
   ],
   "source": [
    "example_input_batch, example_target_batch = next(iter(dataset))\n",
    "example_input_batch.shape, example_target_batch.shape"
   ]
  },
  {
   "cell_type": "markdown",
   "metadata": {
    "papermill": {
     "duration": 0.031995,
     "end_time": "2020-11-26T17:04:12.215607",
     "exception": false,
     "start_time": "2020-11-26T17:04:12.183612",
     "status": "completed"
    },
    "tags": []
   },
   "source": [
    "## Encoder and Decoder"
   ]
  },
  {
   "cell_type": "markdown",
   "metadata": {
    "papermill": {
     "duration": 0.030933,
     "end_time": "2020-11-26T17:04:12.278234",
     "exception": false,
     "start_time": "2020-11-26T17:04:12.247301",
     "status": "completed"
    },
    "tags": []
   },
   "source": [
    "See https://www.tensorflow.org/tutorials/text/nmt_with_attention#write_the_encoder_and_decoder_model"
   ]
  },
  {
   "cell_type": "code",
   "execution_count": 15,
   "metadata": {
    "execution": {
     "iopub.execute_input": "2020-11-26T17:04:12.353540Z",
     "iopub.status.busy": "2020-11-26T17:04:12.352838Z",
     "iopub.status.idle": "2020-11-26T17:04:12.356512Z",
     "shell.execute_reply": "2020-11-26T17:04:12.355965Z"
    },
    "papermill": {
     "duration": 0.046395,
     "end_time": "2020-11-26T17:04:12.356615",
     "exception": false,
     "start_time": "2020-11-26T17:04:12.310220",
     "status": "completed"
    },
    "tags": []
   },
   "outputs": [],
   "source": [
    "class Encoder(tf.keras.Model):\n",
    "    def __init__(self, vocab_size, embedding_dim, enc_units, batch_sz):\n",
    "        super(Encoder, self).__init__()\n",
    "        self.batch_sz = batch_sz\n",
    "        self.enc_units = enc_units\n",
    "        self.embedding = tf.keras.layers.Embedding(vocab_size, embedding_dim)\n",
    "        self.gru = tf.keras.layers.GRU(self.enc_units,\n",
    "                                       return_sequences=True,\n",
    "                                       return_state=True,\n",
    "                                       recurrent_initializer='glorot_uniform')\n",
    "\n",
    "    def call(self, x, hidden):\n",
    "        x = self.embedding(x)\n",
    "        output, state = self.gru(x, initial_state = hidden)\n",
    "        return output, state\n",
    "\n",
    "    def initialize_hidden_state(self):\n",
    "        return tf.zeros((self.batch_sz, self.enc_units))"
   ]
  },
  {
   "cell_type": "code",
   "execution_count": 16,
   "metadata": {
    "execution": {
     "iopub.execute_input": "2020-11-26T17:04:12.426268Z",
     "iopub.status.busy": "2020-11-26T17:04:12.425339Z",
     "iopub.status.idle": "2020-11-26T17:04:14.958178Z",
     "shell.execute_reply": "2020-11-26T17:04:14.959048Z"
    },
    "papermill": {
     "duration": 2.571098,
     "end_time": "2020-11-26T17:04:14.959221",
     "exception": false,
     "start_time": "2020-11-26T17:04:12.388123",
     "status": "completed"
    },
    "tags": []
   },
   "outputs": [
    {
     "name": "stdout",
     "output_type": "stream",
     "text": [
      "Encoder output shape: (batch size, sequence length, units) (64, 34, 1024)\n",
      "Encoder Hidden state shape: (batch size, units) (64, 1024)\n"
     ]
    }
   ],
   "source": [
    "# Create encoder instance\n",
    "encoder = Encoder(vocab_inp_size, embedding_dim, units, BATCH_SIZE)\n",
    "\n",
    "# sample input\n",
    "sample_hidden = encoder.initialize_hidden_state()\n",
    "sample_output, sample_hidden = encoder(example_input_batch, sample_hidden)\n",
    "print ('Encoder output shape: (batch size, sequence length, units) {}'.format(sample_output.shape))\n",
    "print ('Encoder Hidden state shape: (batch size, units) {}'.format(sample_hidden.shape))"
   ]
  },
  {
   "cell_type": "markdown",
   "metadata": {
    "papermill": {
     "duration": 0.033458,
     "end_time": "2020-11-26T17:04:15.025221",
     "exception": false,
     "start_time": "2020-11-26T17:04:14.991763",
     "status": "completed"
    },
    "tags": []
   },
   "source": [
    "### Attention\n",
    "\n",
    "We compute the attention vectors using Bahdanau attention. See link above for reference to actual paper."
   ]
  },
  {
   "cell_type": "code",
   "execution_count": 17,
   "metadata": {
    "execution": {
     "iopub.execute_input": "2020-11-26T17:04:15.101953Z",
     "iopub.status.busy": "2020-11-26T17:04:15.099918Z",
     "iopub.status.idle": "2020-11-26T17:04:15.102800Z",
     "shell.execute_reply": "2020-11-26T17:04:15.103267Z"
    },
    "papermill": {
     "duration": 0.046124,
     "end_time": "2020-11-26T17:04:15.103384",
     "exception": false,
     "start_time": "2020-11-26T17:04:15.057260",
     "status": "completed"
    },
    "tags": []
   },
   "outputs": [],
   "source": [
    "class BahdanauAttention(tf.keras.layers.Layer):\n",
    "    def __init__(self, units):\n",
    "        super(BahdanauAttention, self).__init__()\n",
    "        self.W1 = tf.keras.layers.Dense(units)\n",
    "        self.W2 = tf.keras.layers.Dense(units)\n",
    "        self.V = tf.keras.layers.Dense(1)\n",
    "\n",
    "    def call(self, query, values):\n",
    "        # query hidden state shape == (batch_size, hidden size)\n",
    "        # query_with_time_axis shape == (batch_size, 1, hidden size)\n",
    "        # values shape == (batch_size, max_len, hidden size)\n",
    "        # we are doing this to broadcast addition along the time axis to calculate the score\n",
    "        query_with_time_axis = tf.expand_dims(query, 1)\n",
    "\n",
    "        # score shape == (batch_size, max_length, 1)\n",
    "        # we get 1 at the last axis because we are applying score to self.V\n",
    "        # the shape of the tensor before applying self.V is (batch_size, max_length, units)\n",
    "        score = self.V(tf.nn.tanh(\n",
    "            self.W1(query_with_time_axis) + self.W2(values)))\n",
    "\n",
    "        # attention_weights shape == (batch_size, max_length, 1)\n",
    "        attention_weights = tf.nn.softmax(score, axis=1)\n",
    "\n",
    "        # context_vector shape after sum == (batch_size, hidden_size)\n",
    "        context_vector = attention_weights * values\n",
    "        context_vector = tf.reduce_sum(context_vector, axis=1)\n",
    "\n",
    "        return context_vector, attention_weights"
   ]
  },
  {
   "cell_type": "code",
   "execution_count": 18,
   "metadata": {
    "execution": {
     "iopub.execute_input": "2020-11-26T17:04:15.178995Z",
     "iopub.status.busy": "2020-11-26T17:04:15.178071Z",
     "iopub.status.idle": "2020-11-26T17:04:15.845297Z",
     "shell.execute_reply": "2020-11-26T17:04:15.845842Z"
    },
    "papermill": {
     "duration": 0.709463,
     "end_time": "2020-11-26T17:04:15.845991",
     "exception": false,
     "start_time": "2020-11-26T17:04:15.136528",
     "status": "completed"
    },
    "tags": []
   },
   "outputs": [
    {
     "name": "stdout",
     "output_type": "stream",
     "text": [
      "Attention result shape: (batch size, units) (64, 1024)\n",
      "Attention weights shape: (batch_size, sequence_length, 1) (64, 34, 1)\n"
     ]
    }
   ],
   "source": [
    "attention_layer = BahdanauAttention(10)\n",
    "attention_result, attention_weights = attention_layer(sample_hidden, sample_output)\n",
    "\n",
    "print(\"Attention result shape: (batch size, units) {}\".format(attention_result.shape))\n",
    "print(\"Attention weights shape: (batch_size, sequence_length, 1) {}\".format(attention_weights.shape))"
   ]
  },
  {
   "cell_type": "markdown",
   "metadata": {
    "papermill": {
     "duration": 0.033321,
     "end_time": "2020-11-26T17:04:15.913210",
     "exception": false,
     "start_time": "2020-11-26T17:04:15.879889",
     "status": "completed"
    },
    "tags": []
   },
   "source": [
    "Create decoder model using attention vectors. "
   ]
  },
  {
   "cell_type": "code",
   "execution_count": 19,
   "metadata": {
    "execution": {
     "iopub.execute_input": "2020-11-26T17:04:15.994294Z",
     "iopub.status.busy": "2020-11-26T17:04:15.993476Z",
     "iopub.status.idle": "2020-11-26T17:04:15.997897Z",
     "shell.execute_reply": "2020-11-26T17:04:15.997322Z"
    },
    "papermill": {
     "duration": 0.050237,
     "end_time": "2020-11-26T17:04:15.998030",
     "exception": false,
     "start_time": "2020-11-26T17:04:15.947793",
     "status": "completed"
    },
    "tags": []
   },
   "outputs": [],
   "source": [
    "class Decoder(tf.keras.Model):\n",
    "    def __init__(self, vocab_size, embedding_dim, dec_units, batch_sz):\n",
    "        super(Decoder, self).__init__()\n",
    "        self.batch_sz = batch_sz\n",
    "        self.dec_units = dec_units\n",
    "        self.embedding = tf.keras.layers.Embedding(vocab_size, embedding_dim)\n",
    "        self.gru = tf.keras.layers.GRU(self.dec_units,\n",
    "                                       return_sequences=True,\n",
    "                                       return_state=True,\n",
    "                                       recurrent_initializer='glorot_uniform')\n",
    "        self.fc = tf.keras.layers.Dense(vocab_size)\n",
    "\n",
    "        # used for attention\n",
    "        self.attention = BahdanauAttention(self.dec_units)\n",
    "\n",
    "    def call(self, x, hidden, enc_output):\n",
    "        # enc_output shape == (batch_size, max_length, hidden_size)\n",
    "        context_vector, attention_weights = self.attention(hidden, enc_output)\n",
    "\n",
    "        # x shape after passing through embedding == (batch_size, 1, embedding_dim)\n",
    "        x = self.embedding(x)\n",
    "\n",
    "        # x shape after concatenation == (batch_size, 1, embedding_dim + hidden_size)\n",
    "        x = tf.concat([tf.expand_dims(context_vector, 1), x], axis=-1)\n",
    "\n",
    "        # passing the concatenated vector to the GRU\n",
    "        output, state = self.gru(x)\n",
    "\n",
    "        # output shape == (batch_size * 1, hidden_size)\n",
    "        output = tf.reshape(output, (-1, output.shape[2]))\n",
    "\n",
    "        # output shape == (batch_size, vocab)\n",
    "        x = self.fc(output)\n",
    "\n",
    "        return x, state, attention_weights"
   ]
  },
  {
   "cell_type": "code",
   "execution_count": 20,
   "metadata": {
    "execution": {
     "iopub.execute_input": "2020-11-26T17:04:16.072425Z",
     "iopub.status.busy": "2020-11-26T17:04:16.071535Z",
     "iopub.status.idle": "2020-11-26T17:04:16.134927Z",
     "shell.execute_reply": "2020-11-26T17:04:16.135626Z"
    },
    "papermill": {
     "duration": 0.104422,
     "end_time": "2020-11-26T17:04:16.135800",
     "exception": false,
     "start_time": "2020-11-26T17:04:16.031378",
     "status": "completed"
    },
    "tags": []
   },
   "outputs": [
    {
     "name": "stdout",
     "output_type": "stream",
     "text": [
      "Decoder output shape: (batch_size, vocab size) (64, 5056)\n"
     ]
    }
   ],
   "source": [
    "decoder = Decoder(vocab_tar_size, embedding_dim, units, BATCH_SIZE)\n",
    "\n",
    "sample_decoder_output, _, _ = decoder(tf.random.uniform((BATCH_SIZE, 1)),\n",
    "                                      sample_hidden, sample_output)\n",
    "\n",
    "print ('Decoder output shape: (batch_size, vocab size) {}'.format(sample_decoder_output.shape))"
   ]
  },
  {
   "cell_type": "markdown",
   "metadata": {
    "papermill": {
     "duration": 0.0337,
     "end_time": "2020-11-26T17:04:16.205020",
     "exception": false,
     "start_time": "2020-11-26T17:04:16.171320",
     "status": "completed"
    },
    "tags": []
   },
   "source": [
    "## Optimizer and loss function"
   ]
  },
  {
   "cell_type": "code",
   "execution_count": 21,
   "metadata": {
    "execution": {
     "iopub.execute_input": "2020-11-26T17:04:16.280936Z",
     "iopub.status.busy": "2020-11-26T17:04:16.280107Z",
     "iopub.status.idle": "2020-11-26T17:04:16.284604Z",
     "shell.execute_reply": "2020-11-26T17:04:16.284113Z"
    },
    "papermill": {
     "duration": 0.045288,
     "end_time": "2020-11-26T17:04:16.284708",
     "exception": false,
     "start_time": "2020-11-26T17:04:16.239420",
     "status": "completed"
    },
    "tags": []
   },
   "outputs": [],
   "source": [
    "optimizer = tf.keras.optimizers.Adam()\n",
    "loss_object = tf.keras.losses.SparseCategoricalCrossentropy(\n",
    "    from_logits=True, reduction='none')\n",
    "\n",
    "def loss_function(real, pred):\n",
    "    mask = tf.math.logical_not(tf.math.equal(real, 0))\n",
    "    loss_ = loss_object(real, pred)\n",
    "\n",
    "    mask = tf.cast(mask, dtype=loss_.dtype)\n",
    "    loss_ *= mask\n",
    "\n",
    "    return tf.reduce_mean(loss_)"
   ]
  },
  {
   "cell_type": "markdown",
   "metadata": {
    "papermill": {
     "duration": 0.034131,
     "end_time": "2020-11-26T17:04:16.353264",
     "exception": false,
     "start_time": "2020-11-26T17:04:16.319133",
     "status": "completed"
    },
    "tags": []
   },
   "source": [
    "Good practice to use checkpoints."
   ]
  },
  {
   "cell_type": "code",
   "execution_count": 22,
   "metadata": {
    "execution": {
     "iopub.execute_input": "2020-11-26T17:04:16.425968Z",
     "iopub.status.busy": "2020-11-26T17:04:16.425225Z",
     "iopub.status.idle": "2020-11-26T17:04:16.429316Z",
     "shell.execute_reply": "2020-11-26T17:04:16.428863Z"
    },
    "papermill": {
     "duration": 0.042459,
     "end_time": "2020-11-26T17:04:16.429410",
     "exception": false,
     "start_time": "2020-11-26T17:04:16.386951",
     "status": "completed"
    },
    "tags": []
   },
   "outputs": [],
   "source": [
    "checkpoint_dir = './'\n",
    "checkpoint_prefix = os.path.join(checkpoint_dir, \"ckpt\")\n",
    "checkpoint = tf.train.Checkpoint(optimizer=optimizer,\n",
    "                                 encoder=encoder,\n",
    "                                 decoder=decoder)"
   ]
  },
  {
   "cell_type": "markdown",
   "metadata": {
    "papermill": {
     "duration": 0.033347,
     "end_time": "2020-11-26T17:04:16.497771",
     "exception": false,
     "start_time": "2020-11-26T17:04:16.464424",
     "status": "completed"
    },
    "tags": []
   },
   "source": [
    "## Training\n",
    "\n",
    "See pipeline at: https://www.tensorflow.org/tutorials/text/nmt_with_attention#training\n",
    "\n",
    "We use teacher forcing to decide next input. Basically we use the previously predicted target as next input."
   ]
  },
  {
   "cell_type": "code",
   "execution_count": 23,
   "metadata": {
    "execution": {
     "iopub.execute_input": "2020-11-26T17:04:16.579930Z",
     "iopub.status.busy": "2020-11-26T17:04:16.578121Z",
     "iopub.status.idle": "2020-11-26T17:04:16.580711Z",
     "shell.execute_reply": "2020-11-26T17:04:16.581174Z"
    },
    "papermill": {
     "duration": 0.04836,
     "end_time": "2020-11-26T17:04:16.581284",
     "exception": false,
     "start_time": "2020-11-26T17:04:16.532924",
     "status": "completed"
    },
    "tags": []
   },
   "outputs": [],
   "source": [
    "@tf.function\n",
    "def train_step(inp, targ, enc_hidden):\n",
    "    loss = 0\n",
    "\n",
    "    with tf.GradientTape() as tape:\n",
    "        enc_output, enc_hidden = encoder(inp, enc_hidden)\n",
    "\n",
    "        dec_hidden = enc_hidden\n",
    "\n",
    "        dec_input = tf.expand_dims([targ_lang.word_index['<start>']] * BATCH_SIZE, 1)\n",
    "\n",
    "        # Teacher forcing - feeding the target as the next input\n",
    "        for t in range(1, targ.shape[1]):\n",
    "            # passing enc_output to the decoder\n",
    "            predictions, dec_hidden, _ = decoder(dec_input, dec_hidden, enc_output)\n",
    "\n",
    "            loss += loss_function(targ[:, t], predictions)\n",
    "\n",
    "            # using teacher forcing\n",
    "            dec_input = tf.expand_dims(targ[:, t], 1)\n",
    "\n",
    "    batch_loss = (loss / int(targ.shape[1]))\n",
    "\n",
    "    variables = encoder.trainable_variables + decoder.trainable_variables\n",
    "\n",
    "    gradients = tape.gradient(loss, variables)\n",
    "\n",
    "    optimizer.apply_gradients(zip(gradients, variables))\n",
    "\n",
    "    return batch_loss"
   ]
  },
  {
   "cell_type": "code",
   "execution_count": 24,
   "metadata": {
    "execution": {
     "iopub.execute_input": "2020-11-26T17:04:16.660414Z",
     "iopub.status.busy": "2020-11-26T17:04:16.659590Z",
     "iopub.status.idle": "2020-11-26T17:14:27.817084Z",
     "shell.execute_reply": "2020-11-26T17:14:27.817756Z"
    },
    "papermill": {
     "duration": 611.202091,
     "end_time": "2020-11-26T17:14:27.817927",
     "exception": false,
     "start_time": "2020-11-26T17:04:16.615836",
     "status": "completed"
    },
    "tags": []
   },
   "outputs": [
    {
     "name": "stdout",
     "output_type": "stream",
     "text": [
      "Epoch 1 Batch 0 Loss 1.6375\n",
      "Epoch 1 Batch 100 Loss 0.8837\n",
      "Epoch 1 Batch 200 Loss 0.7786\n",
      "Epoch 1 Loss 0.8737\n",
      "Time taken for 1 epoch 103.57483458518982 sec\n",
      "\n",
      "Epoch 2 Batch 0 Loss 0.6918\n",
      "Epoch 2 Batch 100 Loss 0.6487\n",
      "Epoch 2 Batch 200 Loss 0.5638\n",
      "Epoch 2 Loss 0.6471\n",
      "Time taken for 1 epoch 56.46144890785217 sec\n",
      "\n",
      "Epoch 3 Batch 0 Loss 0.5882\n",
      "Epoch 3 Batch 100 Loss 0.4558\n",
      "Epoch 3 Batch 200 Loss 0.4827\n",
      "Epoch 3 Loss 0.4860\n",
      "Time taken for 1 epoch 56.142348527908325 sec\n",
      "\n",
      "Epoch 4 Batch 0 Loss 0.3660\n",
      "Epoch 4 Batch 100 Loss 0.3819\n",
      "Epoch 4 Batch 200 Loss 0.3492\n",
      "Epoch 4 Loss 0.3578\n",
      "Time taken for 1 epoch 56.535074949264526 sec\n",
      "\n",
      "Epoch 5 Batch 0 Loss 0.2737\n",
      "Epoch 5 Batch 100 Loss 0.2302\n",
      "Epoch 5 Batch 200 Loss 0.2370\n",
      "Epoch 5 Loss 0.2620\n",
      "Time taken for 1 epoch 56.28939175605774 sec\n",
      "\n",
      "Epoch 6 Batch 0 Loss 0.1697\n",
      "Epoch 6 Batch 100 Loss 0.1970\n",
      "Epoch 6 Batch 200 Loss 0.1763\n",
      "Epoch 6 Loss 0.1928\n",
      "Time taken for 1 epoch 56.5539116859436 sec\n",
      "\n",
      "Epoch 7 Batch 0 Loss 0.1512\n",
      "Epoch 7 Batch 100 Loss 0.1203\n",
      "Epoch 7 Batch 200 Loss 0.1200\n",
      "Epoch 7 Loss 0.1415\n",
      "Time taken for 1 epoch 56.16203022003174 sec\n",
      "\n",
      "Epoch 8 Batch 0 Loss 0.1038\n",
      "Epoch 8 Batch 100 Loss 0.1059\n",
      "Epoch 8 Batch 200 Loss 0.2767\n",
      "Epoch 8 Loss 0.1169\n",
      "Time taken for 1 epoch 56.44256019592285 sec\n",
      "\n",
      "Epoch 9 Batch 0 Loss 0.1017\n",
      "Epoch 9 Batch 100 Loss 0.0845\n",
      "Epoch 9 Batch 200 Loss 0.1327\n",
      "Epoch 9 Loss 0.0953\n",
      "Time taken for 1 epoch 56.32991433143616 sec\n",
      "\n",
      "Epoch 10 Batch 0 Loss 0.0527\n",
      "Epoch 10 Batch 100 Loss 0.0629\n",
      "Epoch 10 Batch 200 Loss 0.0582\n",
      "Epoch 10 Loss 0.0667\n",
      "Time taken for 1 epoch 56.610830783843994 sec\n",
      "\n"
     ]
    }
   ],
   "source": [
    "EPOCHS = 10\n",
    "\n",
    "for epoch in range(EPOCHS):\n",
    "    start = time.time()\n",
    "\n",
    "    enc_hidden = encoder.initialize_hidden_state()\n",
    "    total_loss = 0\n",
    "\n",
    "    for (batch, (inp, targ)) in enumerate(dataset.take(steps_per_epoch)):\n",
    "        batch_loss = train_step(inp, targ, enc_hidden)\n",
    "        total_loss += batch_loss\n",
    "\n",
    "        if batch % 100 == 0:\n",
    "            print('Epoch {} Batch {} Loss {:.4f}'.format(epoch + 1,\n",
    "                                                       batch,\n",
    "                                                       batch_loss.numpy()))\n",
    "  # saving (checkpoint) the model every 2 epochs\n",
    "    if (epoch + 1) % 2 == 0:\n",
    "        checkpoint.save(file_prefix = checkpoint_prefix)\n",
    "\n",
    "    print('Epoch {} Loss {:.4f}'.format(epoch + 1,\n",
    "                                      total_loss / steps_per_epoch))\n",
    "    print('Time taken for 1 epoch {} sec\\n'.format(time.time() - start))"
   ]
  },
  {
   "cell_type": "markdown",
   "metadata": {
    "papermill": {
     "duration": 0.048533,
     "end_time": "2020-11-26T17:14:27.915440",
     "exception": false,
     "start_time": "2020-11-26T17:14:27.866907",
     "status": "completed"
    },
    "tags": []
   },
   "source": [
    "## Evaluation"
   ]
  },
  {
   "cell_type": "code",
   "execution_count": 25,
   "metadata": {
    "execution": {
     "iopub.execute_input": "2020-11-26T17:14:28.031631Z",
     "iopub.status.busy": "2020-11-26T17:14:28.029530Z",
     "iopub.status.idle": "2020-11-26T17:14:28.032436Z",
     "shell.execute_reply": "2020-11-26T17:14:28.033034Z"
    },
    "papermill": {
     "duration": 0.068036,
     "end_time": "2020-11-26T17:14:28.033187",
     "exception": false,
     "start_time": "2020-11-26T17:14:27.965151",
     "status": "completed"
    },
    "tags": []
   },
   "outputs": [],
   "source": [
    "def evaluate(sentence):\n",
    "    attention_plot = np.zeros((max_length_targ, max_length_inp))\n",
    "\n",
    "    sentence = preprocess_sentence(sentence)\n",
    "\n",
    "    inputs = [inp_lang.word_index[i] for i in sentence.split(' ')]\n",
    "    inputs = tf.keras.preprocessing.sequence.pad_sequences([inputs],\n",
    "                                                         maxlen=max_length_inp,\n",
    "                                                         padding='post')\n",
    "    inputs = tf.convert_to_tensor(inputs)\n",
    "\n",
    "    result = ''\n",
    "\n",
    "    hidden = [tf.zeros((1, units))]\n",
    "    enc_out, enc_hidden = encoder(inputs, hidden)\n",
    "\n",
    "    dec_hidden = enc_hidden\n",
    "    dec_input = tf.expand_dims([targ_lang.word_index['<start>']], 0)\n",
    "\n",
    "    for t in range(max_length_targ):\n",
    "        predictions, dec_hidden, attention_weights = decoder(dec_input,\n",
    "                                                             dec_hidden,\n",
    "                                                             enc_out)\n",
    "\n",
    "        # storing the attention weights to plot later on\n",
    "        attention_weights = tf.reshape(attention_weights, (-1, ))\n",
    "        attention_plot[t] = attention_weights.numpy()\n",
    "\n",
    "        predicted_id = tf.argmax(predictions[0]).numpy()\n",
    "\n",
    "        result += targ_lang.index_word[predicted_id] + ' '\n",
    "\n",
    "        if targ_lang.index_word[predicted_id] == '<end>':\n",
    "            return result, sentence, attention_plot\n",
    "\n",
    "        # the predicted ID is fed back into the model\n",
    "        dec_input = tf.expand_dims([predicted_id], 0)\n",
    "\n",
    "    return result, sentence, attention_plot"
   ]
  },
  {
   "cell_type": "code",
   "execution_count": 26,
   "metadata": {
    "execution": {
     "iopub.execute_input": "2020-11-26T17:14:28.153004Z",
     "iopub.status.busy": "2020-11-26T17:14:28.152165Z",
     "iopub.status.idle": "2020-11-26T17:14:28.156828Z",
     "shell.execute_reply": "2020-11-26T17:14:28.156290Z"
    },
    "papermill": {
     "duration": 0.067901,
     "end_time": "2020-11-26T17:14:28.156951",
     "exception": false,
     "start_time": "2020-11-26T17:14:28.089050",
     "status": "completed"
    },
    "tags": []
   },
   "outputs": [],
   "source": [
    "# function for plotting the attention weights\n",
    "def plot_attention(attention, sentence, predicted_sentence):\n",
    "    fig = plt.figure(figsize=(10,10))\n",
    "    ax = fig.add_subplot(1, 1, 1)\n",
    "    ax.matshow(attention, cmap='viridis')\n",
    "\n",
    "    fontdict = {'fontsize': 14}\n",
    "\n",
    "    ax.set_xticklabels([''] + sentence, fontdict=fontdict, rotation=90)\n",
    "    ax.set_yticklabels([''] + predicted_sentence, fontdict=fontdict)\n",
    "\n",
    "    ax.xaxis.set_major_locator(ticker.MultipleLocator(1))\n",
    "    ax.yaxis.set_major_locator(ticker.MultipleLocator(1))\n",
    "\n",
    "    plt.show()"
   ]
  },
  {
   "cell_type": "code",
   "execution_count": 27,
   "metadata": {
    "execution": {
     "iopub.execute_input": "2020-11-26T17:14:28.271112Z",
     "iopub.status.busy": "2020-11-26T17:14:28.269020Z",
     "iopub.status.idle": "2020-11-26T17:14:28.271906Z",
     "shell.execute_reply": "2020-11-26T17:14:28.272442Z"
    },
    "papermill": {
     "duration": 0.063993,
     "end_time": "2020-11-26T17:14:28.272594",
     "exception": false,
     "start_time": "2020-11-26T17:14:28.208601",
     "status": "completed"
    },
    "tags": []
   },
   "outputs": [],
   "source": [
    "def translate(sentence):\n",
    "    result, sentence, attention_plot = evaluate(sentence)\n",
    "\n",
    "    print('Input: %s' % (sentence))\n",
    "    print('Predicted translation: {}'.format(result))\n",
    "\n",
    "    attention_plot = attention_plot[:len(result.split(' ')), :len(sentence.split(' '))]\n",
    "    plot_attention(attention_plot, sentence.split(' '), result.split(' '))"
   ]
  },
  {
   "cell_type": "markdown",
   "metadata": {
    "papermill": {
     "duration": 0.054086,
     "end_time": "2020-11-26T17:14:28.379962",
     "exception": false,
     "start_time": "2020-11-26T17:14:28.325876",
     "status": "completed"
    },
    "tags": []
   },
   "source": [
    "### Restore from Checkpoint"
   ]
  },
  {
   "cell_type": "code",
   "execution_count": 28,
   "metadata": {
    "execution": {
     "iopub.execute_input": "2020-11-26T17:14:28.492370Z",
     "iopub.status.busy": "2020-11-26T17:14:28.491409Z",
     "iopub.status.idle": "2020-11-26T17:14:28.747197Z",
     "shell.execute_reply": "2020-11-26T17:14:28.746140Z"
    },
    "papermill": {
     "duration": 0.314331,
     "end_time": "2020-11-26T17:14:28.747313",
     "exception": false,
     "start_time": "2020-11-26T17:14:28.432982",
     "status": "completed"
    },
    "tags": []
   },
   "outputs": [
    {
     "data": {
      "text/plain": [
       "<tensorflow.python.training.tracking.util.CheckpointLoadStatus at 0x7f826c3f84d0>"
      ]
     },
     "execution_count": 28,
     "metadata": {},
     "output_type": "execute_result"
    }
   ],
   "source": [
    "# restoring the latest checkpoint in checkpoint_dir\n",
    "checkpoint.restore(tf.train.latest_checkpoint(checkpoint_dir))"
   ]
  },
  {
   "cell_type": "code",
   "execution_count": 29,
   "metadata": {
    "execution": {
     "iopub.execute_input": "2020-11-26T17:14:28.853147Z",
     "iopub.status.busy": "2020-11-26T17:14:28.852218Z",
     "iopub.status.idle": "2020-11-26T17:14:29.190792Z",
     "shell.execute_reply": "2020-11-26T17:14:29.192576Z"
    },
    "papermill": {
     "duration": 0.394459,
     "end_time": "2020-11-26T17:14:29.192801",
     "exception": false,
     "start_time": "2020-11-26T17:14:28.798342",
     "status": "completed"
    },
    "tags": []
   },
   "outputs": [
    {
     "name": "stdout",
     "output_type": "stream",
     "text": [
      "Input: <start> jag gillar att spela spel <end>\n",
      "Predicted translation: i like playing games . <end> \n"
     ]
    },
    {
     "data": {
      "image/png": "[encoded data removed]",
      "text/plain": [
       "<Figure size 720x720 with 1 Axes>"
      ]
     },
     "metadata": {
      "needs_background": "light"
     },
     "output_type": "display_data"
    }
   ],
   "source": [
    "translate(u'Jag gillar att spela spel')"
   ]
  }
 ],
 "metadata": {
  "kernelspec": {
   "display_name": "Python 3",
   "language": "python",
   "name": "python3"
  },
  "language_info": {
   "codemirror_mode": {
    "name": "ipython",
    "version": 3
   },
   "file_extension": ".py",
   "mimetype": "text/x-python",
   "name": "python",
   "nbconvert_exporter": "python",
   "pygments_lexer": "ipython3",
   "version": "3.7.6"
  },
  "papermill": {
   "duration": 637.12323,
   "end_time": "2020-11-26T17:14:31.016417",
   "environment_variables": {},
   "exception": null,
   "input_path": "__notebook__.ipynb",
   "output_path": "__notebook__.ipynb",
   "parameters": {},
   "start_time": "2020-11-26T17:03:53.893187",
   "version": "2.1.0"
  }
 },
 "nbformat": 4,
 "nbformat_minor": 4
}
